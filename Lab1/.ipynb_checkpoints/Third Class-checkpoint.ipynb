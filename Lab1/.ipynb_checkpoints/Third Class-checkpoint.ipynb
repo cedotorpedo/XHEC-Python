{
 "cells": [
  {
   "cell_type": "markdown",
   "id": "ad8bdd19",
   "metadata": {},
   "source": [
    "### Advice"
   ]
  },
  {
   "cell_type": "code",
   "execution_count": 1,
   "id": "3f57be70",
   "metadata": {},
   "outputs": [],
   "source": [
    "import matplotlib.pyplot as plt\n",
    "import numpy as np"
   ]
  },
  {
   "cell_type": "code",
   "execution_count": 2,
   "id": "7edfe2f6",
   "metadata": {},
   "outputs": [
    {
     "ename": "SyntaxError",
     "evalue": "invalid syntax (3291612432.py, line 1)",
     "output_type": "error",
     "traceback": [
      "\u001b[1;36m  Input \u001b[1;32mIn [2]\u001b[1;36m\u001b[0m\n\u001b[1;33m    def function(a, b, c=1) #no spaces around equal\u001b[0m\n\u001b[1;37m                            ^\u001b[0m\n\u001b[1;31mSyntaxError\u001b[0m\u001b[1;31m:\u001b[0m invalid syntax\n"
     ]
    }
   ],
   "source": [
    "def function(a, b, c=1) #no spaces around equal\n"
   ]
  },
  {
   "cell_type": "code",
   "execution_count": 4,
   "id": "f3a03fa3",
   "metadata": {},
   "outputs": [],
   "source": [
    "from os import path\n",
    "import pandas as pd\n",
    "import urllib\n",
    "import zipfile\n",
    "import sys\n",
    "\n",
    "url = u'https://archive.ics.uci.edu/ml/machine-learning-databases/00235/'\n",
    "filename = 'household_power_consumption'\n",
    "zipfilename = filename + '.zip'\n",
    "Location = url + zipfilename\n",
    "\n",
    "if not(path.isfile('zipfilename')):\n",
    "    urllib.request.urlretrieve(Location, zipfilename)\n",
    "\n",
    "zip_ = zipfile.ZipFile(zipfilename)\n",
    "zip_.extractall()\n",
    "\n",
    "na_values = ['?', '']\n",
    "fields = ['Date', 'Time', 'Global_active_power']\n",
    "df = pd.read_csv(filename + '.txt', sep=';', nrows=200000,\n",
    "                 na_values=na_values, usecols=fields)"
   ]
  },
  {
   "cell_type": "code",
   "execution_count": 5,
   "id": "09591ced",
   "metadata": {},
   "outputs": [],
   "source": [
    "#to count NaNs \n",
    "isna = df['Global_active_power'].isna()"
   ]
  },
  {
   "cell_type": "code",
   "execution_count": 6,
   "id": "bc4a7ab8",
   "metadata": {},
   "outputs": [
    {
     "data": {
      "text/plain": [
       "False"
      ]
     },
     "execution_count": 6,
     "metadata": {},
     "output_type": "execute_result"
    }
   ],
   "source": [
    "isna.iloc[1]"
   ]
  },
  {
   "cell_type": "code",
   "execution_count": 7,
   "id": "26c98595",
   "metadata": {},
   "outputs": [
    {
     "name": "stdout",
     "output_type": "stream",
     "text": [
      "3732\n"
     ]
    }
   ],
   "source": [
    "nas = 0 \n",
    "for i in range(len(df)):\n",
    "    if isna.iloc[i] == True:\n",
    "        nas += 1\n",
    "print(nas)"
   ]
  },
  {
   "cell_type": "code",
   "execution_count": 8,
   "id": "7a8ae1ba",
   "metadata": {},
   "outputs": [
    {
     "data": {
      "text/plain": [
       "3732"
      ]
     },
     "execution_count": 8,
     "metadata": {},
     "output_type": "execute_result"
    }
   ],
   "source": [
    "isna.sum()\n",
    "#or no.sum(isna)"
   ]
  },
  {
   "cell_type": "code",
   "execution_count": 9,
   "id": "ea0916cd",
   "metadata": {},
   "outputs": [],
   "source": [
    "df.dropna(inplace=True)"
   ]
  },
  {
   "cell_type": "markdown",
   "id": "a395c8c1",
   "metadata": {},
   "source": [
    "### Accessing rows and columns of a DF"
   ]
  },
  {
   "cell_type": "code",
   "execution_count": 10,
   "id": "081c610c",
   "metadata": {},
   "outputs": [
    {
     "data": {
      "text/html": [
       "<div>\n",
       "<style scoped>\n",
       "    .dataframe tbody tr th:only-of-type {\n",
       "        vertical-align: middle;\n",
       "    }\n",
       "\n",
       "    .dataframe tbody tr th {\n",
       "        vertical-align: top;\n",
       "    }\n",
       "\n",
       "    .dataframe thead th {\n",
       "        text-align: right;\n",
       "    }\n",
       "</style>\n",
       "<table border=\"1\" class=\"dataframe\">\n",
       "  <thead>\n",
       "    <tr style=\"text-align: right;\">\n",
       "      <th></th>\n",
       "      <th>Global_active_power</th>\n",
       "      <th>Date</th>\n",
       "    </tr>\n",
       "  </thead>\n",
       "  <tbody>\n",
       "    <tr>\n",
       "      <th>0</th>\n",
       "      <td>4.216</td>\n",
       "      <td>16/12/2006</td>\n",
       "    </tr>\n",
       "    <tr>\n",
       "      <th>1</th>\n",
       "      <td>5.360</td>\n",
       "      <td>16/12/2006</td>\n",
       "    </tr>\n",
       "    <tr>\n",
       "      <th>2</th>\n",
       "      <td>5.374</td>\n",
       "      <td>16/12/2006</td>\n",
       "    </tr>\n",
       "    <tr>\n",
       "      <th>3</th>\n",
       "      <td>5.388</td>\n",
       "      <td>16/12/2006</td>\n",
       "    </tr>\n",
       "    <tr>\n",
       "      <th>4</th>\n",
       "      <td>3.666</td>\n",
       "      <td>16/12/2006</td>\n",
       "    </tr>\n",
       "    <tr>\n",
       "      <th>...</th>\n",
       "      <td>...</td>\n",
       "      <td>...</td>\n",
       "    </tr>\n",
       "    <tr>\n",
       "      <th>199995</th>\n",
       "      <td>0.348</td>\n",
       "      <td>4/5/2007</td>\n",
       "    </tr>\n",
       "    <tr>\n",
       "      <th>199996</th>\n",
       "      <td>0.344</td>\n",
       "      <td>4/5/2007</td>\n",
       "    </tr>\n",
       "    <tr>\n",
       "      <th>199997</th>\n",
       "      <td>0.342</td>\n",
       "      <td>4/5/2007</td>\n",
       "    </tr>\n",
       "    <tr>\n",
       "      <th>199998</th>\n",
       "      <td>0.340</td>\n",
       "      <td>4/5/2007</td>\n",
       "    </tr>\n",
       "    <tr>\n",
       "      <th>199999</th>\n",
       "      <td>0.370</td>\n",
       "      <td>4/5/2007</td>\n",
       "    </tr>\n",
       "  </tbody>\n",
       "</table>\n",
       "<p>196268 rows × 2 columns</p>\n",
       "</div>"
      ],
      "text/plain": [
       "        Global_active_power        Date\n",
       "0                     4.216  16/12/2006\n",
       "1                     5.360  16/12/2006\n",
       "2                     5.374  16/12/2006\n",
       "3                     5.388  16/12/2006\n",
       "4                     3.666  16/12/2006\n",
       "...                     ...         ...\n",
       "199995                0.348    4/5/2007\n",
       "199996                0.344    4/5/2007\n",
       "199997                0.342    4/5/2007\n",
       "199998                0.340    4/5/2007\n",
       "199999                0.370    4/5/2007\n",
       "\n",
       "[196268 rows x 2 columns]"
      ]
     },
     "execution_count": 10,
     "metadata": {},
     "output_type": "execute_result"
    }
   ],
   "source": [
    "## 1 Using df like a dict, then put them in a list if several\n",
    "df[[\"Global_active_power\",\"Date\"]]"
   ]
  },
  {
   "cell_type": "code",
   "execution_count": 11,
   "id": "2517f4b1",
   "metadata": {},
   "outputs": [
    {
     "data": {
      "text/plain": [
       "0     16/12/2006\n",
       "1     16/12/2006\n",
       "2     16/12/2006\n",
       "3     16/12/2006\n",
       "4     16/12/2006\n",
       "5     16/12/2006\n",
       "6     16/12/2006\n",
       "7     16/12/2006\n",
       "8     16/12/2006\n",
       "9     16/12/2006\n",
       "10    16/12/2006\n",
       "Name: Date, dtype: object"
      ]
     },
     "execution_count": 11,
     "metadata": {},
     "output_type": "execute_result"
    }
   ],
   "source": [
    "# 2 if you want rows and columns, use df.loc:\n",
    "df.loc[:10,\"Date\"]"
   ]
  },
  {
   "cell_type": "code",
   "execution_count": 12,
   "id": "441bb7da",
   "metadata": {},
   "outputs": [],
   "source": [
    "\n",
    "datetime = pd.to_datetime(df[\"Date\"],dayfirst = True)"
   ]
  },
  {
   "cell_type": "code",
   "execution_count": 13,
   "id": "c6cbd122",
   "metadata": {},
   "outputs": [],
   "source": [
    "df2 = df.set_index(datetime)"
   ]
  },
  {
   "cell_type": "code",
   "execution_count": 14,
   "id": "c066c906",
   "metadata": {},
   "outputs": [
    {
     "data": {
      "text/html": [
       "<div>\n",
       "<style scoped>\n",
       "    .dataframe tbody tr th:only-of-type {\n",
       "        vertical-align: middle;\n",
       "    }\n",
       "\n",
       "    .dataframe tbody tr th {\n",
       "        vertical-align: top;\n",
       "    }\n",
       "\n",
       "    .dataframe thead th {\n",
       "        text-align: right;\n",
       "    }\n",
       "</style>\n",
       "<table border=\"1\" class=\"dataframe\">\n",
       "  <thead>\n",
       "    <tr style=\"text-align: right;\">\n",
       "      <th></th>\n",
       "      <th>Date</th>\n",
       "      <th>Time</th>\n",
       "      <th>Global_active_power</th>\n",
       "    </tr>\n",
       "    <tr>\n",
       "      <th>Date</th>\n",
       "      <th></th>\n",
       "      <th></th>\n",
       "      <th></th>\n",
       "    </tr>\n",
       "  </thead>\n",
       "  <tbody>\n",
       "    <tr>\n",
       "      <th>2006-12-16</th>\n",
       "      <td>16/12/2006</td>\n",
       "      <td>17:24:00</td>\n",
       "      <td>4.216</td>\n",
       "    </tr>\n",
       "    <tr>\n",
       "      <th>2006-12-16</th>\n",
       "      <td>16/12/2006</td>\n",
       "      <td>17:25:00</td>\n",
       "      <td>5.360</td>\n",
       "    </tr>\n",
       "    <tr>\n",
       "      <th>2006-12-16</th>\n",
       "      <td>16/12/2006</td>\n",
       "      <td>17:26:00</td>\n",
       "      <td>5.374</td>\n",
       "    </tr>\n",
       "    <tr>\n",
       "      <th>2006-12-16</th>\n",
       "      <td>16/12/2006</td>\n",
       "      <td>17:27:00</td>\n",
       "      <td>5.388</td>\n",
       "    </tr>\n",
       "    <tr>\n",
       "      <th>2006-12-16</th>\n",
       "      <td>16/12/2006</td>\n",
       "      <td>17:28:00</td>\n",
       "      <td>3.666</td>\n",
       "    </tr>\n",
       "    <tr>\n",
       "      <th>...</th>\n",
       "      <td>...</td>\n",
       "      <td>...</td>\n",
       "      <td>...</td>\n",
       "    </tr>\n",
       "    <tr>\n",
       "      <th>2007-05-04</th>\n",
       "      <td>4/5/2007</td>\n",
       "      <td>14:39:00</td>\n",
       "      <td>0.348</td>\n",
       "    </tr>\n",
       "    <tr>\n",
       "      <th>2007-05-04</th>\n",
       "      <td>4/5/2007</td>\n",
       "      <td>14:40:00</td>\n",
       "      <td>0.344</td>\n",
       "    </tr>\n",
       "    <tr>\n",
       "      <th>2007-05-04</th>\n",
       "      <td>4/5/2007</td>\n",
       "      <td>14:41:00</td>\n",
       "      <td>0.342</td>\n",
       "    </tr>\n",
       "    <tr>\n",
       "      <th>2007-05-04</th>\n",
       "      <td>4/5/2007</td>\n",
       "      <td>14:42:00</td>\n",
       "      <td>0.340</td>\n",
       "    </tr>\n",
       "    <tr>\n",
       "      <th>2007-05-04</th>\n",
       "      <td>4/5/2007</td>\n",
       "      <td>14:43:00</td>\n",
       "      <td>0.370</td>\n",
       "    </tr>\n",
       "  </tbody>\n",
       "</table>\n",
       "<p>196268 rows × 3 columns</p>\n",
       "</div>"
      ],
      "text/plain": [
       "                  Date      Time  Global_active_power\n",
       "Date                                                 \n",
       "2006-12-16  16/12/2006  17:24:00                4.216\n",
       "2006-12-16  16/12/2006  17:25:00                5.360\n",
       "2006-12-16  16/12/2006  17:26:00                5.374\n",
       "2006-12-16  16/12/2006  17:27:00                5.388\n",
       "2006-12-16  16/12/2006  17:28:00                3.666\n",
       "...                ...       ...                  ...\n",
       "2007-05-04    4/5/2007  14:39:00                0.348\n",
       "2007-05-04    4/5/2007  14:40:00                0.344\n",
       "2007-05-04    4/5/2007  14:41:00                0.342\n",
       "2007-05-04    4/5/2007  14:42:00                0.340\n",
       "2007-05-04    4/5/2007  14:43:00                0.370\n",
       "\n",
       "[196268 rows x 3 columns]"
      ]
     },
     "execution_count": 14,
     "metadata": {},
     "output_type": "execute_result"
    }
   ],
   "source": [
    "df2"
   ]
  },
  {
   "cell_type": "code",
   "execution_count": 15,
   "id": "c08c8f55",
   "metadata": {},
   "outputs": [
    {
     "data": {
      "text/html": [
       "<div>\n",
       "<style scoped>\n",
       "    .dataframe tbody tr th:only-of-type {\n",
       "        vertical-align: middle;\n",
       "    }\n",
       "\n",
       "    .dataframe tbody tr th {\n",
       "        vertical-align: top;\n",
       "    }\n",
       "\n",
       "    .dataframe thead th {\n",
       "        text-align: right;\n",
       "    }\n",
       "</style>\n",
       "<table border=\"1\" class=\"dataframe\">\n",
       "  <thead>\n",
       "    <tr style=\"text-align: right;\">\n",
       "      <th></th>\n",
       "      <th>Date</th>\n",
       "      <th>Time</th>\n",
       "      <th>Global_active_power</th>\n",
       "    </tr>\n",
       "    <tr>\n",
       "      <th>Date</th>\n",
       "      <th></th>\n",
       "      <th></th>\n",
       "      <th></th>\n",
       "    </tr>\n",
       "  </thead>\n",
       "  <tbody>\n",
       "    <tr>\n",
       "      <th>2007-04-03</th>\n",
       "      <td>3/4/2007</td>\n",
       "      <td>00:00:00</td>\n",
       "      <td>1.416</td>\n",
       "    </tr>\n",
       "    <tr>\n",
       "      <th>2007-04-03</th>\n",
       "      <td>3/4/2007</td>\n",
       "      <td>00:01:00</td>\n",
       "      <td>1.458</td>\n",
       "    </tr>\n",
       "    <tr>\n",
       "      <th>2007-04-03</th>\n",
       "      <td>3/4/2007</td>\n",
       "      <td>00:02:00</td>\n",
       "      <td>0.568</td>\n",
       "    </tr>\n",
       "    <tr>\n",
       "      <th>2007-04-03</th>\n",
       "      <td>3/4/2007</td>\n",
       "      <td>00:03:00</td>\n",
       "      <td>0.394</td>\n",
       "    </tr>\n",
       "    <tr>\n",
       "      <th>2007-04-03</th>\n",
       "      <td>3/4/2007</td>\n",
       "      <td>00:04:00</td>\n",
       "      <td>0.392</td>\n",
       "    </tr>\n",
       "    <tr>\n",
       "      <th>...</th>\n",
       "      <td>...</td>\n",
       "      <td>...</td>\n",
       "      <td>...</td>\n",
       "    </tr>\n",
       "    <tr>\n",
       "      <th>2007-05-04</th>\n",
       "      <td>4/5/2007</td>\n",
       "      <td>14:39:00</td>\n",
       "      <td>0.348</td>\n",
       "    </tr>\n",
       "    <tr>\n",
       "      <th>2007-05-04</th>\n",
       "      <td>4/5/2007</td>\n",
       "      <td>14:40:00</td>\n",
       "      <td>0.344</td>\n",
       "    </tr>\n",
       "    <tr>\n",
       "      <th>2007-05-04</th>\n",
       "      <td>4/5/2007</td>\n",
       "      <td>14:41:00</td>\n",
       "      <td>0.342</td>\n",
       "    </tr>\n",
       "    <tr>\n",
       "      <th>2007-05-04</th>\n",
       "      <td>4/5/2007</td>\n",
       "      <td>14:42:00</td>\n",
       "      <td>0.340</td>\n",
       "    </tr>\n",
       "    <tr>\n",
       "      <th>2007-05-04</th>\n",
       "      <td>4/5/2007</td>\n",
       "      <td>14:43:00</td>\n",
       "      <td>0.370</td>\n",
       "    </tr>\n",
       "  </tbody>\n",
       "</table>\n",
       "<p>41801 rows × 3 columns</p>\n",
       "</div>"
      ],
      "text/plain": [
       "                Date      Time  Global_active_power\n",
       "Date                                               \n",
       "2007-04-03  3/4/2007  00:00:00                1.416\n",
       "2007-04-03  3/4/2007  00:01:00                1.458\n",
       "2007-04-03  3/4/2007  00:02:00                0.568\n",
       "2007-04-03  3/4/2007  00:03:00                0.394\n",
       "2007-04-03  3/4/2007  00:04:00                0.392\n",
       "...              ...       ...                  ...\n",
       "2007-05-04  4/5/2007  14:39:00                0.348\n",
       "2007-05-04  4/5/2007  14:40:00                0.344\n",
       "2007-05-04  4/5/2007  14:41:00                0.342\n",
       "2007-05-04  4/5/2007  14:42:00                0.340\n",
       "2007-05-04  4/5/2007  14:43:00                0.370\n",
       "\n",
       "[41801 rows x 3 columns]"
      ]
     },
     "execution_count": 15,
     "metadata": {},
     "output_type": "execute_result"
    }
   ],
   "source": [
    "df2.loc[\"2007-04-03\":]"
   ]
  },
  {
   "cell_type": "code",
   "execution_count": 16,
   "id": "12cf8f7f",
   "metadata": {},
   "outputs": [
    {
     "name": "stdout",
     "output_type": "stream",
     "text": [
      "Int64Index([16, 16, 16, 16, 16, 16, 16, 16, 16, 16,\n",
      "            ...\n",
      "             4,  4,  4,  4,  4,  4,  4,  4,  4,  4],\n",
      "           dtype='int64', name='Date', length=196268)\n",
      "Int64Index([5, 5, 5, 5, 5, 5, 5, 5, 5, 5,\n",
      "            ...\n",
      "            4, 4, 4, 4, 4, 4, 4, 4, 4, 4],\n",
      "           dtype='int64', name='Date', length=196268)\n"
     ]
    }
   ],
   "source": [
    "print(df2.index.day)\n",
    "print(df2.index.weekday)"
   ]
  },
  {
   "cell_type": "code",
   "execution_count": 17,
   "id": "6c77ccdf",
   "metadata": {},
   "outputs": [
    {
     "data": {
      "text/plain": [
       "Int64Index([5, 6, 0, 1, 2, 3, 4], dtype='int64', name='Date')"
      ]
     },
     "execution_count": 17,
     "metadata": {},
     "output_type": "execute_result"
    }
   ],
   "source": [
    "df2.index.weekday.unique()"
   ]
  },
  {
   "cell_type": "code",
   "execution_count": 18,
   "id": "1f6b528f",
   "metadata": {},
   "outputs": [
    {
     "data": {
      "text/plain": [
       "'17:33:00'"
      ]
     },
     "execution_count": 18,
     "metadata": {},
     "output_type": "execute_result"
    }
   ],
   "source": [
    "#3 iloc for integer locations\n",
    "# you want row number i and column number j\n",
    "df.iloc[9,1]"
   ]
  },
  {
   "cell_type": "code",
   "execution_count": 19,
   "id": "314485cf",
   "metadata": {},
   "outputs": [
    {
     "data": {
      "text/html": [
       "<div>\n",
       "<style scoped>\n",
       "    .dataframe tbody tr th:only-of-type {\n",
       "        vertical-align: middle;\n",
       "    }\n",
       "\n",
       "    .dataframe tbody tr th {\n",
       "        vertical-align: top;\n",
       "    }\n",
       "\n",
       "    .dataframe thead th {\n",
       "        text-align: right;\n",
       "    }\n",
       "</style>\n",
       "<table border=\"1\" class=\"dataframe\">\n",
       "  <thead>\n",
       "    <tr style=\"text-align: right;\">\n",
       "      <th></th>\n",
       "      <th>Date</th>\n",
       "      <th>Time</th>\n",
       "      <th>Global_active_power</th>\n",
       "    </tr>\n",
       "  </thead>\n",
       "  <tbody>\n",
       "    <tr>\n",
       "      <th>10</th>\n",
       "      <td>16/12/2006</td>\n",
       "      <td>17:34:00</td>\n",
       "      <td>4.448</td>\n",
       "    </tr>\n",
       "    <tr>\n",
       "      <th>11</th>\n",
       "      <td>16/12/2006</td>\n",
       "      <td>17:35:00</td>\n",
       "      <td>5.412</td>\n",
       "    </tr>\n",
       "    <tr>\n",
       "      <th>12</th>\n",
       "      <td>16/12/2006</td>\n",
       "      <td>17:36:00</td>\n",
       "      <td>5.224</td>\n",
       "    </tr>\n",
       "    <tr>\n",
       "      <th>13</th>\n",
       "      <td>16/12/2006</td>\n",
       "      <td>17:37:00</td>\n",
       "      <td>5.268</td>\n",
       "    </tr>\n",
       "    <tr>\n",
       "      <th>14</th>\n",
       "      <td>16/12/2006</td>\n",
       "      <td>17:38:00</td>\n",
       "      <td>4.054</td>\n",
       "    </tr>\n",
       "  </tbody>\n",
       "</table>\n",
       "</div>"
      ],
      "text/plain": [
       "          Date      Time  Global_active_power\n",
       "10  16/12/2006  17:34:00                4.448\n",
       "11  16/12/2006  17:35:00                5.412\n",
       "12  16/12/2006  17:36:00                5.224\n",
       "13  16/12/2006  17:37:00                5.268\n",
       "14  16/12/2006  17:38:00                4.054"
      ]
     },
     "execution_count": 19,
     "metadata": {},
     "output_type": "execute_result"
    }
   ],
   "source": [
    "#you can use slicing here too\n",
    "df.iloc[10:15, 2]\n",
    "df.iloc[10:15]\n",
    "\n",
    "#iloc should not really be used "
   ]
  },
  {
   "cell_type": "code",
   "execution_count": 20,
   "id": "23f85856",
   "metadata": {},
   "outputs": [
    {
     "data": {
      "text/plain": [
       "<bound method StringMethods.split of <pandas.core.strings.accessor.StringMethods object at 0x000002922A9E0BB0>>"
      ]
     },
     "execution_count": 20,
     "metadata": {},
     "output_type": "execute_result"
    }
   ],
   "source": [
    "df[\"Time\"].str.split"
   ]
  },
  {
   "cell_type": "markdown",
   "id": "7e6cde13",
   "metadata": {},
   "source": [
    "## Temp"
   ]
  },
  {
   "cell_type": "code",
   "execution_count": 21,
   "id": "4d0f33c7",
   "metadata": {},
   "outputs": [
    {
     "data": {
      "text/plain": [
       "Index(['STAID', ' SOUID', '    DATE', '   TG', ' Q_TG'], dtype='object')"
      ]
     },
     "execution_count": 21,
     "metadata": {},
     "output_type": "execute_result"
    }
   ],
   "source": [
    "temp = pd.read_csv(\"TG_STAID011249.txt\", sep=',', comment='#')\n",
    "temp.columns"
   ]
  },
  {
   "cell_type": "code",
   "execution_count": 22,
   "id": "958dc0f4",
   "metadata": {},
   "outputs": [
    {
     "name": "stdout",
     "output_type": "stream",
     "text": [
      "['STAID', 'SOUID', 'DATE', 'TG', 'Q_TG']\n"
     ]
    }
   ],
   "source": [
    "columns = [col.strip() for col in temp.columns]\n",
    "print(columns)"
   ]
  },
  {
   "cell_type": "code",
   "execution_count": 23,
   "id": "503633c0",
   "metadata": {
    "scrolled": true
   },
   "outputs": [
    {
     "data": {
      "text/plain": [
       "Index(['STAID', 'SOUID', 'DATE', 'TG', 'Q_TG'], dtype='object')"
      ]
     },
     "execution_count": 23,
     "metadata": {},
     "output_type": "execute_result"
    }
   ],
   "source": [
    "# when you want to apply the strip method to every element in df.columns the you do:\n",
    "temp.columns.str.strip()"
   ]
  },
  {
   "cell_type": "code",
   "execution_count": 27,
   "id": "7dc57135",
   "metadata": {},
   "outputs": [],
   "source": [
    "temp.rename(columns = {'    DATE':'DATE','   TG':'TG'}, inplace = True)"
   ]
  },
  {
   "cell_type": "code",
   "execution_count": 28,
   "id": "315f041d",
   "metadata": {
    "scrolled": true
   },
   "outputs": [
    {
     "data": {
      "text/html": [
       "<div>\n",
       "<style scoped>\n",
       "    .dataframe tbody tr th:only-of-type {\n",
       "        vertical-align: middle;\n",
       "    }\n",
       "\n",
       "    .dataframe tbody tr th {\n",
       "        vertical-align: top;\n",
       "    }\n",
       "\n",
       "    .dataframe thead th {\n",
       "        text-align: right;\n",
       "    }\n",
       "</style>\n",
       "<table border=\"1\" class=\"dataframe\">\n",
       "  <thead>\n",
       "    <tr style=\"text-align: right;\">\n",
       "      <th></th>\n",
       "      <th>STAID</th>\n",
       "      <th>SOUID</th>\n",
       "      <th>DATE</th>\n",
       "      <th>TG</th>\n",
       "      <th>Q_TG</th>\n",
       "      <th>datetime</th>\n",
       "    </tr>\n",
       "  </thead>\n",
       "  <tbody>\n",
       "    <tr>\n",
       "      <th>0</th>\n",
       "      <td>11249</td>\n",
       "      <td>71642</td>\n",
       "      <td>19210301</td>\n",
       "      <td>50</td>\n",
       "      <td>0</td>\n",
       "      <td>1921-03-01</td>\n",
       "    </tr>\n",
       "    <tr>\n",
       "      <th>1</th>\n",
       "      <td>11249</td>\n",
       "      <td>71642</td>\n",
       "      <td>19210302</td>\n",
       "      <td>46</td>\n",
       "      <td>0</td>\n",
       "      <td>1921-03-02</td>\n",
       "    </tr>\n",
       "    <tr>\n",
       "      <th>2</th>\n",
       "      <td>11249</td>\n",
       "      <td>71642</td>\n",
       "      <td>19210303</td>\n",
       "      <td>46</td>\n",
       "      <td>0</td>\n",
       "      <td>1921-03-03</td>\n",
       "    </tr>\n",
       "    <tr>\n",
       "      <th>3</th>\n",
       "      <td>11249</td>\n",
       "      <td>71642</td>\n",
       "      <td>19210304</td>\n",
       "      <td>31</td>\n",
       "      <td>0</td>\n",
       "      <td>1921-03-04</td>\n",
       "    </tr>\n",
       "    <tr>\n",
       "      <th>4</th>\n",
       "      <td>11249</td>\n",
       "      <td>71642</td>\n",
       "      <td>19210305</td>\n",
       "      <td>95</td>\n",
       "      <td>0</td>\n",
       "      <td>1921-03-05</td>\n",
       "    </tr>\n",
       "    <tr>\n",
       "      <th>...</th>\n",
       "      <td>...</td>\n",
       "      <td>...</td>\n",
       "      <td>...</td>\n",
       "      <td>...</td>\n",
       "      <td>...</td>\n",
       "      <td>...</td>\n",
       "    </tr>\n",
       "    <tr>\n",
       "      <th>34878</th>\n",
       "      <td>11249</td>\n",
       "      <td>907149</td>\n",
       "      <td>20160827</td>\n",
       "      <td>266</td>\n",
       "      <td>0</td>\n",
       "      <td>2016-08-27</td>\n",
       "    </tr>\n",
       "    <tr>\n",
       "      <th>34879</th>\n",
       "      <td>11249</td>\n",
       "      <td>907149</td>\n",
       "      <td>20160828</td>\n",
       "      <td>255</td>\n",
       "      <td>0</td>\n",
       "      <td>2016-08-28</td>\n",
       "    </tr>\n",
       "    <tr>\n",
       "      <th>34880</th>\n",
       "      <td>11249</td>\n",
       "      <td>907149</td>\n",
       "      <td>20160829</td>\n",
       "      <td>206</td>\n",
       "      <td>0</td>\n",
       "      <td>2016-08-29</td>\n",
       "    </tr>\n",
       "    <tr>\n",
       "      <th>34881</th>\n",
       "      <td>11249</td>\n",
       "      <td>907149</td>\n",
       "      <td>20160830</td>\n",
       "      <td>204</td>\n",
       "      <td>0</td>\n",
       "      <td>2016-08-30</td>\n",
       "    </tr>\n",
       "    <tr>\n",
       "      <th>34882</th>\n",
       "      <td>11249</td>\n",
       "      <td>907149</td>\n",
       "      <td>20160831</td>\n",
       "      <td>210</td>\n",
       "      <td>0</td>\n",
       "      <td>2016-08-31</td>\n",
       "    </tr>\n",
       "  </tbody>\n",
       "</table>\n",
       "<p>34883 rows × 6 columns</p>\n",
       "</div>"
      ],
      "text/plain": [
       "       STAID   SOUID      DATE   TG   Q_TG   datetime\n",
       "0      11249   71642  19210301   50      0 1921-03-01\n",
       "1      11249   71642  19210302   46      0 1921-03-02\n",
       "2      11249   71642  19210303   46      0 1921-03-03\n",
       "3      11249   71642  19210304   31      0 1921-03-04\n",
       "4      11249   71642  19210305   95      0 1921-03-05\n",
       "...      ...     ...       ...  ...    ...        ...\n",
       "34878  11249  907149  20160827  266      0 2016-08-27\n",
       "34879  11249  907149  20160828  255      0 2016-08-28\n",
       "34880  11249  907149  20160829  206      0 2016-08-29\n",
       "34881  11249  907149  20160830  204      0 2016-08-30\n",
       "34882  11249  907149  20160831  210      0 2016-08-31\n",
       "\n",
       "[34883 rows x 6 columns]"
      ]
     },
     "execution_count": 28,
     "metadata": {},
     "output_type": "execute_result"
    }
   ],
   "source": [
    "temp[\"datetime\"] = pd.to_datetime(temp[\"DATE\"],format='%Y%m%d')\n",
    "temp"
   ]
  },
  {
   "cell_type": "code",
   "execution_count": 29,
   "id": "a9fe0e89",
   "metadata": {},
   "outputs": [
    {
     "data": {
      "text/plain": [
       "STAID       0\n",
       " SOUID      0\n",
       "DATE        0\n",
       "TG          0\n",
       " Q_TG       0\n",
       "datetime    0\n",
       "dtype: int64"
      ]
     },
     "execution_count": 29,
     "metadata": {},
     "output_type": "execute_result"
    }
   ],
   "source": [
    "temp.isna().sum()"
   ]
  },
  {
   "cell_type": "code",
   "execution_count": 30,
   "id": "4a5dac44",
   "metadata": {},
   "outputs": [
    {
     "data": {
      "text/html": [
       "<div>\n",
       "<style scoped>\n",
       "    .dataframe tbody tr th:only-of-type {\n",
       "        vertical-align: middle;\n",
       "    }\n",
       "\n",
       "    .dataframe tbody tr th {\n",
       "        vertical-align: top;\n",
       "    }\n",
       "\n",
       "    .dataframe thead th {\n",
       "        text-align: right;\n",
       "    }\n",
       "</style>\n",
       "<table border=\"1\" class=\"dataframe\">\n",
       "  <thead>\n",
       "    <tr style=\"text-align: right;\">\n",
       "      <th></th>\n",
       "      <th>STAID</th>\n",
       "      <th>SOUID</th>\n",
       "      <th>DATE</th>\n",
       "      <th>TG</th>\n",
       "      <th>Q_TG</th>\n",
       "      <th>datetime</th>\n",
       "    </tr>\n",
       "  </thead>\n",
       "  <tbody>\n",
       "    <tr>\n",
       "      <th>0</th>\n",
       "      <td>11249</td>\n",
       "      <td>71642</td>\n",
       "      <td>19210301</td>\n",
       "      <td>50</td>\n",
       "      <td>0</td>\n",
       "      <td>1921-03-01</td>\n",
       "    </tr>\n",
       "    <tr>\n",
       "      <th>1</th>\n",
       "      <td>11249</td>\n",
       "      <td>71642</td>\n",
       "      <td>19210302</td>\n",
       "      <td>46</td>\n",
       "      <td>0</td>\n",
       "      <td>1921-03-02</td>\n",
       "    </tr>\n",
       "    <tr>\n",
       "      <th>2</th>\n",
       "      <td>11249</td>\n",
       "      <td>71642</td>\n",
       "      <td>19210303</td>\n",
       "      <td>46</td>\n",
       "      <td>0</td>\n",
       "      <td>1921-03-03</td>\n",
       "    </tr>\n",
       "    <tr>\n",
       "      <th>3</th>\n",
       "      <td>11249</td>\n",
       "      <td>71642</td>\n",
       "      <td>19210304</td>\n",
       "      <td>31</td>\n",
       "      <td>0</td>\n",
       "      <td>1921-03-04</td>\n",
       "    </tr>\n",
       "    <tr>\n",
       "      <th>4</th>\n",
       "      <td>11249</td>\n",
       "      <td>71642</td>\n",
       "      <td>19210305</td>\n",
       "      <td>95</td>\n",
       "      <td>0</td>\n",
       "      <td>1921-03-05</td>\n",
       "    </tr>\n",
       "    <tr>\n",
       "      <th>...</th>\n",
       "      <td>...</td>\n",
       "      <td>...</td>\n",
       "      <td>...</td>\n",
       "      <td>...</td>\n",
       "      <td>...</td>\n",
       "      <td>...</td>\n",
       "    </tr>\n",
       "    <tr>\n",
       "      <th>34878</th>\n",
       "      <td>11249</td>\n",
       "      <td>907149</td>\n",
       "      <td>20160827</td>\n",
       "      <td>266</td>\n",
       "      <td>0</td>\n",
       "      <td>2016-08-27</td>\n",
       "    </tr>\n",
       "    <tr>\n",
       "      <th>34879</th>\n",
       "      <td>11249</td>\n",
       "      <td>907149</td>\n",
       "      <td>20160828</td>\n",
       "      <td>255</td>\n",
       "      <td>0</td>\n",
       "      <td>2016-08-28</td>\n",
       "    </tr>\n",
       "    <tr>\n",
       "      <th>34880</th>\n",
       "      <td>11249</td>\n",
       "      <td>907149</td>\n",
       "      <td>20160829</td>\n",
       "      <td>206</td>\n",
       "      <td>0</td>\n",
       "      <td>2016-08-29</td>\n",
       "    </tr>\n",
       "    <tr>\n",
       "      <th>34881</th>\n",
       "      <td>11249</td>\n",
       "      <td>907149</td>\n",
       "      <td>20160830</td>\n",
       "      <td>204</td>\n",
       "      <td>0</td>\n",
       "      <td>2016-08-30</td>\n",
       "    </tr>\n",
       "    <tr>\n",
       "      <th>34882</th>\n",
       "      <td>11249</td>\n",
       "      <td>907149</td>\n",
       "      <td>20160831</td>\n",
       "      <td>210</td>\n",
       "      <td>0</td>\n",
       "      <td>2016-08-31</td>\n",
       "    </tr>\n",
       "  </tbody>\n",
       "</table>\n",
       "<p>34883 rows × 6 columns</p>\n",
       "</div>"
      ],
      "text/plain": [
       "       STAID   SOUID      DATE   TG   Q_TG   datetime\n",
       "0      11249   71642  19210301   50      0 1921-03-01\n",
       "1      11249   71642  19210302   46      0 1921-03-02\n",
       "2      11249   71642  19210303   46      0 1921-03-03\n",
       "3      11249   71642  19210304   31      0 1921-03-04\n",
       "4      11249   71642  19210305   95      0 1921-03-05\n",
       "...      ...     ...       ...  ...    ...        ...\n",
       "34878  11249  907149  20160827  266      0 2016-08-27\n",
       "34879  11249  907149  20160828  255      0 2016-08-28\n",
       "34880  11249  907149  20160829  206      0 2016-08-29\n",
       "34881  11249  907149  20160830  204      0 2016-08-30\n",
       "34882  11249  907149  20160831  210      0 2016-08-31\n",
       "\n",
       "[34883 rows x 6 columns]"
      ]
     },
     "execution_count": 30,
     "metadata": {},
     "output_type": "execute_result"
    }
   ],
   "source": [
    "boolean_mask = temp.isna()\n",
    "temp"
   ]
  },
  {
   "cell_type": "code",
   "execution_count": 31,
   "id": "c6b0bf8c",
   "metadata": {},
   "outputs": [
    {
     "data": {
      "text/html": [
       "<div>\n",
       "<style scoped>\n",
       "    .dataframe tbody tr th:only-of-type {\n",
       "        vertical-align: middle;\n",
       "    }\n",
       "\n",
       "    .dataframe tbody tr th {\n",
       "        vertical-align: top;\n",
       "    }\n",
       "\n",
       "    .dataframe thead th {\n",
       "        text-align: right;\n",
       "    }\n",
       "</style>\n",
       "<table border=\"1\" class=\"dataframe\">\n",
       "  <thead>\n",
       "    <tr style=\"text-align: right;\">\n",
       "      <th></th>\n",
       "      <th>STAID</th>\n",
       "      <th>SOUID</th>\n",
       "      <th>DATE</th>\n",
       "      <th>TG</th>\n",
       "      <th>Q_TG</th>\n",
       "      <th>datetime</th>\n",
       "    </tr>\n",
       "  </thead>\n",
       "  <tbody>\n",
       "    <tr>\n",
       "      <th>0</th>\n",
       "      <td>NaN</td>\n",
       "      <td>NaN</td>\n",
       "      <td>NaN</td>\n",
       "      <td>NaN</td>\n",
       "      <td>NaN</td>\n",
       "      <td>NaT</td>\n",
       "    </tr>\n",
       "    <tr>\n",
       "      <th>1</th>\n",
       "      <td>NaN</td>\n",
       "      <td>NaN</td>\n",
       "      <td>NaN</td>\n",
       "      <td>NaN</td>\n",
       "      <td>NaN</td>\n",
       "      <td>NaT</td>\n",
       "    </tr>\n",
       "    <tr>\n",
       "      <th>2</th>\n",
       "      <td>NaN</td>\n",
       "      <td>NaN</td>\n",
       "      <td>NaN</td>\n",
       "      <td>NaN</td>\n",
       "      <td>NaN</td>\n",
       "      <td>NaT</td>\n",
       "    </tr>\n",
       "    <tr>\n",
       "      <th>3</th>\n",
       "      <td>NaN</td>\n",
       "      <td>NaN</td>\n",
       "      <td>NaN</td>\n",
       "      <td>NaN</td>\n",
       "      <td>NaN</td>\n",
       "      <td>NaT</td>\n",
       "    </tr>\n",
       "    <tr>\n",
       "      <th>4</th>\n",
       "      <td>NaN</td>\n",
       "      <td>NaN</td>\n",
       "      <td>NaN</td>\n",
       "      <td>NaN</td>\n",
       "      <td>NaN</td>\n",
       "      <td>NaT</td>\n",
       "    </tr>\n",
       "    <tr>\n",
       "      <th>...</th>\n",
       "      <td>...</td>\n",
       "      <td>...</td>\n",
       "      <td>...</td>\n",
       "      <td>...</td>\n",
       "      <td>...</td>\n",
       "      <td>...</td>\n",
       "    </tr>\n",
       "    <tr>\n",
       "      <th>34878</th>\n",
       "      <td>NaN</td>\n",
       "      <td>NaN</td>\n",
       "      <td>NaN</td>\n",
       "      <td>NaN</td>\n",
       "      <td>NaN</td>\n",
       "      <td>NaT</td>\n",
       "    </tr>\n",
       "    <tr>\n",
       "      <th>34879</th>\n",
       "      <td>NaN</td>\n",
       "      <td>NaN</td>\n",
       "      <td>NaN</td>\n",
       "      <td>NaN</td>\n",
       "      <td>NaN</td>\n",
       "      <td>NaT</td>\n",
       "    </tr>\n",
       "    <tr>\n",
       "      <th>34880</th>\n",
       "      <td>NaN</td>\n",
       "      <td>NaN</td>\n",
       "      <td>NaN</td>\n",
       "      <td>NaN</td>\n",
       "      <td>NaN</td>\n",
       "      <td>NaT</td>\n",
       "    </tr>\n",
       "    <tr>\n",
       "      <th>34881</th>\n",
       "      <td>NaN</td>\n",
       "      <td>NaN</td>\n",
       "      <td>NaN</td>\n",
       "      <td>NaN</td>\n",
       "      <td>NaN</td>\n",
       "      <td>NaT</td>\n",
       "    </tr>\n",
       "    <tr>\n",
       "      <th>34882</th>\n",
       "      <td>NaN</td>\n",
       "      <td>NaN</td>\n",
       "      <td>NaN</td>\n",
       "      <td>NaN</td>\n",
       "      <td>NaN</td>\n",
       "      <td>NaT</td>\n",
       "    </tr>\n",
       "  </tbody>\n",
       "</table>\n",
       "<p>34883 rows × 6 columns</p>\n",
       "</div>"
      ],
      "text/plain": [
       "       STAID   SOUID  DATE  TG   Q_TG datetime\n",
       "0        NaN     NaN   NaN NaN    NaN      NaT\n",
       "1        NaN     NaN   NaN NaN    NaN      NaT\n",
       "2        NaN     NaN   NaN NaN    NaN      NaT\n",
       "3        NaN     NaN   NaN NaN    NaN      NaT\n",
       "4        NaN     NaN   NaN NaN    NaN      NaT\n",
       "...      ...     ...   ...  ..    ...      ...\n",
       "34878    NaN     NaN   NaN NaN    NaN      NaT\n",
       "34879    NaN     NaN   NaN NaN    NaN      NaT\n",
       "34880    NaN     NaN   NaN NaN    NaN      NaT\n",
       "34881    NaN     NaN   NaN NaN    NaN      NaT\n",
       "34882    NaN     NaN   NaN NaN    NaN      NaT\n",
       "\n",
       "[34883 rows x 6 columns]"
      ]
     },
     "execution_count": 31,
     "metadata": {},
     "output_type": "execute_result"
    }
   ],
   "source": [
    "temp[boolean_mask]\n",
    "# NAs and NANs are not the same\n"
   ]
  },
  {
   "cell_type": "markdown",
   "id": "0f9e36c0",
   "metadata": {},
   "source": [
    "# 2 nice functionalities to iterate over lists\n"
   ]
  },
  {
   "cell_type": "code",
   "execution_count": 32,
   "id": "53949261",
   "metadata": {},
   "outputs": [
    {
     "data": {
      "image/png": "[encoded data removed]",
      "text/plain": [
       "<Figure size 432x288 with 1 Axes>"
      ]
     },
     "metadata": {
      "needs_background": "light"
     },
     "output_type": "display_data"
    }
   ],
   "source": [
    "powers = [1,2,3]\n",
    "x=np.linspace(0,1)\n",
    "colors = [\"k\",\"r\",\"g\"]\n",
    "styles = [':','--','-']\n",
    "\n",
    "for i in range(3):\n",
    "    plt.plot(x**powers[i],  c=colors[i], linestyle=styles[i])"
   ]
  },
  {
   "cell_type": "code",
   "execution_count": 33,
   "id": "8a227d87",
   "metadata": {},
   "outputs": [
    {
     "data": {
      "image/png": "[encoded data removed]",
      "text/plain": [
       "<Figure size 432x288 with 1 Axes>"
      ]
     },
     "metadata": {
      "needs_background": "light"
     },
     "output_type": "display_data"
    }
   ],
   "source": [
    "# THe pythonic way to do is to zip the lists together\n",
    "\n",
    "powers = [1,2,3]\n",
    "x=np.linspace(0,1)\n",
    "colors = [\"k\",\"r\",\"g\"]\n",
    "styles = [':','--','-']\n",
    "\n",
    "for power, color, style in zip(powers,colors,styles):\n",
    "    plt.plot(x**power,  c=color, linestyle=style)"
   ]
  },
  {
   "cell_type": "code",
   "execution_count": 34,
   "id": "0a2b533e",
   "metadata": {},
   "outputs": [
    {
     "name": "stdout",
     "output_type": "stream",
     "text": [
      "0 a\n",
      "1 b\n",
      "2 c\n",
      "3 d\n",
      "4 e\n",
      "5 f\n",
      "6 g\n",
      "7 h\n",
      "8 i\n",
      "9 j\n"
     ]
    }
   ],
   "source": [
    "from string import ascii_lowercase\n",
    "alphabet = list(ascii_lowercase)\n",
    "\n",
    "for i, letter in zip(range(10),alphabet):\n",
    "    print(i,letter)"
   ]
  },
  {
   "cell_type": "code",
   "execution_count": 26,
   "id": "116a826b",
   "metadata": {
    "scrolled": true
   },
   "outputs": [
    {
     "name": "stdout",
     "output_type": "stream",
     "text": [
      "0 a\n",
      "0 b\n",
      "0 c\n",
      "0 d\n",
      "0 e\n",
      "0 f\n",
      "0 g\n",
      "0 h\n",
      "0 i\n",
      "0 j\n",
      "0 k\n",
      "0 l\n",
      "0 m\n",
      "0 n\n",
      "0 o\n",
      "0 p\n",
      "0 q\n",
      "0 r\n",
      "0 s\n",
      "0 t\n",
      "0 u\n",
      "0 v\n",
      "0 w\n",
      "0 x\n",
      "0 y\n",
      "0 z\n",
      "1 a\n",
      "1 b\n",
      "1 c\n",
      "1 d\n",
      "1 e\n",
      "1 f\n",
      "1 g\n",
      "1 h\n",
      "1 i\n",
      "1 j\n",
      "1 k\n",
      "1 l\n",
      "1 m\n",
      "1 n\n",
      "1 o\n",
      "1 p\n",
      "1 q\n",
      "1 r\n",
      "1 s\n",
      "1 t\n",
      "1 u\n",
      "1 v\n",
      "1 w\n",
      "1 x\n",
      "1 y\n",
      "1 z\n",
      "2 a\n",
      "2 b\n",
      "2 c\n",
      "2 d\n",
      "2 e\n",
      "2 f\n",
      "2 g\n",
      "2 h\n",
      "2 i\n",
      "2 j\n",
      "2 k\n",
      "2 l\n",
      "2 m\n",
      "2 n\n",
      "2 o\n",
      "2 p\n",
      "2 q\n",
      "2 r\n",
      "2 s\n",
      "2 t\n",
      "2 u\n",
      "2 v\n",
      "2 w\n",
      "2 x\n",
      "2 y\n",
      "2 z\n"
     ]
    }
   ],
   "source": [
    "from itertools import product\n",
    "\n",
    "for i, letter in product(range(3),alphabet):\n",
    "    print(i, letter)"
   ]
  },
  {
   "cell_type": "markdown",
   "id": "3c83b8c4",
   "metadata": {},
   "source": [
    "# Broadcasting in Numpy"
   ]
  },
  {
   "cell_type": "code",
   "execution_count": 44,
   "id": "6b80f783",
   "metadata": {},
   "outputs": [],
   "source": [
    "np.set_printoptions(precision=3)"
   ]
  },
  {
   "cell_type": "code",
   "execution_count": 69,
   "id": "53cbda4d",
   "metadata": {
    "scrolled": true
   },
   "outputs": [
    {
     "data": {
      "text/plain": [
       "array([[ 1.332,  0.715, -1.545, -0.008],\n",
       "       [ 0.621, -0.72 ,  0.266,  0.109],\n",
       "       [ 0.004, -0.175,  0.433,  1.203]])"
      ]
     },
     "execution_count": 69,
     "metadata": {},
     "output_type": "execute_result"
    }
   ],
   "source": [
    "np.random.seed(10)\n",
    "a = np.random.randn(3,4)\n",
    "a"
   ]
  },
  {
   "cell_type": "code",
   "execution_count": 46,
   "id": "c57c6f40",
   "metadata": {},
   "outputs": [
    {
     "data": {
      "text/plain": [
       "1664368662.7064338"
      ]
     },
     "execution_count": 46,
     "metadata": {},
     "output_type": "execute_result"
    }
   ],
   "source": [
    "import time\n",
    "time.time() # the sum of seconds since the first of Jan 1970"
   ]
  },
  {
   "cell_type": "code",
   "execution_count": 52,
   "id": "32abfcc6",
   "metadata": {},
   "outputs": [
    {
     "name": "stdout",
     "output_type": "stream",
     "text": [
      "0.02370595932006836\n"
     ]
    }
   ],
   "source": [
    "t0 = time.time()\n",
    "for i in range(1000000):\n",
    "    2*2\n",
    "t1=time.time()\n",
    "print(t1-t0)"
   ]
  },
  {
   "cell_type": "code",
   "execution_count": null,
   "id": "f54bd7fa",
   "metadata": {},
   "outputs": [],
   "source": [
    "time.perf_counter() #the same as time but seconds from the beginning of the session"
   ]
  },
  {
   "cell_type": "markdown",
   "id": "41947526",
   "metadata": {},
   "source": [
    "Broadcasting: it extends the smaller object to make it fit the bigger object."
   ]
  },
  {
   "cell_type": "code",
   "execution_count": 43,
   "id": "9091f4e1",
   "metadata": {},
   "outputs": [],
   "source": [
    "np.random.normal?"
   ]
  },
  {
   "cell_type": "code",
   "execution_count": 68,
   "id": "561e21df",
   "metadata": {},
   "outputs": [
    {
     "data": {
      "text/plain": [
       "array([[ 1.332,  0.715, -1.545, -0.008],\n",
       "       [ 0.621, -0.72 ,  0.266,  0.109],\n",
       "       [ 0.004, -0.175,  0.433,  1.203]])"
      ]
     },
     "execution_count": 68,
     "metadata": {},
     "output_type": "execute_result"
    }
   ],
   "source": [
    "a"
   ]
  },
  {
   "cell_type": "code",
   "execution_count": 70,
   "id": "e8f5ed22",
   "metadata": {},
   "outputs": [
    {
     "data": {
      "text/plain": [
       "array([ 1.332,  0.715, -1.545, -0.008])"
      ]
     },
     "execution_count": 70,
     "metadata": {},
     "output_type": "execute_result"
    }
   ],
   "source": [
    "a[0] ### premiere ligne (1,4)"
   ]
  },
  {
   "cell_type": "code",
   "execution_count": 54,
   "id": "a45c2434",
   "metadata": {},
   "outputs": [
    {
     "data": {
      "text/plain": [
       "array([[ 0.   ,  0.   ,  0.   ,  0.   ],\n",
       "       [-0.71 , -1.435,  1.811,  0.117],\n",
       "       [-1.327, -0.89 ,  1.978,  1.211]])"
      ]
     },
     "execution_count": 54,
     "metadata": {},
     "output_type": "execute_result"
    }
   ],
   "source": [
    "# we can broadcast \n",
    "a-a[0]"
   ]
  },
  {
   "cell_type": "code",
   "execution_count": 55,
   "id": "b5b4fe4c",
   "metadata": {},
   "outputs": [
    {
     "ename": "ValueError",
     "evalue": "operands could not be broadcast together with shapes (3,4) (3,) ",
     "output_type": "error",
     "traceback": [
      "\u001b[1;31m---------------------------------------------------------------------------\u001b[0m",
      "\u001b[1;31mValueError\u001b[0m                                Traceback (most recent call last)",
      "Input \u001b[1;32mIn [55]\u001b[0m, in \u001b[0;36m<cell line: 2>\u001b[1;34m()\u001b[0m\n\u001b[0;32m      1\u001b[0m \u001b[38;5;66;03m#but not \u001b[39;00m\n\u001b[1;32m----> 2\u001b[0m \u001b[43ma\u001b[49m\u001b[43m \u001b[49m\u001b[38;5;241;43m-\u001b[39;49m\u001b[43m \u001b[49m\u001b[43ma\u001b[49m\u001b[43m[\u001b[49m\u001b[43m:\u001b[49m\u001b[43m,\u001b[49m\u001b[38;5;241;43m0\u001b[39;49m\u001b[43m]\u001b[49m\n",
      "\u001b[1;31mValueError\u001b[0m: operands could not be broadcast together with shapes (3,4) (3,) "
     ]
    }
   ],
   "source": [
    "#but not \n",
    "a - a[:,0]  ## 1 colonne "
   ]
  },
  {
   "cell_type": "code",
   "execution_count": 56,
   "id": "b3a3c6f9",
   "metadata": {},
   "outputs": [
    {
     "data": {
      "text/plain": [
       "array([[ 0.   , -0.616, -2.877, -1.34 ],\n",
       "       [ 0.   , -1.341, -0.356, -0.513],\n",
       "       [ 0.   , -0.179,  0.429,  1.199]])"
      ]
     },
     "execution_count": 56,
     "metadata": {},
     "output_type": "execute_result"
    }
   ],
   "source": [
    "(a.T - a[:,0]).T"
   ]
  },
  {
   "cell_type": "code",
   "execution_count": 58,
   "id": "35bffdc3",
   "metadata": {},
   "outputs": [
    {
     "data": {
      "text/plain": [
       "array([[ 0.   , -0.616, -2.877, -1.34 ],\n",
       "       [ 0.   , -1.341, -0.356, -0.513],\n",
       "       [ 0.   , -0.179,  0.429,  1.199]])"
      ]
     },
     "execution_count": 58,
     "metadata": {},
     "output_type": "execute_result"
    }
   ],
   "source": [
    "a-a[:,0:1]"
   ]
  },
  {
   "cell_type": "code",
   "execution_count": 64,
   "id": "124fa922",
   "metadata": {},
   "outputs": [
    {
     "data": {
      "text/plain": [
       "array([[0, 0, 0, 0],\n",
       "       [0, 1, 2, 3],\n",
       "       [0, 2, 4, 6]])"
      ]
     },
     "execution_count": 64,
     "metadata": {},
     "output_type": "execute_result"
    }
   ],
   "source": [
    "a = np.arange(3).reshape(3,1)\n",
    "b = np.arange(4).reshape(1,4)\n",
    "\n",
    "a@b"
   ]
  },
  {
   "cell_type": "code",
   "execution_count": 71,
   "id": "ec0c16c2",
   "metadata": {
    "scrolled": true
   },
   "outputs": [
    {
     "data": {
      "text/plain": [
       "array([[[ 0.   ,  0.715, -3.091, -0.025]],\n",
       "\n",
       "       [[ 0.   , -0.72 ,  0.531,  0.326]],\n",
       "\n",
       "       [[ 0.   , -0.175,  0.866,  3.609]]])"
      ]
     },
     "execution_count": 71,
     "metadata": {},
     "output_type": "execute_result"
    }
   ],
   "source": [
    "a[:,np.newaxis] * b[np.newaxis,:]"
   ]
  },
  {
   "cell_type": "markdown",
   "id": "24ba4b1e",
   "metadata": {},
   "source": [
    "# Subplots"
   ]
  },
  {
   "cell_type": "code",
   "execution_count": 82,
   "id": "48e03b87",
   "metadata": {},
   "outputs": [
    {
     "data": {
      "text/plain": [
       "[<matplotlib.lines.Line2D at 0x292312a87f0>]"
      ]
     },
     "execution_count": 82,
     "metadata": {},
     "output_type": "execute_result"
    },
    {
     "data": {
      "image/png": "[encoded data removed]",
      "text/plain": [
       "<Figure size 648x216 with 3 Axes>"
      ]
     },
     "metadata": {
      "needs_background": "light"
     },
     "output_type": "display_data"
    }
   ],
   "source": [
    "x = np.linspace(0,1)\n",
    "\n",
    "fig, axes = plt.subplots(1,3, sharey=True, constrained_layout=True, figsize=(9,3))\n",
    "axes[0].plot(x**2)\n",
    "axes[1].plot(x**3)\n",
    "axes[2].plot(x**4)"
   ]
  },
  {
   "cell_type": "code",
   "execution_count": 81,
   "id": "b37798bd",
   "metadata": {},
   "outputs": [
    {
     "data": {
      "image/png": "[encoded data removed]",
      "text/plain": [
       "<Figure size 648x216 with 3 Axes>"
      ]
     },
     "metadata": {
      "needs_background": "light"
     },
     "output_type": "display_data"
    }
   ],
   "source": [
    "x = np.linspace(0,1)\n",
    "\n",
    "fix, axes = plt.subplots(1,3, sharey=True, constrained_layout=True, figsize=(9,3))\n",
    "\n",
    "powers = [1,2,3]\n",
    "for power, ax in zip(powers,axes):\n",
    "    ax.plot(x**power)"
   ]
  }
 ],
 "metadata": {
  "kernelspec": {
   "display_name": "Python 3 (ipykernel)",
   "language": "python",
   "name": "python3"
  },
  "language_info": {
   "codemirror_mode": {
    "name": "ipython",
    "version": 3
   },
   "file_extension": ".py",
   "mimetype": "text/x-python",
   "name": "python",
   "nbconvert_exporter": "python",
   "pygments_lexer": "ipython3",
   "version": "3.9.12"
  }
 },
 "nbformat": 4,
 "nbformat_minor": 5
}
