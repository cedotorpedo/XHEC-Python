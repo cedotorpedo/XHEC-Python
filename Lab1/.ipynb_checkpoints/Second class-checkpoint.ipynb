{
 "cells": [
  {
   "cell_type": "code",
   "execution_count": 3,
   "id": "06b65e44",
   "metadata": {},
   "outputs": [],
   "source": [
    "from os import path\n",
    "import pandas as pd\n",
    "import urllib\n",
    "import zipfile\n",
    "import sys\n",
    "import matplotlib.pyplot as plt"
   ]
  },
  {
   "cell_type": "code",
   "execution_count": 2,
   "id": "9bb76876",
   "metadata": {},
   "outputs": [],
   "source": [
    "oceania = pd.read_csv(\n",
    "    \"gapminder_gdp_oceania.csv\",sep = \",\" ,comment = \"#\",\n",
    "    index_col=\"country\")"
   ]
  },
  {
   "cell_type": "code",
   "execution_count": 5,
   "id": "fd1d3681",
   "metadata": {},
   "outputs": [
    {
     "data": {
      "text/plain": [
       "<AxesSubplot:xlabel='Australia', ylabel='New Zealand'>"
      ]
     },
     "execution_count": 5,
     "metadata": {},
     "output_type": "execute_result"
    },
    {
     "data": {
      "image/png": "[encoded data removed]",
      "text/plain": [
       "<Figure size 432x288 with 1 Axes>"
      ]
     },
     "metadata": {
      "needs_background": "light"
     },
     "output_type": "display_data"
    }
   ],
   "source": [
    "oceania.T.plot.scatter(x=\"Australia\",y=\"New Zealand\")"
   ]
  },
  {
   "cell_type": "code",
   "execution_count": 6,
   "id": "04342b5a",
   "metadata": {},
   "outputs": [],
   "source": [
    "all = pd.read_csv(\n",
    "    \"gapminder_all.csv\",sep = \",\" ,comment = \"#\",\n",
    "    index_col=\"country\")"
   ]
  },
  {
   "cell_type": "code",
   "execution_count": 7,
   "id": "9e2167df",
   "metadata": {
    "scrolled": true
   },
   "outputs": [
    {
     "data": {
      "text/html": [
       "<div>\n",
       "<style scoped>\n",
       "    .dataframe tbody tr th:only-of-type {\n",
       "        vertical-align: middle;\n",
       "    }\n",
       "\n",
       "    .dataframe tbody tr th {\n",
       "        vertical-align: top;\n",
       "    }\n",
       "\n",
       "    .dataframe thead th {\n",
       "        text-align: right;\n",
       "    }\n",
       "</style>\n",
       "<table border=\"1\" class=\"dataframe\">\n",
       "  <thead>\n",
       "    <tr style=\"text-align: right;\">\n",
       "      <th></th>\n",
       "      <th>continent</th>\n",
       "      <th>gdpPercap_1952</th>\n",
       "      <th>gdpPercap_1957</th>\n",
       "      <th>gdpPercap_1962</th>\n",
       "      <th>gdpPercap_1967</th>\n",
       "      <th>gdpPercap_1972</th>\n",
       "      <th>gdpPercap_1977</th>\n",
       "      <th>gdpPercap_1982</th>\n",
       "      <th>gdpPercap_1987</th>\n",
       "      <th>gdpPercap_1992</th>\n",
       "      <th>...</th>\n",
       "      <th>pop_1962</th>\n",
       "      <th>pop_1967</th>\n",
       "      <th>pop_1972</th>\n",
       "      <th>pop_1977</th>\n",
       "      <th>pop_1982</th>\n",
       "      <th>pop_1987</th>\n",
       "      <th>pop_1992</th>\n",
       "      <th>pop_1997</th>\n",
       "      <th>pop_2002</th>\n",
       "      <th>pop_2007</th>\n",
       "    </tr>\n",
       "    <tr>\n",
       "      <th>country</th>\n",
       "      <th></th>\n",
       "      <th></th>\n",
       "      <th></th>\n",
       "      <th></th>\n",
       "      <th></th>\n",
       "      <th></th>\n",
       "      <th></th>\n",
       "      <th></th>\n",
       "      <th></th>\n",
       "      <th></th>\n",
       "      <th></th>\n",
       "      <th></th>\n",
       "      <th></th>\n",
       "      <th></th>\n",
       "      <th></th>\n",
       "      <th></th>\n",
       "      <th></th>\n",
       "      <th></th>\n",
       "      <th></th>\n",
       "      <th></th>\n",
       "      <th></th>\n",
       "    </tr>\n",
       "  </thead>\n",
       "  <tbody>\n",
       "    <tr>\n",
       "      <th>Algeria</th>\n",
       "      <td>Africa</td>\n",
       "      <td>2449.008185</td>\n",
       "      <td>3013.976023</td>\n",
       "      <td>2550.816880</td>\n",
       "      <td>3246.991771</td>\n",
       "      <td>4182.663766</td>\n",
       "      <td>4910.416756</td>\n",
       "      <td>5745.160213</td>\n",
       "      <td>5681.358539</td>\n",
       "      <td>5023.216647</td>\n",
       "      <td>...</td>\n",
       "      <td>11000948.0</td>\n",
       "      <td>12760499.0</td>\n",
       "      <td>14760787.0</td>\n",
       "      <td>17152804.0</td>\n",
       "      <td>20033753.0</td>\n",
       "      <td>23254956.0</td>\n",
       "      <td>26298373.0</td>\n",
       "      <td>29072015.0</td>\n",
       "      <td>31287142</td>\n",
       "      <td>33333216</td>\n",
       "    </tr>\n",
       "    <tr>\n",
       "      <th>Angola</th>\n",
       "      <td>Africa</td>\n",
       "      <td>3520.610273</td>\n",
       "      <td>3827.940465</td>\n",
       "      <td>4269.276742</td>\n",
       "      <td>5522.776375</td>\n",
       "      <td>5473.288005</td>\n",
       "      <td>3008.647355</td>\n",
       "      <td>2756.953672</td>\n",
       "      <td>2430.208311</td>\n",
       "      <td>2627.845685</td>\n",
       "      <td>...</td>\n",
       "      <td>4826015.0</td>\n",
       "      <td>5247469.0</td>\n",
       "      <td>5894858.0</td>\n",
       "      <td>6162675.0</td>\n",
       "      <td>7016384.0</td>\n",
       "      <td>7874230.0</td>\n",
       "      <td>8735988.0</td>\n",
       "      <td>9875024.0</td>\n",
       "      <td>10866106</td>\n",
       "      <td>12420476</td>\n",
       "    </tr>\n",
       "    <tr>\n",
       "      <th>Benin</th>\n",
       "      <td>Africa</td>\n",
       "      <td>1062.752200</td>\n",
       "      <td>959.601080</td>\n",
       "      <td>949.499064</td>\n",
       "      <td>1035.831411</td>\n",
       "      <td>1085.796879</td>\n",
       "      <td>1029.161251</td>\n",
       "      <td>1277.897616</td>\n",
       "      <td>1225.856010</td>\n",
       "      <td>1191.207681</td>\n",
       "      <td>...</td>\n",
       "      <td>2151895.0</td>\n",
       "      <td>2427334.0</td>\n",
       "      <td>2761407.0</td>\n",
       "      <td>3168267.0</td>\n",
       "      <td>3641603.0</td>\n",
       "      <td>4243788.0</td>\n",
       "      <td>4981671.0</td>\n",
       "      <td>6066080.0</td>\n",
       "      <td>7026113</td>\n",
       "      <td>8078314</td>\n",
       "    </tr>\n",
       "    <tr>\n",
       "      <th>Botswana</th>\n",
       "      <td>Africa</td>\n",
       "      <td>851.241141</td>\n",
       "      <td>918.232535</td>\n",
       "      <td>983.653976</td>\n",
       "      <td>1214.709294</td>\n",
       "      <td>2263.611114</td>\n",
       "      <td>3214.857818</td>\n",
       "      <td>4551.142150</td>\n",
       "      <td>6205.883850</td>\n",
       "      <td>7954.111645</td>\n",
       "      <td>...</td>\n",
       "      <td>512764.0</td>\n",
       "      <td>553541.0</td>\n",
       "      <td>619351.0</td>\n",
       "      <td>781472.0</td>\n",
       "      <td>970347.0</td>\n",
       "      <td>1151184.0</td>\n",
       "      <td>1342614.0</td>\n",
       "      <td>1536536.0</td>\n",
       "      <td>1630347</td>\n",
       "      <td>1639131</td>\n",
       "    </tr>\n",
       "    <tr>\n",
       "      <th>Burkina Faso</th>\n",
       "      <td>Africa</td>\n",
       "      <td>543.255241</td>\n",
       "      <td>617.183465</td>\n",
       "      <td>722.512021</td>\n",
       "      <td>794.826560</td>\n",
       "      <td>854.735976</td>\n",
       "      <td>743.387037</td>\n",
       "      <td>807.198586</td>\n",
       "      <td>912.063142</td>\n",
       "      <td>931.752773</td>\n",
       "      <td>...</td>\n",
       "      <td>4919632.0</td>\n",
       "      <td>5127935.0</td>\n",
       "      <td>5433886.0</td>\n",
       "      <td>5889574.0</td>\n",
       "      <td>6634596.0</td>\n",
       "      <td>7586551.0</td>\n",
       "      <td>8878303.0</td>\n",
       "      <td>10352843.0</td>\n",
       "      <td>12251209</td>\n",
       "      <td>14326203</td>\n",
       "    </tr>\n",
       "    <tr>\n",
       "      <th>...</th>\n",
       "      <td>...</td>\n",
       "      <td>...</td>\n",
       "      <td>...</td>\n",
       "      <td>...</td>\n",
       "      <td>...</td>\n",
       "      <td>...</td>\n",
       "      <td>...</td>\n",
       "      <td>...</td>\n",
       "      <td>...</td>\n",
       "      <td>...</td>\n",
       "      <td>...</td>\n",
       "      <td>...</td>\n",
       "      <td>...</td>\n",
       "      <td>...</td>\n",
       "      <td>...</td>\n",
       "      <td>...</td>\n",
       "      <td>...</td>\n",
       "      <td>...</td>\n",
       "      <td>...</td>\n",
       "      <td>...</td>\n",
       "      <td>...</td>\n",
       "    </tr>\n",
       "    <tr>\n",
       "      <th>Switzerland</th>\n",
       "      <td>Europe</td>\n",
       "      <td>14734.232750</td>\n",
       "      <td>17909.489730</td>\n",
       "      <td>20431.092700</td>\n",
       "      <td>22966.144320</td>\n",
       "      <td>27195.113040</td>\n",
       "      <td>26982.290520</td>\n",
       "      <td>28397.715120</td>\n",
       "      <td>30281.704590</td>\n",
       "      <td>31871.530300</td>\n",
       "      <td>...</td>\n",
       "      <td>5666000.0</td>\n",
       "      <td>6063000.0</td>\n",
       "      <td>6401400.0</td>\n",
       "      <td>6316424.0</td>\n",
       "      <td>6468126.0</td>\n",
       "      <td>6649942.0</td>\n",
       "      <td>6995447.0</td>\n",
       "      <td>7193761.0</td>\n",
       "      <td>7361757</td>\n",
       "      <td>7554661</td>\n",
       "    </tr>\n",
       "    <tr>\n",
       "      <th>Turkey</th>\n",
       "      <td>Europe</td>\n",
       "      <td>1969.100980</td>\n",
       "      <td>2218.754257</td>\n",
       "      <td>2322.869908</td>\n",
       "      <td>2826.356387</td>\n",
       "      <td>3450.696380</td>\n",
       "      <td>4269.122326</td>\n",
       "      <td>4241.356344</td>\n",
       "      <td>5089.043686</td>\n",
       "      <td>5678.348271</td>\n",
       "      <td>...</td>\n",
       "      <td>29788695.0</td>\n",
       "      <td>33411317.0</td>\n",
       "      <td>37492953.0</td>\n",
       "      <td>42404033.0</td>\n",
       "      <td>47328791.0</td>\n",
       "      <td>52881328.0</td>\n",
       "      <td>58179144.0</td>\n",
       "      <td>63047647.0</td>\n",
       "      <td>67308928</td>\n",
       "      <td>71158647</td>\n",
       "    </tr>\n",
       "    <tr>\n",
       "      <th>United Kingdom</th>\n",
       "      <td>Europe</td>\n",
       "      <td>9979.508487</td>\n",
       "      <td>11283.177950</td>\n",
       "      <td>12477.177070</td>\n",
       "      <td>14142.850890</td>\n",
       "      <td>15895.116410</td>\n",
       "      <td>17428.748460</td>\n",
       "      <td>18232.424520</td>\n",
       "      <td>21664.787670</td>\n",
       "      <td>22705.092540</td>\n",
       "      <td>...</td>\n",
       "      <td>53292000.0</td>\n",
       "      <td>54959000.0</td>\n",
       "      <td>56079000.0</td>\n",
       "      <td>56179000.0</td>\n",
       "      <td>56339704.0</td>\n",
       "      <td>56981620.0</td>\n",
       "      <td>57866349.0</td>\n",
       "      <td>58808266.0</td>\n",
       "      <td>59912431</td>\n",
       "      <td>60776238</td>\n",
       "    </tr>\n",
       "    <tr>\n",
       "      <th>Australia</th>\n",
       "      <td>Oceania</td>\n",
       "      <td>10039.595640</td>\n",
       "      <td>10949.649590</td>\n",
       "      <td>12217.226860</td>\n",
       "      <td>14526.124650</td>\n",
       "      <td>16788.629480</td>\n",
       "      <td>18334.197510</td>\n",
       "      <td>19477.009280</td>\n",
       "      <td>21888.889030</td>\n",
       "      <td>23424.766830</td>\n",
       "      <td>...</td>\n",
       "      <td>10794968.0</td>\n",
       "      <td>11872264.0</td>\n",
       "      <td>13177000.0</td>\n",
       "      <td>14074100.0</td>\n",
       "      <td>15184200.0</td>\n",
       "      <td>16257249.0</td>\n",
       "      <td>17481977.0</td>\n",
       "      <td>18565243.0</td>\n",
       "      <td>19546792</td>\n",
       "      <td>20434176</td>\n",
       "    </tr>\n",
       "    <tr>\n",
       "      <th>New Zealand</th>\n",
       "      <td>Oceania</td>\n",
       "      <td>10556.575660</td>\n",
       "      <td>12247.395320</td>\n",
       "      <td>13175.678000</td>\n",
       "      <td>14463.918930</td>\n",
       "      <td>16046.037280</td>\n",
       "      <td>16233.717700</td>\n",
       "      <td>17632.410400</td>\n",
       "      <td>19007.191290</td>\n",
       "      <td>18363.324940</td>\n",
       "      <td>...</td>\n",
       "      <td>2488550.0</td>\n",
       "      <td>2728150.0</td>\n",
       "      <td>2929100.0</td>\n",
       "      <td>3164900.0</td>\n",
       "      <td>3210650.0</td>\n",
       "      <td>3317166.0</td>\n",
       "      <td>3437674.0</td>\n",
       "      <td>3676187.0</td>\n",
       "      <td>3908037</td>\n",
       "      <td>4115771</td>\n",
       "    </tr>\n",
       "  </tbody>\n",
       "</table>\n",
       "<p>142 rows × 37 columns</p>\n",
       "</div>"
      ],
      "text/plain": [
       "               continent  gdpPercap_1952  gdpPercap_1957  gdpPercap_1962  \\\n",
       "country                                                                    \n",
       "Algeria           Africa     2449.008185     3013.976023     2550.816880   \n",
       "Angola            Africa     3520.610273     3827.940465     4269.276742   \n",
       "Benin             Africa     1062.752200      959.601080      949.499064   \n",
       "Botswana          Africa      851.241141      918.232535      983.653976   \n",
       "Burkina Faso      Africa      543.255241      617.183465      722.512021   \n",
       "...                  ...             ...             ...             ...   \n",
       "Switzerland       Europe    14734.232750    17909.489730    20431.092700   \n",
       "Turkey            Europe     1969.100980     2218.754257     2322.869908   \n",
       "United Kingdom    Europe     9979.508487    11283.177950    12477.177070   \n",
       "Australia        Oceania    10039.595640    10949.649590    12217.226860   \n",
       "New Zealand      Oceania    10556.575660    12247.395320    13175.678000   \n",
       "\n",
       "                gdpPercap_1967  gdpPercap_1972  gdpPercap_1977  \\\n",
       "country                                                          \n",
       "Algeria            3246.991771     4182.663766     4910.416756   \n",
       "Angola             5522.776375     5473.288005     3008.647355   \n",
       "Benin              1035.831411     1085.796879     1029.161251   \n",
       "Botswana           1214.709294     2263.611114     3214.857818   \n",
       "Burkina Faso        794.826560      854.735976      743.387037   \n",
       "...                        ...             ...             ...   \n",
       "Switzerland       22966.144320    27195.113040    26982.290520   \n",
       "Turkey             2826.356387     3450.696380     4269.122326   \n",
       "United Kingdom    14142.850890    15895.116410    17428.748460   \n",
       "Australia         14526.124650    16788.629480    18334.197510   \n",
       "New Zealand       14463.918930    16046.037280    16233.717700   \n",
       "\n",
       "                gdpPercap_1982  gdpPercap_1987  gdpPercap_1992  ...  \\\n",
       "country                                                         ...   \n",
       "Algeria            5745.160213     5681.358539     5023.216647  ...   \n",
       "Angola             2756.953672     2430.208311     2627.845685  ...   \n",
       "Benin              1277.897616     1225.856010     1191.207681  ...   \n",
       "Botswana           4551.142150     6205.883850     7954.111645  ...   \n",
       "Burkina Faso        807.198586      912.063142      931.752773  ...   \n",
       "...                        ...             ...             ...  ...   \n",
       "Switzerland       28397.715120    30281.704590    31871.530300  ...   \n",
       "Turkey             4241.356344     5089.043686     5678.348271  ...   \n",
       "United Kingdom    18232.424520    21664.787670    22705.092540  ...   \n",
       "Australia         19477.009280    21888.889030    23424.766830  ...   \n",
       "New Zealand       17632.410400    19007.191290    18363.324940  ...   \n",
       "\n",
       "                  pop_1962    pop_1967    pop_1972    pop_1977    pop_1982  \\\n",
       "country                                                                      \n",
       "Algeria         11000948.0  12760499.0  14760787.0  17152804.0  20033753.0   \n",
       "Angola           4826015.0   5247469.0   5894858.0   6162675.0   7016384.0   \n",
       "Benin            2151895.0   2427334.0   2761407.0   3168267.0   3641603.0   \n",
       "Botswana          512764.0    553541.0    619351.0    781472.0    970347.0   \n",
       "Burkina Faso     4919632.0   5127935.0   5433886.0   5889574.0   6634596.0   \n",
       "...                    ...         ...         ...         ...         ...   \n",
       "Switzerland      5666000.0   6063000.0   6401400.0   6316424.0   6468126.0   \n",
       "Turkey          29788695.0  33411317.0  37492953.0  42404033.0  47328791.0   \n",
       "United Kingdom  53292000.0  54959000.0  56079000.0  56179000.0  56339704.0   \n",
       "Australia       10794968.0  11872264.0  13177000.0  14074100.0  15184200.0   \n",
       "New Zealand      2488550.0   2728150.0   2929100.0   3164900.0   3210650.0   \n",
       "\n",
       "                  pop_1987    pop_1992    pop_1997  pop_2002  pop_2007  \n",
       "country                                                                 \n",
       "Algeria         23254956.0  26298373.0  29072015.0  31287142  33333216  \n",
       "Angola           7874230.0   8735988.0   9875024.0  10866106  12420476  \n",
       "Benin            4243788.0   4981671.0   6066080.0   7026113   8078314  \n",
       "Botswana         1151184.0   1342614.0   1536536.0   1630347   1639131  \n",
       "Burkina Faso     7586551.0   8878303.0  10352843.0  12251209  14326203  \n",
       "...                    ...         ...         ...       ...       ...  \n",
       "Switzerland      6649942.0   6995447.0   7193761.0   7361757   7554661  \n",
       "Turkey          52881328.0  58179144.0  63047647.0  67308928  71158647  \n",
       "United Kingdom  56981620.0  57866349.0  58808266.0  59912431  60776238  \n",
       "Australia       16257249.0  17481977.0  18565243.0  19546792  20434176  \n",
       "New Zealand      3317166.0   3437674.0   3676187.0   3908037   4115771  \n",
       "\n",
       "[142 rows x 37 columns]"
      ]
     },
     "execution_count": 7,
     "metadata": {},
     "output_type": "execute_result"
    }
   ],
   "source": [
    "all"
   ]
  },
  {
   "cell_type": "code",
   "execution_count": 9,
   "id": "e0511c8c",
   "metadata": {},
   "outputs": [
    {
     "data": {
      "text/plain": [
       "Index(['continent', 'gdpPercap_1952', 'gdpPercap_1957', 'gdpPercap_1962',\n",
       "       'gdpPercap_1967', 'gdpPercap_1972', 'gdpPercap_1977', 'gdpPercap_1982',\n",
       "       'gdpPercap_1987', 'gdpPercap_1992', 'gdpPercap_1997', 'gdpPercap_2002',\n",
       "       'gdpPercap_2007', 'lifeExp_1952', 'lifeExp_1957', 'lifeExp_1962',\n",
       "       'lifeExp_1967', 'lifeExp_1972', 'lifeExp_1977', 'lifeExp_1982',\n",
       "       'lifeExp_1987', 'lifeExp_1992', 'lifeExp_1997', 'lifeExp_2002',\n",
       "       'lifeExp_2007', 'pop_1952', 'pop_1957', 'pop_1962', 'pop_1967',\n",
       "       'pop_1972', 'pop_1977', 'pop_1982', 'pop_1987', 'pop_1992', 'pop_1997',\n",
       "       'pop_2002', 'pop_2007'],\n",
       "      dtype='object')"
      ]
     },
     "execution_count": 9,
     "metadata": {},
     "output_type": "execute_result"
    }
   ],
   "source": [
    "all.columns"
   ]
  },
  {
   "cell_type": "code",
   "execution_count": 13,
   "id": "4b6176c2",
   "metadata": {
    "scrolled": true
   },
   "outputs": [
    {
     "data": {
      "text/plain": [
       "<AxesSubplot:xlabel='lifeExp_2007', ylabel='gdpPercap_2007'>"
      ]
     },
     "execution_count": 13,
     "metadata": {},
     "output_type": "execute_result"
    },
    {
     "data": {
      "image/png": "[encoded data removed]",
      "text/plain": [
       "<Figure size 432x288 with 1 Axes>"
      ]
     },
     "metadata": {
      "needs_background": "light"
     },
     "output_type": "display_data"
    }
   ],
   "source": [
    "all.plot(kind=\"scatter\",y=\"gdpPercap_2007\",x=\"lifeExp_2007\",s=all[\"pop_2007\"]/1e6)"
   ]
  },
  {
   "cell_type": "code",
   "execution_count": 14,
   "id": "b6aabd21",
   "metadata": {
    "scrolled": true
   },
   "outputs": [
    {
     "ename": "SyntaxError",
     "evalue": "invalid syntax (378587245.py, line 1)",
     "output_type": "error",
     "traceback": [
      "\u001b[1;36m  Input \u001b[1;32mIn [14]\u001b[1;36m\u001b[0m\n\u001b[1;33m    my_list = [start:end:step]\u001b[0m\n\u001b[1;37m                    ^\u001b[0m\n\u001b[1;31mSyntaxError\u001b[0m\u001b[1;31m:\u001b[0m invalid syntax\n"
     ]
    }
   ],
   "source": [
    "my_list = [start:end:step]"
   ]
  },
  {
   "cell_type": "code",
   "execution_count": 16,
   "id": "babe8252",
   "metadata": {},
   "outputs": [
    {
     "name": "stdout",
     "output_type": "stream",
     "text": [
      "None\n"
     ]
    }
   ],
   "source": [
    "list = [1,2,3]\n"
   ]
  },
  {
   "cell_type": "code",
   "execution_count": 20,
   "id": "be20e008",
   "metadata": {},
   "outputs": [
    {
     "name": "stdout",
     "output_type": "stream",
     "text": [
      "[1, 2, 3, 3, 4, 0]\n"
     ]
    }
   ],
   "source": [
    "my_list = [[1,2,3],[3,4],[0]]\n",
    "flat_list = []\n",
    "for i in my_list:\n",
    "    for j in i:\n",
    "        flat_list.append(j)\n",
    "print(flat_list)"
   ]
  },
  {
   "cell_type": "code",
   "execution_count": 22,
   "id": "a0d17e83",
   "metadata": {},
   "outputs": [
    {
     "data": {
      "text/plain": [
       "[0, 4, 16, 36, 64]"
      ]
     },
     "execution_count": 22,
     "metadata": {},
     "output_type": "execute_result"
    }
   ],
   "source": [
    "## list comprehension\n",
    "[i**2 for i in range(10) if i % 2 == 0]"
   ]
  },
  {
   "cell_type": "code",
   "execution_count": 24,
   "id": "f4d28924",
   "metadata": {},
   "outputs": [
    {
     "data": {
      "text/plain": [
       "[1, 4, 9, 9, 16, 0]"
      ]
     },
     "execution_count": 24,
     "metadata": {},
     "output_type": "execute_result"
    }
   ],
   "source": [
    "my_list = [[1,2,3],[3,4],[0]]\n",
    "[item**2 for small_list in my_list for item in small_list]"
   ]
  },
  {
   "cell_type": "code",
   "execution_count": 26,
   "id": "f021d06e",
   "metadata": {},
   "outputs": [],
   "source": [
    "import numpy as np"
   ]
  },
  {
   "cell_type": "code",
   "execution_count": 28,
   "id": "b8867315",
   "metadata": {},
   "outputs": [
    {
     "ename": "ValueError",
     "evalue": "too many values to unpack (expected 2)",
     "output_type": "error",
     "traceback": [
      "\u001b[1;31m---------------------------------------------------------------------------\u001b[0m",
      "\u001b[1;31mValueError\u001b[0m                                Traceback (most recent call last)",
      "Input \u001b[1;32mIn [28]\u001b[0m, in \u001b[0;36m<cell line: 4>\u001b[1;34m()\u001b[0m\n\u001b[0;32m      2\u001b[0m num \u001b[38;5;241m=\u001b[39m np\u001b[38;5;241m.\u001b[39marange(\u001b[38;5;28mlen\u001b[39m(name))\n\u001b[0;32m      3\u001b[0m \u001b[38;5;28mdict\u001b[39m \u001b[38;5;241m=\u001b[39m {}\n\u001b[1;32m----> 4\u001b[0m \u001b[38;5;28;01mfor\u001b[39;00m i,j \u001b[38;5;129;01min\u001b[39;00m name,num:\n\u001b[0;32m      5\u001b[0m     dict_temp \u001b[38;5;241m=\u001b[39m {num : let}\n\u001b[0;32m      6\u001b[0m     \u001b[38;5;28mdict\u001b[39m \u001b[38;5;241m=\u001b[39m {\u001b[38;5;241m*\u001b[39m\u001b[38;5;241m*\u001b[39m\u001b[38;5;28mdict\u001b[39m, \u001b[38;5;241m*\u001b[39m\u001b[38;5;241m*\u001b[39mdict_temp}\n",
      "\u001b[1;31mValueError\u001b[0m: too many values to unpack (expected 2)"
     ]
    }
   ],
   "source": [
    "name = \"Mathurin\"\n",
    "num = np.arange(len(name))\n",
    "dict = {}\n",
    "for i,j in name,num:\n",
    "    dict_temp = {num : let}\n",
    "    dict = {**dict, **dict_temp}"
   ]
  },
  {
   "cell_type": "code",
   "execution_count": 29,
   "id": "28aa9eee",
   "metadata": {},
   "outputs": [
    {
     "name": "stdout",
     "output_type": "stream",
     "text": [
      "0,M\n",
      "1,a\n",
      "2,t\n",
      "3,h\n",
      "4,u\n",
      "5,r\n",
      "6,i\n",
      "7,n\n"
     ]
    }
   ],
   "source": [
    "for idx in range(len(name)):\n",
    "    print(f\"{idx},{name[idx]}\")"
   ]
  },
  {
   "cell_type": "code",
   "execution_count": 34,
   "id": "a70f416e",
   "metadata": {},
   "outputs": [
    {
     "name": "stdout",
     "output_type": "stream",
     "text": [
      "0 M\n",
      "1 a\n",
      "2 t\n",
      "3 h\n",
      "4 u\n",
      "5 r\n",
      "6 i\n",
      "7 n\n"
     ]
    }
   ],
   "source": [
    "for idx,char in enumerate(name):\n",
    "    print(idx,char)"
   ]
  },
  {
   "cell_type": "markdown",
   "id": "776ac60d",
   "metadata": {},
   "source": [
    "### Classes"
   ]
  },
  {
   "cell_type": "code",
   "execution_count": 40,
   "id": "2939c6c7",
   "metadata": {},
   "outputs": [],
   "source": [
    "class People: ## People Object\n",
    "    # init is a special method, starting and ending with two underscores\n",
    "    def __init__(self, name, age):\n",
    "        self.name = name\n",
    "        self.age = age\n",
    "        self.n_calls = 0\n",
    "        \n",
    "    ### the first argument is (for now) always \"self\"\n",
    "    def introduce(self): #just a single argument\n",
    "        print(f\"Hello, I'm {self.name} and I'm {self.age} years old.\")\n",
    "        self.n_calls += 1\n",
    "        print(f\"this method has been called {self.n_calls} times\")"
   ]
  },
  {
   "cell_type": "code",
   "execution_count": 47,
   "id": "6e810b4f",
   "metadata": {},
   "outputs": [
    {
     "name": "stdout",
     "output_type": "stream",
     "text": [
      "Hello\n"
     ]
    }
   ],
   "source": [
    "class CallablePeople: ## People Object\n",
    "    # init is a special method, starting and ending with two underscores\n",
    "    def __init__(self, name, age):\n",
    "        self.name = name\n",
    "        self.age = age\n",
    "    \n",
    "    def __call__(self):\n",
    "        print(\"Hello\")\n",
    "\n",
    "callable_sylvain = CallablePeople(\"Sylvain\",26)\n",
    "callable_sylvain()"
   ]
  },
  {
   "cell_type": "code",
   "execution_count": 41,
   "id": "f17c0c9a",
   "metadata": {},
   "outputs": [],
   "source": [
    "sylvain = People(\"Sylvain\",26)"
   ]
  },
  {
   "cell_type": "code",
   "execution_count": 42,
   "id": "4b8591b8",
   "metadata": {},
   "outputs": [
    {
     "name": "stdout",
     "output_type": "stream",
     "text": [
      "Sylvain 26\n"
     ]
    }
   ],
   "source": [
    "print(sylvain.name, sylvain.age)"
   ]
  },
  {
   "cell_type": "code",
   "execution_count": 44,
   "id": "9613770e",
   "metadata": {
    "scrolled": true
   },
   "outputs": [
    {
     "name": "stdout",
     "output_type": "stream",
     "text": [
      "Hello, I'm Sylvain and I'm 26 years old.\n",
      "this method has been called 1 times\n"
     ]
    }
   ],
   "source": [
    "sylvain.introduce()"
   ]
  },
  {
   "cell_type": "code",
   "execution_count": 45,
   "id": "8e18e472",
   "metadata": {},
   "outputs": [],
   "source": [
    "string = 'bububbu'"
   ]
  },
  {
   "cell_type": "code",
   "execution_count": 46,
   "id": "bf7e320c",
   "metadata": {
    "scrolled": false
   },
   "outputs": [
    {
     "data": {
      "text/plain": [
       "['__add__',\n",
       " '__class__',\n",
       " '__contains__',\n",
       " '__delattr__',\n",
       " '__dir__',\n",
       " '__doc__',\n",
       " '__eq__',\n",
       " '__format__',\n",
       " '__ge__',\n",
       " '__getattribute__',\n",
       " '__getitem__',\n",
       " '__getnewargs__',\n",
       " '__gt__',\n",
       " '__hash__',\n",
       " '__init__',\n",
       " '__init_subclass__',\n",
       " '__iter__',\n",
       " '__le__',\n",
       " '__len__',\n",
       " '__lt__',\n",
       " '__mod__',\n",
       " '__mul__',\n",
       " '__ne__',\n",
       " '__new__',\n",
       " '__reduce__',\n",
       " '__reduce_ex__',\n",
       " '__repr__',\n",
       " '__rmod__',\n",
       " '__rmul__',\n",
       " '__setattr__',\n",
       " '__sizeof__',\n",
       " '__str__',\n",
       " '__subclasshook__',\n",
       " 'capitalize',\n",
       " 'casefold',\n",
       " 'center',\n",
       " 'count',\n",
       " 'encode',\n",
       " 'endswith',\n",
       " 'expandtabs',\n",
       " 'find',\n",
       " 'format',\n",
       " 'format_map',\n",
       " 'index',\n",
       " 'isalnum',\n",
       " 'isalpha',\n",
       " 'isascii',\n",
       " 'isdecimal',\n",
       " 'isdigit',\n",
       " 'isidentifier',\n",
       " 'islower',\n",
       " 'isnumeric',\n",
       " 'isprintable',\n",
       " 'isspace',\n",
       " 'istitle',\n",
       " 'isupper',\n",
       " 'join',\n",
       " 'ljust',\n",
       " 'lower',\n",
       " 'lstrip',\n",
       " 'maketrans',\n",
       " 'partition',\n",
       " 'removeprefix',\n",
       " 'removesuffix',\n",
       " 'replace',\n",
       " 'rfind',\n",
       " 'rindex',\n",
       " 'rjust',\n",
       " 'rpartition',\n",
       " 'rsplit',\n",
       " 'rstrip',\n",
       " 'split',\n",
       " 'splitlines',\n",
       " 'startswith',\n",
       " 'strip',\n",
       " 'swapcase',\n",
       " 'title',\n",
       " 'translate',\n",
       " 'upper',\n",
       " 'zfill']"
      ]
     },
     "execution_count": 46,
     "metadata": {},
     "output_type": "execute_result"
    }
   ],
   "source": [
    "dir(string)"
   ]
  },
  {
   "cell_type": "code",
   "execution_count": 48,
   "id": "f61ac1d9",
   "metadata": {
    "scrolled": true
   },
   "outputs": [
    {
     "data": {
      "text/plain": [
       "<__main__.People at 0x20c5936f550>"
      ]
     },
     "execution_count": 48,
     "metadata": {},
     "output_type": "execute_result"
    }
   ],
   "source": [
    "sylvain"
   ]
  },
  {
   "cell_type": "code",
   "execution_count": 50,
   "id": "f77ea551",
   "metadata": {},
   "outputs": [
    {
     "data": {
      "text/plain": [
       "10"
      ]
     },
     "execution_count": 50,
     "metadata": {},
     "output_type": "execute_result"
    }
   ],
   "source": [
    "#defaultdict\n",
    "\n",
    "from collections import defaultdict\n",
    "\n",
    "def creator():\n",
    "    return 10\n",
    "\n",
    "my_default = defaultdict(creator) #creator is a function\n",
    "#that returns the value inserted the dict is tested for a missing key\n",
    "\n",
    "my_default[\"yo mama\"]"
   ]
  },
  {
   "cell_type": "code",
   "execution_count": 52,
   "id": "ee0d2793",
   "metadata": {},
   "outputs": [
    {
     "data": {
      "text/plain": [
       "defaultdict(<function __main__.creator()>, {'yo mama': 10})"
      ]
     },
     "execution_count": 52,
     "metadata": {},
     "output_type": "execute_result"
    }
   ],
   "source": [
    "my_default"
   ]
  },
  {
   "cell_type": "code",
   "execution_count": 56,
   "id": "ff082c9b",
   "metadata": {
    "scrolled": true
   },
   "outputs": [
    {
     "name": "stdout",
     "output_type": "stream",
     "text": [
      "['a', 'a', 'a', 'a', 'a', 'a', 'a', 'a', 'a', 'a', 'a', 'a', 'a', 'a', 'b', 'b', 'b', 'b', 'b', 'b', 'b', 'b', 'b', 'b', 'b', 'b', 'a', 'a', 'a', 'a']\n",
      "{'a', 'b'}\n"
     ]
    }
   ],
   "source": [
    "some_string = 'aaaaaaaaaaaaaabbbbbbbbbbbbaaaa'\n",
    "print(list(some_string))\n",
    "print(set(some_string))"
   ]
  },
  {
   "cell_type": "code",
   "execution_count": 55,
   "id": "2b5c4540",
   "metadata": {},
   "outputs": [],
   "source": [
    "del list"
   ]
  }
 ],
 "metadata": {
  "kernelspec": {
   "display_name": "Python 3 (ipykernel)",
   "language": "python",
   "name": "python3"
  },
  "language_info": {
   "codemirror_mode": {
    "name": "ipython",
    "version": 3
   },
   "file_extension": ".py",
   "mimetype": "text/x-python",
   "name": "python",
   "nbconvert_exporter": "python",
   "pygments_lexer": "ipython3",
   "version": "3.9.12"
  }
 },
 "nbformat": 4,
 "nbformat_minor": 5
}
