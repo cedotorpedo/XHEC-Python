{
 "cells": [
  {
   "cell_type": "code",
   "execution_count": 63,
   "id": "dec82af3",
   "metadata": {},
   "outputs": [],
   "source": [
    "from os import path\n",
    "import pandas as pd\n",
    "import urllib\n",
    "import zipfile\n",
    "import sys\n",
    "\n",
    "url = u'https://archive.ics.uci.edu/ml/machine-learning-databases/00235/'\n",
    "filename = 'household_power_consumption'\n",
    "zipfilename = filename + '.zip'\n",
    "Location = url + zipfilename\n",
    "\n",
    "if not(path.isfile('zipfilename')):\n",
    "    urllib.request.urlretrieve(Location, zipfilename)\n",
    "\n",
    "zip = zipfile.ZipFile(zipfilename)\n",
    "zip.extractall()\n",
    "\n",
    "na_values = ['?', '']\n",
    "fields = ['Date', 'Time', 'Global_active_power']\n",
    "df = pd.read_csv(filename + '.txt', sep=';', nrows=200000,\n",
    "                 na_values=na_values, usecols=fields)"
   ]
  },
  {
   "cell_type": "code",
   "execution_count": 2,
   "id": "0b54d764",
   "metadata": {
    "scrolled": true
   },
   "outputs": [
    {
     "data": {
      "text/html": [
       "<div>\n",
       "<style scoped>\n",
       "    .dataframe tbody tr th:only-of-type {\n",
       "        vertical-align: middle;\n",
       "    }\n",
       "\n",
       "    .dataframe tbody tr th {\n",
       "        vertical-align: top;\n",
       "    }\n",
       "\n",
       "    .dataframe thead th {\n",
       "        text-align: right;\n",
       "    }\n",
       "</style>\n",
       "<table border=\"1\" class=\"dataframe\">\n",
       "  <thead>\n",
       "    <tr style=\"text-align: right;\">\n",
       "      <th></th>\n",
       "      <th>Date</th>\n",
       "      <th>Time</th>\n",
       "      <th>Global_active_power</th>\n",
       "    </tr>\n",
       "  </thead>\n",
       "  <tbody>\n",
       "    <tr>\n",
       "      <th>0</th>\n",
       "      <td>16/12/2006</td>\n",
       "      <td>17:24:00</td>\n",
       "      <td>4.216</td>\n",
       "    </tr>\n",
       "    <tr>\n",
       "      <th>1</th>\n",
       "      <td>16/12/2006</td>\n",
       "      <td>17:25:00</td>\n",
       "      <td>5.360</td>\n",
       "    </tr>\n",
       "    <tr>\n",
       "      <th>2</th>\n",
       "      <td>16/12/2006</td>\n",
       "      <td>17:26:00</td>\n",
       "      <td>5.374</td>\n",
       "    </tr>\n",
       "    <tr>\n",
       "      <th>3</th>\n",
       "      <td>16/12/2006</td>\n",
       "      <td>17:27:00</td>\n",
       "      <td>5.388</td>\n",
       "    </tr>\n",
       "    <tr>\n",
       "      <th>4</th>\n",
       "      <td>16/12/2006</td>\n",
       "      <td>17:28:00</td>\n",
       "      <td>3.666</td>\n",
       "    </tr>\n",
       "    <tr>\n",
       "      <th>...</th>\n",
       "      <td>...</td>\n",
       "      <td>...</td>\n",
       "      <td>...</td>\n",
       "    </tr>\n",
       "    <tr>\n",
       "      <th>199995</th>\n",
       "      <td>4/5/2007</td>\n",
       "      <td>14:39:00</td>\n",
       "      <td>0.348</td>\n",
       "    </tr>\n",
       "    <tr>\n",
       "      <th>199996</th>\n",
       "      <td>4/5/2007</td>\n",
       "      <td>14:40:00</td>\n",
       "      <td>0.344</td>\n",
       "    </tr>\n",
       "    <tr>\n",
       "      <th>199997</th>\n",
       "      <td>4/5/2007</td>\n",
       "      <td>14:41:00</td>\n",
       "      <td>0.342</td>\n",
       "    </tr>\n",
       "    <tr>\n",
       "      <th>199998</th>\n",
       "      <td>4/5/2007</td>\n",
       "      <td>14:42:00</td>\n",
       "      <td>0.340</td>\n",
       "    </tr>\n",
       "    <tr>\n",
       "      <th>199999</th>\n",
       "      <td>4/5/2007</td>\n",
       "      <td>14:43:00</td>\n",
       "      <td>0.370</td>\n",
       "    </tr>\n",
       "  </tbody>\n",
       "</table>\n",
       "<p>200000 rows × 3 columns</p>\n",
       "</div>"
      ],
      "text/plain": [
       "              Date      Time  Global_active_power\n",
       "0       16/12/2006  17:24:00                4.216\n",
       "1       16/12/2006  17:25:00                5.360\n",
       "2       16/12/2006  17:26:00                5.374\n",
       "3       16/12/2006  17:27:00                5.388\n",
       "4       16/12/2006  17:28:00                3.666\n",
       "...            ...       ...                  ...\n",
       "199995    4/5/2007  14:39:00                0.348\n",
       "199996    4/5/2007  14:40:00                0.344\n",
       "199997    4/5/2007  14:41:00                0.342\n",
       "199998    4/5/2007  14:42:00                0.340\n",
       "199999    4/5/2007  14:43:00                0.370\n",
       "\n",
       "[200000 rows x 3 columns]"
      ]
     },
     "execution_count": 2,
     "metadata": {},
     "output_type": "execute_result"
    }
   ],
   "source": [
    "df"
   ]
  },
  {
   "cell_type": "markdown",
   "id": "805ee2fb",
   "metadata": {},
   "source": [
    "1)"
   ]
  },
  {
   "cell_type": "code",
   "execution_count": 64,
   "id": "ad632f64",
   "metadata": {},
   "outputs": [
    {
     "data": {
      "text/plain": [
       "3732"
      ]
     },
     "execution_count": 64,
     "metadata": {},
     "output_type": "execute_result"
    }
   ],
   "source": [
    "df.isnull().any(axis=1).sum()"
   ]
  },
  {
   "cell_type": "code",
   "execution_count": 65,
   "id": "7acc0863",
   "metadata": {},
   "outputs": [
    {
     "data": {
      "text/plain": [
       "3732"
      ]
     },
     "execution_count": 65,
     "metadata": {},
     "output_type": "execute_result"
    }
   ],
   "source": [
    "df.isna().any(axis=1).sum()"
   ]
  },
  {
   "cell_type": "code",
   "execution_count": 4,
   "id": "616f31ff",
   "metadata": {},
   "outputs": [
    {
     "data": {
      "text/plain": [
       "<bound method NDFrame._add_numeric_operations.<locals>.sum of          Date   Time  Global_active_power\n",
       "0       False  False                False\n",
       "1       False  False                False\n",
       "2       False  False                False\n",
       "3       False  False                False\n",
       "4       False  False                False\n",
       "...       ...    ...                  ...\n",
       "199995  False  False                False\n",
       "199996  False  False                False\n",
       "199997  False  False                False\n",
       "199998  False  False                False\n",
       "199999  False  False                False\n",
       "\n",
       "[200000 rows x 3 columns]>"
      ]
     },
     "execution_count": 4,
     "metadata": {},
     "output_type": "execute_result"
    }
   ],
   "source": [
    "df.isna().sum"
   ]
  },
  {
   "cell_type": "code",
   "execution_count": 5,
   "id": "71e10a66",
   "metadata": {},
   "outputs": [
    {
     "data": {
      "text/plain": [
       "Date                   0.000\n",
       "Time                   0.000\n",
       "Global_active_power    1.866\n",
       "dtype: float64"
      ]
     },
     "execution_count": 5,
     "metadata": {},
     "output_type": "execute_result"
    }
   ],
   "source": [
    "df.isna().sum()/len(df) * 100"
   ]
  },
  {
   "cell_type": "code",
   "execution_count": 6,
   "id": "b4b626fe",
   "metadata": {
    "scrolled": true
   },
   "outputs": [],
   "source": [
    "df.dropna(inplace = True)"
   ]
  },
  {
   "cell_type": "code",
   "execution_count": 7,
   "id": "3f75b3c1",
   "metadata": {},
   "outputs": [
    {
     "data": {
      "text/plain": [
       "0         16/12/2006 17:24:00\n",
       "1         16/12/2006 17:25:00\n",
       "2         16/12/2006 17:26:00\n",
       "3         16/12/2006 17:27:00\n",
       "4         16/12/2006 17:28:00\n",
       "                 ...         \n",
       "199995      4/5/2007 14:39:00\n",
       "199996      4/5/2007 14:40:00\n",
       "199997      4/5/2007 14:41:00\n",
       "199998      4/5/2007 14:42:00\n",
       "199999      4/5/2007 14:43:00\n",
       "Length: 196268, dtype: object"
      ]
     },
     "execution_count": 7,
     "metadata": {},
     "output_type": "execute_result"
    }
   ],
   "source": [
    "df[\"Date\"]+\" \" + df[\"Time\"]"
   ]
  },
  {
   "cell_type": "code",
   "execution_count": 8,
   "id": "30a2af3a",
   "metadata": {},
   "outputs": [],
   "source": [
    "Datetime = pd.to_datetime(df[\"Date\"]+\" \" + df[\"Time\"], format = \"%d/%m/%Y %H:%M:%S\")"
   ]
  },
  {
   "cell_type": "code",
   "execution_count": 9,
   "id": "a768ecc7",
   "metadata": {},
   "outputs": [
    {
     "data": {
      "text/html": [
       "<div>\n",
       "<style scoped>\n",
       "    .dataframe tbody tr th:only-of-type {\n",
       "        vertical-align: middle;\n",
       "    }\n",
       "\n",
       "    .dataframe tbody tr th {\n",
       "        vertical-align: top;\n",
       "    }\n",
       "\n",
       "    .dataframe thead th {\n",
       "        text-align: right;\n",
       "    }\n",
       "</style>\n",
       "<table border=\"1\" class=\"dataframe\">\n",
       "  <thead>\n",
       "    <tr style=\"text-align: right;\">\n",
       "      <th></th>\n",
       "      <th>Date</th>\n",
       "      <th>Time</th>\n",
       "      <th>Global_active_power</th>\n",
       "    </tr>\n",
       "  </thead>\n",
       "  <tbody>\n",
       "    <tr>\n",
       "      <th>0</th>\n",
       "      <td>16/12/2006</td>\n",
       "      <td>17:24:00</td>\n",
       "      <td>4.216</td>\n",
       "    </tr>\n",
       "    <tr>\n",
       "      <th>1</th>\n",
       "      <td>16/12/2006</td>\n",
       "      <td>17:25:00</td>\n",
       "      <td>5.360</td>\n",
       "    </tr>\n",
       "    <tr>\n",
       "      <th>2</th>\n",
       "      <td>16/12/2006</td>\n",
       "      <td>17:26:00</td>\n",
       "      <td>5.374</td>\n",
       "    </tr>\n",
       "    <tr>\n",
       "      <th>3</th>\n",
       "      <td>16/12/2006</td>\n",
       "      <td>17:27:00</td>\n",
       "      <td>5.388</td>\n",
       "    </tr>\n",
       "    <tr>\n",
       "      <th>4</th>\n",
       "      <td>16/12/2006</td>\n",
       "      <td>17:28:00</td>\n",
       "      <td>3.666</td>\n",
       "    </tr>\n",
       "    <tr>\n",
       "      <th>...</th>\n",
       "      <td>...</td>\n",
       "      <td>...</td>\n",
       "      <td>...</td>\n",
       "    </tr>\n",
       "    <tr>\n",
       "      <th>199995</th>\n",
       "      <td>4/5/2007</td>\n",
       "      <td>14:39:00</td>\n",
       "      <td>0.348</td>\n",
       "    </tr>\n",
       "    <tr>\n",
       "      <th>199996</th>\n",
       "      <td>4/5/2007</td>\n",
       "      <td>14:40:00</td>\n",
       "      <td>0.344</td>\n",
       "    </tr>\n",
       "    <tr>\n",
       "      <th>199997</th>\n",
       "      <td>4/5/2007</td>\n",
       "      <td>14:41:00</td>\n",
       "      <td>0.342</td>\n",
       "    </tr>\n",
       "    <tr>\n",
       "      <th>199998</th>\n",
       "      <td>4/5/2007</td>\n",
       "      <td>14:42:00</td>\n",
       "      <td>0.340</td>\n",
       "    </tr>\n",
       "    <tr>\n",
       "      <th>199999</th>\n",
       "      <td>4/5/2007</td>\n",
       "      <td>14:43:00</td>\n",
       "      <td>0.370</td>\n",
       "    </tr>\n",
       "  </tbody>\n",
       "</table>\n",
       "<p>196268 rows × 3 columns</p>\n",
       "</div>"
      ],
      "text/plain": [
       "              Date      Time  Global_active_power\n",
       "0       16/12/2006  17:24:00                4.216\n",
       "1       16/12/2006  17:25:00                5.360\n",
       "2       16/12/2006  17:26:00                5.374\n",
       "3       16/12/2006  17:27:00                5.388\n",
       "4       16/12/2006  17:28:00                3.666\n",
       "...            ...       ...                  ...\n",
       "199995    4/5/2007  14:39:00                0.348\n",
       "199996    4/5/2007  14:40:00                0.344\n",
       "199997    4/5/2007  14:41:00                0.342\n",
       "199998    4/5/2007  14:42:00                0.340\n",
       "199999    4/5/2007  14:43:00                0.370\n",
       "\n",
       "[196268 rows x 3 columns]"
      ]
     },
     "execution_count": 9,
     "metadata": {},
     "output_type": "execute_result"
    }
   ],
   "source": [
    "df"
   ]
  },
  {
   "cell_type": "code",
   "execution_count": 10,
   "id": "89177950",
   "metadata": {},
   "outputs": [],
   "source": [
    "df.insert(0, \"datetime\",Datetime)"
   ]
  },
  {
   "cell_type": "code",
   "execution_count": 11,
   "id": "8ea60ca4",
   "metadata": {},
   "outputs": [],
   "source": [
    "df = df.set_index(\"datetime\")\n",
    "#or by doing inplace = True"
   ]
  },
  {
   "cell_type": "code",
   "execution_count": 12,
   "id": "f1a19480",
   "metadata": {},
   "outputs": [
    {
     "data": {
      "text/html": [
       "<div>\n",
       "<style scoped>\n",
       "    .dataframe tbody tr th:only-of-type {\n",
       "        vertical-align: middle;\n",
       "    }\n",
       "\n",
       "    .dataframe tbody tr th {\n",
       "        vertical-align: top;\n",
       "    }\n",
       "\n",
       "    .dataframe thead th {\n",
       "        text-align: right;\n",
       "    }\n",
       "</style>\n",
       "<table border=\"1\" class=\"dataframe\">\n",
       "  <thead>\n",
       "    <tr style=\"text-align: right;\">\n",
       "      <th></th>\n",
       "      <th>Date</th>\n",
       "      <th>Time</th>\n",
       "      <th>Global_active_power</th>\n",
       "    </tr>\n",
       "    <tr>\n",
       "      <th>datetime</th>\n",
       "      <th></th>\n",
       "      <th></th>\n",
       "      <th></th>\n",
       "    </tr>\n",
       "  </thead>\n",
       "  <tbody>\n",
       "    <tr>\n",
       "      <th>2006-12-16 17:24:00</th>\n",
       "      <td>16/12/2006</td>\n",
       "      <td>17:24:00</td>\n",
       "      <td>4.216</td>\n",
       "    </tr>\n",
       "    <tr>\n",
       "      <th>2006-12-16 17:25:00</th>\n",
       "      <td>16/12/2006</td>\n",
       "      <td>17:25:00</td>\n",
       "      <td>5.360</td>\n",
       "    </tr>\n",
       "    <tr>\n",
       "      <th>2006-12-16 17:26:00</th>\n",
       "      <td>16/12/2006</td>\n",
       "      <td>17:26:00</td>\n",
       "      <td>5.374</td>\n",
       "    </tr>\n",
       "    <tr>\n",
       "      <th>2006-12-16 17:27:00</th>\n",
       "      <td>16/12/2006</td>\n",
       "      <td>17:27:00</td>\n",
       "      <td>5.388</td>\n",
       "    </tr>\n",
       "    <tr>\n",
       "      <th>2006-12-16 17:28:00</th>\n",
       "      <td>16/12/2006</td>\n",
       "      <td>17:28:00</td>\n",
       "      <td>3.666</td>\n",
       "    </tr>\n",
       "    <tr>\n",
       "      <th>...</th>\n",
       "      <td>...</td>\n",
       "      <td>...</td>\n",
       "      <td>...</td>\n",
       "    </tr>\n",
       "    <tr>\n",
       "      <th>2007-05-04 14:39:00</th>\n",
       "      <td>4/5/2007</td>\n",
       "      <td>14:39:00</td>\n",
       "      <td>0.348</td>\n",
       "    </tr>\n",
       "    <tr>\n",
       "      <th>2007-05-04 14:40:00</th>\n",
       "      <td>4/5/2007</td>\n",
       "      <td>14:40:00</td>\n",
       "      <td>0.344</td>\n",
       "    </tr>\n",
       "    <tr>\n",
       "      <th>2007-05-04 14:41:00</th>\n",
       "      <td>4/5/2007</td>\n",
       "      <td>14:41:00</td>\n",
       "      <td>0.342</td>\n",
       "    </tr>\n",
       "    <tr>\n",
       "      <th>2007-05-04 14:42:00</th>\n",
       "      <td>4/5/2007</td>\n",
       "      <td>14:42:00</td>\n",
       "      <td>0.340</td>\n",
       "    </tr>\n",
       "    <tr>\n",
       "      <th>2007-05-04 14:43:00</th>\n",
       "      <td>4/5/2007</td>\n",
       "      <td>14:43:00</td>\n",
       "      <td>0.370</td>\n",
       "    </tr>\n",
       "  </tbody>\n",
       "</table>\n",
       "<p>196268 rows × 3 columns</p>\n",
       "</div>"
      ],
      "text/plain": [
       "                           Date      Time  Global_active_power\n",
       "datetime                                                      \n",
       "2006-12-16 17:24:00  16/12/2006  17:24:00                4.216\n",
       "2006-12-16 17:25:00  16/12/2006  17:25:00                5.360\n",
       "2006-12-16 17:26:00  16/12/2006  17:26:00                5.374\n",
       "2006-12-16 17:27:00  16/12/2006  17:27:00                5.388\n",
       "2006-12-16 17:28:00  16/12/2006  17:28:00                3.666\n",
       "...                         ...       ...                  ...\n",
       "2007-05-04 14:39:00    4/5/2007  14:39:00                0.348\n",
       "2007-05-04 14:40:00    4/5/2007  14:40:00                0.344\n",
       "2007-05-04 14:41:00    4/5/2007  14:41:00                0.342\n",
       "2007-05-04 14:42:00    4/5/2007  14:42:00                0.340\n",
       "2007-05-04 14:43:00    4/5/2007  14:43:00                0.370\n",
       "\n",
       "[196268 rows x 3 columns]"
      ]
     },
     "execution_count": 12,
     "metadata": {},
     "output_type": "execute_result"
    }
   ],
   "source": [
    "df"
   ]
  },
  {
   "cell_type": "code",
   "execution_count": 13,
   "id": "ed62ce8d",
   "metadata": {},
   "outputs": [],
   "source": [
    "df = df.drop(['Date', 'Time'], axis=1)\n",
    "#or by doing inplace = True"
   ]
  },
  {
   "cell_type": "code",
   "execution_count": 14,
   "id": "729a998e",
   "metadata": {
    "scrolled": true
   },
   "outputs": [
    {
     "data": {
      "text/html": [
       "<div>\n",
       "<style scoped>\n",
       "    .dataframe tbody tr th:only-of-type {\n",
       "        vertical-align: middle;\n",
       "    }\n",
       "\n",
       "    .dataframe tbody tr th {\n",
       "        vertical-align: top;\n",
       "    }\n",
       "\n",
       "    .dataframe thead th {\n",
       "        text-align: right;\n",
       "    }\n",
       "</style>\n",
       "<table border=\"1\" class=\"dataframe\">\n",
       "  <thead>\n",
       "    <tr style=\"text-align: right;\">\n",
       "      <th></th>\n",
       "      <th>Global_active_power</th>\n",
       "    </tr>\n",
       "    <tr>\n",
       "      <th>datetime</th>\n",
       "      <th></th>\n",
       "    </tr>\n",
       "  </thead>\n",
       "  <tbody>\n",
       "    <tr>\n",
       "      <th>2006-12-16 17:24:00</th>\n",
       "      <td>4.216</td>\n",
       "    </tr>\n",
       "    <tr>\n",
       "      <th>2006-12-16 17:25:00</th>\n",
       "      <td>5.360</td>\n",
       "    </tr>\n",
       "    <tr>\n",
       "      <th>2006-12-16 17:26:00</th>\n",
       "      <td>5.374</td>\n",
       "    </tr>\n",
       "    <tr>\n",
       "      <th>2006-12-16 17:27:00</th>\n",
       "      <td>5.388</td>\n",
       "    </tr>\n",
       "    <tr>\n",
       "      <th>2006-12-16 17:28:00</th>\n",
       "      <td>3.666</td>\n",
       "    </tr>\n",
       "    <tr>\n",
       "      <th>...</th>\n",
       "      <td>...</td>\n",
       "    </tr>\n",
       "    <tr>\n",
       "      <th>2007-05-04 14:39:00</th>\n",
       "      <td>0.348</td>\n",
       "    </tr>\n",
       "    <tr>\n",
       "      <th>2007-05-04 14:40:00</th>\n",
       "      <td>0.344</td>\n",
       "    </tr>\n",
       "    <tr>\n",
       "      <th>2007-05-04 14:41:00</th>\n",
       "      <td>0.342</td>\n",
       "    </tr>\n",
       "    <tr>\n",
       "      <th>2007-05-04 14:42:00</th>\n",
       "      <td>0.340</td>\n",
       "    </tr>\n",
       "    <tr>\n",
       "      <th>2007-05-04 14:43:00</th>\n",
       "      <td>0.370</td>\n",
       "    </tr>\n",
       "  </tbody>\n",
       "</table>\n",
       "<p>196268 rows × 1 columns</p>\n",
       "</div>"
      ],
      "text/plain": [
       "                     Global_active_power\n",
       "datetime                                \n",
       "2006-12-16 17:24:00                4.216\n",
       "2006-12-16 17:25:00                5.360\n",
       "2006-12-16 17:26:00                5.374\n",
       "2006-12-16 17:27:00                5.388\n",
       "2006-12-16 17:28:00                3.666\n",
       "...                                  ...\n",
       "2007-05-04 14:39:00                0.348\n",
       "2007-05-04 14:40:00                0.344\n",
       "2007-05-04 14:41:00                0.342\n",
       "2007-05-04 14:42:00                0.340\n",
       "2007-05-04 14:43:00                0.370\n",
       "\n",
       "[196268 rows x 1 columns]"
      ]
     },
     "execution_count": 14,
     "metadata": {},
     "output_type": "execute_result"
    }
   ],
   "source": [
    "df"
   ]
  },
  {
   "cell_type": "markdown",
   "id": "d42d4ef9",
   "metadata": {},
   "source": [
    "3) Display the graphic of daily averages, between January 1 2007 and April 30 2007. Propose an\n",
    "explanation for the consumption behavior between February and early April."
   ]
  },
  {
   "cell_type": "code",
   "execution_count": 15,
   "id": "83f316eb",
   "metadata": {},
   "outputs": [],
   "source": [
    "#df = df.reset_index()"
   ]
  },
  {
   "cell_type": "code",
   "execution_count": 16,
   "id": "565838e9",
   "metadata": {
    "scrolled": true
   },
   "outputs": [
    {
     "data": {
      "text/plain": [
       "Index(['Global_active_power'], dtype='object')"
      ]
     },
     "execution_count": 16,
     "metadata": {},
     "output_type": "execute_result"
    }
   ],
   "source": [
    "df.columns"
   ]
  },
  {
   "cell_type": "code",
   "execution_count": null,
   "id": "6b51a5a6",
   "metadata": {},
   "outputs": [],
   "source": []
  },
  {
   "cell_type": "code",
   "execution_count": 17,
   "id": "186c5189",
   "metadata": {},
   "outputs": [
    {
     "data": {
      "text/plain": [
       "array([False, False, False, ..., False, False, False])"
      ]
     },
     "execution_count": 17,
     "metadata": {},
     "output_type": "execute_result"
    }
   ],
   "source": [
    "mask = (df.index >= \"2007-01-01\") & (df.index < \"2007-05-01\")\n",
    "mask"
   ]
  },
  {
   "cell_type": "code",
   "execution_count": 18,
   "id": "631c9e56",
   "metadata": {},
   "outputs": [],
   "source": [
    "df = df[mask]\n",
    "#or df.loc['2007-01-01':'2007-04-30']"
   ]
  },
  {
   "cell_type": "code",
   "execution_count": 19,
   "id": "32948711",
   "metadata": {},
   "outputs": [],
   "source": [
    "df_avg = df.groupby(pd.Grouper(freq='D')).mean().dropna()"
   ]
  },
  {
   "cell_type": "code",
   "execution_count": 20,
   "id": "12cfbf54",
   "metadata": {},
   "outputs": [
    {
     "data": {
      "text/html": [
       "<div>\n",
       "<style scoped>\n",
       "    .dataframe tbody tr th:only-of-type {\n",
       "        vertical-align: middle;\n",
       "    }\n",
       "\n",
       "    .dataframe tbody tr th {\n",
       "        vertical-align: top;\n",
       "    }\n",
       "\n",
       "    .dataframe thead th {\n",
       "        text-align: right;\n",
       "    }\n",
       "</style>\n",
       "<table border=\"1\" class=\"dataframe\">\n",
       "  <thead>\n",
       "    <tr style=\"text-align: right;\">\n",
       "      <th></th>\n",
       "      <th>Global_active_power</th>\n",
       "    </tr>\n",
       "    <tr>\n",
       "      <th>datetime</th>\n",
       "      <th></th>\n",
       "    </tr>\n",
       "  </thead>\n",
       "  <tbody>\n",
       "    <tr>\n",
       "      <th>2007-01-01</th>\n",
       "      <td>1.909031</td>\n",
       "    </tr>\n",
       "    <tr>\n",
       "      <th>2007-01-02</th>\n",
       "      <td>0.881414</td>\n",
       "    </tr>\n",
       "    <tr>\n",
       "      <th>2007-01-03</th>\n",
       "      <td>0.704204</td>\n",
       "    </tr>\n",
       "    <tr>\n",
       "      <th>2007-01-04</th>\n",
       "      <td>2.263481</td>\n",
       "    </tr>\n",
       "    <tr>\n",
       "      <th>2007-01-05</th>\n",
       "      <td>1.884281</td>\n",
       "    </tr>\n",
       "    <tr>\n",
       "      <th>...</th>\n",
       "      <td>...</td>\n",
       "    </tr>\n",
       "    <tr>\n",
       "      <th>2007-04-25</th>\n",
       "      <td>0.877890</td>\n",
       "    </tr>\n",
       "    <tr>\n",
       "      <th>2007-04-26</th>\n",
       "      <td>0.885740</td>\n",
       "    </tr>\n",
       "    <tr>\n",
       "      <th>2007-04-27</th>\n",
       "      <td>0.759953</td>\n",
       "    </tr>\n",
       "    <tr>\n",
       "      <th>2007-04-28</th>\n",
       "      <td>1.082762</td>\n",
       "    </tr>\n",
       "    <tr>\n",
       "      <th>2007-04-30</th>\n",
       "      <td>0.730594</td>\n",
       "    </tr>\n",
       "  </tbody>\n",
       "</table>\n",
       "<p>119 rows × 1 columns</p>\n",
       "</div>"
      ],
      "text/plain": [
       "            Global_active_power\n",
       "datetime                       \n",
       "2007-01-01             1.909031\n",
       "2007-01-02             0.881414\n",
       "2007-01-03             0.704204\n",
       "2007-01-04             2.263481\n",
       "2007-01-05             1.884281\n",
       "...                         ...\n",
       "2007-04-25             0.877890\n",
       "2007-04-26             0.885740\n",
       "2007-04-27             0.759953\n",
       "2007-04-28             1.082762\n",
       "2007-04-30             0.730594\n",
       "\n",
       "[119 rows x 1 columns]"
      ]
     },
     "execution_count": 20,
     "metadata": {},
     "output_type": "execute_result"
    }
   ],
   "source": [
    "df_avg"
   ]
  },
  {
   "cell_type": "code",
   "execution_count": 21,
   "id": "3ff7d9bd",
   "metadata": {},
   "outputs": [
    {
     "data": {
      "text/html": [
       "<div>\n",
       "<style scoped>\n",
       "    .dataframe tbody tr th:only-of-type {\n",
       "        vertical-align: middle;\n",
       "    }\n",
       "\n",
       "    .dataframe tbody tr th {\n",
       "        vertical-align: top;\n",
       "    }\n",
       "\n",
       "    .dataframe thead th {\n",
       "        text-align: right;\n",
       "    }\n",
       "</style>\n",
       "<table border=\"1\" class=\"dataframe\">\n",
       "  <thead>\n",
       "    <tr style=\"text-align: right;\">\n",
       "      <th></th>\n",
       "      <th>Global_active_power</th>\n",
       "    </tr>\n",
       "    <tr>\n",
       "      <th>datetime</th>\n",
       "      <th></th>\n",
       "    </tr>\n",
       "  </thead>\n",
       "  <tbody>\n",
       "    <tr>\n",
       "      <th>2007-01-01</th>\n",
       "      <td>1.909031</td>\n",
       "    </tr>\n",
       "    <tr>\n",
       "      <th>2007-01-02</th>\n",
       "      <td>0.881414</td>\n",
       "    </tr>\n",
       "    <tr>\n",
       "      <th>2007-01-03</th>\n",
       "      <td>0.704204</td>\n",
       "    </tr>\n",
       "    <tr>\n",
       "      <th>2007-01-04</th>\n",
       "      <td>2.263481</td>\n",
       "    </tr>\n",
       "    <tr>\n",
       "      <th>2007-01-05</th>\n",
       "      <td>1.884281</td>\n",
       "    </tr>\n",
       "    <tr>\n",
       "      <th>...</th>\n",
       "      <td>...</td>\n",
       "    </tr>\n",
       "    <tr>\n",
       "      <th>2007-04-25</th>\n",
       "      <td>0.877890</td>\n",
       "    </tr>\n",
       "    <tr>\n",
       "      <th>2007-04-26</th>\n",
       "      <td>0.885740</td>\n",
       "    </tr>\n",
       "    <tr>\n",
       "      <th>2007-04-27</th>\n",
       "      <td>0.759953</td>\n",
       "    </tr>\n",
       "    <tr>\n",
       "      <th>2007-04-28</th>\n",
       "      <td>1.082762</td>\n",
       "    </tr>\n",
       "    <tr>\n",
       "      <th>2007-04-30</th>\n",
       "      <td>0.730594</td>\n",
       "    </tr>\n",
       "  </tbody>\n",
       "</table>\n",
       "<p>119 rows × 1 columns</p>\n",
       "</div>"
      ],
      "text/plain": [
       "            Global_active_power\n",
       "datetime                       \n",
       "2007-01-01             1.909031\n",
       "2007-01-02             0.881414\n",
       "2007-01-03             0.704204\n",
       "2007-01-04             2.263481\n",
       "2007-01-05             1.884281\n",
       "...                         ...\n",
       "2007-04-25             0.877890\n",
       "2007-04-26             0.885740\n",
       "2007-04-27             0.759953\n",
       "2007-04-28             1.082762\n",
       "2007-04-30             0.730594\n",
       "\n",
       "[119 rows x 1 columns]"
      ]
     },
     "execution_count": 21,
     "metadata": {},
     "output_type": "execute_result"
    }
   ],
   "source": [
    "df_avg"
   ]
  },
  {
   "cell_type": "code",
   "execution_count": 76,
   "id": "d11ab9c2",
   "metadata": {},
   "outputs": [
    {
     "data": {
      "image/png": "[encoded data removed]",
      "text/plain": [
       "<Figure size 1080x432 with 1 Axes>"
      ]
     },
     "metadata": {
      "needs_background": "light"
     },
     "output_type": "display_data"
    }
   ],
   "source": [
    "import matplotlib.pyplot as plt\n",
    "\n",
    "fig, ax = plt.subplots(figsize=(15, 6))\n",
    "\n",
    "ax.plot(df_avg)\n",
    "\n",
    "ax.set(title = \"Average Daily Global Active Power between January and April 2007\",\n",
    "       xlabel = \"Day\",\n",
    "       ylabel = \"Average Daily Global Active Power\")\n",
    "\n",
    "plt.show()\n"
   ]
  },
  {
   "cell_type": "markdown",
   "id": "e0a4cf25",
   "metadata": {},
   "source": [
    "4) \n",
    "Let us now add some temperature information for our study. Such information can be found on\n",
    "Moodle in “TG_STAID011249.txt”\n",
    "2\n",
    ". Here the temperatures available are the one in Orly (note that the\n",
    "place were the consumption was collected is unknown in the previous dataset).\n"
   ]
  },
  {
   "cell_type": "code",
   "execution_count": 80,
   "id": "4f330176",
   "metadata": {},
   "outputs": [
    {
     "data": {
      "text/plain": [
       "Index(['STAID', ' SOUID', '    DATE', '   TG', ' Q_TG'], dtype='object')"
      ]
     },
     "execution_count": 80,
     "metadata": {},
     "output_type": "execute_result"
    }
   ],
   "source": [
    "temp = pd.read_csv(\"TG_STAID011249.txt\", sep=',', comment='#')\n",
    "temp.columns"
   ]
  },
  {
   "cell_type": "code",
   "execution_count": 81,
   "id": "3433bab1",
   "metadata": {},
   "outputs": [],
   "source": [
    "temp.drop(columns =temp.columns.difference(['    DATE','   TG']), inplace=True)"
   ]
  },
  {
   "cell_type": "code",
   "execution_count": 82,
   "id": "33e9972c",
   "metadata": {},
   "outputs": [
    {
     "data": {
      "text/html": [
       "<div>\n",
       "<style scoped>\n",
       "    .dataframe tbody tr th:only-of-type {\n",
       "        vertical-align: middle;\n",
       "    }\n",
       "\n",
       "    .dataframe tbody tr th {\n",
       "        vertical-align: top;\n",
       "    }\n",
       "\n",
       "    .dataframe thead th {\n",
       "        text-align: right;\n",
       "    }\n",
       "</style>\n",
       "<table border=\"1\" class=\"dataframe\">\n",
       "  <thead>\n",
       "    <tr style=\"text-align: right;\">\n",
       "      <th></th>\n",
       "      <th>DATE</th>\n",
       "      <th>TG</th>\n",
       "    </tr>\n",
       "  </thead>\n",
       "  <tbody>\n",
       "    <tr>\n",
       "      <th>0</th>\n",
       "      <td>19210301</td>\n",
       "      <td>50</td>\n",
       "    </tr>\n",
       "    <tr>\n",
       "      <th>1</th>\n",
       "      <td>19210302</td>\n",
       "      <td>46</td>\n",
       "    </tr>\n",
       "    <tr>\n",
       "      <th>2</th>\n",
       "      <td>19210303</td>\n",
       "      <td>46</td>\n",
       "    </tr>\n",
       "    <tr>\n",
       "      <th>3</th>\n",
       "      <td>19210304</td>\n",
       "      <td>31</td>\n",
       "    </tr>\n",
       "    <tr>\n",
       "      <th>4</th>\n",
       "      <td>19210305</td>\n",
       "      <td>95</td>\n",
       "    </tr>\n",
       "    <tr>\n",
       "      <th>...</th>\n",
       "      <td>...</td>\n",
       "      <td>...</td>\n",
       "    </tr>\n",
       "    <tr>\n",
       "      <th>34878</th>\n",
       "      <td>20160827</td>\n",
       "      <td>266</td>\n",
       "    </tr>\n",
       "    <tr>\n",
       "      <th>34879</th>\n",
       "      <td>20160828</td>\n",
       "      <td>255</td>\n",
       "    </tr>\n",
       "    <tr>\n",
       "      <th>34880</th>\n",
       "      <td>20160829</td>\n",
       "      <td>206</td>\n",
       "    </tr>\n",
       "    <tr>\n",
       "      <th>34881</th>\n",
       "      <td>20160830</td>\n",
       "      <td>204</td>\n",
       "    </tr>\n",
       "    <tr>\n",
       "      <th>34882</th>\n",
       "      <td>20160831</td>\n",
       "      <td>210</td>\n",
       "    </tr>\n",
       "  </tbody>\n",
       "</table>\n",
       "<p>34883 rows × 2 columns</p>\n",
       "</div>"
      ],
      "text/plain": [
       "           DATE     TG\n",
       "0      19210301     50\n",
       "1      19210302     46\n",
       "2      19210303     46\n",
       "3      19210304     31\n",
       "4      19210305     95\n",
       "...         ...    ...\n",
       "34878  20160827    266\n",
       "34879  20160828    255\n",
       "34880  20160829    206\n",
       "34881  20160830    204\n",
       "34882  20160831    210\n",
       "\n",
       "[34883 rows x 2 columns]"
      ]
     },
     "execution_count": 82,
     "metadata": {},
     "output_type": "execute_result"
    }
   ],
   "source": [
    "temp"
   ]
  },
  {
   "cell_type": "code",
   "execution_count": 83,
   "id": "747788da",
   "metadata": {
    "scrolled": true
   },
   "outputs": [
    {
     "data": {
      "text/html": [
       "<div>\n",
       "<style scoped>\n",
       "    .dataframe tbody tr th:only-of-type {\n",
       "        vertical-align: middle;\n",
       "    }\n",
       "\n",
       "    .dataframe tbody tr th {\n",
       "        vertical-align: top;\n",
       "    }\n",
       "\n",
       "    .dataframe thead th {\n",
       "        text-align: right;\n",
       "    }\n",
       "</style>\n",
       "<table border=\"1\" class=\"dataframe\">\n",
       "  <thead>\n",
       "    <tr style=\"text-align: right;\">\n",
       "      <th></th>\n",
       "      <th>DATE</th>\n",
       "      <th>TG</th>\n",
       "    </tr>\n",
       "  </thead>\n",
       "  <tbody>\n",
       "    <tr>\n",
       "      <th>0</th>\n",
       "      <td>1921-03-01</td>\n",
       "      <td>5.0</td>\n",
       "    </tr>\n",
       "    <tr>\n",
       "      <th>1</th>\n",
       "      <td>1921-03-02</td>\n",
       "      <td>4.6</td>\n",
       "    </tr>\n",
       "    <tr>\n",
       "      <th>2</th>\n",
       "      <td>1921-03-03</td>\n",
       "      <td>4.6</td>\n",
       "    </tr>\n",
       "    <tr>\n",
       "      <th>3</th>\n",
       "      <td>1921-03-04</td>\n",
       "      <td>3.1</td>\n",
       "    </tr>\n",
       "    <tr>\n",
       "      <th>4</th>\n",
       "      <td>1921-03-05</td>\n",
       "      <td>9.5</td>\n",
       "    </tr>\n",
       "    <tr>\n",
       "      <th>...</th>\n",
       "      <td>...</td>\n",
       "      <td>...</td>\n",
       "    </tr>\n",
       "    <tr>\n",
       "      <th>34878</th>\n",
       "      <td>2016-08-27</td>\n",
       "      <td>26.6</td>\n",
       "    </tr>\n",
       "    <tr>\n",
       "      <th>34879</th>\n",
       "      <td>2016-08-28</td>\n",
       "      <td>25.5</td>\n",
       "    </tr>\n",
       "    <tr>\n",
       "      <th>34880</th>\n",
       "      <td>2016-08-29</td>\n",
       "      <td>20.6</td>\n",
       "    </tr>\n",
       "    <tr>\n",
       "      <th>34881</th>\n",
       "      <td>2016-08-30</td>\n",
       "      <td>20.4</td>\n",
       "    </tr>\n",
       "    <tr>\n",
       "      <th>34882</th>\n",
       "      <td>2016-08-31</td>\n",
       "      <td>21.0</td>\n",
       "    </tr>\n",
       "  </tbody>\n",
       "</table>\n",
       "<p>34883 rows × 2 columns</p>\n",
       "</div>"
      ],
      "text/plain": [
       "            DATE    TG\n",
       "0     1921-03-01   5.0\n",
       "1     1921-03-02   4.6\n",
       "2     1921-03-03   4.6\n",
       "3     1921-03-04   3.1\n",
       "4     1921-03-05   9.5\n",
       "...          ...   ...\n",
       "34878 2016-08-27  26.6\n",
       "34879 2016-08-28  25.5\n",
       "34880 2016-08-29  20.6\n",
       "34881 2016-08-30  20.4\n",
       "34882 2016-08-31  21.0\n",
       "\n",
       "[34883 rows x 2 columns]"
      ]
     },
     "execution_count": 83,
     "metadata": {},
     "output_type": "execute_result"
    }
   ],
   "source": [
    "temp.rename(columns = {'    DATE':'DATE','   TG':'TG'}, inplace = True)\n",
    "temp[\"TG\"] = temp[\"TG\"]/10\n",
    "temp[\"DATE\"] = pd.to_datetime(temp[\"DATE\"],format='%Y%m%d')\n",
    "temp"
   ]
  },
  {
   "cell_type": "code",
   "execution_count": 78,
   "id": "8b9c4946",
   "metadata": {},
   "outputs": [
    {
     "data": {
      "text/plain": [
       "DATE    0\n",
       "TG      0\n",
       "dtype: int64"
      ]
     },
     "execution_count": 78,
     "metadata": {},
     "output_type": "execute_result"
    }
   ],
   "source": [
    "temp.isnull().sum()\n",
    "#There are no missing values so there is nothing to do"
   ]
  },
  {
   "cell_type": "markdown",
   "id": "af778b27",
   "metadata": {},
   "source": [
    "5) \n",
    "Create a pandas Time Series with the daily temperatures between January 1 2007 and April 30\n",
    "2007. Display on the same graph the temperature and the Global_active_power Time Series.\n",
    "Using a twinx axis might help to display 2 series of values with different magnitudes in a readable\n",
    "fashion."
   ]
  },
  {
   "cell_type": "code",
   "execution_count": null,
   "id": "9ff6709a",
   "metadata": {},
   "outputs": [],
   "source": [
    "temp.set_index(\"DATE\",inplace = True)\n",
    "temp"
   ]
  },
  {
   "cell_type": "code",
   "execution_count": 88,
   "id": "fca6086a",
   "metadata": {},
   "outputs": [],
   "source": [
    "temp_2007 = temp.loc['2007-01-01':'2007-04-30']"
   ]
  },
  {
   "cell_type": "code",
   "execution_count": 96,
   "id": "680cde6e",
   "metadata": {
    "scrolled": true
   },
   "outputs": [
    {
     "data": {
      "image/png": "[encoded data removed]",
      "text/plain": [
       "<Figure size 1080x432 with 2 Axes>"
      ]
     },
     "metadata": {
      "needs_background": "light"
     },
     "output_type": "display_data"
    }
   ],
   "source": [
    "import matplotlib.pyplot as plt\n",
    "\n",
    "fig, ax1 = plt.subplots(figsize=(15, 6))\n",
    "\n",
    "\n",
    "ax1.plot(df_avg,color='red')\n",
    "\n",
    "ax1.set_xlabel(\"Day\")\n",
    "ax1.set_ylabel(ylabel = \"Average Daily Global Active Power Consumption\", color='red')\n",
    "ax1.tick_params(axis='y', labelcolor='red')\n",
    "\n",
    "ax2 = ax1.twinx()  # instantiate a second axes that shares the same x-axis\n",
    "\n",
    "ax2.plot(temp_2007)\n",
    "ax2.set_ylabel('temp', color='blue')  # we already handled the x-label with ax1\n",
    "ax2.tick_params(axis='y', labelcolor='blue')\n",
    "\n",
    "\n",
    "ax.set(title = \"Average Daily Global Active Power between January and April 2007\")\n",
    "\n",
    "plt.show()\n"
   ]
  },
  {
   "cell_type": "markdown",
   "id": "caa2c165",
   "metadata": {},
   "source": [
    "## EXERCICE 2"
   ]
  },
  {
   "cell_type": "code",
   "execution_count": 108,
   "id": "e5f08380",
   "metadata": {},
   "outputs": [
    {
     "data": {
      "text/plain": [
       "array([[ 0.54264129],\n",
       "       [-0.9584961 ],\n",
       "       [ 0.26729647],\n",
       "       [ 0.49760777],\n",
       "       [-0.00298598]])"
      ]
     },
     "execution_count": 108,
     "metadata": {},
     "output_type": "execute_result"
    }
   ],
   "source": [
    "import numpy as np\n",
    "np.random.seed(10)\n",
    "y = np.random.uniform(-1,1,(100,1))\n",
    "y[:5]"
   ]
  },
  {
   "cell_type": "code",
   "execution_count": 110,
   "id": "b70bfbff",
   "metadata": {},
   "outputs": [
    {
     "data": {
      "text/plain": [
       "array([[ 2.59341186,  2.62018914, -1.79593524, ..., -2.42839883,\n",
       "        -0.33583497, -0.93944895],\n",
       "       [ 0.62322344,  2.46185363, -3.4029473 , ...,  1.61409937,\n",
       "        -0.92211021,  0.30193599],\n",
       "       [ 2.86335968,  2.64600814, -0.70162808, ..., -0.38655532,\n",
       "         0.65624557,  0.05805986],\n",
       "       ...,\n",
       "       [ 3.62607775,  0.6169346 ,  0.90679526, ...,  3.37407698,\n",
       "         1.70648146,  5.46182722],\n",
       "       [ 0.13686301,  6.29977356, -1.27840915, ...,  2.45605317,\n",
       "        -1.57373151, -0.83306449],\n",
       "       [-3.34950954,  0.96782338,  2.53647757, ..., -0.55239676,\n",
       "         0.26915154,  2.04771386]])"
      ]
     },
     "execution_count": 110,
     "metadata": {},
     "output_type": "execute_result"
    }
   ],
   "source": [
    "X = np.random.normal(0 ,np.sqrt(5), (100, 2000))\n",
    "X"
   ]
  },
  {
   "cell_type": "code",
   "execution_count": 132,
   "id": "61a4adea",
   "metadata": {},
   "outputs": [
    {
     "name": "stdout",
     "output_type": "stream",
     "text": [
      "Left term = [[-3.88057926e-03]\n",
      " [-1.44973095e-03]\n",
      " [-1.29617359e-02]\n",
      " [-8.21619830e-03]\n",
      " [-6.58440962e-03]\n",
      " [ 3.18570901e-03]\n",
      " [-9.27946437e-03]\n",
      " [-5.70577011e-03]\n",
      " [-3.02127004e-03]\n",
      " [-1.44162682e-02]\n",
      " [ 3.41465231e-03]\n",
      " [ 7.42725705e-03]\n",
      " [ 9.66220070e-03]\n",
      " [-6.00831164e-03]\n",
      " [ 1.18453894e-03]\n",
      " [-4.85312170e-03]\n",
      " [-9.04306443e-03]\n",
      " [-2.37430679e-03]\n",
      " [ 5.22687379e-03]\n",
      " [-5.14180772e-03]\n",
      " [ 4.99461778e-04]\n",
      " [-8.63983517e-03]\n",
      " [ 1.12368143e-03]\n",
      " [-7.33363442e-04]\n",
      " [-5.30623132e-04]\n",
      " [ 1.19988443e-02]\n",
      " [ 4.72727697e-04]\n",
      " [-2.24352768e-03]\n",
      " [-9.20076109e-03]\n",
      " [ 6.31128298e-03]\n",
      " [ 5.90857439e-03]\n",
      " [ 3.50565370e-03]\n",
      " [-4.47049038e-03]\n",
      " [ 7.99093046e-03]\n",
      " [ 6.32819801e-03]\n",
      " [ 1.04870461e-03]\n",
      " [ 5.49105089e-03]\n",
      " [ 8.61182110e-04]\n",
      " [-1.72190531e-02]\n",
      " [-2.23646453e-03]\n",
      " [ 2.80907028e-03]\n",
      " [-6.09908730e-03]\n",
      " [-8.94373772e-03]\n",
      " [ 1.01183448e-03]\n",
      " [ 8.16550083e-03]\n",
      " [-3.10743973e-03]\n",
      " [-4.59236617e-03]\n",
      " [ 2.17176066e-03]\n",
      " [ 4.19198629e-03]\n",
      " [ 3.98824923e-04]\n",
      " [ 3.07842810e-03]\n",
      " [-3.61717818e-03]\n",
      " [-1.70326210e-03]\n",
      " [-1.89487357e-03]\n",
      " [-2.15493934e-03]\n",
      " [-8.27186508e-03]\n",
      " [ 1.73118291e-03]\n",
      " [-9.89987515e-04]\n",
      " [-1.01433704e-02]\n",
      " [ 2.65882630e-03]\n",
      " [ 1.42531004e-04]\n",
      " [ 9.55698080e-03]\n",
      " [-4.76631813e-03]\n",
      " [ 9.79294721e-03]\n",
      " [-1.06994854e-03]\n",
      " [ 7.86520424e-03]\n",
      " [-8.36564065e-03]\n",
      " [ 1.61731774e-02]\n",
      " [-4.21688822e-03]\n",
      " [-5.34259016e-03]\n",
      " [ 4.77845443e-03]\n",
      " [-1.23149035e-02]\n",
      " [ 8.96391948e-03]\n",
      " [ 7.70475867e-03]\n",
      " [-3.17151143e-03]\n",
      " [-5.34720253e-03]\n",
      " [-3.93872289e-03]\n",
      " [ 1.99583638e-03]\n",
      " [ 1.47644384e-03]\n",
      " [-6.32732175e-04]\n",
      " [-1.52143976e-03]\n",
      " [-3.20281927e-03]\n",
      " [ 4.26427927e-03]\n",
      " [ 9.36808158e-03]\n",
      " [ 1.29425386e-03]\n",
      " [-4.12175502e-03]\n",
      " [-8.08163406e-03]\n",
      " [-6.23026863e-05]\n",
      " [-5.02360705e-03]\n",
      " [-7.59155955e-04]\n",
      " [ 6.85865176e-03]\n",
      " [-1.21417756e-02]\n",
      " [-3.40274186e-03]\n",
      " [ 5.20337932e-03]\n",
      " [ 1.13972954e-02]\n",
      " [-2.55071814e-03]\n",
      " [-2.41527334e-04]\n",
      " [-6.24431076e-03]\n",
      " [ 1.18053134e-02]\n",
      " [-4.87660989e-03]]\n",
      "Right term = [[-3.88057326e-03]\n",
      " [-1.44972987e-03]\n",
      " [-1.29617277e-02]\n",
      " [-8.21620414e-03]\n",
      " [-6.58441209e-03]\n",
      " [ 3.18570555e-03]\n",
      " [-9.27946747e-03]\n",
      " [-5.70577044e-03]\n",
      " [-3.02126691e-03]\n",
      " [-1.44162662e-02]\n",
      " [ 3.41465779e-03]\n",
      " [ 7.42725911e-03]\n",
      " [ 9.66218875e-03]\n",
      " [-6.00831649e-03]\n",
      " [ 1.18453979e-03]\n",
      " [-4.85312803e-03]\n",
      " [-9.04306918e-03]\n",
      " [-2.37430605e-03]\n",
      " [ 5.22686189e-03]\n",
      " [-5.14181474e-03]\n",
      " [ 4.99470385e-04]\n",
      " [-8.63982778e-03]\n",
      " [ 1.12368443e-03]\n",
      " [-7.33359292e-04]\n",
      " [-5.30619291e-04]\n",
      " [ 1.19988351e-02]\n",
      " [ 4.72730087e-04]\n",
      " [-2.24352626e-03]\n",
      " [-9.20075466e-03]\n",
      " [ 6.31128177e-03]\n",
      " [ 5.90857107e-03]\n",
      " [ 3.50565391e-03]\n",
      " [-4.47049096e-03]\n",
      " [ 7.99093536e-03]\n",
      " [ 6.32820874e-03]\n",
      " [ 1.04871989e-03]\n",
      " [ 5.49105646e-03]\n",
      " [ 8.61176041e-04]\n",
      " [-1.72190607e-02]\n",
      " [-2.23646361e-03]\n",
      " [ 2.80906574e-03]\n",
      " [-6.09908529e-03]\n",
      " [-8.94373264e-03]\n",
      " [ 1.01182806e-03]\n",
      " [ 8.16550931e-03]\n",
      " [-3.10744933e-03]\n",
      " [-4.59236136e-03]\n",
      " [ 2.17175717e-03]\n",
      " [ 4.19198845e-03]\n",
      " [ 3.98822583e-04]\n",
      " [ 3.07842270e-03]\n",
      " [-3.61717929e-03]\n",
      " [-1.70326027e-03]\n",
      " [-1.89486978e-03]\n",
      " [-2.15493881e-03]\n",
      " [-8.27186215e-03]\n",
      " [ 1.73118943e-03]\n",
      " [-9.89990436e-04]\n",
      " [-1.01433703e-02]\n",
      " [ 2.65882061e-03]\n",
      " [ 1.42531385e-04]\n",
      " [ 9.55697813e-03]\n",
      " [-4.76632596e-03]\n",
      " [ 9.79294714e-03]\n",
      " [-1.06994190e-03]\n",
      " [ 7.86519700e-03]\n",
      " [-8.36563454e-03]\n",
      " [ 1.61731760e-02]\n",
      " [-4.21689736e-03]\n",
      " [-5.34258894e-03]\n",
      " [ 4.77845635e-03]\n",
      " [-1.23149065e-02]\n",
      " [ 8.96391511e-03]\n",
      " [ 7.70475584e-03]\n",
      " [-3.17150895e-03]\n",
      " [-5.34720758e-03]\n",
      " [-3.93872154e-03]\n",
      " [ 1.99583852e-03]\n",
      " [ 1.47644602e-03]\n",
      " [-6.32731039e-04]\n",
      " [-1.52144257e-03]\n",
      " [-3.20282459e-03]\n",
      " [ 4.26429395e-03]\n",
      " [ 9.36808669e-03]\n",
      " [ 1.29426422e-03]\n",
      " [-4.12175089e-03]\n",
      " [-8.08162982e-03]\n",
      " [-6.23065015e-05]\n",
      " [-5.02360169e-03]\n",
      " [-7.59149576e-04]\n",
      " [ 6.85865529e-03]\n",
      " [-1.21417732e-02]\n",
      " [-3.40273285e-03]\n",
      " [ 5.20338369e-03]\n",
      " [ 1.13972932e-02]\n",
      " [-2.55072131e-03]\n",
      " [-2.41525056e-04]\n",
      " [-6.24431022e-03]\n",
      " [ 1.18053158e-02]\n",
      " [-4.87660761e-03]]\n"
     ]
    },
    {
     "data": {
      "text/plain": [
       "True"
      ]
     },
     "execution_count": 132,
     "metadata": {},
     "output_type": "execute_result"
    }
   ],
   "source": [
    "def eq_check(n,p):\n",
    "    np.random.seed(10)\n",
    "    y = np.random.uniform(-1,1,(n,1))\n",
    "    X = np.random.normal(0 ,np.sqrt(5), (n, p))\n",
    "    lam = 1e-5\n",
    "    left_side = X.T@np.linalg.solve(X@X.T + lam*np.identity(n),y)\n",
    "    right_side = np.linalg.solve(X.T@X + lam*np.identity(p),X.T@y)\n",
    "    \n",
    "    print(f\"Left term = {left_side}\")\n",
    "    print(f\"Right term = {right_side}\")\n",
    "    return np.allclose(left_side,right_side)\n",
    "\n",
    "eq_check(2000,100)"
   ]
  },
  {
   "cell_type": "code",
   "execution_count": 115,
   "id": "fbc31ef6",
   "metadata": {},
   "outputs": [],
   "source": [
    "lam = 1e-5\n",
    "n = 100\n",
    "p = 2000\n",
    "left_side = X.T@np.linalg.solve(X@X.T + lam*np.identity(n),np.identity(n))@y\n",
    "right_side = np.linalg.solve(X.T@X + lam*np.identity(p),np.identity(p))@X.T@y"
   ]
  },
  {
   "cell_type": "code",
   "execution_count": 121,
   "id": "346b23cc",
   "metadata": {},
   "outputs": [
    {
     "data": {
      "text/plain": [
       "array([[ 0.00023282],\n",
       "       [ 0.00145099],\n",
       "       [ 0.00190284],\n",
       "       ...,\n",
       "       [-0.00117569],\n",
       "       [ 0.0008621 ],\n",
       "       [-0.00046413]])"
      ]
     },
     "metadata": {},
     "output_type": "display_data"
    },
    {
     "data": {
      "text/plain": [
       "array([[ 0.00023283],\n",
       "       [ 0.00145075],\n",
       "       [ 0.00190287],\n",
       "       ...,\n",
       "       [-0.00117569],\n",
       "       [ 0.0008621 ],\n",
       "       [-0.00046413]])"
      ]
     },
     "metadata": {},
     "output_type": "display_data"
    }
   ],
   "source": [
    "display(left_side)\n",
    "display(right_side)"
   ]
  }
 ],
 "metadata": {
  "kernelspec": {
   "display_name": "Python 3 (ipykernel)",
   "language": "python",
   "name": "python3"
  },
  "language_info": {
   "codemirror_mode": {
    "name": "ipython",
    "version": 3
   },
   "file_extension": ".py",
   "mimetype": "text/x-python",
   "name": "python",
   "nbconvert_exporter": "python",
   "pygments_lexer": "ipython3",
   "version": "3.9.12"
  }
 },
 "nbformat": 4,
 "nbformat_minor": 5
}
