{
 "cells": [
  {
   "cell_type": "markdown",
   "id": "574406a3",
   "metadata": {
    "tags": []
   },
   "source": [
    "__X-HEC Data Science for Business MSc&T - Python for Data Science - 2022/2023__\n",
    "\n",
    "Contacts:\n",
    "- Mathurin Massias <mathurin.massias@gmail.com> (or use Slack)\n",
    "- Sylvain Combettes <sylvain.combettes8@gmail.com> (or use Slack)\n",
    "\n",
    "<font size=\"+3\"><mark>Plotting and Programming in Python (part 1/3) - Lecture 1 (part 1/2)</mark></font>\n",
    "\n",
    "<div class=\"alert alert-block alert-info\">\n",
    "    <b>READ ME</b>\n",
    "    <ul>\n",
    "        <li>This lecture is based on Software Carpentry's <a href=\"https://swcarpentry.github.io/python-novice-gapminder/\">Plotting and Programming in Python</a> lesson.</li>\n",
    "        <ul>\n",
    "            <li>This notebook covers the essentials from Software Carpentry (from <i>1. Running and Quitting</i> to <i>6. Libraries</i> (included)) as well as some important additional tips, tricks and remarks. The content that is present in this notebook but not on Software Carpentry is indicated with <mark>[NEW]</mark>.</li>\n",
    "            <li>The most important content is highlighted in yellow.</li>\n",
    "            <li>As this notebook only covers the essentials from Software Carpentry, a careful read of Software Carpentry is still recommended.</li>\n",
    "        </ul>\n",
    "        <li>An additional recommended resource is also: <a href=\"https://cs231n.github.io/python-numpy-tutorial/\">Python Numpy Tutorial (with Jupyter and Colab)</a>.\n",
    "        <li>This notebook is a refactored (cleaned and commented) version of the notebook Mathurin live-coded during the first lecture (first part) on Monday, September 26th 2022 morning.</li>\n",
    "        <li>Note that all bash commands are only tested for Unix: for Mac OS and Linux, but not Windows.</li>\n",
    "    </ul>\n",
    "</div>"
   ]
  },
  {
   "cell_type": "markdown",
   "id": "302834b8",
   "metadata": {},
   "source": [
    "# Running and Quitting: Jupyter Notebook\n",
    "\n",
    "- <mark>[NEW]</mark> From [Anaconda Navigator](https://docs.anaconda.com/anaconda/install/), it is recommended to use [_JupyterLab_](https://jupyterlab.readthedocs.io/en/stable/#) rather than _Jupyter Notebook_.\n",
    "    - From the official [Jupyter](https://jupyter.org/) website, JupyterLab is presented as \"A Next-Generation Notebook Interface\" while Jupyter Notebook is presented as \"The Classic Notebook Interface\".\n",
    "    - On the [documentation](https://jupyterlab.readthedocs.io/en/stable/getting_started/overview.html#jupyterlab-releases), it is also said:\n",
    "    >JupyterLab will eventually replace the classic Jupyter Notebook. Throughout this transition, the same notebook document format will be supported by both the classic Notebook and JupyterLab.\n",
    "    - <mark>Add the built-on [table of contents](https://jupyterlab.readthedocs.io/en/stable/user/toc.html) and use the side bar to navigate fast in the table of contents!</mark>\n",
    "    - If you prefer the dark mode: _Settings_ -> _Theme_ -> _JupyterLab Dark_.\n",
    "- A Jupyter notebook allows to write plain text (using the [Markdown](https://en.wikipedia.org/wiki/Markdown) format) and as well as code (for example Python) in the same file.\n",
    "- The extension of a notebook is `.ipynb` (for _IPython Notebook_ which is now called _Jupyter Notebook_), while the extension of a Python script is `.py`.\n",
    "- <mark>[NEW]</mark> Note: although it is not recommended in this lecture, instead of installing the software on your own laptop, you can run some Python code on the Cloud for free:\n",
    "    - [Google Colab](https://colab.research.google.com/notebooks/welcome.ipynb)\n",
    "    - [Kaggle Kernels](https://www.kaggle.com/getting-started/44939)"
   ]
  },
  {
   "cell_type": "markdown",
   "id": "3672afd5",
   "metadata": {},
   "source": [
    "## Shorcuts"
   ]
  },
  {
   "cell_type": "markdown",
   "id": "bc629ffe",
   "metadata": {},
   "source": [
    "- If you press <kbd>Esc</kbd> and <kbd>Return</kbd> alternately, the outer border of your code cell will change from gray to blue.\n",
    "- These are the __Command__ (gray) and __Edit__ (blue) modes of your notebook.\n",
    "- Command mode allows you to edit notebook-level features, and Edit mode changes the content of cells.\n",
    "- When in Command mode (esc/gray),\n",
    "    - The <kbd>b</kbd> key will make a new cell below the currently selected cell.\n",
    "    - The <kbd>a</kbd> key will make one above.\n",
    "    - The <kbd>x</kbd> key will delete the current cell.\n",
    "    - The <kbd>z</kbd> key will undo your last cell operation (which could be a deletion, creation, etc).\n",
    "- All actions can be done using the menus, but there are lots of keyboard shortcuts to speed things up."
   ]
  },
  {
   "cell_type": "markdown",
   "id": "3d28191a",
   "metadata": {},
   "source": [
    "- Pressing the <kbd>Return</kbd> key turns the border blue and engages Edit mode, which allows you to type within the cell.\n",
    "- Pressing <kbd>Shift</kbd>+<kbd>Return</kbd> together will execute the contents of the cell, and move the cursor to the following cell.\n",
    "- Notice that the <kbd>Return</kbd> and <kbd>Shift</kbd> keys on the right of the keyboard are right next to each other.\n",
    "- <mark>[NEW]</mark> Pressing <kbd>Control</kbd>+<kbd>Return</kbd> together will execute the contents of the cell, and the cursor will stay on the same cell. It is very useful when you want to execute several times the same cell."
   ]
  },
  {
   "cell_type": "markdown",
   "id": "a463986a",
   "metadata": {},
   "source": [
    "- Turn the current cell into a Markdown cell by entering the Command mode (<kbd>Esc</kbd>/gray) and press the <kbd>m</kbd> key.\n",
    "- Turn the current cell into a Code cell by entering the Command mode (<kbd>Esc</kbd>/gray) and press the <kbd>y</kbd> key."
   ]
  },
  {
   "cell_type": "markdown",
   "id": "dba24efe",
   "metadata": {},
   "source": [
    "- <mark>[NEW]</mark> Use <kbd>command</kbd>+<kbd>b</kbd> (for Mac, there is an equivalent shortcut for other systems) to make the side bar appear / diseappar."
   ]
  },
  {
   "cell_type": "markdown",
   "id": "92830f24",
   "metadata": {},
   "source": [
    "## Code cells"
   ]
  },
  {
   "cell_type": "code",
   "execution_count": 8,
   "id": "c59d6567",
   "metadata": {},
   "outputs": [
    {
     "data": {
      "text/plain": [
       "2"
      ]
     },
     "execution_count": 8,
     "metadata": {},
     "output_type": "execute_result"
    }
   ],
   "source": [
    "1+1"
   ]
  },
  {
   "cell_type": "markdown",
   "id": "04f38ff0",
   "metadata": {},
   "source": [
    "## Markdown cells"
   ]
  },
  {
   "cell_type": "markdown",
   "id": "53ef3a81",
   "metadata": {
    "tags": []
   },
   "source": [
    "<mark>[NEW]</mark> Markdown does most of what HTML does: you can create lists, links, $\\LaTeX$ equations, display images, etc:\n",
    "\n",
    "---\n",
    "normal, *italic*, **bold**, `my_function`, <kbd>keyboard key</kbd>, <mark>mark</mark>, [link](https://swcarpentry.github.io/python-novice-gapminder/01-run-quit/index.html#markdown-does-most-of-what-html-does)\n",
    "\n",
    "- bullet\n",
    "- list\n",
    "\n",
    "1. enumerate\n",
    "1. easy\n",
    "1. fast\n",
    "\n",
    "> quote\n",
    "\n",
    "<details><summary>Toggle me!</summary>Peek a boo!</details>\n",
    "\n",
    "<details open>\n",
    "<summary>Toogle list</summary>\n",
    "\n",
    "* elem \n",
    "* elem\n",
    "* elem\n",
    "\n",
    "</details>\n",
    "\n",
    "$\\sum_{k=0}^n a_k = 0$\n",
    "\n",
    "$$\\int_{a}^{b} x^2 \\,dx$$\n",
    "\n",
    "---\n",
    "\n",
    "*Note*: Double-click on this cell to see the Markdown syntax that displayed the text."
   ]
  },
  {
   "cell_type": "markdown",
   "id": "518597d9",
   "metadata": {},
   "source": [
    "<mark>[NEW]</mark> You can write HTML code into Markdown cells:\n",
    "\n",
    "<i>italic</i>, <b>bold</b>"
   ]
  },
  {
   "cell_type": "markdown",
   "id": "c8e457a8",
   "metadata": {},
   "source": [
    "<mark>[NEW]</mark> You can also write Python code as Markdown (so it will not be executed):\n",
    "\n",
    "```python\n",
    "def my_func(x):\n",
    "    return x**2\n",
    "\n",
    "```"
   ]
  },
  {
   "cell_type": "markdown",
   "id": "5d5af03c",
   "metadata": {},
   "source": [
    "<mark>[NEW]</mark> *Recommended further reading*:\n",
    "- Markdown Guide's [Basic Syntax](https://www.markdownguide.org/basic-syntax/) and [Extended Syntax\n",
    "](https://www.markdownguide.org/extended-syntax/)\n",
    "- GitLab's [Handbook Markdown Guide](https://about.gitlab.com/handbook/markdown-guide/)"
   ]
  },
  {
   "cell_type": "markdown",
   "id": "7d46599a",
   "metadata": {},
   "source": [
    "## <mark>[NEW]</mark> Bash commands in Jupyter Notebook"
   ]
  },
  {
   "cell_type": "markdown",
   "id": "0095cab3",
   "metadata": {},
   "source": [
    "_We will address bash commands specifically in another lecture. Here, we are just showing the syntax._\n",
    "\n",
    "In IPython (such as Jupyter Notebooks), any command that works at the command-line can be used in IPython by prefixing it with the `!` character:"
   ]
  },
  {
   "cell_type": "code",
   "execution_count": 9,
   "id": "fc8d6441",
   "metadata": {},
   "outputs": [
    {
     "name": "stdout",
     "output_type": "stream",
     "text": [
      "Python 3.7.4\n"
     ]
    }
   ],
   "source": [
    "!python --version  # display your Python version"
   ]
  },
  {
   "cell_type": "markdown",
   "id": "3cceba37",
   "metadata": {},
   "source": [
    "<mark>Make sure to use Python 3, and not Python 2 for example.</mark>"
   ]
  },
  {
   "cell_type": "markdown",
   "id": "467b5a25",
   "metadata": {},
   "source": [
    "Alternative:"
   ]
  },
  {
   "cell_type": "code",
   "execution_count": 10,
   "id": "e7d8e4fa",
   "metadata": {},
   "outputs": [
    {
     "name": "stdout",
     "output_type": "stream",
     "text": [
      "Python 3.7.4\n"
     ]
    }
   ],
   "source": [
    "!python -V"
   ]
  },
  {
   "cell_type": "markdown",
   "id": "97062c41",
   "metadata": {},
   "source": [
    "An alternative way to get your Python version (without using bash commands):"
   ]
  },
  {
   "cell_type": "code",
   "execution_count": 11,
   "id": "fec353fe",
   "metadata": {},
   "outputs": [
    {
     "name": "stdout",
     "output_type": "stream",
     "text": [
      "3.7.4 (default, Aug  9 2019, 18:34:13) [MSC v.1915 64 bit (AMD64)]\n"
     ]
    }
   ],
   "source": [
    "import sys\n",
    "print(sys.version)"
   ]
  },
  {
   "cell_type": "markdown",
   "id": "93ee6fa1",
   "metadata": {},
   "source": [
    "You can warn the user:"
   ]
  },
  {
   "cell_type": "code",
   "execution_count": 12,
   "id": "44a037e1",
   "metadata": {},
   "outputs": [],
   "source": [
    "if sys.version_info<(3,0,0):\n",
    "    sys.stderr.write(\"You are recommended to use Python 3 or later.\")\n",
    "    exit(1)"
   ]
  },
  {
   "cell_type": "markdown",
   "id": "1e04090a",
   "metadata": {},
   "source": [
    "## <mark>[NEW]</mark> Some important tips for Jupyter Notebooks"
   ]
  },
  {
   "cell_type": "markdown",
   "id": "0a4aa511",
   "metadata": {},
   "source": [
    "- You have <mark>auto-complete</mark> in Jupyter notebooks like you have in any other Jupyter environment. Simply hit the <kbd>Tab</kbd> key while writing code. This will open a menu with suggestions. Hit <kbd>Enter</kbd> to choose the suggestion. Further reading: [How to enable auto-completion in Jupyter Notebook](https://knowledge.dataiku.com/latest/kb/code/python/How-to-enable-auto-completion-in-Jupyter-Notebook.html).\n",
    "- You can use `tqdm` to see a progress bar in your loops. See [documentation](https://tqdm.github.io/).\n",
    "- Take full advantage of your <mark>keyboard shortcuts for document editing</mark> to save time. Some key examples using macOS:\n",
    "    - <kbd>option</kbd>+<kbd>&#8592</kbd>: move the insertion point to the beginning of the previous word\n",
    "    - <kbd>command</kbd>+<kbd>&#8592</kbd>: move the insertion point to the beginning of the current line\n",
    "    - <kbd>shift</kbd>+<kbd>command</kbd>+<kbd>&#8592</kbd>: select the text between the insertion point and the beginning of the current line\n",
    "    - <kbd>option</kbd>+<kbd>shift</kbd>+<kbd>&#8592</kbd>: extend text selection to the beginning of the current word, then to the beginning of the following word if pressed again\n",
    "    - <kbd>command</kbd>+<kbd>a</kbd>: select all items (of the selected cell)\n",
    "    - <kbd>tab</kbd> to tab (indent)\n",
    "    - <kbd>shift</kbd>+<kbd>tab</kbd> to remove tab (remove indent)\n",
    "    - <kbd>shift</kbd>+<kbd>option</kbd>+move cursor then <kbd>#</kbd> to comment several lines\n",
    "    - *Further reading*: [Mac keyboard shortcuts](https://support.apple.com/en-us/HT201236)"
   ]
  },
  {
   "cell_type": "markdown",
   "id": "53c1b93f",
   "metadata": {},
   "source": [
    "## <mark>[NEW] Some best practises</mark>"
   ]
  },
  {
   "cell_type": "markdown",
   "id": "adf5be80",
   "metadata": {},
   "source": [
    "- Put at the top of your notebook:\n",
    "    - all your imports, even if the imported function is only used once (_we will see in this notebook what imports are_)\n",
    "    - global variables that are used as configuration parameters (_we will see in this notebook what variables are_)\n",
    "    - configuration parameters (such as `np.set_printoptions(precision=3)`)\n",
    "- Regurlarly do *Kernel -> Restart Kernel and Clear All Outputs...* to make sure that your code is working well.\n",
    "    - Especially, before sharing your notebook to someone else (e.g. submitting your notebook for grading), do *Kernel -> Restart Kernel and Clear All Outputs...* then *Run -> Run All Cells*\n",
    "\n",
    "In a professional setting:\n",
    "- Notebooks can be exported into HTML files (*File -> Save and Export Notebook As... --> HTML*), so you can send it to someone that does not have installed Anaconda Navigator. The code will not be editable, but readable, especially for the graphs. It can be used for reporting to business units.\n",
    "- Once you have finished iterating over your notebook (i.e. when it is no longer a draft), try to wrap as much code lines as you can into functions that are named as a meaningful short sentences with a verb (e.g. `compute_distance`, `convert_values`). (_We will see in this notebook what functions are._)\n",
    "- If needed, you can export your notebook as a Python script (`.py`), do not copy-paste code cells one by one from your notebook to a Python script.\n"
   ]
  },
  {
   "cell_type": "markdown",
   "id": "3fa2233b",
   "metadata": {},
   "source": [
    "# Variables and Assignment"
   ]
  },
  {
   "cell_type": "markdown",
   "id": "fc33df2c",
   "metadata": {},
   "source": [
    "Variables must be created before they are used:"
   ]
  },
  {
   "cell_type": "code",
   "execution_count": 6,
   "id": "52804929",
   "metadata": {},
   "outputs": [
    {
     "ename": "NameError",
     "evalue": "name 'z' is not defined",
     "output_type": "error",
     "traceback": [
      "\u001b[0;31m---------------------------------------------------------------------------\u001b[0m",
      "\u001b[0;31mNameError\u001b[0m                                 Traceback (most recent call last)",
      "Input \u001b[0;32mIn [6]\u001b[0m, in \u001b[0;36m<cell line: 1>\u001b[0;34m()\u001b[0m\n\u001b[0;32m----> 1\u001b[0m \u001b[38;5;28mprint\u001b[39m(\u001b[43mz\u001b[49m)\n\u001b[1;32m      2\u001b[0m z \u001b[38;5;241m=\u001b[39m \u001b[38;5;241m12\u001b[39m\n",
      "\u001b[0;31mNameError\u001b[0m: name 'z' is not defined"
     ]
    }
   ],
   "source": [
    "print(z)\n",
    "z = 12"
   ]
  },
  {
   "cell_type": "markdown",
   "id": "790a320b",
   "metadata": {},
   "source": [
    "## Use variables to store values"
   ]
  },
  {
   "cell_type": "markdown",
   "id": "36f5cf8c",
   "metadata": {},
   "source": [
    "Declare a variable:"
   ]
  },
  {
   "cell_type": "code",
   "execution_count": 7,
   "id": "c8499de8",
   "metadata": {},
   "outputs": [
    {
     "data": {
      "text/plain": [
       "12"
      ]
     },
     "execution_count": 7,
     "metadata": {},
     "output_type": "execute_result"
    }
   ],
   "source": [
    "a = 12\n",
    "a"
   ]
  },
  {
   "cell_type": "markdown",
   "id": "3b27f809",
   "metadata": {},
   "source": [
    "Variables persist between cells:"
   ]
  },
  {
   "cell_type": "code",
   "execution_count": 8,
   "id": "84b38878",
   "metadata": {},
   "outputs": [
    {
     "data": {
      "text/plain": [
       "12"
      ]
     },
     "execution_count": 8,
     "metadata": {},
     "output_type": "execute_result"
    }
   ],
   "source": [
    "a"
   ]
  },
  {
   "cell_type": "markdown",
   "id": "e8e60b0f",
   "metadata": {},
   "source": [
    "Variable names can **only** contain letters, digits, and underscore _ (typically used to separate words in long variable names):"
   ]
  },
  {
   "cell_type": "code",
   "execution_count": 9,
   "id": "a79f07be",
   "metadata": {},
   "outputs": [
    {
     "ename": "SyntaxError",
     "evalue": "invalid syntax (4048436767.py, line 1)",
     "output_type": "error",
     "traceback": [
      "\u001b[0;36m  Input \u001b[0;32mIn [9]\u001b[0;36m\u001b[0m\n\u001b[0;31m    a!_1 = 34\u001b[0m\n\u001b[0m     ^\u001b[0m\n\u001b[0;31mSyntaxError\u001b[0m\u001b[0;31m:\u001b[0m invalid syntax\n"
     ]
    }
   ],
   "source": [
    "a!_1 = 34"
   ]
  },
  {
   "cell_type": "markdown",
   "id": "929eddc3",
   "metadata": {},
   "source": [
    "Variable names cannot start with a digit:"
   ]
  },
  {
   "cell_type": "code",
   "execution_count": 10,
   "id": "bc2829d7",
   "metadata": {},
   "outputs": [
    {
     "ename": "SyntaxError",
     "evalue": "invalid decimal literal (3702682877.py, line 1)",
     "output_type": "error",
     "traceback": [
      "\u001b[0;36m  Input \u001b[0;32mIn [10]\u001b[0;36m\u001b[0m\n\u001b[0;31m    1age = 34\u001b[0m\n\u001b[0m    ^\u001b[0m\n\u001b[0;31mSyntaxError\u001b[0m\u001b[0;31m:\u001b[0m invalid decimal literal\n"
     ]
    }
   ],
   "source": [
    "1age = 34"
   ]
  },
  {
   "cell_type": "code",
   "execution_count": 11,
   "id": "4e4ba6c4",
   "metadata": {},
   "outputs": [
    {
     "data": {
      "text/plain": [
       "34"
      ]
     },
     "execution_count": 11,
     "metadata": {},
     "output_type": "execute_result"
    }
   ],
   "source": [
    "age_1 = 34\n",
    "age_1"
   ]
  },
  {
   "cell_type": "markdown",
   "id": "e350a57e",
   "metadata": {},
   "source": [
    "Variable names are case sensitive (`age`, `Age` and `AGE` are three different variables):"
   ]
  },
  {
   "cell_type": "code",
   "execution_count": 12,
   "id": "86c76ff3",
   "metadata": {},
   "outputs": [
    {
     "ename": "NameError",
     "evalue": "name 'age' is not defined",
     "output_type": "error",
     "traceback": [
      "\u001b[0;31m---------------------------------------------------------------------------\u001b[0m",
      "\u001b[0;31mNameError\u001b[0m                                 Traceback (most recent call last)",
      "Input \u001b[0;32mIn [12]\u001b[0m, in \u001b[0;36m<cell line: 1>\u001b[0;34m()\u001b[0m\n\u001b[0;32m----> 1\u001b[0m \u001b[43mage\u001b[49m\n",
      "\u001b[0;31mNameError\u001b[0m: name 'age' is not defined"
     ]
    }
   ],
   "source": [
    "age"
   ]
  },
  {
   "cell_type": "code",
   "execution_count": 13,
   "id": "6c7ccc2e",
   "metadata": {},
   "outputs": [
    {
     "data": {
      "text/plain": [
       "43"
      ]
     },
     "execution_count": 13,
     "metadata": {},
     "output_type": "execute_result"
    }
   ],
   "source": [
    "Age = 43\n",
    "Age"
   ]
  },
  {
   "cell_type": "code",
   "execution_count": 14,
   "id": "6906fdf5",
   "metadata": {},
   "outputs": [
    {
     "data": {
      "text/plain": [
       "52"
      ]
     },
     "execution_count": 14,
     "metadata": {},
     "output_type": "execute_result"
    }
   ],
   "source": [
    "AGE = 52\n",
    "AGE"
   ]
  },
  {
   "cell_type": "markdown",
   "id": "42468d84",
   "metadata": {},
   "source": [
    "<mark>[NEW]</mark> Declaring multiple variables:"
   ]
  },
  {
   "cell_type": "code",
   "execution_count": 15,
   "id": "784622c3",
   "metadata": {},
   "outputs": [],
   "source": [
    "firstname, lastname, age = \"John\", \"Doe\", 42"
   ]
  },
  {
   "cell_type": "markdown",
   "id": "7039d085",
   "metadata": {},
   "source": [
    "<mark>[NEW]</mark> Jupyter notebook cells will only output the last variable:"
   ]
  },
  {
   "cell_type": "code",
   "execution_count": 16,
   "id": "1b15cc17",
   "metadata": {},
   "outputs": [
    {
     "data": {
      "text/plain": [
       "42"
      ]
     },
     "execution_count": 16,
     "metadata": {},
     "output_type": "execute_result"
    }
   ],
   "source": [
    "firstname\n",
    "lastname\n",
    "age"
   ]
  },
  {
   "cell_type": "markdown",
   "id": "051e45c6",
   "metadata": {},
   "source": [
    "See the next subsection:"
   ]
  },
  {
   "cell_type": "markdown",
   "id": "a9465d5b",
   "metadata": {},
   "source": [
    "## Use `print` to display values"
   ]
  },
  {
   "cell_type": "code",
   "execution_count": 17,
   "id": "7b63d557",
   "metadata": {},
   "outputs": [
    {
     "name": "stdout",
     "output_type": "stream",
     "text": [
      "John\n",
      "Doe\n",
      "42\n"
     ]
    }
   ],
   "source": [
    "print(firstname)\n",
    "print(lastname)\n",
    "print(age)"
   ]
  },
  {
   "cell_type": "code",
   "execution_count": 18,
   "id": "590e9e2b",
   "metadata": {},
   "outputs": [
    {
     "name": "stdout",
     "output_type": "stream",
     "text": [
      "John is 42\n"
     ]
    }
   ],
   "source": [
    "print(firstname, 'is', age)"
   ]
  },
  {
   "cell_type": "markdown",
   "id": "c1c18121",
   "metadata": {},
   "source": [
    "### <mark>[NEW]</mark> Using f-strings"
   ]
  },
  {
   "cell_type": "markdown",
   "id": "6c4f2f08",
   "metadata": {},
   "source": [
    "f-strings are more elegant to print variables:"
   ]
  },
  {
   "cell_type": "code",
   "execution_count": 19,
   "id": "7e872176",
   "metadata": {},
   "outputs": [
    {
     "name": "stdout",
     "output_type": "stream",
     "text": [
      "John is 42\n"
     ]
    }
   ],
   "source": [
    "print(f\"{firstname} is {age}\")"
   ]
  },
  {
   "cell_type": "markdown",
   "id": "b397789b",
   "metadata": {},
   "source": [
    "When using f-strings, do not forget to put the `f`:"
   ]
  },
  {
   "cell_type": "code",
   "execution_count": 20,
   "id": "c1550857",
   "metadata": {},
   "outputs": [
    {
     "name": "stdout",
     "output_type": "stream",
     "text": [
      "{firstname} is {age}\n"
     ]
    }
   ],
   "source": [
    "print(\"{firstname} is {age}\")"
   ]
  },
  {
   "cell_type": "markdown",
   "id": "431e83d6",
   "metadata": {},
   "source": [
    "Quickly display the value of a variable with its variable name:"
   ]
  },
  {
   "cell_type": "code",
   "execution_count": 21,
   "id": "9a74bfce",
   "metadata": {},
   "outputs": [
    {
     "name": "stdout",
     "output_type": "stream",
     "text": [
      "result_addition = 5\n"
     ]
    }
   ],
   "source": [
    "result_addition = 2+3\n",
    "print(f\"{result_addition = }\")"
   ]
  },
  {
   "cell_type": "code",
   "execution_count": 22,
   "id": "ce1e845f",
   "metadata": {},
   "outputs": [
    {
     "name": "stdout",
     "output_type": "stream",
     "text": [
      "result_addition = 5\n",
      "result_multplication = 6\n"
     ]
    }
   ],
   "source": [
    "result_addition = 2+3\n",
    "result_multplication = 2*3\n",
    "print(f\"{result_addition = }\\n{result_multplication = }\")"
   ]
  },
  {
   "cell_type": "markdown",
   "id": "c9fdb872",
   "metadata": {},
   "source": [
    "### <mark>[NEW]</mark> Using Pretty Print"
   ]
  },
  {
   "cell_type": "code",
   "execution_count": 23,
   "id": "3439615b",
   "metadata": {},
   "outputs": [],
   "source": [
    "example = [\n",
    "    {'Name': 'John', 'Age': '23', 'Country': 'USA'},\n",
    "    {'Name': 'Jose', 'Age': '44', 'Country': 'Spain'},\n",
    "    {'Name': 'Anne', 'Age': '29', 'Country': 'UK'},\n",
    "    {'Name': 'Lee', 'Age': '35', 'Country': 'Japan'}\n",
    "]"
   ]
  },
  {
   "cell_type": "markdown",
   "id": "94e85779",
   "metadata": {},
   "source": [
    "Using the standard `print`:"
   ]
  },
  {
   "cell_type": "code",
   "execution_count": 24,
   "id": "439425f4",
   "metadata": {},
   "outputs": [
    {
     "name": "stdout",
     "output_type": "stream",
     "text": [
      "[{'Name': 'John', 'Age': '23', 'Country': 'USA'}, {'Name': 'Jose', 'Age': '44', 'Country': 'Spain'}, {'Name': 'Anne', 'Age': '29', 'Country': 'UK'}, {'Name': 'Lee', 'Age': '35', 'Country': 'Japan'}]\n"
     ]
    }
   ],
   "source": [
    "print(example)"
   ]
  },
  {
   "cell_type": "markdown",
   "id": "853144fb",
   "metadata": {},
   "source": [
    "Using the `pprint` function from the `pprint` library:"
   ]
  },
  {
   "cell_type": "code",
   "execution_count": 25,
   "id": "a97419ed",
   "metadata": {},
   "outputs": [
    {
     "name": "stdout",
     "output_type": "stream",
     "text": [
      "[{'Age': '23', 'Country': 'USA', 'Name': 'John'},\n",
      " {'Age': '44', 'Country': 'Spain', 'Name': 'Jose'},\n",
      " {'Age': '29', 'Country': 'UK', 'Name': 'Anne'},\n",
      " {'Age': '35', 'Country': 'Japan', 'Name': 'Lee'}]\n"
     ]
    }
   ],
   "source": [
    "import pprint as pp\n",
    "pp.pprint(example)"
   ]
  },
  {
   "cell_type": "markdown",
   "id": "92785337",
   "metadata": {},
   "source": [
    "*Further reading*: [Prettify Your Data Structures With Pretty Print in Python](https://realpython.com/python-pretty-print/).\n",
    "\n",
    "*More information on importing a library and on Python packages is given further in this notebook and in Lab 1.*"
   ]
  },
  {
   "cell_type": "markdown",
   "id": "163c4ee7",
   "metadata": {},
   "source": [
    "## <mark>[NEW]</mark> See current user-defined variables, delete variables"
   ]
  },
  {
   "cell_type": "markdown",
   "id": "368f3918",
   "metadata": {},
   "source": [
    "You can use the `%who` magic line to display the current user-defined variables:"
   ]
  },
  {
   "cell_type": "code",
   "execution_count": 26,
   "id": "69a160b4",
   "metadata": {},
   "outputs": [
    {
     "name": "stdout",
     "output_type": "stream",
     "text": [
      "AGE\t Age\t a\t age\t age_1\t example\t firstname\t lastname\t pp\t \n",
      "result_addition\t result_multplication\t sys\t \n"
     ]
    }
   ],
   "source": [
    "%who"
   ]
  },
  {
   "cell_type": "markdown",
   "id": "d0947c56",
   "metadata": {},
   "source": [
    "You can use the `%whos` magic line to display the current user-defined variables with more info:"
   ]
  },
  {
   "cell_type": "code",
   "execution_count": 27,
   "id": "82e62464",
   "metadata": {},
   "outputs": [
    {
     "name": "stdout",
     "output_type": "stream",
     "text": [
      "Variable               Type      Data/Info\n",
      "------------------------------------------\n",
      "AGE                    int       52\n",
      "Age                    int       43\n",
      "a                      int       12\n",
      "age                    int       42\n",
      "age_1                  int       34\n",
      "example                list      n=4\n",
      "firstname              str       John\n",
      "lastname               str       Doe\n",
      "pp                     module    <module 'pprint' from '/U<...>ib/python3.10/pprint.py'>\n",
      "result_addition        int       5\n",
      "result_multplication   int       6\n",
      "sys                    module    <module 'sys' (built-in)>\n"
     ]
    }
   ],
   "source": [
    "%whos"
   ]
  },
  {
   "cell_type": "markdown",
   "id": "72bfac26",
   "metadata": {},
   "source": [
    "You can delete some variables:"
   ]
  },
  {
   "cell_type": "code",
   "execution_count": 28,
   "id": "8b1c08f2",
   "metadata": {},
   "outputs": [
    {
     "name": "stdout",
     "output_type": "stream",
     "text": [
      "Variable               Type      Data/Info\n",
      "------------------------------------------\n",
      "AGE                    int       52\n",
      "Age                    int       43\n",
      "age                    int       42\n",
      "age_1                  int       34\n",
      "example                list      n=4\n",
      "firstname              str       John\n",
      "lastname               str       Doe\n",
      "pp                     module    <module 'pprint' from '/U<...>ib/python3.10/pprint.py'>\n",
      "result_addition        int       5\n",
      "result_multplication   int       6\n",
      "sys                    module    <module 'sys' (built-in)>\n"
     ]
    }
   ],
   "source": [
    "del a\n",
    "%whos"
   ]
  },
  {
   "cell_type": "markdown",
   "id": "8ef9d0bc",
   "metadata": {},
   "source": [
    "You can delete several variables at once:"
   ]
  },
  {
   "cell_type": "code",
   "execution_count": 29,
   "id": "26fd322e",
   "metadata": {},
   "outputs": [
    {
     "name": "stdout",
     "output_type": "stream",
     "text": [
      "Variable               Type      Data/Info\n",
      "------------------------------------------\n",
      "AGE                    int       52\n",
      "Age                    int       43\n",
      "age                    int       42\n",
      "age_1                  int       34\n",
      "example                list      n=4\n",
      "pp                     module    <module 'pprint' from '/U<...>ib/python3.10/pprint.py'>\n",
      "result_addition        int       5\n",
      "result_multplication   int       6\n",
      "sys                    module    <module 'sys' (built-in)>\n"
     ]
    }
   ],
   "source": [
    "del firstname, lastname\n",
    "%whos"
   ]
  },
  {
   "cell_type": "markdown",
   "id": "2d9a7ffb",
   "metadata": {
    "tags": []
   },
   "source": [
    "Why delete a variable?\n",
    "- to free some memory space\n",
    "- to make sure to not use this variable name by mistake: from time to time restart your kernel and clear all outputs to make sure that your code is running smoothly"
   ]
  },
  {
   "cell_type": "markdown",
   "id": "3014b510",
   "metadata": {},
   "source": [
    "## Variables can be used in calculations"
   ]
  },
  {
   "cell_type": "code",
   "execution_count": 30,
   "id": "0c1f5c39",
   "metadata": {},
   "outputs": [
    {
     "name": "stdout",
     "output_type": "stream",
     "text": [
      "In three years, he will be 45.\n"
     ]
    }
   ],
   "source": [
    "new_age = age + 3\n",
    "print(f\"In three years, he will be {new_age}.\")"
   ]
  },
  {
   "cell_type": "markdown",
   "id": "b8dcc8ff",
   "metadata": {},
   "source": [
    "## Use an index to get a single character from a string"
   ]
  },
  {
   "cell_type": "code",
   "execution_count": 31,
   "id": "7312e917",
   "metadata": {},
   "outputs": [],
   "source": [
    "atom_name = \"helium\""
   ]
  },
  {
   "cell_type": "markdown",
   "id": "5cc9e4b2",
   "metadata": {},
   "source": [
    "*Important*: <mark>Python indices are numbered from 0 (and not 1)</mark>:"
   ]
  },
  {
   "cell_type": "code",
   "execution_count": 32,
   "id": "dad42da1",
   "metadata": {},
   "outputs": [
    {
     "name": "stdout",
     "output_type": "stream",
     "text": [
      "h\n",
      "e\n"
     ]
    }
   ],
   "source": [
    "print(atom_name[0])\n",
    "print(atom_name[1])"
   ]
  },
  {
   "cell_type": "markdown",
   "id": "637a24a6",
   "metadata": {},
   "source": [
    "Access the last character:"
   ]
  },
  {
   "cell_type": "code",
   "execution_count": 33,
   "id": "2c79e090",
   "metadata": {},
   "outputs": [
    {
     "name": "stdout",
     "output_type": "stream",
     "text": [
      "m\n",
      "m\n"
     ]
    }
   ],
   "source": [
    "print(atom_name[5])\n",
    "print(atom_name[-1])"
   ]
  },
  {
   "cell_type": "code",
   "execution_count": 34,
   "id": "50276835",
   "metadata": {},
   "outputs": [
    {
     "ename": "IndexError",
     "evalue": "string index out of range",
     "output_type": "error",
     "traceback": [
      "\u001b[0;31m---------------------------------------------------------------------------\u001b[0m",
      "\u001b[0;31mIndexError\u001b[0m                                Traceback (most recent call last)",
      "Input \u001b[0;32mIn [34]\u001b[0m, in \u001b[0;36m<cell line: 1>\u001b[0;34m()\u001b[0m\n\u001b[0;32m----> 1\u001b[0m \u001b[43matom_name\u001b[49m\u001b[43m[\u001b[49m\u001b[38;5;241;43m6\u001b[39;49m\u001b[43m]\u001b[49m\n",
      "\u001b[0;31mIndexError\u001b[0m: string index out of range"
     ]
    }
   ],
   "source": [
    "atom_name[6]"
   ]
  },
  {
   "cell_type": "code",
   "execution_count": 35,
   "id": "f1d2f388",
   "metadata": {},
   "outputs": [
    {
     "ename": "IndexError",
     "evalue": "string index out of range",
     "output_type": "error",
     "traceback": [
      "\u001b[0;31m---------------------------------------------------------------------------\u001b[0m",
      "\u001b[0;31mIndexError\u001b[0m                                Traceback (most recent call last)",
      "Input \u001b[0;32mIn [35]\u001b[0m, in \u001b[0;36m<cell line: 1>\u001b[0;34m()\u001b[0m\n\u001b[0;32m----> 1\u001b[0m \u001b[43matom_name\u001b[49m\u001b[43m[\u001b[49m\u001b[38;5;28;43mlen\u001b[39;49m\u001b[43m(\u001b[49m\u001b[43matom_name\u001b[49m\u001b[43m)\u001b[49m\u001b[43m]\u001b[49m\n",
      "\u001b[0;31mIndexError\u001b[0m: string index out of range"
     ]
    }
   ],
   "source": [
    "atom_name[len(atom_name)]"
   ]
  },
  {
   "cell_type": "markdown",
   "id": "470a0643",
   "metadata": {},
   "source": [
    "## Use a slice to get a substring"
   ]
  },
  {
   "cell_type": "code",
   "execution_count": 36,
   "id": "aa376f4f",
   "metadata": {},
   "outputs": [
    {
     "data": {
      "text/plain": [
       "'hel'"
      ]
     },
     "execution_count": 36,
     "metadata": {},
     "output_type": "execute_result"
    }
   ],
   "source": [
    "atom_name[0:3]  # index 3 is excluded"
   ]
  },
  {
   "cell_type": "markdown",
   "id": "8e34170d",
   "metadata": {},
   "source": [
    "## Use the built-in function len to find the length of a string"
   ]
  },
  {
   "cell_type": "code",
   "execution_count": 37,
   "id": "6cc4c346",
   "metadata": {},
   "outputs": [
    {
     "data": {
      "text/plain": [
       "6"
      ]
     },
     "execution_count": 37,
     "metadata": {},
     "output_type": "execute_result"
    }
   ],
   "source": [
    "len(atom_name)  # `len` is a built-in function, there is no need to import it"
   ]
  },
  {
   "cell_type": "markdown",
   "id": "faac4958",
   "metadata": {},
   "source": [
    "## Use meaningful variable names"
   ]
  },
  {
   "cell_type": "markdown",
   "id": "344f751f",
   "metadata": {},
   "source": [
    "Use meaningful variable names to help other people understand what the program does.\n",
    "\n",
    "Poor variable name:"
   ]
  },
  {
   "cell_type": "code",
   "execution_count": 38,
   "id": "8e0a673f",
   "metadata": {},
   "outputs": [
    {
     "name": "stdout",
     "output_type": "stream",
     "text": [
      "My age is 42.\n"
     ]
    }
   ],
   "source": [
    "ehfksdjrthlkjze = 42\n",
    "print(f\"My age is {ehfksdjrthlkjze}.\")"
   ]
  },
  {
   "cell_type": "markdown",
   "id": "32a02fd0",
   "metadata": {},
   "source": [
    "Meaningful variable name:"
   ]
  },
  {
   "cell_type": "code",
   "execution_count": 39,
   "id": "f7df99c3",
   "metadata": {},
   "outputs": [
    {
     "name": "stdout",
     "output_type": "stream",
     "text": [
      "My age is 42.\n"
     ]
    }
   ],
   "source": [
    "age = 42\n",
    "print(f\"My age is {age}.\")"
   ]
  },
  {
   "cell_type": "markdown",
   "id": "cda83324",
   "metadata": {},
   "source": [
    "<mark>[NEW]</mark> <mark>Always use the English natural language for your variable names! Same goes for your comments, etc</mark>\n",
    "\n",
    "<mark>[NEW]</mark> Moreover, especially for those with a mathematical background, do not use mathematical variables as Python variable names:\n",
    "\n",
    "Poor variable names:\n",
    "```python\n",
    "y = m1 * x1 + m2 * (x2 ** 2)\n",
    "```\n",
    "\n",
    "Meaningful variables names:\n",
    "```python\n",
    "house_price = price_per_room * rooms + price_per_floor_squared * (floors ** 2)\n",
    "```\n",
    "\n",
    "*Further reading*: [Data Scientists, Your Variable Names Are a Mess. Clean Up Your Code.](https://builtin.com/data-science/variable-names)"
   ]
  },
  {
   "cell_type": "markdown",
   "id": "ce5d9137",
   "metadata": {},
   "source": [
    "*Exercise*: swapping values"
   ]
  },
  {
   "cell_type": "code",
   "execution_count": 40,
   "id": "be992b21",
   "metadata": {},
   "outputs": [
    {
     "name": "stdout",
     "output_type": "stream",
     "text": [
      "a = 1\n",
      "b = 10\n"
     ]
    }
   ],
   "source": [
    "a = 1\n",
    "b = 10\n",
    "print(f\"{a = }\")\n",
    "print(f\"{b = }\")"
   ]
  },
  {
   "cell_type": "code",
   "execution_count": 41,
   "id": "4fbc41ff",
   "metadata": {},
   "outputs": [
    {
     "name": "stdout",
     "output_type": "stream",
     "text": [
      "a = 10\n",
      "b = 1\n"
     ]
    }
   ],
   "source": [
    "# TODO\n",
    "swap = a\n",
    "a = b \n",
    "b = swap\n",
    "print(f\"{a = }\")\n",
    "print(f\"{b = }\")"
   ]
  },
  {
   "cell_type": "markdown",
   "id": "5dd5e28e",
   "metadata": {},
   "source": [
    "<mark>[NEW]</mark> Using tuples:"
   ]
  },
  {
   "cell_type": "code",
   "execution_count": 42,
   "id": "e9693cc4",
   "metadata": {},
   "outputs": [
    {
     "name": "stdout",
     "output_type": "stream",
     "text": [
      "a = 1\n",
      "b = 10\n",
      "Swapping:\n",
      "a = 10\n",
      "b = 1\n"
     ]
    }
   ],
   "source": [
    "a = 1\n",
    "b = 10\n",
    "print(f\"{a = }\")\n",
    "print(f\"{b = }\")\n",
    "\n",
    "print(\"Swapping:\")\n",
    "b, a = a, b\n",
    "print(f\"{a = }\")\n",
    "print(f\"{b = }\")"
   ]
  },
  {
   "cell_type": "markdown",
   "id": "5d9075d0",
   "metadata": {},
   "source": [
    "*Exercise*: What is the final value of `position` in the program below?"
   ]
  },
  {
   "cell_type": "code",
   "execution_count": 43,
   "id": "345ee222",
   "metadata": {},
   "outputs": [
    {
     "name": "stdout",
     "output_type": "stream",
     "text": [
      "left\n"
     ]
    }
   ],
   "source": [
    "initial = 'left'\n",
    "position = initial\n",
    "initial = 'right'\n",
    "print(position)"
   ]
  },
  {
   "cell_type": "markdown",
   "id": "742d1cd5",
   "metadata": {},
   "source": [
    "*Exercise*: Which is a better variable name, `m`, `min`, or `minutes`?\n",
    "\n",
    "```python\n",
    "ts = 60 * m + s\n",
    "tot_sec = 60 * min + sec\n",
    "total_seconds = 60 * minutes + seconds\n",
    "```"
   ]
  },
  {
   "cell_type": "markdown",
   "id": "dbde467f",
   "metadata": {},
   "source": [
    "<mark>[NEW]</mark> *Note*: Nowadays, thanks to auto-completion, it is ok to have (meaningful) variable names that are quite long because the user does not need to loose time writing the whole variable name:"
   ]
  },
  {
   "cell_type": "code",
   "execution_count": 44,
   "id": "c7faea03",
   "metadata": {},
   "outputs": [],
   "source": [
    "total_seconds = 10"
   ]
  },
  {
   "cell_type": "code",
   "execution_count": 45,
   "id": "2859c8a2",
   "metadata": {},
   "outputs": [
    {
     "data": {
      "text/plain": [
       "10"
      ]
     },
     "execution_count": 45,
     "metadata": {},
     "output_type": "execute_result"
    }
   ],
   "source": [
    "# Type the first letters of the variable name and press the `tab` key for auto-completion:\n",
    "total_seconds "
   ]
  },
  {
   "cell_type": "markdown",
   "id": "6d9312b7",
   "metadata": {},
   "source": [
    "<mark>[NEW]</mark> `min` is actually an existing built-in function in Python:"
   ]
  },
  {
   "cell_type": "code",
   "execution_count": 46,
   "id": "e8b37dd5",
   "metadata": {},
   "outputs": [
    {
     "data": {
      "text/plain": [
       "-1"
      ]
     },
     "execution_count": 46,
     "metadata": {},
     "output_type": "execute_result"
    }
   ],
   "source": [
    "min([0, 1, 3, -1])"
   ]
  },
  {
   "cell_type": "markdown",
   "id": "ef8305a9",
   "metadata": {},
   "source": [
    "But we can still use it as a variable name:"
   ]
  },
  {
   "cell_type": "code",
   "execution_count": 47,
   "id": "0a45f385",
   "metadata": {},
   "outputs": [
    {
     "name": "stdout",
     "output_type": "stream",
     "text": [
      "11\n"
     ]
    }
   ],
   "source": [
    "min = 11\n",
    "print(min)"
   ]
  },
  {
   "cell_type": "markdown",
   "id": "79feae33",
   "metadata": {},
   "source": [
    "but the `min` function will no longer work:"
   ]
  },
  {
   "cell_type": "code",
   "execution_count": 48,
   "id": "d771744b",
   "metadata": {},
   "outputs": [
    {
     "ename": "TypeError",
     "evalue": "'int' object is not callable",
     "output_type": "error",
     "traceback": [
      "\u001b[0;31m---------------------------------------------------------------------------\u001b[0m",
      "\u001b[0;31mTypeError\u001b[0m                                 Traceback (most recent call last)",
      "Input \u001b[0;32mIn [48]\u001b[0m, in \u001b[0;36m<cell line: 1>\u001b[0;34m()\u001b[0m\n\u001b[0;32m----> 1\u001b[0m \u001b[38;5;28;43mmin\u001b[39;49m\u001b[43m(\u001b[49m\u001b[43m[\u001b[49m\u001b[38;5;241;43m0\u001b[39;49m\u001b[43m,\u001b[49m\u001b[43m \u001b[49m\u001b[38;5;241;43m1\u001b[39;49m\u001b[43m,\u001b[49m\u001b[43m \u001b[49m\u001b[38;5;241;43m3\u001b[39;49m\u001b[43m,\u001b[49m\u001b[43m \u001b[49m\u001b[38;5;241;43m-\u001b[39;49m\u001b[38;5;241;43m1\u001b[39;49m\u001b[43m]\u001b[49m\u001b[43m)\u001b[49m\n",
      "\u001b[0;31mTypeError\u001b[0m: 'int' object is not callable"
     ]
    }
   ],
   "source": [
    "min([0, 1, 3, -1])"
   ]
  },
  {
   "cell_type": "markdown",
   "id": "c91df443",
   "metadata": {},
   "source": [
    "Let us delete the `min` variable to be able to use the `min` function again:"
   ]
  },
  {
   "cell_type": "code",
   "execution_count": 49,
   "id": "fed24d97",
   "metadata": {},
   "outputs": [
    {
     "name": "stdout",
     "output_type": "stream",
     "text": [
      "-1\n"
     ]
    }
   ],
   "source": [
    "del min\n",
    "print(min([0, 1, 3, -1]))"
   ]
  },
  {
   "cell_type": "markdown",
   "id": "8aef8c5a",
   "metadata": {},
   "source": [
    "## <mark>[NEW]</mark> Some PEP8 recommendations to make your code user-readable"
   ]
  },
  {
   "cell_type": "markdown",
   "id": "676058b4",
   "metadata": {},
   "source": [
    "Some key points:\n",
    "- never write a line that is longer than 80 characters\n",
    "- put spaces around equal (except in a function call)\n",
    "- put spaces after commas\n",
    "- put spaces around binary operators\n",
    "\n",
    "Resource: [How to Write Beautiful Python Code With PEP 8](https://realpython.com/python-pep8/).\n",
    "\n",
    "You can also use autoformatters, especially for Python scripts on Visual Studio Code.\n",
    "\n",
    "These conventions help the readability of your code, these rules exist for a reason."
   ]
  },
  {
   "cell_type": "markdown",
   "id": "b65c511f",
   "metadata": {},
   "source": [
    "Some examples:\n",
    "```python\n",
    "a=1+2/3+6*norm(X)/std(X,axis=1)  # not recommended\n",
    "a = 1 + 2/3 + 6 * norm(X) / std(X, axis=1)  # recommended\n",
    "\n",
    "print(np.arange(2,15,3))  # not recommended\n",
    "print(np.arange(2, 15, 3))  # recommended\n",
    "\n",
    "np.dot(np.arange(5),np.ones(5))  # not recommended\n",
    "np.dot(np.arange(5), np.ones(5))  # recommended\n",
    "\n",
    "np.random.uniform(-1,1,size = (5,6))  # not recommended\n",
    "np.random.uniform(-1, 1, size=(5, 6))  # recommended\n",
    "\n",
    "np.allclose(x,0.1)  # not recommended\n",
    "np.allclose(x, 0.1)  # recommended\n",
    "\n",
    "[i**2 for i in range(1,12)]  # not recommended\n",
    "[i**2 for i in range(1, 12)]  # recommended\n",
    "\n",
    "np.dot(x,y)  # not recommended\n",
    "np.dot(x, y)  # recommended\n",
    "\n",
    "# not recommended:\n",
    "my_total_variables_seconds_that_i_computed = my_total_variables_seconds_that_i_computed + my_total_variables_sum_that_i_computed / my_total_variables_division_that_i_computed \n",
    "```"
   ]
  },
  {
   "cell_type": "markdown",
   "id": "41081ed6",
   "metadata": {},
   "source": [
    "For variables names: use a lowercase single letter, word, or words. Separate words with underscores to improve readability. However, some variables can be upper case if they correspond to a matrix:\n",
    "```python\n",
    "X_train  # matrix\n",
    "y_train  # vector\n",
    "model.fit(X_train, y_train)\n",
    "```"
   ]
  },
  {
   "cell_type": "markdown",
   "id": "8ebc7e8a",
   "metadata": {},
   "source": [
    "# Data Types and Type Conversion"
   ]
  },
  {
   "cell_type": "markdown",
   "id": "4b8d2bbb",
   "metadata": {},
   "source": [
    "## Every value has a type\n",
    "\n",
    "- Every value in a program has a specific type.\n",
    "- Integer (`int`): represents positive or negative whole numbers like 3 or -512.\n",
    "- Floating point number (`float`): represents real numbers like 3.14159 or -2.5.\n",
    "- Character string (usually called \"string\", `str`): text.\n",
    "    - Written in either single quotes or double quotes (as long as they match).\n",
    "    - The quote marks aren’t printed when the string is displayed."
   ]
  },
  {
   "cell_type": "markdown",
   "id": "cd5f8849",
   "metadata": {},
   "source": [
    "## Use the built-in function `type` to find the type of a value"
   ]
  },
  {
   "cell_type": "code",
   "execution_count": 50,
   "id": "fc1da758",
   "metadata": {},
   "outputs": [
    {
     "data": {
      "text/plain": [
       "int"
      ]
     },
     "execution_count": 50,
     "metadata": {},
     "output_type": "execute_result"
    }
   ],
   "source": [
    "age = 42\n",
    "type(age)"
   ]
  },
  {
   "cell_type": "code",
   "execution_count": 51,
   "id": "00d31133",
   "metadata": {},
   "outputs": [
    {
     "data": {
      "text/plain": [
       "float"
      ]
     },
     "execution_count": 51,
     "metadata": {},
     "output_type": "execute_result"
    }
   ],
   "source": [
    "height = 1.72\n",
    "type(height)"
   ]
  },
  {
   "cell_type": "markdown",
   "id": "9a5b46fe",
   "metadata": {},
   "source": [
    "<mark>[NEW]</mark> For French people, note that floats in Python use a dot and not a comma:"
   ]
  },
  {
   "cell_type": "code",
   "execution_count": 52,
   "id": "63519301",
   "metadata": {},
   "outputs": [
    {
     "name": "stdout",
     "output_type": "stream",
     "text": [
      "height = (1, 72)\n",
      "type(height) = <class 'tuple'>\n"
     ]
    }
   ],
   "source": [
    "height = 1,72\n",
    "print(f\"{height = }\")\n",
    "print(f\"{type(height) = }\")"
   ]
  },
  {
   "cell_type": "markdown",
   "id": "6f89eedb",
   "metadata": {},
   "source": [
    "<mark>[NEW]</mark> Convert an integer to a float:"
   ]
  },
  {
   "cell_type": "code",
   "execution_count": 53,
   "id": "288238c3",
   "metadata": {},
   "outputs": [
    {
     "name": "stdout",
     "output_type": "stream",
     "text": [
      "The type of 1 is <class 'int'>.\n",
      "The type of 1.0 is <class 'float'>.\n",
      "The type of 1.0 is <class 'float'>.\n",
      "The type of 1.0 is <class 'float'>.\n"
     ]
    }
   ],
   "source": [
    "my_float = 1\n",
    "print(f\"The type of {my_float} is {type(my_float)}.\")\n",
    "\n",
    "my_float = float(1)\n",
    "print(f\"The type of {my_float} is {type(my_float)}.\")\n",
    "\n",
    "my_float = 1.0\n",
    "print(f\"The type of {my_float} is {type(my_float)}.\")\n",
    "\n",
    "my_float = 1.  # this is the most pythonic way\n",
    "print(f\"The type of {my_float} is {type(my_float)}.\")"
   ]
  },
  {
   "cell_type": "code",
   "execution_count": 54,
   "id": "5070b605",
   "metadata": {},
   "outputs": [
    {
     "name": "stdout",
     "output_type": "stream",
     "text": [
      "The type of Mathurin is <class 'str'>.\n"
     ]
    }
   ],
   "source": [
    "name = \"Mathurin\"\n",
    "print(f\"The type of {name} is {type(name)}.\")"
   ]
  },
  {
   "cell_type": "markdown",
   "id": "ffb8067d",
   "metadata": {},
   "source": [
    "## Types control what operations (or methods) can be performed on a given value"
   ]
  },
  {
   "cell_type": "code",
   "execution_count": 55,
   "id": "e4653c3c",
   "metadata": {},
   "outputs": [
    {
     "data": {
      "text/plain": [
       "42"
      ]
     },
     "execution_count": 55,
     "metadata": {},
     "output_type": "execute_result"
    }
   ],
   "source": [
    "age"
   ]
  },
  {
   "cell_type": "code",
   "execution_count": 56,
   "id": "993c90ae",
   "metadata": {},
   "outputs": [
    {
     "name": "stdout",
     "output_type": "stream",
     "text": [
      "43\n",
      "41\n",
      "84\n",
      "1764\n"
     ]
    }
   ],
   "source": [
    "print(age + 1)  # addition\n",
    "print(age - 1)  # subtraction\n",
    "print(age * 2)  # multiplication\n",
    "print(age ** 2)  # exponentiation"
   ]
  },
  {
   "cell_type": "markdown",
   "id": "459d30ca",
   "metadata": {},
   "source": [
    "<mark>[NEW]</mark> A trick:"
   ]
  },
  {
   "cell_type": "code",
   "execution_count": 57,
   "id": "4da6a7d1",
   "metadata": {},
   "outputs": [
    {
     "name": "stdout",
     "output_type": "stream",
     "text": [
      "42\n",
      "43\n",
      "42\n",
      "84\n",
      "42.0\n"
     ]
    }
   ],
   "source": [
    "print(age)\n",
    "age += 1  # equivalent to `age = age+1`\n",
    "print(age)\n",
    "age -= 1  # equivalent to `age = age-1`\n",
    "print(age)\n",
    "age *= 2  # equivalent to `age = age*2`\n",
    "print(age)\n",
    "age /= 2  # equivalent to `age = age/2`\n",
    "print(age)"
   ]
  },
  {
   "cell_type": "code",
   "execution_count": 58,
   "id": "59d20aa6",
   "metadata": {},
   "outputs": [
    {
     "ename": "TypeError",
     "evalue": "unsupported operand type(s) for -: 'str' and 'str'",
     "output_type": "error",
     "traceback": [
      "\u001b[0;31m---------------------------------------------------------------------------\u001b[0m",
      "\u001b[0;31mTypeError\u001b[0m                                 Traceback (most recent call last)",
      "Input \u001b[0;32mIn [58]\u001b[0m, in \u001b[0;36m<cell line: 1>\u001b[0;34m()\u001b[0m\n\u001b[0;32m----> 1\u001b[0m \u001b[38;5;124;43m\"\u001b[39;49m\u001b[38;5;124;43mhello\u001b[39;49m\u001b[38;5;124;43m\"\u001b[39;49m\u001b[43m \u001b[49m\u001b[38;5;241;43m-\u001b[39;49m\u001b[43m \u001b[49m\u001b[38;5;124;43m\"\u001b[39;49m\u001b[38;5;124;43mh\u001b[39;49m\u001b[38;5;124;43m\"\u001b[39;49m\n",
      "\u001b[0;31mTypeError\u001b[0m: unsupported operand type(s) for -: 'str' and 'str'"
     ]
    }
   ],
   "source": [
    "\"hello\" - \"h\""
   ]
  },
  {
   "cell_type": "markdown",
   "id": "853aae32",
   "metadata": {},
   "source": [
    "## <mark>[NEW]</mark> Booleans"
   ]
  },
  {
   "cell_type": "code",
   "execution_count": 59,
   "id": "c818bfc4",
   "metadata": {},
   "outputs": [
    {
     "name": "stdout",
     "output_type": "stream",
     "text": [
      "<class 'bool'>\n"
     ]
    }
   ],
   "source": [
    "t, f = True, False\n",
    "print(type(t))"
   ]
  },
  {
   "cell_type": "markdown",
   "id": "02bebeb3",
   "metadata": {},
   "source": [
    "Operations:"
   ]
  },
  {
   "cell_type": "code",
   "execution_count": 60,
   "id": "9da88458",
   "metadata": {},
   "outputs": [
    {
     "name": "stdout",
     "output_type": "stream",
     "text": [
      "False\n",
      "True\n",
      "False\n",
      "False\n",
      "True\n"
     ]
    }
   ],
   "source": [
    "print(t and f)\n",
    "print(t or f)\n",
    "print(not t)\n",
    "print(t == f)\n",
    "print(t != f)"
   ]
  },
  {
   "cell_type": "markdown",
   "id": "88cdbcc3",
   "metadata": {},
   "source": [
    "## You can use the `+` and `*` operators on strings"
   ]
  },
  {
   "cell_type": "code",
   "execution_count": 61,
   "id": "1ff6be93",
   "metadata": {},
   "outputs": [
    {
     "data": {
      "text/plain": [
       "'Mathurin'"
      ]
     },
     "execution_count": 61,
     "metadata": {},
     "output_type": "execute_result"
    }
   ],
   "source": [
    "name"
   ]
  },
  {
   "cell_type": "code",
   "execution_count": 62,
   "id": "968fb487",
   "metadata": {},
   "outputs": [
    {
     "data": {
      "text/plain": [
       "'MathurinMathurin'"
      ]
     },
     "execution_count": 62,
     "metadata": {},
     "output_type": "execute_result"
    }
   ],
   "source": [
    "name + name  # string concatenation"
   ]
  },
  {
   "cell_type": "code",
   "execution_count": 63,
   "id": "0e8e2062",
   "metadata": {},
   "outputs": [
    {
     "data": {
      "text/plain": [
       "'Mathurin Mathurin'"
      ]
     },
     "execution_count": 63,
     "metadata": {},
     "output_type": "execute_result"
    }
   ],
   "source": [
    "name + \" \" + name"
   ]
  },
  {
   "cell_type": "code",
   "execution_count": 64,
   "id": "c1634d75",
   "metadata": {},
   "outputs": [
    {
     "data": {
      "text/plain": [
       "'MathurinMathurinMathurin'"
      ]
     },
     "execution_count": 64,
     "metadata": {},
     "output_type": "execute_result"
    }
   ],
   "source": [
    "name * 3"
   ]
  },
  {
   "cell_type": "markdown",
   "id": "08b8ceee",
   "metadata": {},
   "source": [
    "## Strings have a length (but numbers don't)"
   ]
  },
  {
   "cell_type": "code",
   "execution_count": 65,
   "id": "76b2a706",
   "metadata": {},
   "outputs": [
    {
     "data": {
      "text/plain": [
       "8"
      ]
     },
     "execution_count": 65,
     "metadata": {},
     "output_type": "execute_result"
    }
   ],
   "source": [
    "len(name)"
   ]
  },
  {
   "cell_type": "code",
   "execution_count": 66,
   "id": "84f14a34",
   "metadata": {},
   "outputs": [
    {
     "ename": "TypeError",
     "evalue": "object of type 'float' has no len()",
     "output_type": "error",
     "traceback": [
      "\u001b[0;31m---------------------------------------------------------------------------\u001b[0m",
      "\u001b[0;31mTypeError\u001b[0m                                 Traceback (most recent call last)",
      "Input \u001b[0;32mIn [66]\u001b[0m, in \u001b[0;36m<cell line: 1>\u001b[0;34m()\u001b[0m\n\u001b[0;32m----> 1\u001b[0m \u001b[38;5;28;43mlen\u001b[39;49m\u001b[43m(\u001b[49m\u001b[43mage\u001b[49m\u001b[43m)\u001b[49m\n",
      "\u001b[0;31mTypeError\u001b[0m: object of type 'float' has no len()"
     ]
    }
   ],
   "source": [
    "len(age)"
   ]
  },
  {
   "cell_type": "markdown",
   "id": "f86a51ed",
   "metadata": {},
   "source": [
    "## Must convert numbers to strings or vice versa when operating on them"
   ]
  },
  {
   "cell_type": "code",
   "execution_count": 67,
   "id": "ba59a1a0",
   "metadata": {},
   "outputs": [
    {
     "ename": "TypeError",
     "evalue": "unsupported operand type(s) for +: 'int' and 'str'",
     "output_type": "error",
     "traceback": [
      "\u001b[0;31m---------------------------------------------------------------------------\u001b[0m",
      "\u001b[0;31mTypeError\u001b[0m                                 Traceback (most recent call last)",
      "Input \u001b[0;32mIn [67]\u001b[0m, in \u001b[0;36m<cell line: 1>\u001b[0;34m()\u001b[0m\n\u001b[0;32m----> 1\u001b[0m \u001b[38;5;28mprint\u001b[39m(\u001b[38;5;241;43m1\u001b[39;49m\u001b[43m \u001b[49m\u001b[38;5;241;43m+\u001b[39;49m\u001b[43m \u001b[49m\u001b[38;5;124;43m'\u001b[39;49m\u001b[38;5;124;43m2\u001b[39;49m\u001b[38;5;124;43m'\u001b[39;49m)\n",
      "\u001b[0;31mTypeError\u001b[0m: unsupported operand type(s) for +: 'int' and 'str'"
     ]
    }
   ],
   "source": [
    "print(1 + '2')"
   ]
  },
  {
   "cell_type": "code",
   "execution_count": 68,
   "id": "faf50102",
   "metadata": {},
   "outputs": [
    {
     "data": {
      "text/plain": [
       "3"
      ]
     },
     "execution_count": 68,
     "metadata": {},
     "output_type": "execute_result"
    }
   ],
   "source": [
    "1 + int('2')"
   ]
  },
  {
   "cell_type": "code",
   "execution_count": 69,
   "id": "b70d6978",
   "metadata": {},
   "outputs": [
    {
     "data": {
      "text/plain": [
       "'12'"
      ]
     },
     "execution_count": 69,
     "metadata": {},
     "output_type": "execute_result"
    }
   ],
   "source": [
    "str(1) + '2'"
   ]
  },
  {
   "cell_type": "markdown",
   "id": "03dad953",
   "metadata": {},
   "source": [
    "## Can mix integers and floats freely in operations"
   ]
  },
  {
   "cell_type": "code",
   "execution_count": 70,
   "id": "f8e37edb",
   "metadata": {},
   "outputs": [
    {
     "data": {
      "text/plain": [
       "2.5"
      ]
     },
     "execution_count": 70,
     "metadata": {},
     "output_type": "execute_result"
    }
   ],
   "source": [
    "1 + 1.5 "
   ]
  },
  {
   "cell_type": "code",
   "execution_count": 71,
   "id": "149019ba",
   "metadata": {},
   "outputs": [
    {
     "data": {
      "text/plain": [
       "2"
      ]
     },
     "execution_count": 71,
     "metadata": {},
     "output_type": "execute_result"
    }
   ],
   "source": [
    "1 + 1"
   ]
  },
  {
   "cell_type": "code",
   "execution_count": 72,
   "id": "9c1bcc2b",
   "metadata": {},
   "outputs": [
    {
     "data": {
      "text/plain": [
       "2.0"
      ]
     },
     "execution_count": 72,
     "metadata": {},
     "output_type": "execute_result"
    }
   ],
   "source": [
    "1 + 1.0"
   ]
  },
  {
   "cell_type": "markdown",
   "id": "a1b16a03",
   "metadata": {},
   "source": [
    "## Division Types"
   ]
  },
  {
   "cell_type": "markdown",
   "id": "e84e209d",
   "metadata": {},
   "source": [
    "In Python 3, the `//` operator performs integer (whole-number) floor division, the `/` operator performs floating-point division, and the `%` (or modulo) operator calculates and returns the remainder from integer division:"
   ]
  },
  {
   "cell_type": "code",
   "execution_count": 73,
   "id": "45966ad8",
   "metadata": {},
   "outputs": [
    {
     "data": {
      "text/plain": [
       "1"
      ]
     },
     "execution_count": 73,
     "metadata": {},
     "output_type": "execute_result"
    }
   ],
   "source": [
    "5 // 3"
   ]
  },
  {
   "cell_type": "code",
   "execution_count": 74,
   "id": "d4a866a1",
   "metadata": {},
   "outputs": [
    {
     "data": {
      "text/plain": [
       "1.6666666666666667"
      ]
     },
     "execution_count": 74,
     "metadata": {},
     "output_type": "execute_result"
    }
   ],
   "source": [
    "5 / 3"
   ]
  },
  {
   "cell_type": "code",
   "execution_count": 75,
   "id": "625d4456",
   "metadata": {},
   "outputs": [
    {
     "data": {
      "text/plain": [
       "2"
      ]
     },
     "execution_count": 75,
     "metadata": {},
     "output_type": "execute_result"
    }
   ],
   "source": [
    "5 % 3"
   ]
  },
  {
   "cell_type": "markdown",
   "id": "32dfbf56",
   "metadata": {},
   "source": [
    "## Strings to Numbers"
   ]
  },
  {
   "cell_type": "markdown",
   "id": "f424451c",
   "metadata": {},
   "source": [
    "Where reasonable, `float()` will convert a string to a floating point number, and `int()` will convert a floating point number to an integer:"
   ]
  },
  {
   "cell_type": "code",
   "execution_count": 76,
   "id": "006c29a8",
   "metadata": {},
   "outputs": [
    {
     "data": {
      "text/plain": [
       "3.6"
      ]
     },
     "execution_count": 76,
     "metadata": {},
     "output_type": "execute_result"
    }
   ],
   "source": [
    "float(\"3.6\")"
   ]
  },
  {
   "cell_type": "code",
   "execution_count": 77,
   "id": "7778a82f",
   "metadata": {},
   "outputs": [
    {
     "data": {
      "text/plain": [
       "3"
      ]
     },
     "execution_count": 77,
     "metadata": {},
     "output_type": "execute_result"
    }
   ],
   "source": [
    "int(3.6)"
   ]
  },
  {
   "cell_type": "code",
   "execution_count": 78,
   "id": "8b6db339",
   "metadata": {},
   "outputs": [
    {
     "ename": "ValueError",
     "evalue": "invalid literal for int() with base 10: 'a'",
     "output_type": "error",
     "traceback": [
      "\u001b[0;31m---------------------------------------------------------------------------\u001b[0m",
      "\u001b[0;31mValueError\u001b[0m                                Traceback (most recent call last)",
      "Input \u001b[0;32mIn [78]\u001b[0m, in \u001b[0;36m<cell line: 1>\u001b[0;34m()\u001b[0m\n\u001b[0;32m----> 1\u001b[0m \u001b[38;5;28;43mint\u001b[39;49m\u001b[43m(\u001b[49m\u001b[38;5;124;43m'\u001b[39;49m\u001b[38;5;124;43ma\u001b[39;49m\u001b[38;5;124;43m'\u001b[39;49m\u001b[43m)\u001b[49m\n",
      "\u001b[0;31mValueError\u001b[0m: invalid literal for int() with base 10: 'a'"
     ]
    }
   ],
   "source": [
    "int('a')"
   ]
  },
  {
   "cell_type": "markdown",
   "id": "620d95ec",
   "metadata": {},
   "source": [
    "<mark>[NEW]</mark> Beware that `int` does not convert to the nearest integer:"
   ]
  },
  {
   "cell_type": "code",
   "execution_count": 79,
   "id": "8b76b746",
   "metadata": {},
   "outputs": [
    {
     "data": {
      "text/plain": [
       "3"
      ]
     },
     "execution_count": 79,
     "metadata": {},
     "output_type": "execute_result"
    }
   ],
   "source": [
    "int(3.6)"
   ]
  },
  {
   "cell_type": "code",
   "execution_count": 80,
   "id": "4f2b5b43",
   "metadata": {},
   "outputs": [
    {
     "data": {
      "text/plain": [
       "4"
      ]
     },
     "execution_count": 80,
     "metadata": {},
     "output_type": "execute_result"
    }
   ],
   "source": [
    "round(3.6)"
   ]
  },
  {
   "cell_type": "markdown",
   "id": "7225c155",
   "metadata": {},
   "source": [
    "# Built-in Functions and Help"
   ]
  },
  {
   "cell_type": "markdown",
   "id": "b26b4016",
   "metadata": {},
   "source": [
    "## Use comments to add documentation to programs"
   ]
  },
  {
   "cell_type": "code",
   "execution_count": 81,
   "id": "638aef2e",
   "metadata": {},
   "outputs": [],
   "source": [
    "# This sentence isn't executed by Python.\n",
    "adjustment = 0.5   # Neither is this - anything after '#' is ignored."
   ]
  },
  {
   "cell_type": "markdown",
   "id": "7d0a0bd5",
   "metadata": {},
   "source": [
    "## A function may take zero or more arguments"
   ]
  },
  {
   "cell_type": "markdown",
   "id": "8c9fe4b1",
   "metadata": {},
   "source": [
    "An argument is a value passed into a function."
   ]
  },
  {
   "cell_type": "code",
   "execution_count": 82,
   "id": "c8d406e7",
   "metadata": {},
   "outputs": [
    {
     "name": "stdout",
     "output_type": "stream",
     "text": [
      "before\n",
      "\n",
      "after\n"
     ]
    }
   ],
   "source": [
    "print('before')\n",
    "print()\n",
    "print('after')"
   ]
  },
  {
   "cell_type": "markdown",
   "id": "11bf14c8",
   "metadata": {},
   "source": [
    "## Every function returns something"
   ]
  },
  {
   "cell_type": "markdown",
   "id": "5b50fb42",
   "metadata": {},
   "source": [
    "- Every function call produces some result.\n",
    "- If the function doesn’t have a useful result to `return`, it usually returns the special value `None`. `None` is a Python object that stands in anytime there is no value."
   ]
  },
  {
   "cell_type": "code",
   "execution_count": 83,
   "id": "8e1634f5",
   "metadata": {},
   "outputs": [],
   "source": [
    "def foo():\n",
    "    print(\"Hello\")"
   ]
  },
  {
   "cell_type": "code",
   "execution_count": 84,
   "id": "757d110f",
   "metadata": {},
   "outputs": [
    {
     "name": "stdout",
     "output_type": "stream",
     "text": [
      "Mathurin\n",
      "None\n"
     ]
    }
   ],
   "source": [
    "a = print(\"Mathurin\")\n",
    "print(a)"
   ]
  },
  {
   "cell_type": "markdown",
   "id": "389b7731",
   "metadata": {},
   "source": [
    "## Commonly-used built-in functions include `max`, `min`, and `round`"
   ]
  },
  {
   "cell_type": "code",
   "execution_count": 85,
   "id": "e50c3195",
   "metadata": {},
   "outputs": [
    {
     "data": {
      "text/plain": [
       "10"
      ]
     },
     "execution_count": 85,
     "metadata": {},
     "output_type": "execute_result"
    }
   ],
   "source": [
    "max(1, 10)"
   ]
  },
  {
   "cell_type": "code",
   "execution_count": 86,
   "id": "df87a671",
   "metadata": {},
   "outputs": [
    {
     "data": {
      "text/plain": [
       "1"
      ]
     },
     "execution_count": 86,
     "metadata": {},
     "output_type": "execute_result"
    }
   ],
   "source": [
    "min(1, 10)"
   ]
  },
  {
   "cell_type": "code",
   "execution_count": 87,
   "id": "7edb69c2",
   "metadata": {},
   "outputs": [
    {
     "data": {
      "text/plain": [
       "'a'"
      ]
     },
     "execution_count": 87,
     "metadata": {},
     "output_type": "execute_result"
    }
   ],
   "source": [
    "min('a', 'b')"
   ]
  },
  {
   "cell_type": "markdown",
   "id": "733d535f",
   "metadata": {},
   "source": [
    "## Functions may only work for certain (combinations of) arguments"
   ]
  },
  {
   "cell_type": "code",
   "execution_count": 88,
   "id": "186b1e6e",
   "metadata": {},
   "outputs": [
    {
     "ename": "TypeError",
     "evalue": "'>' not supported between instances of 'int' and 'str'",
     "output_type": "error",
     "traceback": [
      "\u001b[0;31m---------------------------------------------------------------------------\u001b[0m",
      "\u001b[0;31mTypeError\u001b[0m                                 Traceback (most recent call last)",
      "Input \u001b[0;32mIn [88]\u001b[0m, in \u001b[0;36m<cell line: 1>\u001b[0;34m()\u001b[0m\n\u001b[0;32m----> 1\u001b[0m \u001b[38;5;28;43mmax\u001b[39;49m\u001b[43m(\u001b[49m\u001b[38;5;124;43m'\u001b[39;49m\u001b[38;5;124;43m1\u001b[39;49m\u001b[38;5;124;43m'\u001b[39;49m\u001b[43m,\u001b[49m\u001b[43m \u001b[49m\u001b[38;5;241;43m10\u001b[39;49m\u001b[43m)\u001b[49m\n",
      "\u001b[0;31mTypeError\u001b[0m: '>' not supported between instances of 'int' and 'str'"
     ]
    }
   ],
   "source": [
    "max('1', 10)"
   ]
  },
  {
   "cell_type": "markdown",
   "id": "e0c8aeeb",
   "metadata": {},
   "source": [
    "## Functions may have default values for some arguments"
   ]
  },
  {
   "cell_type": "code",
   "execution_count": 89,
   "id": "999f8b95",
   "metadata": {},
   "outputs": [
    {
     "data": {
      "text/plain": [
       "3"
      ]
     },
     "execution_count": 89,
     "metadata": {},
     "output_type": "execute_result"
    }
   ],
   "source": [
    "round(3.141592)"
   ]
  },
  {
   "cell_type": "code",
   "execution_count": 90,
   "id": "4f4410c5",
   "metadata": {},
   "outputs": [
    {
     "data": {
      "text/plain": [
       "4"
      ]
     },
     "execution_count": 90,
     "metadata": {},
     "output_type": "execute_result"
    }
   ],
   "source": [
    "round(3.6)"
   ]
  },
  {
   "cell_type": "code",
   "execution_count": 91,
   "id": "a23434df",
   "metadata": {},
   "outputs": [
    {
     "name": "stdout",
     "output_type": "stream",
     "text": [
      "Help on built-in function round in module builtins:\n",
      "\n",
      "round(number, ndigits=None)\n",
      "    Round a number to a given precision in decimal digits.\n",
      "    \n",
      "    The return value is an integer if ndigits is omitted or None.  Otherwise\n",
      "    the return value has the same type as the number.  ndigits may be negative.\n",
      "\n"
     ]
    }
   ],
   "source": [
    "help(round)"
   ]
  },
  {
   "cell_type": "code",
   "execution_count": 92,
   "id": "5a279396",
   "metadata": {},
   "outputs": [
    {
     "data": {
      "text/plain": [
       "3.14"
      ]
     },
     "execution_count": 92,
     "metadata": {},
     "output_type": "execute_result"
    }
   ],
   "source": [
    "round(3.141592, 2)"
   ]
  },
  {
   "cell_type": "markdown",
   "id": "d92dbdfb",
   "metadata": {},
   "source": [
    "### <mark>[NEW]</mark> Positional and keyword arguments"
   ]
  },
  {
   "cell_type": "code",
   "execution_count": 93,
   "id": "0ddd3bc0",
   "metadata": {},
   "outputs": [
    {
     "ename": "TypeError",
     "evalue": "round() missing required argument 'number' (pos 1)",
     "output_type": "error",
     "traceback": [
      "\u001b[0;31m---------------------------------------------------------------------------\u001b[0m",
      "\u001b[0;31mTypeError\u001b[0m                                 Traceback (most recent call last)",
      "Input \u001b[0;32mIn [93]\u001b[0m, in \u001b[0;36m<cell line: 1>\u001b[0;34m()\u001b[0m\n\u001b[0;32m----> 1\u001b[0m \u001b[38;5;28;43mround\u001b[39;49m\u001b[43m(\u001b[49m\u001b[43m)\u001b[49m\n",
      "\u001b[0;31mTypeError\u001b[0m: round() missing required argument 'number' (pos 1)"
     ]
    }
   ],
   "source": [
    "round()"
   ]
  },
  {
   "cell_type": "markdown",
   "id": "ba6432ed",
   "metadata": {},
   "source": [
    "When using positional arguments, the order of arguments is important:"
   ]
  },
  {
   "cell_type": "code",
   "execution_count": 94,
   "id": "04cc59af",
   "metadata": {},
   "outputs": [
    {
     "data": {
      "text/plain": [
       "3.142"
      ]
     },
     "execution_count": 94,
     "metadata": {},
     "output_type": "execute_result"
    }
   ],
   "source": [
    "round(3.141592, 3)"
   ]
  },
  {
   "cell_type": "code",
   "execution_count": 95,
   "id": "b01d3515",
   "metadata": {},
   "outputs": [
    {
     "ename": "TypeError",
     "evalue": "'float' object cannot be interpreted as an integer",
     "output_type": "error",
     "traceback": [
      "\u001b[0;31m---------------------------------------------------------------------------\u001b[0m",
      "\u001b[0;31mTypeError\u001b[0m                                 Traceback (most recent call last)",
      "Input \u001b[0;32mIn [95]\u001b[0m, in \u001b[0;36m<cell line: 1>\u001b[0;34m()\u001b[0m\n\u001b[0;32m----> 1\u001b[0m \u001b[38;5;28;43mround\u001b[39;49m\u001b[43m(\u001b[49m\u001b[38;5;241;43m3\u001b[39;49m\u001b[43m,\u001b[49m\u001b[43m \u001b[49m\u001b[38;5;241;43m3.141592\u001b[39;49m\u001b[43m)\u001b[49m\n",
      "\u001b[0;31mTypeError\u001b[0m: 'float' object cannot be interpreted as an integer"
     ]
    }
   ],
   "source": [
    "round(3, 3.141592)"
   ]
  },
  {
   "cell_type": "markdown",
   "id": "03b1ac43",
   "metadata": {},
   "source": [
    "When using keyword arguments, the order of arguments is not important:"
   ]
  },
  {
   "cell_type": "code",
   "execution_count": 96,
   "id": "bc77413a",
   "metadata": {},
   "outputs": [
    {
     "data": {
      "text/plain": [
       "3.141"
      ]
     },
     "execution_count": 96,
     "metadata": {},
     "output_type": "execute_result"
    }
   ],
   "source": [
    "round(number=3.141, ndigits=3)"
   ]
  },
  {
   "cell_type": "code",
   "execution_count": 97,
   "id": "d792ef79",
   "metadata": {},
   "outputs": [
    {
     "data": {
      "text/plain": [
       "3.141"
      ]
     },
     "execution_count": 97,
     "metadata": {},
     "output_type": "execute_result"
    }
   ],
   "source": [
    "round(ndigits=3, number=3.141)"
   ]
  },
  {
   "cell_type": "markdown",
   "id": "e9f7bdcb",
   "metadata": {},
   "source": [
    "Positional arguments can not follow keyword arguments:"
   ]
  },
  {
   "cell_type": "code",
   "execution_count": 98,
   "id": "a36cfbb6",
   "metadata": {},
   "outputs": [
    {
     "data": {
      "text/plain": [
       "3.142"
      ]
     },
     "execution_count": 98,
     "metadata": {},
     "output_type": "execute_result"
    }
   ],
   "source": [
    "round(3.141592, ndigits=3)"
   ]
  },
  {
   "cell_type": "code",
   "execution_count": 99,
   "id": "c1185f73",
   "metadata": {},
   "outputs": [
    {
     "ename": "SyntaxError",
     "evalue": "positional argument follows keyword argument (2504285018.py, line 1)",
     "output_type": "error",
     "traceback": [
      "\u001b[0;36m  Input \u001b[0;32mIn [99]\u001b[0;36m\u001b[0m\n\u001b[0;31m    round(number=3.141, 3)\u001b[0m\n\u001b[0m                         ^\u001b[0m\n\u001b[0;31mSyntaxError\u001b[0m\u001b[0;31m:\u001b[0m positional argument follows keyword argument\n"
     ]
    }
   ],
   "source": [
    "round(number=3.141, 3)"
   ]
  },
  {
   "cell_type": "markdown",
   "id": "6b23a9d4",
   "metadata": {},
   "source": [
    "## Functions attached to objects are called methods"
   ]
  },
  {
   "cell_type": "markdown",
   "id": "fe73a18b",
   "metadata": {},
   "source": [
    "- Functions take another form that will be common in the pandas episodes.\n",
    "- Methods have parentheses like functions, but come after the variable. <mark>[NEW] On the contrary, variables do not have parenthesis.</mark>\n",
    "- Some methods are used for internal Python operations, and are marked with double underlines."
   ]
  },
  {
   "cell_type": "code",
   "execution_count": 100,
   "id": "cd92c67c",
   "metadata": {},
   "outputs": [],
   "source": [
    "my_string = 'Hello world!'"
   ]
  },
  {
   "cell_type": "code",
   "execution_count": 101,
   "id": "a687ffd0",
   "metadata": {},
   "outputs": [
    {
     "name": "stdout",
     "output_type": "stream",
     "text": [
      "12\n",
      "hELLO WORLD!\n",
      "12\n"
     ]
    }
   ],
   "source": [
    "print(len(my_string))       # the len function takes a string as an argument and returns the length of the string\n",
    "\n",
    "print(my_string.swapcase()) # calling the swapcase method on the my_string object\n",
    "\n",
    "print(my_string.__len__())  # calling the internal __len__ method on the my_string object, used by len(my_string)"
   ]
  },
  {
   "cell_type": "markdown",
   "id": "f8d26ead",
   "metadata": {},
   "source": [
    "<mark>[NEW]</mark> Remember that the `len(my_string)` and `my_string.__len__()` syntaxes are equivalent (not just for this specific example)."
   ]
  },
  {
   "cell_type": "markdown",
   "id": "4c017c6c",
   "metadata": {},
   "source": [
    "You might even see methods chained together. They operate left to right:"
   ]
  },
  {
   "cell_type": "code",
   "execution_count": 102,
   "id": "47fe1380",
   "metadata": {},
   "outputs": [
    {
     "name": "stdout",
     "output_type": "stream",
     "text": [
      "False\n",
      "HELLO WORLD!\n",
      "True\n"
     ]
    }
   ],
   "source": [
    "print(my_string.isupper())          # Not all the letters are uppercase\n",
    "print(my_string.upper())            # This capitalizes all the letters\n",
    "\n",
    "print(my_string.upper().isupper())  # Now all the letters are uppercase"
   ]
  },
  {
   "cell_type": "markdown",
   "id": "de1c2abe",
   "metadata": {},
   "source": [
    "## Use the built-in function help to get help for a function"
   ]
  },
  {
   "cell_type": "code",
   "execution_count": 103,
   "id": "6368aa44",
   "metadata": {},
   "outputs": [
    {
     "name": "stdout",
     "output_type": "stream",
     "text": [
      "Help on built-in function round in module builtins:\n",
      "\n",
      "round(number, ndigits=None)\n",
      "    Round a number to a given precision in decimal digits.\n",
      "    \n",
      "    The return value is an integer if ndigits is omitted or None.  Otherwise\n",
      "    the return value has the same type as the number.  ndigits may be negative.\n",
      "\n"
     ]
    }
   ],
   "source": [
    "help(round)"
   ]
  },
  {
   "cell_type": "markdown",
   "id": "828e2eea",
   "metadata": {},
   "source": [
    "<mark>[NEW]</mark> Note that this is a great way to read the documentation when you do not have access to internet."
   ]
  },
  {
   "cell_type": "markdown",
   "id": "52122f71",
   "metadata": {},
   "source": [
    "## The Jupyter Notebook has two ways to get help."
   ]
  },
  {
   "cell_type": "markdown",
   "id": "b81ad7e1",
   "metadata": {},
   "source": [
    "- Option 1: Place the cursor near where the function is invoked in a cell (i.e., the function name or its parameters),\n",
    "    - Hold down <kbd>Shift</kbd>, and press <kbd>Tab</kbd>.\n",
    "    - Do this several times to expand the information returned.\n",
    "- Option 2: Type the function name in a cell with a question mark after it. Then run the cell."
   ]
  },
  {
   "cell_type": "code",
   "execution_count": 104,
   "id": "4fe92a10",
   "metadata": {},
   "outputs": [
    {
     "data": {
      "text/plain": [
       "\u001b[0;31mSignature:\u001b[0m \u001b[0mround\u001b[0m\u001b[0;34m(\u001b[0m\u001b[0mnumber\u001b[0m\u001b[0;34m,\u001b[0m \u001b[0mndigits\u001b[0m\u001b[0;34m=\u001b[0m\u001b[0;32mNone\u001b[0m\u001b[0;34m)\u001b[0m\u001b[0;34m\u001b[0m\u001b[0;34m\u001b[0m\u001b[0m\n",
       "\u001b[0;31mDocstring:\u001b[0m\n",
       "Round a number to a given precision in decimal digits.\n",
       "\n",
       "The return value is an integer if ndigits is omitted or None.  Otherwise\n",
       "the return value has the same type as the number.  ndigits may be negative.\n",
       "\u001b[0;31mType:\u001b[0m      builtin_function_or_method\n"
      ]
     },
     "metadata": {},
     "output_type": "display_data"
    }
   ],
   "source": [
    "round?"
   ]
  },
  {
   "cell_type": "markdown",
   "id": "d215a5e4",
   "metadata": {},
   "source": [
    "## <mark>[NEW]</mark> Defining a function"
   ]
  },
  {
   "cell_type": "markdown",
   "id": "d222d260",
   "metadata": {},
   "source": [
    "### A function is callable"
   ]
  },
  {
   "cell_type": "code",
   "execution_count": 105,
   "id": "4a16344f",
   "metadata": {},
   "outputs": [],
   "source": [
    "def my_function():\n",
    "    print(\"Hello\")"
   ]
  },
  {
   "cell_type": "code",
   "execution_count": 106,
   "id": "bfb8bb02",
   "metadata": {},
   "outputs": [
    {
     "name": "stdout",
     "output_type": "stream",
     "text": [
      "Hello\n"
     ]
    }
   ],
   "source": [
    "my_function()"
   ]
  },
  {
   "cell_type": "markdown",
   "id": "02b9e9fe",
   "metadata": {},
   "source": [
    "A function must be called (with parenthesis):"
   ]
  },
  {
   "cell_type": "code",
   "execution_count": 107,
   "id": "6dd42bfc",
   "metadata": {},
   "outputs": [
    {
     "data": {
      "text/plain": [
       "<function __main__.my_function()>"
      ]
     },
     "execution_count": 107,
     "metadata": {},
     "output_type": "execute_result"
    }
   ],
   "source": [
    "my_function"
   ]
  },
  {
   "cell_type": "markdown",
   "id": "74e178a6",
   "metadata": {},
   "source": [
    "A variable is not callable:"
   ]
  },
  {
   "cell_type": "code",
   "execution_count": 108,
   "id": "08743139",
   "metadata": {},
   "outputs": [],
   "source": [
    "my_string = 'Hello world!'"
   ]
  },
  {
   "cell_type": "code",
   "execution_count": 109,
   "id": "08104fd4",
   "metadata": {},
   "outputs": [
    {
     "ename": "TypeError",
     "evalue": "'str' object is not callable",
     "output_type": "error",
     "traceback": [
      "\u001b[0;31m---------------------------------------------------------------------------\u001b[0m",
      "\u001b[0;31mTypeError\u001b[0m                                 Traceback (most recent call last)",
      "Input \u001b[0;32mIn [109]\u001b[0m, in \u001b[0;36m<cell line: 1>\u001b[0;34m()\u001b[0m\n\u001b[0;32m----> 1\u001b[0m \u001b[43mmy_string\u001b[49m\u001b[43m(\u001b[49m\u001b[43m)\u001b[49m\n",
      "\u001b[0;31mTypeError\u001b[0m: 'str' object is not callable"
     ]
    }
   ],
   "source": [
    "my_string()"
   ]
  },
  {
   "cell_type": "markdown",
   "id": "943d5a92",
   "metadata": {},
   "source": [
    "<mark>Built-in functions such as <code>print</code> are displayed in green but not the others:</mark>"
   ]
  },
  {
   "cell_type": "code",
   "execution_count": 110,
   "id": "0159761a",
   "metadata": {},
   "outputs": [
    {
     "name": "stdout",
     "output_type": "stream",
     "text": [
      "\n"
     ]
    }
   ],
   "source": [
    "print()"
   ]
  },
  {
   "cell_type": "code",
   "execution_count": 111,
   "id": "fd407a0f",
   "metadata": {},
   "outputs": [
    {
     "name": "stdout",
     "output_type": "stream",
     "text": [
      "Hello\n"
     ]
    }
   ],
   "source": [
    "my_function()"
   ]
  },
  {
   "cell_type": "markdown",
   "id": "f8bc8969",
   "metadata": {},
   "source": [
    "### Defining a function without or with a `return` "
   ]
  },
  {
   "cell_type": "markdown",
   "id": "303e0696",
   "metadata": {},
   "source": [
    "Without a `return`:"
   ]
  },
  {
   "cell_type": "code",
   "execution_count": 112,
   "id": "fdf54f99",
   "metadata": {},
   "outputs": [],
   "source": [
    "def double_age(age):\n",
    "    print(\"Double age is\", 2 * age)"
   ]
  },
  {
   "cell_type": "code",
   "execution_count": 113,
   "id": "d02b260e",
   "metadata": {},
   "outputs": [
    {
     "name": "stdout",
     "output_type": "stream",
     "text": [
      "Double age is 10\n",
      "output = None\n"
     ]
    }
   ],
   "source": [
    "output = double_age(5)\n",
    "print(f\"{output = }\")"
   ]
  },
  {
   "cell_type": "markdown",
   "id": "4bd9e35d",
   "metadata": {},
   "source": [
    "With a `return:`"
   ]
  },
  {
   "cell_type": "code",
   "execution_count": 114,
   "id": "5bb5fba1",
   "metadata": {},
   "outputs": [],
   "source": [
    "def compute_double_age(age):\n",
    "    return age * 2"
   ]
  },
  {
   "cell_type": "code",
   "execution_count": 115,
   "id": "e304f347",
   "metadata": {},
   "outputs": [
    {
     "name": "stdout",
     "output_type": "stream",
     "text": [
      "output = 200\n"
     ]
    }
   ],
   "source": [
    "output = compute_double_age(100)\n",
    "print(f\"{output = }\")"
   ]
  },
  {
   "cell_type": "markdown",
   "id": "a1cabd4a",
   "metadata": {},
   "source": [
    "### Using `docstrings` for documentation"
   ]
  },
  {
   "cell_type": "code",
   "execution_count": 116,
   "id": "f710d7de",
   "metadata": {},
   "outputs": [
    {
     "name": "stdout",
     "output_type": "stream",
     "text": [
      "Help on function compute_double_age in module __main__:\n",
      "\n",
      "compute_double_age(age)\n",
      "\n"
     ]
    }
   ],
   "source": [
    "help(compute_double_age)"
   ]
  },
  {
   "cell_type": "code",
   "execution_count": 117,
   "id": "3d05fb8f",
   "metadata": {},
   "outputs": [],
   "source": [
    "def compute_double_age_v2(age):\n",
    "    \"\"\"\n",
    "    Double the age.\n",
    "    \"\"\"\n",
    "    return age * 2"
   ]
  },
  {
   "cell_type": "code",
   "execution_count": 118,
   "id": "5ac12e9b",
   "metadata": {},
   "outputs": [
    {
     "name": "stdout",
     "output_type": "stream",
     "text": [
      "Help on function compute_double_age_v2 in module __main__:\n",
      "\n",
      "compute_double_age_v2(age)\n",
      "    Double the age.\n",
      "\n"
     ]
    }
   ],
   "source": [
    "help(compute_double_age_v2)"
   ]
  },
  {
   "cell_type": "markdown",
   "id": "958e0c20",
   "metadata": {},
   "source": [
    "Specifying the types of the arguments and the outputs (but it is just information for the user, it is not a unit test):"
   ]
  },
  {
   "cell_type": "code",
   "execution_count": 119,
   "id": "fc72a7b9",
   "metadata": {},
   "outputs": [],
   "source": [
    "def compute_double_age_v3(age: int) -> int:\n",
    "    \"\"\"\n",
    "    Double the age.\n",
    "    \n",
    "    Parameters\n",
    "    ----------\n",
    "    age : int\n",
    "    \"\"\"\n",
    "    return age * 2"
   ]
  },
  {
   "cell_type": "code",
   "execution_count": 120,
   "id": "13baec79",
   "metadata": {},
   "outputs": [
    {
     "data": {
      "text/plain": [
       "20"
      ]
     },
     "execution_count": 120,
     "metadata": {},
     "output_type": "execute_result"
    }
   ],
   "source": [
    "compute_double_age_v3(10)"
   ]
  },
  {
   "cell_type": "code",
   "execution_count": 121,
   "id": "24f8cd36",
   "metadata": {},
   "outputs": [
    {
     "data": {
      "text/plain": [
       "20.2"
      ]
     },
     "execution_count": 121,
     "metadata": {},
     "output_type": "execute_result"
    }
   ],
   "source": [
    "compute_double_age_v3(10.1)"
   ]
  },
  {
   "cell_type": "markdown",
   "id": "eb91428b",
   "metadata": {},
   "source": [
    "### Defining default value for the arguments"
   ]
  },
  {
   "cell_type": "code",
   "execution_count": 122,
   "id": "dcae1562",
   "metadata": {},
   "outputs": [],
   "source": [
    "def compute_double_age_v4(age: int = 10) -> int:\n",
    "    \"\"\"\n",
    "    Double the age.\n",
    "    \n",
    "    Parameters\n",
    "    ----------\n",
    "    age : int, default=10\n",
    "    \n",
    "    Returns\n",
    "    -------\n",
    "    doubled_age : int\n",
    "    \"\"\"\n",
    "    doubled_age = age * 2\n",
    "    return doubled_age"
   ]
  },
  {
   "cell_type": "code",
   "execution_count": 123,
   "id": "5eb71dc6",
   "metadata": {},
   "outputs": [
    {
     "data": {
      "text/plain": [
       "20"
      ]
     },
     "execution_count": 123,
     "metadata": {},
     "output_type": "execute_result"
    }
   ],
   "source": [
    "compute_double_age_v4()"
   ]
  },
  {
   "cell_type": "code",
   "execution_count": 124,
   "id": "131898c0",
   "metadata": {},
   "outputs": [
    {
     "data": {
      "text/plain": [
       "22"
      ]
     },
     "execution_count": 124,
     "metadata": {},
     "output_type": "execute_result"
    }
   ],
   "source": [
    "compute_double_age_v4(11)"
   ]
  },
  {
   "cell_type": "markdown",
   "id": "c5a4eb55",
   "metadata": {},
   "source": [
    "### Raise an error"
   ]
  },
  {
   "cell_type": "code",
   "execution_count": 125,
   "id": "9da70162",
   "metadata": {},
   "outputs": [],
   "source": [
    "def compute_double_age_v5(age: int = 10) -> int:\n",
    "    \"\"\"\n",
    "    Double the age.\n",
    "    \n",
    "    Parameters\n",
    "    ----------\n",
    "    age : int, default=10\n",
    "    \n",
    "    Returns\n",
    "    -------\n",
    "    doubled_age : int\n",
    "    \"\"\"\n",
    "    if type(age) != int:\n",
    "        raise TypeError('`age` must be an integer!')\n",
    "    if age < 0:\n",
    "        raise ValueError('`age` must be positive!')\n",
    "    doubled_age = age * 2\n",
    "    return doubled_age"
   ]
  },
  {
   "cell_type": "code",
   "execution_count": 126,
   "id": "3a579de1",
   "metadata": {},
   "outputs": [
    {
     "ename": "TypeError",
     "evalue": "`age` must be an integer!",
     "output_type": "error",
     "traceback": [
      "\u001b[0;31m---------------------------------------------------------------------------\u001b[0m",
      "\u001b[0;31mTypeError\u001b[0m                                 Traceback (most recent call last)",
      "Input \u001b[0;32mIn [126]\u001b[0m, in \u001b[0;36m<cell line: 1>\u001b[0;34m()\u001b[0m\n\u001b[0;32m----> 1\u001b[0m \u001b[43mcompute_double_age_v5\u001b[49m\u001b[43m(\u001b[49m\u001b[38;5;241;43m10.1\u001b[39;49m\u001b[43m)\u001b[49m\n",
      "Input \u001b[0;32mIn [125]\u001b[0m, in \u001b[0;36mcompute_double_age_v5\u001b[0;34m(age)\u001b[0m\n\u001b[1;32m      2\u001b[0m \u001b[38;5;124;03m\"\"\"\u001b[39;00m\n\u001b[1;32m      3\u001b[0m \u001b[38;5;124;03mDouble the age.\u001b[39;00m\n\u001b[1;32m      4\u001b[0m \u001b[38;5;124;03m\u001b[39;00m\n\u001b[0;32m   (...)\u001b[0m\n\u001b[1;32m     11\u001b[0m \u001b[38;5;124;03mdoubled_age : int\u001b[39;00m\n\u001b[1;32m     12\u001b[0m \u001b[38;5;124;03m\"\"\"\u001b[39;00m\n\u001b[1;32m     13\u001b[0m \u001b[38;5;28;01mif\u001b[39;00m \u001b[38;5;28mtype\u001b[39m(age) \u001b[38;5;241m!=\u001b[39m \u001b[38;5;28mint\u001b[39m:\n\u001b[0;32m---> 14\u001b[0m     \u001b[38;5;28;01mraise\u001b[39;00m \u001b[38;5;167;01mTypeError\u001b[39;00m(\u001b[38;5;124m'\u001b[39m\u001b[38;5;124m`age` must be an integer!\u001b[39m\u001b[38;5;124m'\u001b[39m)\n\u001b[1;32m     15\u001b[0m \u001b[38;5;28;01mif\u001b[39;00m age \u001b[38;5;241m<\u001b[39m \u001b[38;5;241m0\u001b[39m:\n\u001b[1;32m     16\u001b[0m     \u001b[38;5;28;01mraise\u001b[39;00m \u001b[38;5;167;01mValueError\u001b[39;00m(\u001b[38;5;124m'\u001b[39m\u001b[38;5;124m`age` must be positive!\u001b[39m\u001b[38;5;124m'\u001b[39m)\n",
      "\u001b[0;31mTypeError\u001b[0m: `age` must be an integer!"
     ]
    }
   ],
   "source": [
    "compute_double_age_v5(10.1)"
   ]
  },
  {
   "cell_type": "code",
   "execution_count": 127,
   "id": "d27717b8",
   "metadata": {},
   "outputs": [
    {
     "ename": "ValueError",
     "evalue": "`age` must be positive!",
     "output_type": "error",
     "traceback": [
      "\u001b[0;31m---------------------------------------------------------------------------\u001b[0m",
      "\u001b[0;31mValueError\u001b[0m                                Traceback (most recent call last)",
      "Input \u001b[0;32mIn [127]\u001b[0m, in \u001b[0;36m<cell line: 1>\u001b[0;34m()\u001b[0m\n\u001b[0;32m----> 1\u001b[0m \u001b[43mcompute_double_age_v5\u001b[49m\u001b[43m(\u001b[49m\u001b[38;5;241;43m-\u001b[39;49m\u001b[38;5;241;43m2\u001b[39;49m\u001b[43m)\u001b[49m\n",
      "Input \u001b[0;32mIn [125]\u001b[0m, in \u001b[0;36mcompute_double_age_v5\u001b[0;34m(age)\u001b[0m\n\u001b[1;32m     14\u001b[0m     \u001b[38;5;28;01mraise\u001b[39;00m \u001b[38;5;167;01mTypeError\u001b[39;00m(\u001b[38;5;124m'\u001b[39m\u001b[38;5;124m`age` must be an integer!\u001b[39m\u001b[38;5;124m'\u001b[39m)\n\u001b[1;32m     15\u001b[0m \u001b[38;5;28;01mif\u001b[39;00m age \u001b[38;5;241m<\u001b[39m \u001b[38;5;241m0\u001b[39m:\n\u001b[0;32m---> 16\u001b[0m     \u001b[38;5;28;01mraise\u001b[39;00m \u001b[38;5;167;01mValueError\u001b[39;00m(\u001b[38;5;124m'\u001b[39m\u001b[38;5;124m`age` must be positive!\u001b[39m\u001b[38;5;124m'\u001b[39m)\n\u001b[1;32m     17\u001b[0m doubled_age \u001b[38;5;241m=\u001b[39m age \u001b[38;5;241m*\u001b[39m \u001b[38;5;241m2\u001b[39m\n\u001b[1;32m     18\u001b[0m \u001b[38;5;28;01mreturn\u001b[39;00m doubled_age\n",
      "\u001b[0;31mValueError\u001b[0m: `age` must be positive!"
     ]
    }
   ],
   "source": [
    "compute_double_age_v5(-2)"
   ]
  },
  {
   "cell_type": "markdown",
   "id": "cfd1fb33",
   "metadata": {},
   "source": [
    "<mark>For all your projects, if you have long error messages just skip to the last line (then go above if needed).</mark>"
   ]
  },
  {
   "cell_type": "markdown",
   "id": "2ccbd4f9",
   "metadata": {},
   "source": [
    "Or using an asssertion:"
   ]
  },
  {
   "cell_type": "code",
   "execution_count": 128,
   "id": "ec632f0b",
   "metadata": {},
   "outputs": [],
   "source": [
    "def compute_double_age_v6(age: int = 10) -> int:\n",
    "    \"\"\"\n",
    "    Double the age.\n",
    "    \n",
    "    Parameters\n",
    "    ----------\n",
    "    age : int, default=10\n",
    "    \n",
    "    Returns\n",
    "    -------\n",
    "    doubled_age : int\n",
    "    \"\"\"\n",
    "    cond = type(age) == int and age >= 0\n",
    "    err_msg = \"`age` must be a positive integer!\"\n",
    "    assert cond, err_msg\n",
    "    \n",
    "    doubled_age = age * 2\n",
    "    \n",
    "    return doubled_age"
   ]
  },
  {
   "cell_type": "code",
   "execution_count": 129,
   "id": "6b945ef8",
   "metadata": {},
   "outputs": [
    {
     "ename": "AssertionError",
     "evalue": "`age` must be a positive integer!",
     "output_type": "error",
     "traceback": [
      "\u001b[0;31m---------------------------------------------------------------------------\u001b[0m",
      "\u001b[0;31mAssertionError\u001b[0m                            Traceback (most recent call last)",
      "Input \u001b[0;32mIn [129]\u001b[0m, in \u001b[0;36m<cell line: 1>\u001b[0;34m()\u001b[0m\n\u001b[0;32m----> 1\u001b[0m \u001b[43mcompute_double_age_v6\u001b[49m\u001b[43m(\u001b[49m\u001b[38;5;241;43m10.1\u001b[39;49m\u001b[43m)\u001b[49m\n",
      "Input \u001b[0;32mIn [128]\u001b[0m, in \u001b[0;36mcompute_double_age_v6\u001b[0;34m(age)\u001b[0m\n\u001b[1;32m     13\u001b[0m cond \u001b[38;5;241m=\u001b[39m \u001b[38;5;28mtype\u001b[39m(age) \u001b[38;5;241m==\u001b[39m \u001b[38;5;28mint\u001b[39m \u001b[38;5;129;01mand\u001b[39;00m age \u001b[38;5;241m>\u001b[39m\u001b[38;5;241m=\u001b[39m \u001b[38;5;241m0\u001b[39m\n\u001b[1;32m     14\u001b[0m err_msg \u001b[38;5;241m=\u001b[39m \u001b[38;5;124m\"\u001b[39m\u001b[38;5;124m`age` must be a positive integer!\u001b[39m\u001b[38;5;124m\"\u001b[39m\n\u001b[0;32m---> 15\u001b[0m \u001b[38;5;28;01massert\u001b[39;00m cond, err_msg\n\u001b[1;32m     17\u001b[0m doubled_age \u001b[38;5;241m=\u001b[39m age \u001b[38;5;241m*\u001b[39m \u001b[38;5;241m2\u001b[39m\n\u001b[1;32m     19\u001b[0m \u001b[38;5;28;01mreturn\u001b[39;00m doubled_age\n",
      "\u001b[0;31mAssertionError\u001b[0m: `age` must be a positive integer!"
     ]
    }
   ],
   "source": [
    "compute_double_age_v6(10.1)"
   ]
  },
  {
   "cell_type": "code",
   "execution_count": 130,
   "id": "f87e1928",
   "metadata": {},
   "outputs": [
    {
     "name": "stdout",
     "output_type": "stream",
     "text": [
      "Help on function compute_double_age_v6 in module __main__:\n",
      "\n",
      "compute_double_age_v6(age: int = 10) -> int\n",
      "    Double the age.\n",
      "    \n",
      "    Parameters\n",
      "    ----------\n",
      "    age : int, default=10\n",
      "    \n",
      "    Returns\n",
      "    -------\n",
      "    doubled_age : int\n",
      "\n"
     ]
    }
   ],
   "source": [
    "help(compute_double_age_v6)"
   ]
  },
  {
   "cell_type": "markdown",
   "id": "d20b948e",
   "metadata": {},
   "source": [
    "# Libraries"
   ]
  },
  {
   "cell_type": "markdown",
   "id": "03ef5daa",
   "metadata": {},
   "source": [
    "## Most of the power of a programming language is in its libraries"
   ]
  },
  {
   "cell_type": "markdown",
   "id": "0a862366",
   "metadata": {},
   "source": [
    "- A library is a collection of files (called modules) that contains functions for use by other programs.\n",
    "    - May also contain data values (e.g., numerical constants) and other things.\n",
    "    - Library’s contents are supposed to be related, but there’s no way to enforce that.\n",
    "- The Python [standard library](https://docs.python.org/3/library/) is an extensive suite of modules that comes with Python itself.\n",
    "- Many additional libraries are available from [PyPI](https://pypi.python.org/pypi/) (the Python Package Index).\n",
    "\n",
    "Libraries are also called packages."
   ]
  },
  {
   "cell_type": "markdown",
   "id": "1af47edb",
   "metadata": {},
   "source": [
    "## A program must import a library module before using it"
   ]
  },
  {
   "cell_type": "markdown",
   "id": "d2e2f90d",
   "metadata": {},
   "source": [
    "- Use `import` to load a library module into a program's memory.\n",
    "- Then refer to things from the module as `module_name.thing_name`.\n",
    "    - Python uses `.` to mean \"part of\".\n",
    "\n",
    "`math` is a \"built-in\" library: it comes already installed with Python, contrary to `sklearn` for example. "
   ]
  },
  {
   "cell_type": "code",
   "execution_count": 131,
   "id": "b98821ad",
   "metadata": {},
   "outputs": [],
   "source": [
    "import math  # imports the `math` library"
   ]
  },
  {
   "cell_type": "code",
   "execution_count": 132,
   "id": "09e93850",
   "metadata": {},
   "outputs": [
    {
     "data": {
      "text/plain": [
       "<module 'math' from '/Users/swc/opt/anaconda3/envs/sax/lib/python3.10/lib-dynload/math.cpython-310-darwin.so'>"
      ]
     },
     "execution_count": 132,
     "metadata": {},
     "output_type": "execute_result"
    }
   ],
   "source": [
    "math "
   ]
  },
  {
   "cell_type": "code",
   "execution_count": 133,
   "id": "3338da2b",
   "metadata": {},
   "outputs": [
    {
     "name": "stdout",
     "output_type": "stream",
     "text": [
      "pi is roughly 3.141592653589793\n"
     ]
    }
   ],
   "source": [
    "print(\"pi is roughly\", math.pi)"
   ]
  },
  {
   "cell_type": "markdown",
   "id": "0e6d3dd1",
   "metadata": {},
   "source": [
    "When importing the whole module, its function must be called with the name of the module:"
   ]
  },
  {
   "cell_type": "code",
   "execution_count": 134,
   "id": "06d4e5f2",
   "metadata": {},
   "outputs": [
    {
     "data": {
      "text/plain": [
       "-1.0"
      ]
     },
     "execution_count": 134,
     "metadata": {},
     "output_type": "execute_result"
    }
   ],
   "source": [
    "math.cos(math.pi)"
   ]
  },
  {
   "cell_type": "markdown",
   "id": "b1afa7d9",
   "metadata": {},
   "source": [
    "which can lead to long lines of code that are not easily readable:"
   ]
  },
  {
   "cell_type": "code",
   "execution_count": 135,
   "id": "cd1e5111",
   "metadata": {},
   "outputs": [
    {
     "data": {
      "text/plain": [
       "-0.865837027279448"
      ]
     },
     "execution_count": 135,
     "metadata": {},
     "output_type": "execute_result"
    }
   ],
   "source": [
    "math.cos(1) + math.cos(2) + math.cos(3)  "
   ]
  },
  {
   "cell_type": "markdown",
   "id": "2720c698",
   "metadata": {},
   "source": [
    "An alternative is to import a specific variable from a module:"
   ]
  },
  {
   "cell_type": "markdown",
   "id": "716a76e9",
   "metadata": {},
   "source": [
    "## Import specific items from a library module to shorten programs"
   ]
  },
  {
   "cell_type": "code",
   "execution_count": 136,
   "id": "48e448f8",
   "metadata": {},
   "outputs": [],
   "source": [
    "from math import cos"
   ]
  },
  {
   "cell_type": "code",
   "execution_count": 137,
   "id": "b07f69db",
   "metadata": {},
   "outputs": [
    {
     "data": {
      "text/plain": [
       "\u001b[0;31mSignature:\u001b[0m \u001b[0mcos\u001b[0m\u001b[0;34m(\u001b[0m\u001b[0mx\u001b[0m\u001b[0;34m,\u001b[0m \u001b[0;34m/\u001b[0m\u001b[0;34m)\u001b[0m\u001b[0;34m\u001b[0m\u001b[0;34m\u001b[0m\u001b[0m\n",
       "\u001b[0;31mDocstring:\u001b[0m Return the cosine of x (measured in radians).\n",
       "\u001b[0;31mType:\u001b[0m      builtin_function_or_method\n"
      ]
     },
     "metadata": {},
     "output_type": "display_data"
    }
   ],
   "source": [
    "cos?"
   ]
  },
  {
   "cell_type": "code",
   "execution_count": 138,
   "id": "86192191",
   "metadata": {},
   "outputs": [
    {
     "data": {
      "text/plain": [
       "-0.865837027279448"
      ]
     },
     "execution_count": 138,
     "metadata": {},
     "output_type": "execute_result"
    }
   ],
   "source": [
    "cos(1) + cos(2) + cos(3)"
   ]
  },
  {
   "cell_type": "markdown",
   "id": "750775c2",
   "metadata": {},
   "source": [
    "Should we use `math.cos` or `cos`?\n",
    "\n",
    "`math.cos` is very explicit (we know it is from the `math` package) but long.\n",
    "We do not know who defined `cos` but it is short.\n",
    "\n",
    "Reminder: write all the imports in a cell at the beginning of all your notebooks to make clear where each function is imported from (_even if it is not done in this notebook for pedagogical purposes_)."
   ]
  },
  {
   "cell_type": "markdown",
   "id": "f5139017",
   "metadata": {},
   "source": [
    "## <mark>[NEW]</mark> Installing a library"
   ]
  },
  {
   "cell_type": "markdown",
   "id": "9e35d83a",
   "metadata": {},
   "source": [
    "For now, we use `pip` but we would recommend you using `conda` (after a few days of using Python). Recommended resource: [Installing packages using pip and virtual environments](https://packaging.python.org/en/latest/guides/installing-using-pip-and-virtual-environments/)."
   ]
  },
  {
   "cell_type": "markdown",
   "id": "7aa7702d",
   "metadata": {},
   "source": [
    "Install a library (for example `numpy`):"
   ]
  },
  {
   "cell_type": "code",
   "execution_count": 139,
   "id": "7538890e",
   "metadata": {},
   "outputs": [
    {
     "name": "stdout",
     "output_type": "stream",
     "text": [
      "Requirement already satisfied: numpy in /Users/swc/opt/anaconda3/envs/sax/lib/python3.10/site-packages (1.23.3)\n"
     ]
    }
   ],
   "source": [
    "!pip install numpy"
   ]
  },
  {
   "cell_type": "markdown",
   "id": "c5f2cb22",
   "metadata": {},
   "source": [
    "Recommended:"
   ]
  },
  {
   "cell_type": "code",
   "execution_count": 140,
   "id": "a1838924",
   "metadata": {},
   "outputs": [
    {
     "name": "stdout",
     "output_type": "stream",
     "text": [
      "Requirement already satisfied: numpy in /Users/swc/opt/anaconda3/envs/sax/lib/python3.10/site-packages (1.23.3)\n"
     ]
    }
   ],
   "source": [
    "!python3 -m pip install numpy"
   ]
  },
  {
   "cell_type": "markdown",
   "id": "fcfd74c6",
   "metadata": {},
   "source": [
    "Note that `pip install` prefers to leave the installed version as-is unless `--upgrade` is specified."
   ]
  },
  {
   "cell_type": "markdown",
   "id": "97ba8b17",
   "metadata": {},
   "source": [
    "Show some information about the package (especially its version):"
   ]
  },
  {
   "cell_type": "code",
   "execution_count": 141,
   "id": "e67194c8",
   "metadata": {},
   "outputs": [
    {
     "name": "stdout",
     "output_type": "stream",
     "text": [
      "Name: numpy\n",
      "Version: 1.23.3\n",
      "Summary: NumPy is the fundamental package for array computing with Python.\n",
      "Home-page: https://www.numpy.org\n",
      "Author: Travis E. Oliphant et al.\n",
      "Author-email: \n",
      "License: BSD\n",
      "Location: /Users/swc/opt/anaconda3/envs/sax/lib/python3.10/site-packages\n",
      "Requires: \n",
      "Required-by: bokeh, Bottleneck, contourpy, h5py, loadmydata, matplotlib, mkl-fft, mkl-random, numba, numexpr, pandas, patsy, ruptures, scikit-learn, scipy, seaborn, sktime, statsmodels, tslearn\n"
     ]
    }
   ],
   "source": [
    "!pip show numpy"
   ]
  },
  {
   "cell_type": "markdown",
   "id": "4ee5e63d",
   "metadata": {},
   "source": [
    "## <mark>[NEW]</mark> Import packages using aliases"
   ]
  },
  {
   "cell_type": "code",
   "execution_count": 142,
   "id": "fe607665",
   "metadata": {},
   "outputs": [
    {
     "data": {
      "text/plain": [
       "-1.0"
      ]
     },
     "execution_count": 142,
     "metadata": {},
     "output_type": "execute_result"
    }
   ],
   "source": [
    "import math as m \n",
    "m.cos(m.pi)"
   ]
  },
  {
   "cell_type": "code",
   "execution_count": 143,
   "id": "a7a70b98",
   "metadata": {},
   "outputs": [],
   "source": [
    "import numpy as np\n",
    "import pandas as pd\n",
    "import matplotlib.pyplot as plt "
   ]
  },
  {
   "cell_type": "code",
   "execution_count": 144,
   "id": "afad7287",
   "metadata": {},
   "outputs": [
    {
     "data": {
      "text/plain": [
       "\u001b[0;31mType:\u001b[0m        module\n",
       "\u001b[0;31mString form:\u001b[0m <module 'matplotlib.pyplot' from '/Users/swc/opt/anaconda3/envs/sax/lib/python3.10/site-packages/matplotlib/pyplot.py'>\n",
       "\u001b[0;31mFile:\u001b[0m        ~/opt/anaconda3/envs/sax/lib/python3.10/site-packages/matplotlib/pyplot.py\n",
       "\u001b[0;31mDocstring:\u001b[0m  \n",
       "`matplotlib.pyplot` is a state-based interface to matplotlib. It provides\n",
       "an implicit,  MATLAB-like, way of plotting.  It also opens figures on your\n",
       "screen, and acts as the figure GUI manager.\n",
       "\n",
       "pyplot is mainly intended for interactive plots and simple cases of\n",
       "programmatic plot generation::\n",
       "\n",
       "    import numpy as np\n",
       "    import matplotlib.pyplot as plt\n",
       "\n",
       "    x = np.arange(0, 5, 0.1)\n",
       "    y = np.sin(x)\n",
       "    plt.plot(x, y)\n",
       "\n",
       "The explicit object-oriented API is recommended for complex plots, though\n",
       "pyplot is still usually used to create the figure and often the axes in the\n",
       "figure. See `.pyplot.figure`, `.pyplot.subplots`, and\n",
       "`.pyplot.subplot_mosaic` to create figures, and\n",
       ":doc:`Axes API </api/axes_api>` for the plotting methods on an Axes::\n",
       "\n",
       "    import numpy as np\n",
       "    import matplotlib.pyplot as plt\n",
       "\n",
       "    x = np.arange(0, 5, 0.1)\n",
       "    y = np.sin(x)\n",
       "    fig, ax = plt.subplots()\n",
       "    ax.plot(x, y)\n",
       "\n",
       "\n",
       "See :ref:`api_interfaces` for an explanation of the tradeoffs between the\n",
       "implicit and explicit interfaces.\n"
      ]
     },
     "metadata": {},
     "output_type": "display_data"
    }
   ],
   "source": [
    "plt?"
   ]
  },
  {
   "cell_type": "markdown",
   "id": "0e2e84bd",
   "metadata": {},
   "source": [
    "## <mark>[NEW]</mark> Importing everything from a module (not recommended)"
   ]
  },
  {
   "cell_type": "code",
   "execution_count": 145,
   "id": "fbb2dcae",
   "metadata": {},
   "outputs": [
    {
     "data": {
      "text/plain": [
       "['AGE',\n",
       " 'Age',\n",
       " 'In',\n",
       " 'Out',\n",
       " '_',\n",
       " '_1',\n",
       " '_107',\n",
       " '_11',\n",
       " '_120',\n",
       " '_121',\n",
       " '_123',\n",
       " '_124',\n",
       " '_13',\n",
       " '_132',\n",
       " '_134',\n",
       " '_135',\n",
       " '_138',\n",
       " '_14',\n",
       " '_142',\n",
       " '_16',\n",
       " '_36',\n",
       " '_37',\n",
       " '_45',\n",
       " '_46',\n",
       " '_50',\n",
       " '_51',\n",
       " '_55',\n",
       " '_61',\n",
       " '_62',\n",
       " '_63',\n",
       " '_64',\n",
       " '_65',\n",
       " '_68',\n",
       " '_69',\n",
       " '_7',\n",
       " '_70',\n",
       " '_71',\n",
       " '_72',\n",
       " '_73',\n",
       " '_74',\n",
       " '_75',\n",
       " '_76',\n",
       " '_77',\n",
       " '_79',\n",
       " '_8',\n",
       " '_80',\n",
       " '_85',\n",
       " '_86',\n",
       " '_87',\n",
       " '_89',\n",
       " '_90',\n",
       " '_92',\n",
       " '_94',\n",
       " '_96',\n",
       " '_97',\n",
       " '_98',\n",
       " '__',\n",
       " '___',\n",
       " '__builtin__',\n",
       " '__builtins__',\n",
       " '__doc__',\n",
       " '__loader__',\n",
       " '__name__',\n",
       " '__package__',\n",
       " '__spec__',\n",
       " '_dh',\n",
       " '_exit_code',\n",
       " '_i',\n",
       " '_i1',\n",
       " '_i10',\n",
       " '_i100',\n",
       " '_i101',\n",
       " '_i102',\n",
       " '_i103',\n",
       " '_i104',\n",
       " '_i105',\n",
       " '_i106',\n",
       " '_i107',\n",
       " '_i108',\n",
       " '_i109',\n",
       " '_i11',\n",
       " '_i110',\n",
       " '_i111',\n",
       " '_i112',\n",
       " '_i113',\n",
       " '_i114',\n",
       " '_i115',\n",
       " '_i116',\n",
       " '_i117',\n",
       " '_i118',\n",
       " '_i119',\n",
       " '_i12',\n",
       " '_i120',\n",
       " '_i121',\n",
       " '_i122',\n",
       " '_i123',\n",
       " '_i124',\n",
       " '_i125',\n",
       " '_i126',\n",
       " '_i127',\n",
       " '_i128',\n",
       " '_i129',\n",
       " '_i13',\n",
       " '_i130',\n",
       " '_i131',\n",
       " '_i132',\n",
       " '_i133',\n",
       " '_i134',\n",
       " '_i135',\n",
       " '_i136',\n",
       " '_i137',\n",
       " '_i138',\n",
       " '_i139',\n",
       " '_i14',\n",
       " '_i140',\n",
       " '_i141',\n",
       " '_i142',\n",
       " '_i143',\n",
       " '_i144',\n",
       " '_i145',\n",
       " '_i15',\n",
       " '_i16',\n",
       " '_i17',\n",
       " '_i18',\n",
       " '_i19',\n",
       " '_i2',\n",
       " '_i20',\n",
       " '_i21',\n",
       " '_i22',\n",
       " '_i23',\n",
       " '_i24',\n",
       " '_i25',\n",
       " '_i26',\n",
       " '_i27',\n",
       " '_i28',\n",
       " '_i29',\n",
       " '_i3',\n",
       " '_i30',\n",
       " '_i31',\n",
       " '_i32',\n",
       " '_i33',\n",
       " '_i34',\n",
       " '_i35',\n",
       " '_i36',\n",
       " '_i37',\n",
       " '_i38',\n",
       " '_i39',\n",
       " '_i4',\n",
       " '_i40',\n",
       " '_i41',\n",
       " '_i42',\n",
       " '_i43',\n",
       " '_i44',\n",
       " '_i45',\n",
       " '_i46',\n",
       " '_i47',\n",
       " '_i48',\n",
       " '_i49',\n",
       " '_i5',\n",
       " '_i50',\n",
       " '_i51',\n",
       " '_i52',\n",
       " '_i53',\n",
       " '_i54',\n",
       " '_i55',\n",
       " '_i56',\n",
       " '_i57',\n",
       " '_i58',\n",
       " '_i59',\n",
       " '_i6',\n",
       " '_i60',\n",
       " '_i61',\n",
       " '_i62',\n",
       " '_i63',\n",
       " '_i64',\n",
       " '_i65',\n",
       " '_i66',\n",
       " '_i67',\n",
       " '_i68',\n",
       " '_i69',\n",
       " '_i7',\n",
       " '_i70',\n",
       " '_i71',\n",
       " '_i72',\n",
       " '_i73',\n",
       " '_i74',\n",
       " '_i75',\n",
       " '_i76',\n",
       " '_i77',\n",
       " '_i78',\n",
       " '_i79',\n",
       " '_i8',\n",
       " '_i80',\n",
       " '_i81',\n",
       " '_i82',\n",
       " '_i83',\n",
       " '_i84',\n",
       " '_i85',\n",
       " '_i86',\n",
       " '_i87',\n",
       " '_i88',\n",
       " '_i89',\n",
       " '_i9',\n",
       " '_i90',\n",
       " '_i91',\n",
       " '_i92',\n",
       " '_i93',\n",
       " '_i94',\n",
       " '_i95',\n",
       " '_i96',\n",
       " '_i97',\n",
       " '_i98',\n",
       " '_i99',\n",
       " '_ih',\n",
       " '_ii',\n",
       " '_iii',\n",
       " '_oh',\n",
       " 'a',\n",
       " 'adjustment',\n",
       " 'age',\n",
       " 'age_1',\n",
       " 'atom_name',\n",
       " 'b',\n",
       " 'compute_double_age',\n",
       " 'compute_double_age_v2',\n",
       " 'compute_double_age_v3',\n",
       " 'compute_double_age_v4',\n",
       " 'compute_double_age_v5',\n",
       " 'compute_double_age_v6',\n",
       " 'cos',\n",
       " 'double_age',\n",
       " 'ehfksdjrthlkjze',\n",
       " 'example',\n",
       " 'exit',\n",
       " 'f',\n",
       " 'foo',\n",
       " 'get_ipython',\n",
       " 'height',\n",
       " 'initial',\n",
       " 'm',\n",
       " 'math',\n",
       " 'my_float',\n",
       " 'my_function',\n",
       " 'my_string',\n",
       " 'name',\n",
       " 'new_age',\n",
       " 'np',\n",
       " 'output',\n",
       " 'pd',\n",
       " 'plt',\n",
       " 'position',\n",
       " 'pp',\n",
       " 'quit',\n",
       " 'result_addition',\n",
       " 'result_multplication',\n",
       " 'swap',\n",
       " 'sys',\n",
       " 't',\n",
       " 'total_seconds']"
      ]
     },
     "execution_count": 145,
     "metadata": {},
     "output_type": "execute_result"
    }
   ],
   "source": [
    "dir()  # The `dir()` function returns all properties and methods that exist in this notebook session without the values."
   ]
  },
  {
   "cell_type": "code",
   "execution_count": 146,
   "id": "25c6c19b",
   "metadata": {},
   "outputs": [
    {
     "data": {
      "text/plain": [
       "261"
      ]
     },
     "execution_count": 146,
     "metadata": {},
     "output_type": "execute_result"
    }
   ],
   "source": [
    "len(dir())  # returns 261 in my execution"
   ]
  },
  {
   "cell_type": "code",
   "execution_count": 147,
   "id": "7db149c9",
   "metadata": {},
   "outputs": [],
   "source": [
    "from numpy.linalg import *  # imports everything from the `numpy.linalg` module"
   ]
  },
  {
   "cell_type": "code",
   "execution_count": 148,
   "id": "729fbb61",
   "metadata": {},
   "outputs": [
    {
     "data": {
      "text/plain": [
       "285"
      ]
     },
     "execution_count": 148,
     "metadata": {},
     "output_type": "execute_result"
    }
   ],
   "source": [
    "len(dir())  # returns 285 in my execution"
   ]
  },
  {
   "cell_type": "markdown",
   "id": "6a9491d1",
   "metadata": {},
   "source": [
    "When using `from math import sqrt`, you must specify the module:"
   ]
  },
  {
   "cell_type": "code",
   "execution_count": 149,
   "id": "388c962b",
   "metadata": {},
   "outputs": [
    {
     "ename": "NameError",
     "evalue": "name 'sqrt' is not defined",
     "output_type": "error",
     "traceback": [
      "\u001b[0;31m---------------------------------------------------------------------------\u001b[0m",
      "\u001b[0;31mNameError\u001b[0m                                 Traceback (most recent call last)",
      "Input \u001b[0;32mIn [149]\u001b[0m, in \u001b[0;36m<cell line: 1>\u001b[0;34m()\u001b[0m\n\u001b[0;32m----> 1\u001b[0m \u001b[43msqrt\u001b[49m\n",
      "\u001b[0;31mNameError\u001b[0m: name 'sqrt' is not defined"
     ]
    }
   ],
   "source": [
    "sqrt"
   ]
  },
  {
   "cell_type": "code",
   "execution_count": 150,
   "id": "f09a0dcd",
   "metadata": {},
   "outputs": [
    {
     "data": {
      "text/plain": [
       "<function math.sqrt(x, /)>"
      ]
     },
     "execution_count": 150,
     "metadata": {},
     "output_type": "execute_result"
    }
   ],
   "source": [
    "math.sqrt"
   ]
  },
  {
   "cell_type": "markdown",
   "id": "fb110475",
   "metadata": {},
   "source": [
    "Let us import everything from `math`:"
   ]
  },
  {
   "cell_type": "code",
   "execution_count": 151,
   "id": "5b9ee64e",
   "metadata": {},
   "outputs": [],
   "source": [
    "from math import *"
   ]
  },
  {
   "cell_type": "markdown",
   "id": "cea0a93d",
   "metadata": {},
   "source": [
    "Then, there is no need to use aliases:"
   ]
  },
  {
   "cell_type": "code",
   "execution_count": 152,
   "id": "0b26d8b0",
   "metadata": {},
   "outputs": [
    {
     "data": {
      "text/plain": [
       "<function math.sqrt(x, /)>"
      ]
     },
     "execution_count": 152,
     "metadata": {},
     "output_type": "execute_result"
    }
   ],
   "source": [
    "sqrt"
   ]
  },
  {
   "cell_type": "markdown",
   "id": "28e3a6c6",
   "metadata": {},
   "source": [
    "However, what happens when a same function name exists accross several libraries?"
   ]
  },
  {
   "cell_type": "code",
   "execution_count": 153,
   "id": "751da2ab",
   "metadata": {},
   "outputs": [
    {
     "data": {
      "text/plain": [
       "\u001b[0;31mSignature:\u001b[0m \u001b[0msum\u001b[0m\u001b[0;34m(\u001b[0m\u001b[0miterable\u001b[0m\u001b[0;34m,\u001b[0m \u001b[0;34m/\u001b[0m\u001b[0;34m,\u001b[0m \u001b[0mstart\u001b[0m\u001b[0;34m=\u001b[0m\u001b[0;36m0\u001b[0m\u001b[0;34m)\u001b[0m\u001b[0;34m\u001b[0m\u001b[0;34m\u001b[0m\u001b[0m\n",
       "\u001b[0;31mDocstring:\u001b[0m\n",
       "Return the sum of a 'start' value (default: 0) plus an iterable of numbers\n",
       "\n",
       "When the iterable is empty, return the start value.\n",
       "This function is intended specifically for use with numeric values and may\n",
       "reject non-numeric types.\n",
       "\u001b[0;31mType:\u001b[0m      builtin_function_or_method\n"
      ]
     },
     "metadata": {},
     "output_type": "display_data"
    }
   ],
   "source": [
    "sum?"
   ]
  },
  {
   "cell_type": "code",
   "execution_count": 154,
   "id": "4c770655",
   "metadata": {},
   "outputs": [
    {
     "name": "stdout",
     "output_type": "stream",
     "text": [
      "M = [[0, 1], [0, 5]]\n",
      "type(M) = <class 'list'>\n"
     ]
    },
    {
     "ename": "TypeError",
     "evalue": "unsupported operand type(s) for +: 'int' and 'list'",
     "output_type": "error",
     "traceback": [
      "\u001b[0;31m---------------------------------------------------------------------------\u001b[0m",
      "\u001b[0;31mTypeError\u001b[0m                                 Traceback (most recent call last)",
      "Input \u001b[0;32mIn [154]\u001b[0m, in \u001b[0;36m<cell line: 4>\u001b[0;34m()\u001b[0m\n\u001b[1;32m      2\u001b[0m \u001b[38;5;28mprint\u001b[39m(\u001b[38;5;124mf\u001b[39m\u001b[38;5;124m\"\u001b[39m\u001b[38;5;132;01m{\u001b[39;00mM \u001b[38;5;132;01m= }\u001b[39;00m\u001b[38;5;124m\"\u001b[39m)\n\u001b[1;32m      3\u001b[0m \u001b[38;5;28mprint\u001b[39m(\u001b[38;5;124mf\u001b[39m\u001b[38;5;124m\"\u001b[39m\u001b[38;5;132;01m{\u001b[39;00m\u001b[38;5;28mtype\u001b[39m(M) \u001b[38;5;132;01m= }\u001b[39;00m\u001b[38;5;124m\"\u001b[39m)\n\u001b[0;32m----> 4\u001b[0m \u001b[38;5;28mprint\u001b[39m(\u001b[38;5;28;43msum\u001b[39;49m\u001b[43m(\u001b[49m\u001b[43mM\u001b[49m\u001b[43m)\u001b[49m)\n",
      "\u001b[0;31mTypeError\u001b[0m: unsupported operand type(s) for +: 'int' and 'list'"
     ]
    }
   ],
   "source": [
    "M = [[0, 1], [0, 5]]\n",
    "print(f\"{M = }\")\n",
    "print(f\"{type(M) = }\")\n",
    "print(sum(M))"
   ]
  },
  {
   "cell_type": "code",
   "execution_count": 155,
   "id": "7fc0e5ea",
   "metadata": {},
   "outputs": [],
   "source": [
    "from numpy import *"
   ]
  },
  {
   "cell_type": "code",
   "execution_count": 156,
   "id": "1f8ce68a",
   "metadata": {},
   "outputs": [
    {
     "data": {
      "text/plain": [
       "\u001b[0;31mSignature:\u001b[0m\n",
       "\u001b[0msum\u001b[0m\u001b[0;34m(\u001b[0m\u001b[0;34m\u001b[0m\n",
       "\u001b[0;34m\u001b[0m    \u001b[0ma\u001b[0m\u001b[0;34m,\u001b[0m\u001b[0;34m\u001b[0m\n",
       "\u001b[0;34m\u001b[0m    \u001b[0maxis\u001b[0m\u001b[0;34m=\u001b[0m\u001b[0;32mNone\u001b[0m\u001b[0;34m,\u001b[0m\u001b[0;34m\u001b[0m\n",
       "\u001b[0;34m\u001b[0m    \u001b[0mdtype\u001b[0m\u001b[0;34m=\u001b[0m\u001b[0;32mNone\u001b[0m\u001b[0;34m,\u001b[0m\u001b[0;34m\u001b[0m\n",
       "\u001b[0;34m\u001b[0m    \u001b[0mout\u001b[0m\u001b[0;34m=\u001b[0m\u001b[0;32mNone\u001b[0m\u001b[0;34m,\u001b[0m\u001b[0;34m\u001b[0m\n",
       "\u001b[0;34m\u001b[0m    \u001b[0mkeepdims\u001b[0m\u001b[0;34m=\u001b[0m\u001b[0;34m<\u001b[0m\u001b[0mno\u001b[0m \u001b[0mvalue\u001b[0m\u001b[0;34m>\u001b[0m\u001b[0;34m,\u001b[0m\u001b[0;34m\u001b[0m\n",
       "\u001b[0;34m\u001b[0m    \u001b[0minitial\u001b[0m\u001b[0;34m=\u001b[0m\u001b[0;34m<\u001b[0m\u001b[0mno\u001b[0m \u001b[0mvalue\u001b[0m\u001b[0;34m>\u001b[0m\u001b[0;34m,\u001b[0m\u001b[0;34m\u001b[0m\n",
       "\u001b[0;34m\u001b[0m    \u001b[0mwhere\u001b[0m\u001b[0;34m=\u001b[0m\u001b[0;34m<\u001b[0m\u001b[0mno\u001b[0m \u001b[0mvalue\u001b[0m\u001b[0;34m>\u001b[0m\u001b[0;34m,\u001b[0m\u001b[0;34m\u001b[0m\n",
       "\u001b[0;34m\u001b[0m\u001b[0;34m)\u001b[0m\u001b[0;34m\u001b[0m\u001b[0;34m\u001b[0m\u001b[0m\n",
       "\u001b[0;31mDocstring:\u001b[0m\n",
       "Sum of array elements over a given axis.\n",
       "\n",
       "Parameters\n",
       "----------\n",
       "a : array_like\n",
       "    Elements to sum.\n",
       "axis : None or int or tuple of ints, optional\n",
       "    Axis or axes along which a sum is performed.  The default,\n",
       "    axis=None, will sum all of the elements of the input array.  If\n",
       "    axis is negative it counts from the last to the first axis.\n",
       "\n",
       "    .. versionadded:: 1.7.0\n",
       "\n",
       "    If axis is a tuple of ints, a sum is performed on all of the axes\n",
       "    specified in the tuple instead of a single axis or all the axes as\n",
       "    before.\n",
       "dtype : dtype, optional\n",
       "    The type of the returned array and of the accumulator in which the\n",
       "    elements are summed.  The dtype of `a` is used by default unless `a`\n",
       "    has an integer dtype of less precision than the default platform\n",
       "    integer.  In that case, if `a` is signed then the platform integer\n",
       "    is used while if `a` is unsigned then an unsigned integer of the\n",
       "    same precision as the platform integer is used.\n",
       "out : ndarray, optional\n",
       "    Alternative output array in which to place the result. It must have\n",
       "    the same shape as the expected output, but the type of the output\n",
       "    values will be cast if necessary.\n",
       "keepdims : bool, optional\n",
       "    If this is set to True, the axes which are reduced are left\n",
       "    in the result as dimensions with size one. With this option,\n",
       "    the result will broadcast correctly against the input array.\n",
       "\n",
       "    If the default value is passed, then `keepdims` will not be\n",
       "    passed through to the `sum` method of sub-classes of\n",
       "    `ndarray`, however any non-default value will be.  If the\n",
       "    sub-class' method does not implement `keepdims` any\n",
       "    exceptions will be raised.\n",
       "initial : scalar, optional\n",
       "    Starting value for the sum. See `~numpy.ufunc.reduce` for details.\n",
       "\n",
       "    .. versionadded:: 1.15.0\n",
       "\n",
       "where : array_like of bool, optional\n",
       "    Elements to include in the sum. See `~numpy.ufunc.reduce` for details.\n",
       "\n",
       "    .. versionadded:: 1.17.0\n",
       "\n",
       "Returns\n",
       "-------\n",
       "sum_along_axis : ndarray\n",
       "    An array with the same shape as `a`, with the specified\n",
       "    axis removed.   If `a` is a 0-d array, or if `axis` is None, a scalar\n",
       "    is returned.  If an output array is specified, a reference to\n",
       "    `out` is returned.\n",
       "\n",
       "See Also\n",
       "--------\n",
       "ndarray.sum : Equivalent method.\n",
       "\n",
       "add.reduce : Equivalent functionality of `add`.\n",
       "\n",
       "cumsum : Cumulative sum of array elements.\n",
       "\n",
       "trapz : Integration of array values using the composite trapezoidal rule.\n",
       "\n",
       "mean, average\n",
       "\n",
       "Notes\n",
       "-----\n",
       "Arithmetic is modular when using integer types, and no error is\n",
       "raised on overflow.\n",
       "\n",
       "The sum of an empty array is the neutral element 0:\n",
       "\n",
       ">>> np.sum([])\n",
       "0.0\n",
       "\n",
       "For floating point numbers the numerical precision of sum (and\n",
       "``np.add.reduce``) is in general limited by directly adding each number\n",
       "individually to the result causing rounding errors in every step.\n",
       "However, often numpy will use a  numerically better approach (partial\n",
       "pairwise summation) leading to improved precision in many use-cases.\n",
       "This improved precision is always provided when no ``axis`` is given.\n",
       "When ``axis`` is given, it will depend on which axis is summed.\n",
       "Technically, to provide the best speed possible, the improved precision\n",
       "is only used when the summation is along the fast axis in memory.\n",
       "Note that the exact precision may vary depending on other parameters.\n",
       "In contrast to NumPy, Python's ``math.fsum`` function uses a slower but\n",
       "more precise approach to summation.\n",
       "Especially when summing a large number of lower precision floating point\n",
       "numbers, such as ``float32``, numerical errors can become significant.\n",
       "In such cases it can be advisable to use `dtype=\"float64\"` to use a higher\n",
       "precision for the output.\n",
       "\n",
       "Examples\n",
       "--------\n",
       ">>> np.sum([0.5, 1.5])\n",
       "2.0\n",
       ">>> np.sum([0.5, 0.7, 0.2, 1.5], dtype=np.int32)\n",
       "1\n",
       ">>> np.sum([[0, 1], [0, 5]])\n",
       "6\n",
       ">>> np.sum([[0, 1], [0, 5]], axis=0)\n",
       "array([0, 6])\n",
       ">>> np.sum([[0, 1], [0, 5]], axis=1)\n",
       "array([1, 5])\n",
       ">>> np.sum([[0, 1], [np.nan, 5]], where=[False, True], axis=1)\n",
       "array([1., 5.])\n",
       "\n",
       "If the accumulator is too small, overflow occurs:\n",
       "\n",
       ">>> np.ones(128, dtype=np.int8).sum(dtype=np.int8)\n",
       "-128\n",
       "\n",
       "You can also start the sum with a value other than zero:\n",
       "\n",
       ">>> np.sum([10], initial=5)\n",
       "15\n",
       "\u001b[0;31mFile:\u001b[0m      ~/opt/anaconda3/envs/sax/lib/python3.10/site-packages/numpy/core/fromnumeric.py\n",
       "\u001b[0;31mType:\u001b[0m      function\n"
      ]
     },
     "metadata": {},
     "output_type": "display_data"
    }
   ],
   "source": [
    "sum?"
   ]
  },
  {
   "cell_type": "code",
   "execution_count": 157,
   "id": "5346f372",
   "metadata": {},
   "outputs": [
    {
     "data": {
      "text/plain": [
       "6"
      ]
     },
     "execution_count": 157,
     "metadata": {},
     "output_type": "execute_result"
    }
   ],
   "source": [
    "sum(M)"
   ]
  },
  {
   "cell_type": "markdown",
   "id": "770e8246",
   "metadata": {},
   "source": [
    "`sum` now works on array objects.\n",
    "\n",
    "The last function to be imported is overshadowing the first.\n",
    "\n",
    "Hence, in order to not get confused, it is not recommended to import everything from a module."
   ]
  }
 ],
 "metadata": {
  "kernelspec": {
   "display_name": "Python 3 (ipykernel)",
   "language": "python",
   "name": "python3"
  },
  "language_info": {
   "codemirror_mode": {
    "name": "ipython",
    "version": 3
   },
   "file_extension": ".py",
   "mimetype": "text/x-python",
   "name": "python",
   "nbconvert_exporter": "python",
   "pygments_lexer": "ipython3",
   "version": "3.9.12"
  },
  "toc-autonumbering": true
 },
 "nbformat": 4,
 "nbformat_minor": 5
}
