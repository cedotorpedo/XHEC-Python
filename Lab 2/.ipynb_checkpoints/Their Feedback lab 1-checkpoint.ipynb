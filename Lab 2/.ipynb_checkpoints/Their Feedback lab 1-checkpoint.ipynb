{
 "cells": [
  {
   "cell_type": "code",
   "execution_count": 52,
   "id": "1b4ebae4",
   "metadata": {},
   "outputs": [],
   "source": [
    "import numpy as np\n",
    "import matplotlib.pyplot as plt"
   ]
  },
  {
   "cell_type": "code",
   "execution_count": 40,
   "id": "662ad856",
   "metadata": {},
   "outputs": [
    {
     "data": {
      "text/plain": [
       "'3.9.7 (default, Sep 16 2021, 13:09:58) \\n[GCC 7.5.0]'"
      ]
     },
     "execution_count": 40,
     "metadata": {},
     "output_type": "execute_result"
    }
   ],
   "source": [
    "import sys\n",
    "sys.version"
   ]
  },
  {
   "cell_type": "code",
   "execution_count": 2,
   "id": "ad619f02",
   "metadata": {},
   "outputs": [],
   "source": [
    "def function(a, b, c=1):  # no spaces around equal\n",
    "    return a + b + c\n",
    "\n",
    "function(a=1, b=2, c=3) # again no spaces\n",
    "\n",
    "a = 1 # spaces"
   ]
  },
  {
   "cell_type": "code",
   "execution_count": 3,
   "id": "dd34f9d0",
   "metadata": {},
   "outputs": [],
   "source": [
    "from os import path\n",
    "import pandas as pd\n",
    "import urllib\n",
    "import zipfile\n",
    "import sys\n",
    "\n",
    "url = u'https://archive.ics.uci.edu/ml/machine-learning-databases/00235/'\n",
    "filename = 'household_power_consumption'\n",
    "zipfilename = filename + '.zip'\n",
    "Location = url + zipfilename\n",
    "\n",
    "if not(path.isfile('zipfilename')):\n",
    "    urllib.request.urlretrieve(Location, zipfilename)\n",
    "\n",
    "zip_ = zipfile.ZipFile(zipfilename)\n",
    "zip_.extractall()\n",
    "\n",
    "na_values = ['?', '']\n",
    "fields = ['Date', 'Time', 'Global_active_power']\n",
    "df = pd.read_csv(filename + '.txt', sep=';', nrows=200000,\n",
    "                 na_values=na_values, usecols=fields)"
   ]
  },
  {
   "cell_type": "code",
   "execution_count": 4,
   "id": "007a2557",
   "metadata": {},
   "outputs": [
    {
     "data": {
      "text/plain": [
       "0         False\n",
       "1         False\n",
       "2         False\n",
       "3         False\n",
       "4         False\n",
       "          ...  \n",
       "199995    False\n",
       "199996    False\n",
       "199997    False\n",
       "199998    False\n",
       "199999    False\n",
       "Name: Global_active_power, Length: 200000, dtype: bool"
      ]
     },
     "execution_count": 4,
     "metadata": {},
     "output_type": "execute_result"
    }
   ],
   "source": [
    "isna = df[\"Global_active_power\"].isna()\n",
    "isna"
   ]
  },
  {
   "cell_type": "code",
   "execution_count": 5,
   "id": "50cc7aa0",
   "metadata": {},
   "outputs": [
    {
     "name": "stdout",
     "output_type": "stream",
     "text": [
      "3732\n"
     ]
    }
   ],
   "source": [
    "nas = 0\n",
    "for i in range(len(df)):\n",
    "    if isna.iloc[i] == True:  # if isna.iloc[i] is shorter and better\n",
    "        nas += 1\n",
    "print(nas)"
   ]
  },
  {
   "cell_type": "code",
   "execution_count": 6,
   "id": "2db129fb",
   "metadata": {},
   "outputs": [
    {
     "data": {
      "text/plain": [
       "3732"
      ]
     },
     "execution_count": 6,
     "metadata": {},
     "output_type": "execute_result"
    }
   ],
   "source": [
    "isna.sum()  # much faster than a for loop\n",
    "np.sum(isna)  # numpy interacts well with pandas with pandas dataframes"
   ]
  },
  {
   "cell_type": "code",
   "execution_count": 7,
   "id": "dc1d4b93",
   "metadata": {},
   "outputs": [
    {
     "data": {
      "text/html": [
       "<div>\n",
       "<style scoped>\n",
       "    .dataframe tbody tr th:only-of-type {\n",
       "        vertical-align: middle;\n",
       "    }\n",
       "\n",
       "    .dataframe tbody tr th {\n",
       "        vertical-align: top;\n",
       "    }\n",
       "\n",
       "    .dataframe thead th {\n",
       "        text-align: right;\n",
       "    }\n",
       "</style>\n",
       "<table border=\"1\" class=\"dataframe\">\n",
       "  <thead>\n",
       "    <tr style=\"text-align: right;\">\n",
       "      <th></th>\n",
       "      <th>Date</th>\n",
       "      <th>Time</th>\n",
       "      <th>Global_active_power</th>\n",
       "    </tr>\n",
       "  </thead>\n",
       "  <tbody>\n",
       "    <tr>\n",
       "      <th>0</th>\n",
       "      <td>16/12/2006</td>\n",
       "      <td>17:24:00</td>\n",
       "      <td>4.216</td>\n",
       "    </tr>\n",
       "    <tr>\n",
       "      <th>1</th>\n",
       "      <td>16/12/2006</td>\n",
       "      <td>17:25:00</td>\n",
       "      <td>5.360</td>\n",
       "    </tr>\n",
       "    <tr>\n",
       "      <th>2</th>\n",
       "      <td>16/12/2006</td>\n",
       "      <td>17:26:00</td>\n",
       "      <td>5.374</td>\n",
       "    </tr>\n",
       "    <tr>\n",
       "      <th>3</th>\n",
       "      <td>16/12/2006</td>\n",
       "      <td>17:27:00</td>\n",
       "      <td>5.388</td>\n",
       "    </tr>\n",
       "    <tr>\n",
       "      <th>4</th>\n",
       "      <td>16/12/2006</td>\n",
       "      <td>17:28:00</td>\n",
       "      <td>3.666</td>\n",
       "    </tr>\n",
       "    <tr>\n",
       "      <th>...</th>\n",
       "      <td>...</td>\n",
       "      <td>...</td>\n",
       "      <td>...</td>\n",
       "    </tr>\n",
       "    <tr>\n",
       "      <th>199995</th>\n",
       "      <td>4/5/2007</td>\n",
       "      <td>14:39:00</td>\n",
       "      <td>0.348</td>\n",
       "    </tr>\n",
       "    <tr>\n",
       "      <th>199996</th>\n",
       "      <td>4/5/2007</td>\n",
       "      <td>14:40:00</td>\n",
       "      <td>0.344</td>\n",
       "    </tr>\n",
       "    <tr>\n",
       "      <th>199997</th>\n",
       "      <td>4/5/2007</td>\n",
       "      <td>14:41:00</td>\n",
       "      <td>0.342</td>\n",
       "    </tr>\n",
       "    <tr>\n",
       "      <th>199998</th>\n",
       "      <td>4/5/2007</td>\n",
       "      <td>14:42:00</td>\n",
       "      <td>0.340</td>\n",
       "    </tr>\n",
       "    <tr>\n",
       "      <th>199999</th>\n",
       "      <td>4/5/2007</td>\n",
       "      <td>14:43:00</td>\n",
       "      <td>0.370</td>\n",
       "    </tr>\n",
       "  </tbody>\n",
       "</table>\n",
       "<p>196268 rows × 3 columns</p>\n",
       "</div>"
      ],
      "text/plain": [
       "              Date      Time  Global_active_power\n",
       "0       16/12/2006  17:24:00                4.216\n",
       "1       16/12/2006  17:25:00                5.360\n",
       "2       16/12/2006  17:26:00                5.374\n",
       "3       16/12/2006  17:27:00                5.388\n",
       "4       16/12/2006  17:28:00                3.666\n",
       "...            ...       ...                  ...\n",
       "199995    4/5/2007  14:39:00                0.348\n",
       "199996    4/5/2007  14:40:00                0.344\n",
       "199997    4/5/2007  14:41:00                0.342\n",
       "199998    4/5/2007  14:42:00                0.340\n",
       "199999    4/5/2007  14:43:00                0.370\n",
       "\n",
       "[196268 rows x 3 columns]"
      ]
     },
     "execution_count": 7,
     "metadata": {},
     "output_type": "execute_result"
    }
   ],
   "source": [
    "df.dropna()"
   ]
  },
  {
   "cell_type": "code",
   "execution_count": 8,
   "id": "e25b71fd",
   "metadata": {},
   "outputs": [
    {
     "data": {
      "text/html": [
       "<div>\n",
       "<style scoped>\n",
       "    .dataframe tbody tr th:only-of-type {\n",
       "        vertical-align: middle;\n",
       "    }\n",
       "\n",
       "    .dataframe tbody tr th {\n",
       "        vertical-align: top;\n",
       "    }\n",
       "\n",
       "    .dataframe thead th {\n",
       "        text-align: right;\n",
       "    }\n",
       "</style>\n",
       "<table border=\"1\" class=\"dataframe\">\n",
       "  <thead>\n",
       "    <tr style=\"text-align: right;\">\n",
       "      <th></th>\n",
       "      <th>Date</th>\n",
       "      <th>Time</th>\n",
       "      <th>Global_active_power</th>\n",
       "    </tr>\n",
       "  </thead>\n",
       "  <tbody>\n",
       "    <tr>\n",
       "      <th>0</th>\n",
       "      <td>16/12/2006</td>\n",
       "      <td>17:24:00</td>\n",
       "      <td>4.216</td>\n",
       "    </tr>\n",
       "    <tr>\n",
       "      <th>1</th>\n",
       "      <td>16/12/2006</td>\n",
       "      <td>17:25:00</td>\n",
       "      <td>5.360</td>\n",
       "    </tr>\n",
       "    <tr>\n",
       "      <th>2</th>\n",
       "      <td>16/12/2006</td>\n",
       "      <td>17:26:00</td>\n",
       "      <td>5.374</td>\n",
       "    </tr>\n",
       "    <tr>\n",
       "      <th>3</th>\n",
       "      <td>16/12/2006</td>\n",
       "      <td>17:27:00</td>\n",
       "      <td>5.388</td>\n",
       "    </tr>\n",
       "    <tr>\n",
       "      <th>4</th>\n",
       "      <td>16/12/2006</td>\n",
       "      <td>17:28:00</td>\n",
       "      <td>3.666</td>\n",
       "    </tr>\n",
       "    <tr>\n",
       "      <th>...</th>\n",
       "      <td>...</td>\n",
       "      <td>...</td>\n",
       "      <td>...</td>\n",
       "    </tr>\n",
       "    <tr>\n",
       "      <th>199995</th>\n",
       "      <td>4/5/2007</td>\n",
       "      <td>14:39:00</td>\n",
       "      <td>0.348</td>\n",
       "    </tr>\n",
       "    <tr>\n",
       "      <th>199996</th>\n",
       "      <td>4/5/2007</td>\n",
       "      <td>14:40:00</td>\n",
       "      <td>0.344</td>\n",
       "    </tr>\n",
       "    <tr>\n",
       "      <th>199997</th>\n",
       "      <td>4/5/2007</td>\n",
       "      <td>14:41:00</td>\n",
       "      <td>0.342</td>\n",
       "    </tr>\n",
       "    <tr>\n",
       "      <th>199998</th>\n",
       "      <td>4/5/2007</td>\n",
       "      <td>14:42:00</td>\n",
       "      <td>0.340</td>\n",
       "    </tr>\n",
       "    <tr>\n",
       "      <th>199999</th>\n",
       "      <td>4/5/2007</td>\n",
       "      <td>14:43:00</td>\n",
       "      <td>0.370</td>\n",
       "    </tr>\n",
       "  </tbody>\n",
       "</table>\n",
       "<p>200000 rows × 3 columns</p>\n",
       "</div>"
      ],
      "text/plain": [
       "              Date      Time  Global_active_power\n",
       "0       16/12/2006  17:24:00                4.216\n",
       "1       16/12/2006  17:25:00                5.360\n",
       "2       16/12/2006  17:26:00                5.374\n",
       "3       16/12/2006  17:27:00                5.388\n",
       "4       16/12/2006  17:28:00                3.666\n",
       "...            ...       ...                  ...\n",
       "199995    4/5/2007  14:39:00                0.348\n",
       "199996    4/5/2007  14:40:00                0.344\n",
       "199997    4/5/2007  14:41:00                0.342\n",
       "199998    4/5/2007  14:42:00                0.340\n",
       "199999    4/5/2007  14:43:00                0.370\n",
       "\n",
       "[200000 rows x 3 columns]"
      ]
     },
     "execution_count": 8,
     "metadata": {},
     "output_type": "execute_result"
    }
   ],
   "source": [
    "df"
   ]
  },
  {
   "cell_type": "code",
   "execution_count": 9,
   "id": "f3cbaf2b",
   "metadata": {},
   "outputs": [],
   "source": [
    "# df = df.dropna()  # you need this\n",
    "# it's better to do:\n",
    "df.dropna(inplace=True)"
   ]
  },
  {
   "cell_type": "code",
   "execution_count": 10,
   "id": "bc7c7ae6",
   "metadata": {},
   "outputs": [
    {
     "name": "stdout",
     "output_type": "stream",
     "text": [
      "(196268, 3)\n"
     ]
    }
   ],
   "source": [
    "print(df.shape)"
   ]
  },
  {
   "cell_type": "markdown",
   "id": "027360b7",
   "metadata": {},
   "source": [
    "## Accessing rows/columns of a DataFrame"
   ]
  },
  {
   "cell_type": "code",
   "execution_count": 11,
   "id": "a222a80b",
   "metadata": {},
   "outputs": [
    {
     "data": {
      "text/plain": [
       "0         4.216\n",
       "1         5.360\n",
       "2         5.374\n",
       "3         5.388\n",
       "4         3.666\n",
       "          ...  \n",
       "199995    0.348\n",
       "199996    0.344\n",
       "199997    0.342\n",
       "199998    0.340\n",
       "199999    0.370\n",
       "Name: Global_active_power, Length: 196268, dtype: float64"
      ]
     },
     "execution_count": 11,
     "metadata": {},
     "output_type": "execute_result"
    }
   ],
   "source": [
    "# 1) access columns using df like a dict\n",
    "df[\"Global_active_power\"]"
   ]
  },
  {
   "cell_type": "code",
   "execution_count": 12,
   "id": "c8da7553",
   "metadata": {},
   "outputs": [
    {
     "data": {
      "text/html": [
       "<div>\n",
       "<style scoped>\n",
       "    .dataframe tbody tr th:only-of-type {\n",
       "        vertical-align: middle;\n",
       "    }\n",
       "\n",
       "    .dataframe tbody tr th {\n",
       "        vertical-align: top;\n",
       "    }\n",
       "\n",
       "    .dataframe thead th {\n",
       "        text-align: right;\n",
       "    }\n",
       "</style>\n",
       "<table border=\"1\" class=\"dataframe\">\n",
       "  <thead>\n",
       "    <tr style=\"text-align: right;\">\n",
       "      <th></th>\n",
       "      <th>Global_active_power</th>\n",
       "      <th>Date</th>\n",
       "    </tr>\n",
       "  </thead>\n",
       "  <tbody>\n",
       "    <tr>\n",
       "      <th>0</th>\n",
       "      <td>4.216</td>\n",
       "      <td>16/12/2006</td>\n",
       "    </tr>\n",
       "    <tr>\n",
       "      <th>1</th>\n",
       "      <td>5.360</td>\n",
       "      <td>16/12/2006</td>\n",
       "    </tr>\n",
       "    <tr>\n",
       "      <th>2</th>\n",
       "      <td>5.374</td>\n",
       "      <td>16/12/2006</td>\n",
       "    </tr>\n",
       "    <tr>\n",
       "      <th>3</th>\n",
       "      <td>5.388</td>\n",
       "      <td>16/12/2006</td>\n",
       "    </tr>\n",
       "    <tr>\n",
       "      <th>4</th>\n",
       "      <td>3.666</td>\n",
       "      <td>16/12/2006</td>\n",
       "    </tr>\n",
       "    <tr>\n",
       "      <th>...</th>\n",
       "      <td>...</td>\n",
       "      <td>...</td>\n",
       "    </tr>\n",
       "    <tr>\n",
       "      <th>199995</th>\n",
       "      <td>0.348</td>\n",
       "      <td>4/5/2007</td>\n",
       "    </tr>\n",
       "    <tr>\n",
       "      <th>199996</th>\n",
       "      <td>0.344</td>\n",
       "      <td>4/5/2007</td>\n",
       "    </tr>\n",
       "    <tr>\n",
       "      <th>199997</th>\n",
       "      <td>0.342</td>\n",
       "      <td>4/5/2007</td>\n",
       "    </tr>\n",
       "    <tr>\n",
       "      <th>199998</th>\n",
       "      <td>0.340</td>\n",
       "      <td>4/5/2007</td>\n",
       "    </tr>\n",
       "    <tr>\n",
       "      <th>199999</th>\n",
       "      <td>0.370</td>\n",
       "      <td>4/5/2007</td>\n",
       "    </tr>\n",
       "  </tbody>\n",
       "</table>\n",
       "<p>196268 rows × 2 columns</p>\n",
       "</div>"
      ],
      "text/plain": [
       "        Global_active_power        Date\n",
       "0                     4.216  16/12/2006\n",
       "1                     5.360  16/12/2006\n",
       "2                     5.374  16/12/2006\n",
       "3                     5.388  16/12/2006\n",
       "4                     3.666  16/12/2006\n",
       "...                     ...         ...\n",
       "199995                0.348    4/5/2007\n",
       "199996                0.344    4/5/2007\n",
       "199997                0.342    4/5/2007\n",
       "199998                0.340    4/5/2007\n",
       "199999                0.370    4/5/2007\n",
       "\n",
       "[196268 rows x 2 columns]"
      ]
     },
     "execution_count": 12,
     "metadata": {},
     "output_type": "execute_result"
    }
   ],
   "source": [
    "df[[\"Global_active_power\", \"Date\"]]"
   ]
  },
  {
   "cell_type": "code",
   "execution_count": 13,
   "id": "5d25e66f",
   "metadata": {},
   "outputs": [
    {
     "data": {
      "text/plain": [
       "0     16/12/2006\n",
       "1     16/12/2006\n",
       "2     16/12/2006\n",
       "3     16/12/2006\n",
       "4     16/12/2006\n",
       "5     16/12/2006\n",
       "6     16/12/2006\n",
       "7     16/12/2006\n",
       "8     16/12/2006\n",
       "9     16/12/2006\n",
       "10    16/12/2006\n",
       "Name: Date, dtype: object"
      ]
     },
     "execution_count": 13,
     "metadata": {},
     "output_type": "execute_result"
    }
   ],
   "source": [
    "# 2) If you wan rows and columns, use df.loc:\n",
    "df.loc[:10, \"Date\"]  # :10 works because the index is an int (beware, 10 is included)"
   ]
  },
  {
   "cell_type": "code",
   "execution_count": 14,
   "id": "a3d130c4",
   "metadata": {},
   "outputs": [],
   "source": [
    "datetime = pd.to_datetime(df[\"Date\"], dayfirst=True)"
   ]
  },
  {
   "cell_type": "code",
   "execution_count": 15,
   "id": "621bb8b7",
   "metadata": {},
   "outputs": [],
   "source": [
    "df2 = df.set_index(datetime)"
   ]
  },
  {
   "cell_type": "code",
   "execution_count": 16,
   "id": "2a7b9814",
   "metadata": {},
   "outputs": [
    {
     "data": {
      "text/html": [
       "<div>\n",
       "<style scoped>\n",
       "    .dataframe tbody tr th:only-of-type {\n",
       "        vertical-align: middle;\n",
       "    }\n",
       "\n",
       "    .dataframe tbody tr th {\n",
       "        vertical-align: top;\n",
       "    }\n",
       "\n",
       "    .dataframe thead th {\n",
       "        text-align: right;\n",
       "    }\n",
       "</style>\n",
       "<table border=\"1\" class=\"dataframe\">\n",
       "  <thead>\n",
       "    <tr style=\"text-align: right;\">\n",
       "      <th></th>\n",
       "      <th>Date</th>\n",
       "      <th>Time</th>\n",
       "      <th>Global_active_power</th>\n",
       "    </tr>\n",
       "    <tr>\n",
       "      <th>Date</th>\n",
       "      <th></th>\n",
       "      <th></th>\n",
       "      <th></th>\n",
       "    </tr>\n",
       "  </thead>\n",
       "  <tbody>\n",
       "    <tr>\n",
       "      <th>2006-12-16</th>\n",
       "      <td>16/12/2006</td>\n",
       "      <td>17:24:00</td>\n",
       "      <td>4.216</td>\n",
       "    </tr>\n",
       "    <tr>\n",
       "      <th>2006-12-16</th>\n",
       "      <td>16/12/2006</td>\n",
       "      <td>17:25:00</td>\n",
       "      <td>5.360</td>\n",
       "    </tr>\n",
       "    <tr>\n",
       "      <th>2006-12-16</th>\n",
       "      <td>16/12/2006</td>\n",
       "      <td>17:26:00</td>\n",
       "      <td>5.374</td>\n",
       "    </tr>\n",
       "    <tr>\n",
       "      <th>2006-12-16</th>\n",
       "      <td>16/12/2006</td>\n",
       "      <td>17:27:00</td>\n",
       "      <td>5.388</td>\n",
       "    </tr>\n",
       "    <tr>\n",
       "      <th>2006-12-16</th>\n",
       "      <td>16/12/2006</td>\n",
       "      <td>17:28:00</td>\n",
       "      <td>3.666</td>\n",
       "    </tr>\n",
       "    <tr>\n",
       "      <th>...</th>\n",
       "      <td>...</td>\n",
       "      <td>...</td>\n",
       "      <td>...</td>\n",
       "    </tr>\n",
       "    <tr>\n",
       "      <th>2007-05-04</th>\n",
       "      <td>4/5/2007</td>\n",
       "      <td>14:39:00</td>\n",
       "      <td>0.348</td>\n",
       "    </tr>\n",
       "    <tr>\n",
       "      <th>2007-05-04</th>\n",
       "      <td>4/5/2007</td>\n",
       "      <td>14:40:00</td>\n",
       "      <td>0.344</td>\n",
       "    </tr>\n",
       "    <tr>\n",
       "      <th>2007-05-04</th>\n",
       "      <td>4/5/2007</td>\n",
       "      <td>14:41:00</td>\n",
       "      <td>0.342</td>\n",
       "    </tr>\n",
       "    <tr>\n",
       "      <th>2007-05-04</th>\n",
       "      <td>4/5/2007</td>\n",
       "      <td>14:42:00</td>\n",
       "      <td>0.340</td>\n",
       "    </tr>\n",
       "    <tr>\n",
       "      <th>2007-05-04</th>\n",
       "      <td>4/5/2007</td>\n",
       "      <td>14:43:00</td>\n",
       "      <td>0.370</td>\n",
       "    </tr>\n",
       "  </tbody>\n",
       "</table>\n",
       "<p>196268 rows × 3 columns</p>\n",
       "</div>"
      ],
      "text/plain": [
       "                  Date      Time  Global_active_power\n",
       "Date                                                 \n",
       "2006-12-16  16/12/2006  17:24:00                4.216\n",
       "2006-12-16  16/12/2006  17:25:00                5.360\n",
       "2006-12-16  16/12/2006  17:26:00                5.374\n",
       "2006-12-16  16/12/2006  17:27:00                5.388\n",
       "2006-12-16  16/12/2006  17:28:00                3.666\n",
       "...                ...       ...                  ...\n",
       "2007-05-04    4/5/2007  14:39:00                0.348\n",
       "2007-05-04    4/5/2007  14:40:00                0.344\n",
       "2007-05-04    4/5/2007  14:41:00                0.342\n",
       "2007-05-04    4/5/2007  14:42:00                0.340\n",
       "2007-05-04    4/5/2007  14:43:00                0.370\n",
       "\n",
       "[196268 rows x 3 columns]"
      ]
     },
     "execution_count": 16,
     "metadata": {},
     "output_type": "execute_result"
    }
   ],
   "source": [
    "df2 # the index is a datetime"
   ]
  },
  {
   "cell_type": "code",
   "execution_count": 17,
   "id": "feb35670",
   "metadata": {},
   "outputs": [
    {
     "data": {
      "text/html": [
       "<div>\n",
       "<style scoped>\n",
       "    .dataframe tbody tr th:only-of-type {\n",
       "        vertical-align: middle;\n",
       "    }\n",
       "\n",
       "    .dataframe tbody tr th {\n",
       "        vertical-align: top;\n",
       "    }\n",
       "\n",
       "    .dataframe thead th {\n",
       "        text-align: right;\n",
       "    }\n",
       "</style>\n",
       "<table border=\"1\" class=\"dataframe\">\n",
       "  <thead>\n",
       "    <tr style=\"text-align: right;\">\n",
       "      <th></th>\n",
       "      <th>Date</th>\n",
       "      <th>Time</th>\n",
       "      <th>Global_active_power</th>\n",
       "    </tr>\n",
       "    <tr>\n",
       "      <th>Date</th>\n",
       "      <th></th>\n",
       "      <th></th>\n",
       "      <th></th>\n",
       "    </tr>\n",
       "  </thead>\n",
       "  <tbody>\n",
       "    <tr>\n",
       "      <th>2007-04-03</th>\n",
       "      <td>3/4/2007</td>\n",
       "      <td>00:00:00</td>\n",
       "      <td>1.416</td>\n",
       "    </tr>\n",
       "    <tr>\n",
       "      <th>2007-04-03</th>\n",
       "      <td>3/4/2007</td>\n",
       "      <td>00:01:00</td>\n",
       "      <td>1.458</td>\n",
       "    </tr>\n",
       "    <tr>\n",
       "      <th>2007-04-03</th>\n",
       "      <td>3/4/2007</td>\n",
       "      <td>00:02:00</td>\n",
       "      <td>0.568</td>\n",
       "    </tr>\n",
       "    <tr>\n",
       "      <th>2007-04-03</th>\n",
       "      <td>3/4/2007</td>\n",
       "      <td>00:03:00</td>\n",
       "      <td>0.394</td>\n",
       "    </tr>\n",
       "    <tr>\n",
       "      <th>2007-04-03</th>\n",
       "      <td>3/4/2007</td>\n",
       "      <td>00:04:00</td>\n",
       "      <td>0.392</td>\n",
       "    </tr>\n",
       "    <tr>\n",
       "      <th>...</th>\n",
       "      <td>...</td>\n",
       "      <td>...</td>\n",
       "      <td>...</td>\n",
       "    </tr>\n",
       "    <tr>\n",
       "      <th>2007-05-04</th>\n",
       "      <td>4/5/2007</td>\n",
       "      <td>14:39:00</td>\n",
       "      <td>0.348</td>\n",
       "    </tr>\n",
       "    <tr>\n",
       "      <th>2007-05-04</th>\n",
       "      <td>4/5/2007</td>\n",
       "      <td>14:40:00</td>\n",
       "      <td>0.344</td>\n",
       "    </tr>\n",
       "    <tr>\n",
       "      <th>2007-05-04</th>\n",
       "      <td>4/5/2007</td>\n",
       "      <td>14:41:00</td>\n",
       "      <td>0.342</td>\n",
       "    </tr>\n",
       "    <tr>\n",
       "      <th>2007-05-04</th>\n",
       "      <td>4/5/2007</td>\n",
       "      <td>14:42:00</td>\n",
       "      <td>0.340</td>\n",
       "    </tr>\n",
       "    <tr>\n",
       "      <th>2007-05-04</th>\n",
       "      <td>4/5/2007</td>\n",
       "      <td>14:43:00</td>\n",
       "      <td>0.370</td>\n",
       "    </tr>\n",
       "  </tbody>\n",
       "</table>\n",
       "<p>41801 rows × 3 columns</p>\n",
       "</div>"
      ],
      "text/plain": [
       "                Date      Time  Global_active_power\n",
       "Date                                               \n",
       "2007-04-03  3/4/2007  00:00:00                1.416\n",
       "2007-04-03  3/4/2007  00:01:00                1.458\n",
       "2007-04-03  3/4/2007  00:02:00                0.568\n",
       "2007-04-03  3/4/2007  00:03:00                0.394\n",
       "2007-04-03  3/4/2007  00:04:00                0.392\n",
       "...              ...       ...                  ...\n",
       "2007-05-04  4/5/2007  14:39:00                0.348\n",
       "2007-05-04  4/5/2007  14:40:00                0.344\n",
       "2007-05-04  4/5/2007  14:41:00                0.342\n",
       "2007-05-04  4/5/2007  14:42:00                0.340\n",
       "2007-05-04  4/5/2007  14:43:00                0.370\n",
       "\n",
       "[41801 rows x 3 columns]"
      ]
     },
     "execution_count": 17,
     "metadata": {},
     "output_type": "execute_result"
    }
   ],
   "source": [
    "df2.loc[\"2007-04-03\":, :]  # all the indices after \"2007-04-03\""
   ]
  },
  {
   "cell_type": "code",
   "execution_count": 18,
   "id": "2f401e15",
   "metadata": {},
   "outputs": [
    {
     "data": {
      "text/plain": [
       "True"
      ]
     },
     "execution_count": 18,
     "metadata": {},
     "output_type": "execute_result"
    }
   ],
   "source": [
    "'01/12/2007' < '03/03/2006'  # that's not what we want"
   ]
  },
  {
   "cell_type": "code",
   "execution_count": 19,
   "id": "388ac81f",
   "metadata": {},
   "outputs": [],
   "source": [
    "# YYYY/MM/DD is much better (that's why it's the international format)"
   ]
  },
  {
   "cell_type": "code",
   "execution_count": 20,
   "id": "b7e37e77",
   "metadata": {},
   "outputs": [
    {
     "data": {
      "text/plain": [
       "DatetimeIndex(['2006-12-16', '2006-12-16', '2006-12-16', '2006-12-16',\n",
       "               '2006-12-16', '2006-12-16', '2006-12-16', '2006-12-16',\n",
       "               '2006-12-16', '2006-12-16',\n",
       "               ...\n",
       "               '2007-05-04', '2007-05-04', '2007-05-04', '2007-05-04',\n",
       "               '2007-05-04', '2007-05-04', '2007-05-04', '2007-05-04',\n",
       "               '2007-05-04', '2007-05-04'],\n",
       "              dtype='datetime64[ns]', name='Date', length=196268, freq=None)"
      ]
     },
     "execution_count": 20,
     "metadata": {},
     "output_type": "execute_result"
    }
   ],
   "source": [
    "df2.index"
   ]
  },
  {
   "cell_type": "code",
   "execution_count": 21,
   "id": "f64ce062",
   "metadata": {},
   "outputs": [
    {
     "data": {
      "text/plain": [
       "Int64Index([     0,      1,      2,      3,      4,      5,      6,      7,\n",
       "                 8,      9,\n",
       "            ...\n",
       "            199990, 199991, 199992, 199993, 199994, 199995, 199996, 199997,\n",
       "            199998, 199999],\n",
       "           dtype='int64', length=196268)"
      ]
     },
     "execution_count": 21,
     "metadata": {},
     "output_type": "execute_result"
    }
   ],
   "source": [
    "df.index"
   ]
  },
  {
   "cell_type": "code",
   "execution_count": 22,
   "id": "6a85a589",
   "metadata": {},
   "outputs": [
    {
     "name": "stdout",
     "output_type": "stream",
     "text": [
      "Int64Index([16, 16, 16, 16, 16, 16, 16, 16, 16, 16,\n",
      "            ...\n",
      "             4,  4,  4,  4,  4,  4,  4,  4,  4,  4],\n",
      "           dtype='int64', name='Date', length=196268)\n",
      "Int64Index([5, 5, 5, 5, 5, 5, 5, 5, 5, 5,\n",
      "            ...\n",
      "            4, 4, 4, 4, 4, 4, 4, 4, 4, 4],\n",
      "           dtype='int64', name='Date', length=196268)\n"
     ]
    }
   ],
   "source": [
    "print(df2.index.day)\n",
    "print(df2.index.weekday)"
   ]
  },
  {
   "cell_type": "code",
   "execution_count": 23,
   "id": "b6499b68",
   "metadata": {},
   "outputs": [
    {
     "data": {
      "text/plain": [
       "Int64Index([5, 6, 0, 1, 2, 3, 4], dtype='int64', name='Date')"
      ]
     },
     "execution_count": 23,
     "metadata": {},
     "output_type": "execute_result"
    }
   ],
   "source": [
    "df2.index.weekday.unique()"
   ]
  },
  {
   "cell_type": "code",
   "execution_count": 24,
   "id": "aadaf5f6",
   "metadata": {},
   "outputs": [
    {
     "data": {
      "text/plain": [
       "'17:33:00'"
      ]
     },
     "execution_count": 24,
     "metadata": {},
     "output_type": "execute_result"
    }
   ],
   "source": [
    "# 3) iloc for integer location\n",
    "# you want row number 10, column 2\n",
    "df.iloc[9, 1]  # beware, -1"
   ]
  },
  {
   "cell_type": "code",
   "execution_count": 25,
   "id": "36e15b16",
   "metadata": {},
   "outputs": [
    {
     "data": {
      "text/plain": [
       "10    4.448\n",
       "11    5.412\n",
       "12    5.224\n",
       "13    5.268\n",
       "14    4.054\n",
       "Name: Global_active_power, dtype: float64"
      ]
     },
     "execution_count": 25,
     "metadata": {},
     "output_type": "execute_result"
    }
   ],
   "source": [
    "# you can use slicing here too:\n",
    "df.iloc[10:15, 2] "
   ]
  },
  {
   "cell_type": "code",
   "execution_count": 26,
   "id": "1f164978",
   "metadata": {},
   "outputs": [
    {
     "data": {
      "text/html": [
       "<div>\n",
       "<style scoped>\n",
       "    .dataframe tbody tr th:only-of-type {\n",
       "        vertical-align: middle;\n",
       "    }\n",
       "\n",
       "    .dataframe tbody tr th {\n",
       "        vertical-align: top;\n",
       "    }\n",
       "\n",
       "    .dataframe thead th {\n",
       "        text-align: right;\n",
       "    }\n",
       "</style>\n",
       "<table border=\"1\" class=\"dataframe\">\n",
       "  <thead>\n",
       "    <tr style=\"text-align: right;\">\n",
       "      <th></th>\n",
       "      <th>Date</th>\n",
       "      <th>Time</th>\n",
       "      <th>Global_active_power</th>\n",
       "    </tr>\n",
       "  </thead>\n",
       "  <tbody>\n",
       "    <tr>\n",
       "      <th>10</th>\n",
       "      <td>16/12/2006</td>\n",
       "      <td>17:34:00</td>\n",
       "      <td>4.448</td>\n",
       "    </tr>\n",
       "    <tr>\n",
       "      <th>11</th>\n",
       "      <td>16/12/2006</td>\n",
       "      <td>17:35:00</td>\n",
       "      <td>5.412</td>\n",
       "    </tr>\n",
       "    <tr>\n",
       "      <th>12</th>\n",
       "      <td>16/12/2006</td>\n",
       "      <td>17:36:00</td>\n",
       "      <td>5.224</td>\n",
       "    </tr>\n",
       "    <tr>\n",
       "      <th>13</th>\n",
       "      <td>16/12/2006</td>\n",
       "      <td>17:37:00</td>\n",
       "      <td>5.268</td>\n",
       "    </tr>\n",
       "    <tr>\n",
       "      <th>14</th>\n",
       "      <td>16/12/2006</td>\n",
       "      <td>17:38:00</td>\n",
       "      <td>4.054</td>\n",
       "    </tr>\n",
       "  </tbody>\n",
       "</table>\n",
       "</div>"
      ],
      "text/plain": [
       "          Date      Time  Global_active_power\n",
       "10  16/12/2006  17:34:00                4.448\n",
       "11  16/12/2006  17:35:00                5.412\n",
       "12  16/12/2006  17:36:00                5.224\n",
       "13  16/12/2006  17:37:00                5.268\n",
       "14  16/12/2006  17:38:00                4.054"
      ]
     },
     "execution_count": 26,
     "metadata": {},
     "output_type": "execute_result"
    }
   ],
   "source": [
    "df.iloc[10:15]  # omitting the 2nd value (the j range) includes everything"
   ]
  },
  {
   "cell_type": "code",
   "execution_count": null,
   "id": "59d73272",
   "metadata": {},
   "outputs": [],
   "source": []
  },
  {
   "cell_type": "code",
   "execution_count": 27,
   "id": "1f2508e9",
   "metadata": {},
   "outputs": [],
   "source": [
    "df = pd.read_csv(\"TG_STAID011249.txt\", comment='#')"
   ]
  },
  {
   "cell_type": "code",
   "execution_count": 28,
   "id": "327512e3",
   "metadata": {},
   "outputs": [
    {
     "data": {
      "text/plain": [
       "Index(['STAID', ' SOUID', '    DATE', '   TG', ' Q_TG'], dtype='object')"
      ]
     },
     "execution_count": 28,
     "metadata": {},
     "output_type": "execute_result"
    }
   ],
   "source": [
    "df.columns"
   ]
  },
  {
   "cell_type": "code",
   "execution_count": 30,
   "id": "4ffa32c2",
   "metadata": {},
   "outputs": [
    {
     "name": "stdout",
     "output_type": "stream",
     "text": [
      "['STAID', 'SOUID', 'DATE', 'TG', 'Q_TG']\n"
     ]
    }
   ],
   "source": [
    "columns = [col.strip() for col in df.columns]\n",
    "print(columns)"
   ]
  },
  {
   "cell_type": "code",
   "execution_count": 32,
   "id": "7376c1dc",
   "metadata": {},
   "outputs": [
    {
     "data": {
      "text/plain": [
       "Index(['STAID', 'SOUID', 'DATE', 'TG', 'Q_TG'], dtype='object')"
      ]
     },
     "execution_count": 32,
     "metadata": {},
     "output_type": "execute_result"
    }
   ],
   "source": [
    "# when you want to apply the strip method of strings to every element in df.columns you do:df.\n",
    "df.columns.str.strip()"
   ]
  },
  {
   "cell_type": "code",
   "execution_count": 34,
   "id": "ebcfd77b",
   "metadata": {},
   "outputs": [],
   "source": [
    "df.columns = df.columns.str.strip()"
   ]
  },
  {
   "cell_type": "code",
   "execution_count": 37,
   "id": "e82e7531",
   "metadata": {},
   "outputs": [
    {
     "data": {
      "text/plain": [
       "0        19210301\n",
       "1        19210302\n",
       "2        19210303\n",
       "3        19210304\n",
       "4        19210305\n",
       "           ...   \n",
       "34878    20160827\n",
       "34879    20160828\n",
       "34880    20160829\n",
       "34881    20160830\n",
       "34882    20160831\n",
       "Name: DATE, Length: 34883, dtype: object"
      ]
     },
     "execution_count": 37,
     "metadata": {},
     "output_type": "execute_result"
    }
   ],
   "source": [
    "df[\"DATE\"].astype(str)  # to cast to string"
   ]
  },
  {
   "cell_type": "code",
   "execution_count": 38,
   "id": "6e95dc5b",
   "metadata": {},
   "outputs": [],
   "source": [
    "df[\"datetime\"] = pd.to_datetime(df[\"DATE\"], format=\"%Y%m%d\")"
   ]
  },
  {
   "cell_type": "code",
   "execution_count": 39,
   "id": "ad3a3bc2",
   "metadata": {},
   "outputs": [
    {
     "data": {
      "text/html": [
       "<div>\n",
       "<style scoped>\n",
       "    .dataframe tbody tr th:only-of-type {\n",
       "        vertical-align: middle;\n",
       "    }\n",
       "\n",
       "    .dataframe tbody tr th {\n",
       "        vertical-align: top;\n",
       "    }\n",
       "\n",
       "    .dataframe thead th {\n",
       "        text-align: right;\n",
       "    }\n",
       "</style>\n",
       "<table border=\"1\" class=\"dataframe\">\n",
       "  <thead>\n",
       "    <tr style=\"text-align: right;\">\n",
       "      <th></th>\n",
       "      <th>STAID</th>\n",
       "      <th>SOUID</th>\n",
       "      <th>DATE</th>\n",
       "      <th>TG</th>\n",
       "      <th>Q_TG</th>\n",
       "      <th>datetime</th>\n",
       "    </tr>\n",
       "  </thead>\n",
       "  <tbody>\n",
       "    <tr>\n",
       "      <th>0</th>\n",
       "      <td>11249</td>\n",
       "      <td>71642</td>\n",
       "      <td>19210301</td>\n",
       "      <td>50</td>\n",
       "      <td>0</td>\n",
       "      <td>1921-03-01</td>\n",
       "    </tr>\n",
       "    <tr>\n",
       "      <th>1</th>\n",
       "      <td>11249</td>\n",
       "      <td>71642</td>\n",
       "      <td>19210302</td>\n",
       "      <td>46</td>\n",
       "      <td>0</td>\n",
       "      <td>1921-03-02</td>\n",
       "    </tr>\n",
       "    <tr>\n",
       "      <th>2</th>\n",
       "      <td>11249</td>\n",
       "      <td>71642</td>\n",
       "      <td>19210303</td>\n",
       "      <td>46</td>\n",
       "      <td>0</td>\n",
       "      <td>1921-03-03</td>\n",
       "    </tr>\n",
       "    <tr>\n",
       "      <th>3</th>\n",
       "      <td>11249</td>\n",
       "      <td>71642</td>\n",
       "      <td>19210304</td>\n",
       "      <td>31</td>\n",
       "      <td>0</td>\n",
       "      <td>1921-03-04</td>\n",
       "    </tr>\n",
       "    <tr>\n",
       "      <th>4</th>\n",
       "      <td>11249</td>\n",
       "      <td>71642</td>\n",
       "      <td>19210305</td>\n",
       "      <td>95</td>\n",
       "      <td>0</td>\n",
       "      <td>1921-03-05</td>\n",
       "    </tr>\n",
       "  </tbody>\n",
       "</table>\n",
       "</div>"
      ],
      "text/plain": [
       "   STAID  SOUID      DATE  TG  Q_TG   datetime\n",
       "0  11249  71642  19210301  50     0 1921-03-01\n",
       "1  11249  71642  19210302  46     0 1921-03-02\n",
       "2  11249  71642  19210303  46     0 1921-03-03\n",
       "3  11249  71642  19210304  31     0 1921-03-04\n",
       "4  11249  71642  19210305  95     0 1921-03-05"
      ]
     },
     "execution_count": 39,
     "metadata": {},
     "output_type": "execute_result"
    }
   ],
   "source": [
    "df.head()"
   ]
  },
  {
   "cell_type": "code",
   "execution_count": 40,
   "id": "0ebcac31",
   "metadata": {},
   "outputs": [
    {
     "data": {
      "text/plain": [
       "0       1921-03-01\n",
       "1       1921-03-02\n",
       "2       1921-03-03\n",
       "3       1921-03-04\n",
       "4       1921-03-05\n",
       "           ...    \n",
       "34878   2016-08-27\n",
       "34879   2016-08-28\n",
       "34880   2016-08-29\n",
       "34881   2016-08-30\n",
       "34882   2016-08-31\n",
       "Name: datetime, Length: 34883, dtype: datetime64[ns]"
      ]
     },
     "execution_count": 40,
     "metadata": {},
     "output_type": "execute_result"
    }
   ],
   "source": [
    "df[\"datetime\"]"
   ]
  },
  {
   "cell_type": "code",
   "execution_count": 42,
   "id": "a3304f44",
   "metadata": {},
   "outputs": [
    {
     "data": {
      "text/plain": [
       "0        1\n",
       "1        2\n",
       "2        3\n",
       "3        4\n",
       "4        5\n",
       "        ..\n",
       "34878    5\n",
       "34879    6\n",
       "34880    0\n",
       "34881    1\n",
       "34882    2\n",
       "Name: datetime, Length: 34883, dtype: int64"
      ]
     },
     "execution_count": 42,
     "metadata": {},
     "output_type": "execute_result"
    }
   ],
   "source": [
    "df[\"datetime\"].dt.weekday  # basically the same as for loop:\n",
    "# the operation is performed on each value inside df[\"datetime\"]"
   ]
  },
  {
   "cell_type": "code",
   "execution_count": 43,
   "id": "64acaf07",
   "metadata": {},
   "outputs": [
    {
     "data": {
      "text/html": [
       "<div>\n",
       "<style scoped>\n",
       "    .dataframe tbody tr th:only-of-type {\n",
       "        vertical-align: middle;\n",
       "    }\n",
       "\n",
       "    .dataframe tbody tr th {\n",
       "        vertical-align: top;\n",
       "    }\n",
       "\n",
       "    .dataframe thead th {\n",
       "        text-align: right;\n",
       "    }\n",
       "</style>\n",
       "<table border=\"1\" class=\"dataframe\">\n",
       "  <thead>\n",
       "    <tr style=\"text-align: right;\">\n",
       "      <th></th>\n",
       "      <th>STAID</th>\n",
       "      <th>SOUID</th>\n",
       "      <th>DATE</th>\n",
       "      <th>TG</th>\n",
       "      <th>Q_TG</th>\n",
       "      <th>datetime</th>\n",
       "    </tr>\n",
       "  </thead>\n",
       "  <tbody>\n",
       "    <tr>\n",
       "      <th>0</th>\n",
       "      <td>False</td>\n",
       "      <td>False</td>\n",
       "      <td>False</td>\n",
       "      <td>False</td>\n",
       "      <td>False</td>\n",
       "      <td>False</td>\n",
       "    </tr>\n",
       "    <tr>\n",
       "      <th>1</th>\n",
       "      <td>False</td>\n",
       "      <td>False</td>\n",
       "      <td>False</td>\n",
       "      <td>False</td>\n",
       "      <td>False</td>\n",
       "      <td>False</td>\n",
       "    </tr>\n",
       "    <tr>\n",
       "      <th>2</th>\n",
       "      <td>False</td>\n",
       "      <td>False</td>\n",
       "      <td>False</td>\n",
       "      <td>False</td>\n",
       "      <td>False</td>\n",
       "      <td>False</td>\n",
       "    </tr>\n",
       "    <tr>\n",
       "      <th>3</th>\n",
       "      <td>False</td>\n",
       "      <td>False</td>\n",
       "      <td>False</td>\n",
       "      <td>False</td>\n",
       "      <td>False</td>\n",
       "      <td>False</td>\n",
       "    </tr>\n",
       "    <tr>\n",
       "      <th>4</th>\n",
       "      <td>False</td>\n",
       "      <td>False</td>\n",
       "      <td>False</td>\n",
       "      <td>False</td>\n",
       "      <td>False</td>\n",
       "      <td>False</td>\n",
       "    </tr>\n",
       "    <tr>\n",
       "      <th>...</th>\n",
       "      <td>...</td>\n",
       "      <td>...</td>\n",
       "      <td>...</td>\n",
       "      <td>...</td>\n",
       "      <td>...</td>\n",
       "      <td>...</td>\n",
       "    </tr>\n",
       "    <tr>\n",
       "      <th>34878</th>\n",
       "      <td>False</td>\n",
       "      <td>False</td>\n",
       "      <td>False</td>\n",
       "      <td>False</td>\n",
       "      <td>False</td>\n",
       "      <td>False</td>\n",
       "    </tr>\n",
       "    <tr>\n",
       "      <th>34879</th>\n",
       "      <td>False</td>\n",
       "      <td>False</td>\n",
       "      <td>False</td>\n",
       "      <td>False</td>\n",
       "      <td>False</td>\n",
       "      <td>False</td>\n",
       "    </tr>\n",
       "    <tr>\n",
       "      <th>34880</th>\n",
       "      <td>False</td>\n",
       "      <td>False</td>\n",
       "      <td>False</td>\n",
       "      <td>False</td>\n",
       "      <td>False</td>\n",
       "      <td>False</td>\n",
       "    </tr>\n",
       "    <tr>\n",
       "      <th>34881</th>\n",
       "      <td>False</td>\n",
       "      <td>False</td>\n",
       "      <td>False</td>\n",
       "      <td>False</td>\n",
       "      <td>False</td>\n",
       "      <td>False</td>\n",
       "    </tr>\n",
       "    <tr>\n",
       "      <th>34882</th>\n",
       "      <td>False</td>\n",
       "      <td>False</td>\n",
       "      <td>False</td>\n",
       "      <td>False</td>\n",
       "      <td>False</td>\n",
       "      <td>False</td>\n",
       "    </tr>\n",
       "  </tbody>\n",
       "</table>\n",
       "<p>34883 rows × 6 columns</p>\n",
       "</div>"
      ],
      "text/plain": [
       "       STAID  SOUID   DATE     TG   Q_TG  datetime\n",
       "0      False  False  False  False  False     False\n",
       "1      False  False  False  False  False     False\n",
       "2      False  False  False  False  False     False\n",
       "3      False  False  False  False  False     False\n",
       "4      False  False  False  False  False     False\n",
       "...      ...    ...    ...    ...    ...       ...\n",
       "34878  False  False  False  False  False     False\n",
       "34879  False  False  False  False  False     False\n",
       "34880  False  False  False  False  False     False\n",
       "34881  False  False  False  False  False     False\n",
       "34882  False  False  False  False  False     False\n",
       "\n",
       "[34883 rows x 6 columns]"
      ]
     },
     "execution_count": 43,
     "metadata": {},
     "output_type": "execute_result"
    }
   ],
   "source": [
    "df.isna()  # this is a boolean mask "
   ]
  },
  {
   "cell_type": "code",
   "execution_count": 44,
   "id": "13ecb378",
   "metadata": {},
   "outputs": [
    {
     "data": {
      "text/plain": [
       "STAID       0\n",
       "SOUID       0\n",
       "DATE        0\n",
       "TG          0\n",
       "Q_TG        0\n",
       "datetime    0\n",
       "dtype: int64"
      ]
     },
     "execution_count": 44,
     "metadata": {},
     "output_type": "execute_result"
    }
   ],
   "source": [
    "df.isna().sum()"
   ]
  },
  {
   "cell_type": "code",
   "execution_count": 45,
   "id": "f801e1ab",
   "metadata": {},
   "outputs": [],
   "source": [
    "# boolean masking for numpy arrays:\n",
    "a = np.array([0, 1, 2, -1, 6, 7, -2])"
   ]
  },
  {
   "cell_type": "code",
   "execution_count": 46,
   "id": "ff08e01b",
   "metadata": {},
   "outputs": [
    {
     "data": {
      "text/plain": [
       "array([False, False,  True, False,  True,  True, False])"
      ]
     },
     "execution_count": 46,
     "metadata": {},
     "output_type": "execute_result"
    }
   ],
   "source": [
    "a > 1  # mask"
   ]
  },
  {
   "cell_type": "code",
   "execution_count": 47,
   "id": "04b643d2",
   "metadata": {},
   "outputs": [
    {
     "data": {
      "text/plain": [
       "array([2, 6, 7])"
      ]
     },
     "execution_count": 47,
     "metadata": {},
     "output_type": "execute_result"
    }
   ],
   "source": [
    "a[a > 1]"
   ]
  },
  {
   "cell_type": "code",
   "execution_count": 51,
   "id": "47d93598",
   "metadata": {},
   "outputs": [
    {
     "ename": "NameError",
     "evalue": "name 'boolean_mask' is not defined",
     "output_type": "error",
     "traceback": [
      "\u001b[0;31m---------------------------------------------------------------------------\u001b[0m",
      "\u001b[0;31mNameError\u001b[0m                                 Traceback (most recent call last)",
      "Input \u001b[0;32mIn [51]\u001b[0m, in \u001b[0;36m<module>\u001b[0;34m\u001b[0m\n\u001b[0;32m----> 1\u001b[0m df\u001b[38;5;241m.\u001b[39miloc[\u001b[43mboolean_mask\u001b[49m]\n",
      "\u001b[0;31mNameError\u001b[0m: name 'boolean_mask' is not defined"
     ]
    }
   ],
   "source": [
    "df.iloc[boolean_mask] # select the lines that are True in boolean_mask\n",
    "# can also do \n",
    "df[boolean_mask]  # can also do, as suggested"
   ]
  },
  {
   "cell_type": "code",
   "execution_count": 48,
   "id": "ba8854d3",
   "metadata": {},
   "outputs": [
    {
     "ename": "ValueError",
     "evalue": "The truth value of an array with more than one element is ambiguous. Use a.any() or a.all()",
     "output_type": "error",
     "traceback": [
      "\u001b[0;31m---------------------------------------------------------------------------\u001b[0m",
      "\u001b[0;31mValueError\u001b[0m                                Traceback (most recent call last)",
      "Input \u001b[0;32mIn [48]\u001b[0m, in \u001b[0;36m<module>\u001b[0;34m\u001b[0m\n\u001b[0;32m----> 1\u001b[0m \u001b[38;5;28;01mif\u001b[39;00m a \u001b[38;5;241m>\u001b[39m \u001b[38;5;241m1\u001b[39m:\n\u001b[1;32m      2\u001b[0m     \u001b[38;5;28mprint\u001b[39m(\u001b[38;5;124m\"\u001b[39m\u001b[38;5;124mSuccess\u001b[39m\u001b[38;5;124m\"\u001b[39m)\n",
      "\u001b[0;31mValueError\u001b[0m: The truth value of an array with more than one element is ambiguous. Use a.any() or a.all()"
     ]
    }
   ],
   "source": [
    "if a > 1:\n",
    "    print(\"Success\")  # fails"
   ]
  },
  {
   "cell_type": "markdown",
   "id": "de486cbc",
   "metadata": {},
   "source": [
    "# 2 nice functionalities to iterate over lists\n"
   ]
  },
  {
   "cell_type": "code",
   "execution_count": 168,
   "id": "cea843c4",
   "metadata": {},
   "outputs": [
    {
     "data": {
      "image/png": "[encoded data removed]",
      "text/plain": [
       "<Figure size 640x480 with 1 Axes>"
      ]
     },
     "metadata": {},
     "output_type": "display_data"
    }
   ],
   "source": [
    "x = np.linspace(0, 1)\n",
    "frequencies = [1, 2, 3]\n",
    "colors = [\"k\", \"r\", \"g\"]\n",
    "styles = [':', '--', '-']\n",
    "\n",
    "for i in range(3):\n",
    "    plt.plot(x, np.sin(frequencies[i] * x), c=colors[i], linestyle=styles[i])\n"
   ]
  },
  {
   "cell_type": "code",
   "execution_count": 166,
   "id": "430842c0",
   "metadata": {},
   "outputs": [
    {
     "data": {
      "image/png": "[encoded data removed]",
      "text/plain": [
       "<Figure size 640x480 with 1 Axes>"
      ]
     },
     "metadata": {},
     "output_type": "display_data"
    }
   ],
   "source": [
    "# the Pythonic way to do is to zip the lists together:\n",
    "x = np.linspace(0, np.pi)\n",
    "frequencies = [1, 2, 3]\n",
    "colors = [\"k\", \"r\", \"g\"]\n",
    "styles = [':', '--', '-']\n",
    "\n",
    "for frequency, color, style in zip(powers, colors, styles):\n",
    "    plt.plot(x, np.sin(frequency * x), c=color, linestyle=style)"
   ]
  },
  {
   "cell_type": "code",
   "execution_count": 58,
   "id": "3bba8c44",
   "metadata": {},
   "outputs": [
    {
     "name": "stdout",
     "output_type": "stream",
     "text": [
      "0 a\n",
      "1 b\n",
      "2 c\n",
      "3 d\n",
      "4 e\n",
      "5 f\n",
      "6 g\n",
      "7 h\n",
      "8 i\n",
      "9 j\n"
     ]
    }
   ],
   "source": [
    "from string import ascii_lowercase\n",
    "alphabet = list(ascii_lowercase)\n",
    "\n",
    "for i, letter in zip(range(10), alphabet):\n",
    "    print(i, letter)  # stops whenever the shortest zipped list reaches its end "
   ]
  },
  {
   "cell_type": "code",
   "execution_count": 59,
   "id": "c6e76ec3",
   "metadata": {},
   "outputs": [
    {
     "name": "stdout",
     "output_type": "stream",
     "text": [
      "0 f\n",
      "1 g\n",
      "2 h\n",
      "3 i\n",
      "4 j\n",
      "5 k\n",
      "6 l\n",
      "7 m\n",
      "8 n\n",
      "9 o\n"
     ]
    }
   ],
   "source": [
    "for i, letter in zip(range(10), alphabet[5:]):  # possible to start one list later like this\n",
    "    print(i, letter)  "
   ]
  },
  {
   "cell_type": "code",
   "execution_count": 60,
   "id": "f43c6339",
   "metadata": {
    "scrolled": true
   },
   "outputs": [
    {
     "name": "stdout",
     "output_type": "stream",
     "text": [
      "0 a\n",
      "0 b\n",
      "0 c\n",
      "0 d\n",
      "0 e\n",
      "0 f\n",
      "0 g\n",
      "0 h\n",
      "0 i\n",
      "0 j\n",
      "0 k\n",
      "0 l\n",
      "0 m\n",
      "0 n\n",
      "0 o\n",
      "0 p\n",
      "0 q\n",
      "0 r\n",
      "0 s\n",
      "0 t\n",
      "0 u\n",
      "0 v\n",
      "0 w\n",
      "0 x\n",
      "0 y\n",
      "0 z\n",
      "1 a\n",
      "1 b\n",
      "1 c\n",
      "1 d\n",
      "1 e\n",
      "1 f\n",
      "1 g\n",
      "1 h\n",
      "1 i\n",
      "1 j\n",
      "1 k\n",
      "1 l\n",
      "1 m\n",
      "1 n\n",
      "1 o\n",
      "1 p\n",
      "1 q\n",
      "1 r\n",
      "1 s\n",
      "1 t\n",
      "1 u\n",
      "1 v\n",
      "1 w\n",
      "1 x\n",
      "1 y\n",
      "1 z\n",
      "2 a\n",
      "2 b\n",
      "2 c\n",
      "2 d\n",
      "2 e\n",
      "2 f\n",
      "2 g\n",
      "2 h\n",
      "2 i\n",
      "2 j\n",
      "2 k\n",
      "2 l\n",
      "2 m\n",
      "2 n\n",
      "2 o\n",
      "2 p\n",
      "2 q\n",
      "2 r\n",
      "2 s\n",
      "2 t\n",
      "2 u\n",
      "2 v\n",
      "2 w\n",
      "2 x\n",
      "2 y\n",
      "2 z\n"
     ]
    }
   ],
   "source": [
    "from itertools import product\n",
    "\n",
    "for i, letter in product(range(3), alphabet):  # Cartesian product\n",
    "    print(i, letter)"
   ]
  },
  {
   "cell_type": "markdown",
   "id": "30e4386a",
   "metadata": {},
   "source": [
    "## Broadcasting in numpy "
   ]
  },
  {
   "cell_type": "code",
   "execution_count": 100,
   "id": "a0cd7a54",
   "metadata": {},
   "outputs": [],
   "source": [
    "np.set_printoptions(precision=3)"
   ]
  },
  {
   "cell_type": "code",
   "execution_count": 101,
   "id": "fd736ab8",
   "metadata": {},
   "outputs": [
    {
     "name": "stdout",
     "output_type": "stream",
     "text": [
      "[[ 1.764  0.4    0.979  2.241]\n",
      " [ 1.868 -0.977  0.95  -0.151]\n",
      " [-0.103  0.411  0.144  1.454]]\n",
      "[[ 0.761  0.122  0.444  0.334]\n",
      " [ 1.494 -0.205  0.313 -0.854]\n",
      " [-2.553  0.654  0.864 -0.742]]\n"
     ]
    }
   ],
   "source": [
    "np.random.seed(0)  # random generator seeding \n",
    "a = np.random.randn(3, 4)  # it's only pseudo random\n",
    "print(a)\n",
    "b = np.random.randn(3, 4) \n",
    "print(b)"
   ]
  },
  {
   "cell_type": "code",
   "execution_count": 88,
   "id": "74bc0173",
   "metadata": {},
   "outputs": [],
   "source": [
    "np.random.seed(0)  # random generator seeding \n"
   ]
  },
  {
   "cell_type": "code",
   "execution_count": 89,
   "id": "f44f3ef3",
   "metadata": {},
   "outputs": [
    {
     "name": "stdout",
     "output_type": "stream",
     "text": [
      "[[ 1.76405235  0.40015721  0.97873798  2.2408932 ]\n",
      " [ 1.86755799 -0.97727788  0.95008842 -0.15135721]\n",
      " [-0.10321885  0.4105985   0.14404357  1.45427351]]\n",
      "[[ 0.76103773  0.12167502  0.44386323  0.33367433]\n",
      " [ 1.49407907 -0.20515826  0.3130677  -0.85409574]\n",
      " [-2.55298982  0.6536186   0.8644362  -0.74216502]]\n"
     ]
    }
   ],
   "source": [
    "a = np.random.randn(3, 4)  # it's only pseudo random\n",
    "print(a)\n",
    "b = np.random.randn(3, 4) \n",
    "print(b)"
   ]
  },
  {
   "cell_type": "code",
   "execution_count": 99,
   "id": "efdb2ce1",
   "metadata": {},
   "outputs": [
    {
     "name": "stdout",
     "output_type": "stream",
     "text": [
      "[[-0.63743703 -0.39727181 -0.13288058 -0.29779088]\n",
      " [-0.30901297 -1.67600381  1.15233156  1.07961859]\n",
      " [-0.81336426 -1.46642433  0.52106488 -0.57578797]]\n",
      "[[ 0.14195316 -0.31932842  0.69153875  0.69474914]\n",
      " [-0.72559738 -1.38336396 -1.5829384   0.61037938]\n",
      " [-1.18885926 -0.50681635 -0.59631404 -0.0525673 ]]\n"
     ]
    }
   ],
   "source": [
    "a = np.random.randn(3, 4)  # it's only pseudo random\n",
    "print(a)\n",
    "b = np.random.randn(3, 4) \n",
    "print(b)"
   ]
  },
  {
   "cell_type": "code",
   "execution_count": 130,
   "id": "03860456",
   "metadata": {},
   "outputs": [
    {
     "name": "stdout",
     "output_type": "stream",
     "text": [
      "[[ 1.764  0.4    0.979  2.241]\n",
      " [ 1.868 -0.977  0.95  -0.151]\n",
      " [-0.103  0.411  0.144  1.454]]\n",
      "[[ 0.764 -0.6   -0.021  1.241]\n",
      " [ 0.868 -1.977 -0.05  -1.151]\n",
      " [-1.103 -0.589 -0.856  0.454]]\n"
     ]
    }
   ],
   "source": [
    "print(a)\n",
    "print(a - 1)"
   ]
  },
  {
   "cell_type": "code",
   "execution_count": 132,
   "id": "c5871535",
   "metadata": {},
   "outputs": [
    {
     "data": {
      "text/plain": [
       "array([1.764, 0.4  , 0.979, 2.241])"
      ]
     },
     "execution_count": 132,
     "metadata": {},
     "output_type": "execute_result"
    }
   ],
   "source": [
    "a[0]  # same as a[0, :], similar to iloc in pandas"
   ]
  },
  {
   "cell_type": "code",
   "execution_count": 133,
   "id": "58d27896",
   "metadata": {},
   "outputs": [
    {
     "data": {
      "text/plain": [
       "(4,)"
      ]
     },
     "execution_count": 133,
     "metadata": {},
     "output_type": "execute_result"
    }
   ],
   "source": [
    "a[0].shape"
   ]
  },
  {
   "cell_type": "code",
   "execution_count": 137,
   "id": "5fbbc7be",
   "metadata": {},
   "outputs": [
    {
     "data": {
      "text/plain": [
       "(3, 1)"
      ]
     },
     "execution_count": 137,
     "metadata": {},
     "output_type": "execute_result"
    }
   ],
   "source": [
    "a[:, 0:1].shape"
   ]
  },
  {
   "cell_type": "code",
   "execution_count": 134,
   "id": "0cbeb97d",
   "metadata": {},
   "outputs": [
    {
     "data": {
      "text/plain": [
       "array([[ 0.   ,  0.   ,  0.   ,  0.   ],\n",
       "       [ 0.104, -1.377, -0.029, -2.392],\n",
       "       [-1.867,  0.01 , -0.835, -0.787]])"
      ]
     },
     "execution_count": 134,
     "metadata": {},
     "output_type": "execute_result"
    }
   ],
   "source": [
    "a - a[0]"
   ]
  },
  {
   "cell_type": "code",
   "execution_count": 135,
   "id": "2506859d",
   "metadata": {},
   "outputs": [
    {
     "ename": "ValueError",
     "evalue": "operands could not be broadcast together with shapes (3,4) (3,) ",
     "output_type": "error",
     "traceback": [
      "\u001b[0;31m---------------------------------------------------------------------------\u001b[0m",
      "\u001b[0;31mValueError\u001b[0m                                Traceback (most recent call last)",
      "Input \u001b[0;32mIn [135]\u001b[0m, in \u001b[0;36m<module>\u001b[0;34m\u001b[0m\n\u001b[0;32m----> 1\u001b[0m \u001b[43ma\u001b[49m\u001b[43m \u001b[49m\u001b[38;5;241;43m-\u001b[39;49m\u001b[43m \u001b[49m\u001b[43ma\u001b[49m\u001b[43m[\u001b[49m\u001b[43m:\u001b[49m\u001b[43m,\u001b[49m\u001b[43m \u001b[49m\u001b[38;5;241;43m0\u001b[39;49m\u001b[43m]\u001b[49m\n",
      "\u001b[0;31mValueError\u001b[0m: operands could not be broadcast together with shapes (3,4) (3,) "
     ]
    }
   ],
   "source": [
    "a - a[:, 0]"
   ]
  },
  {
   "cell_type": "code",
   "execution_count": 136,
   "id": "17613a1b",
   "metadata": {},
   "outputs": [
    {
     "data": {
      "text/plain": [
       "array([[ 0.   , -1.364, -0.785,  0.477],\n",
       "       [ 0.   , -2.845, -0.917, -2.019],\n",
       "       [ 0.   ,  0.514,  0.247,  1.557]])"
      ]
     },
     "execution_count": 136,
     "metadata": {},
     "output_type": "execute_result"
    }
   ],
   "source": [
    "(a.T - a[:, 0]).T  # works but not so easzy to parse: error prone "
   ]
  },
  {
   "cell_type": "code",
   "execution_count": 138,
   "id": "e429972c",
   "metadata": {},
   "outputs": [
    {
     "data": {
      "text/plain": [
       "array([[ 0.   , -1.364, -0.785,  0.477],\n",
       "       [ 0.   , -2.845, -0.917, -2.019],\n",
       "       [ 0.   ,  0.514,  0.247,  1.557]])"
      ]
     },
     "execution_count": 138,
     "metadata": {},
     "output_type": "execute_result"
    }
   ],
   "source": [
    "a - a[:, 0:1]"
   ]
  },
  {
   "cell_type": "code",
   "execution_count": 140,
   "id": "6057fec3",
   "metadata": {},
   "outputs": [
    {
     "name": "stdout",
     "output_type": "stream",
     "text": [
      "(3,)\n",
      "(3, 1)\n"
     ]
    }
   ],
   "source": [
    "b = a[:, 0]\n",
    "print(b.shape)\n",
    "print(b[:, np.newaxis].shape)"
   ]
  },
  {
   "cell_type": "code",
   "execution_count": 145,
   "id": "5a0ef665",
   "metadata": {},
   "outputs": [],
   "source": [
    "a = np.arange(3)\n",
    "b = np.arange(4)\n",
    "\n",
    "# 3, 4 array with M_ij = a_i * b_j"
   ]
  },
  {
   "cell_type": "code",
   "execution_count": 148,
   "id": "7309347e",
   "metadata": {},
   "outputs": [
    {
     "data": {
      "text/plain": [
       "array([[0, 0, 0, 0],\n",
       "       [0, 1, 2, 3],\n",
       "       [0, 2, 4, 6]])"
      ]
     },
     "execution_count": 148,
     "metadata": {},
     "output_type": "execute_result"
    }
   ],
   "source": [
    "a[:, np.newaxis] * b[np.newaxis, :] "
   ]
  },
  {
   "cell_type": "code",
   "execution_count": 149,
   "id": "3dc30015",
   "metadata": {},
   "outputs": [
    {
     "data": {
      "text/plain": [
       "array([[0, 0, 0, 0],\n",
       "       [0, 1, 2, 3],\n",
       "       [0, 2, 4, 6]])"
      ]
     },
     "execution_count": 149,
     "metadata": {},
     "output_type": "execute_result"
    }
   ],
   "source": [
    "a[:, np.newaxis] * b "
   ]
  },
  {
   "cell_type": "code",
   "execution_count": 150,
   "id": "873c9b05",
   "metadata": {},
   "outputs": [
    {
     "data": {
      "text/plain": [
       "array([[0, 0, 0],\n",
       "       [0, 1, 2],\n",
       "       [0, 2, 4],\n",
       "       [0, 3, 6]])"
      ]
     },
     "execution_count": 150,
     "metadata": {},
     "output_type": "execute_result"
    }
   ],
   "source": [
    "a * b[:, np.newaxis]  # works, but not what we want "
   ]
  },
  {
   "cell_type": "code",
   "execution_count": null,
   "id": "763a2a6b",
   "metadata": {},
   "outputs": [],
   "source": []
  },
  {
   "cell_type": "markdown",
   "id": "6ba7e54a",
   "metadata": {},
   "source": [
    "## Multiple plots on the same figure with subplots"
   ]
  },
  {
   "cell_type": "code",
   "execution_count": 152,
   "id": "a387a422",
   "metadata": {},
   "outputs": [
    {
     "data": {
      "text/plain": [
       "[<matplotlib.lines.Line2D at 0x7f9fc1fead30>]"
      ]
     },
     "execution_count": 152,
     "metadata": {},
     "output_type": "execute_result"
    },
    {
     "data": {
      "image/png": "[encoded data removed]",
      "text/plain": [
       "<Figure size 640x480 with 1 Axes>"
      ]
     },
     "metadata": {},
     "output_type": "display_data"
    }
   ],
   "source": [
    "x = np.linspace(0, 2, num=100)\n",
    "plt.plot(x ** 1)\n",
    "plt.plot(x ** 2)\n",
    "plt.plot(x ** 3)  # all on the same plot"
   ]
  },
  {
   "cell_type": "code",
   "execution_count": 160,
   "id": "c368d162",
   "metadata": {},
   "outputs": [
    {
     "data": {
      "text/plain": [
       "[<matplotlib.lines.Line2D at 0x7f9fc0dc2df0>]"
      ]
     },
     "execution_count": 160,
     "metadata": {},
     "output_type": "execute_result"
    },
    {
     "data": {
      "image/png": "[encoded data removed]",
      "text/plain": [
       "<Figure size 900x300 with 3 Axes>"
      ]
     },
     "metadata": {},
     "output_type": "display_data"
    }
   ],
   "source": [
    "fig, axes = plt.subplots(1, 3, constrained_layout=True, figsize=(9, 3)) \n",
    "\n",
    "axes[0].plot(x ** 1)\n",
    "axes[1].plot(x ** 2)\n",
    "axes[2].plot(x ** 3)"
   ]
  },
  {
   "cell_type": "code",
   "execution_count": 161,
   "id": "ffa60bbe",
   "metadata": {},
   "outputs": [
    {
     "data": {
      "image/png": "[encoded data removed]",
      "text/plain": [
       "<Figure size 900x300 with 3 Axes>"
      ]
     },
     "metadata": {},
     "output_type": "display_data"
    }
   ],
   "source": [
    "fig, axes = plt.subplots(1, 3, constrained_layout=True, figsize=(9, 3)) \n",
    "powers = [1, 2, 3]\n",
    "for power, ax in zip(powers, axes):\n",
    "    ax.plot(x ** power)\n"
   ]
  },
  {
   "cell_type": "code",
   "execution_count": 163,
   "id": "1913fb55",
   "metadata": {},
   "outputs": [
    {
     "name": "stdout",
     "output_type": "stream",
     "text": [
      "(3, 4)\n"
     ]
    },
    {
     "data": {
      "text/plain": [
       "[<matplotlib.lines.Line2D at 0x7f9fc05237c0>]"
      ]
     },
     "execution_count": 163,
     "metadata": {},
     "output_type": "execute_result"
    },
    {
     "data": {
      "image/png": "[encoded data removed]",
      "text/plain": [
       "<Figure size 640x480 with 12 Axes>"
      ]
     },
     "metadata": {},
     "output_type": "display_data"
    }
   ],
   "source": [
    "fig, axes = plt.subplots(3, 4)\n",
    "print(axes.shape)\n",
    "axes[2, 3].plot(x)"
   ]
  },
  {
   "cell_type": "code",
   "execution_count": null,
   "id": "a41e03f3",
   "metadata": {},
   "outputs": [],
   "source": []
  },
  {
   "cell_type": "code",
   "execution_count": 122,
   "id": "6ef6947a",
   "metadata": {},
   "outputs": [
    {
     "name": "stdout",
     "output_type": "stream",
     "text": [
      "8.916854858398438e-05\n"
     ]
    }
   ],
   "source": [
    "import time \n",
    "t0 = time.time()\n",
    "2 * 2 \n",
    "t1 = time.time()\n",
    "print(t1 - t0)"
   ]
  },
  {
   "cell_type": "code",
   "execution_count": 123,
   "id": "3b8451be",
   "metadata": {},
   "outputs": [
    {
     "data": {
      "text/plain": [
       "1664368790.9208674"
      ]
     },
     "execution_count": 123,
     "metadata": {},
     "output_type": "execute_result"
    }
   ],
   "source": [
    "time.time()"
   ]
  },
  {
   "cell_type": "code",
   "execution_count": 127,
   "id": "578868e7",
   "metadata": {},
   "outputs": [
    {
     "data": {
      "text/plain": [
       "198210.818722602"
      ]
     },
     "execution_count": 127,
     "metadata": {},
     "output_type": "execute_result"
    }
   ],
   "source": [
    "time.perf_counter()  # the same as time, but seconds from the beginning of the session"
   ]
  },
  {
   "cell_type": "code",
   "execution_count": null,
   "id": "6c6f7d6b",
   "metadata": {},
   "outputs": [],
   "source": []
  }
 ],
 "metadata": {
  "kernelspec": {
   "display_name": "Python 3 (ipykernel)",
   "language": "python",
   "name": "python3"
  },
  "language_info": {
   "codemirror_mode": {
    "name": "ipython",
    "version": 3
   },
   "file_extension": ".py",
   "mimetype": "text/x-python",
   "name": "python",
   "nbconvert_exporter": "python",
   "pygments_lexer": "ipython3",
   "version": "3.9.7"
  }
 },
 "nbformat": 4,
 "nbformat_minor": 5
}
