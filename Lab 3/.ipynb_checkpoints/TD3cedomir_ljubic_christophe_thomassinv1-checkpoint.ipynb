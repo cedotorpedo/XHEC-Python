{
 "cells": [
  {
   "cell_type": "markdown",
   "id": "e2d85610",
   "metadata": {},
   "source": [
    "# Lab no 3 : Pandas, sklearn and hyperparameter tuning"
   ]
  },
  {
   "cell_type": "markdown",
   "id": "0b6cb5dc",
   "metadata": {},
   "source": [
    "Christophe Thomassin and Cedomir Ljubic"
   ]
  },
  {
   "cell_type": "code",
   "execution_count": 1,
   "id": "5f2202ba",
   "metadata": {},
   "outputs": [],
   "source": [
    "import pandas as pd\n",
    "from pandas.tseries.holiday import USFederalHolidayCalendar\n",
    "import numpy as np\n",
    "import matplotlib.pyplot as plt\n",
    "\n",
    "import time\n",
    "import joblib\n",
    "from scipy import stats\n",
    "\n",
    "from sklearn.linear_model import LinearRegression, Ridge\n",
    "from sklearn.preprocessing import StandardScaler, PolynomialFeatures, OneHotEncoder\n",
    "from sklearn.model_selection import train_test_split\n",
    "from sklearn.model_selection import GridSearchCV\n",
    "from sklearn.metrics import mean_squared_error\n",
    "from sklearn.metrics import r2_score\n",
    "from sklearn.tree import DecisionTreeRegressor\n",
    "from sklearn.pipeline import Pipeline\n",
    "from sklearn.pipeline import make_pipeline\n",
    "from sklearn.compose import ColumnTransformer\n",
    "from sklearn.ensemble import RandomForestRegressor\n",
    "from sklearn.preprocessing import OrdinalEncoder\n",
    "from sklearn.base import BaseEstimator\n",
    "from sklearn.base import ClassifierMixin\n",
    "from sklearn.utils.validation import check_X_y\n",
    "from sklearn.utils.validation import check_array\n",
    "from sklearn.utils.validation import check_is_fitted\n",
    "from sklearn.utils.multiclass import check_classification_targets\n",
    "from sklearn.utils import check_random_state\n",
    "from sklearn.model_selection import cross_val_score\n",
    "from sklearn.svm import SVC\n",
    "from sklearn.model_selection import StratifiedKFold"
   ]
  },
  {
   "cell_type": "markdown",
   "id": "1c6ef8fd",
   "metadata": {},
   "source": [
    "## Q1\n",
    "In the first part, we consider a dataset where the goal is to predict the number of passengers on a\n",
    "given flight\n",
    "What kind of problem is it ? Regression of classification ? Supervised or unsupervised ?\n",
    "\n",
    "> ### **Answer** : \n",
    "> Our model will learn a mapping between features X (features of a given flight) and labels Y (passengers on that flight) therefore it is **supervised**. Our model makes a numerical prediction and not a class prediction, therefore it is **regression**.\n"
   ]
  },
  {
   "cell_type": "markdown",
   "id": "f4c94ebf",
   "metadata": {},
   "source": [
    "## Q2\n",
    "Load the training data from Moodle (train.csv.bz2 ; bz2 is a compression format, pandas can\n",
    "decompress it itself). The target variable is called log_PAX. Do a quick inspection of the dataset.\n",
    "What are the types of the columns ?"
   ]
  },
  {
   "cell_type": "code",
   "execution_count": 2,
   "id": "f4af6c6e",
   "metadata": {},
   "outputs": [
    {
     "data": {
      "text/html": [
       "<div>\n",
       "<style scoped>\n",
       "    .dataframe tbody tr th:only-of-type {\n",
       "        vertical-align: middle;\n",
       "    }\n",
       "\n",
       "    .dataframe tbody tr th {\n",
       "        vertical-align: top;\n",
       "    }\n",
       "\n",
       "    .dataframe thead th {\n",
       "        text-align: right;\n",
       "    }\n",
       "</style>\n",
       "<table border=\"1\" class=\"dataframe\">\n",
       "  <thead>\n",
       "    <tr style=\"text-align: right;\">\n",
       "      <th></th>\n",
       "      <th>DateOfDeparture</th>\n",
       "      <th>Departure</th>\n",
       "      <th>Arrival</th>\n",
       "      <th>WeeksToDeparture</th>\n",
       "      <th>log_PAX</th>\n",
       "      <th>std_wtd</th>\n",
       "    </tr>\n",
       "  </thead>\n",
       "  <tbody>\n",
       "    <tr>\n",
       "      <th>8897</th>\n",
       "      <td>2011-10-02</td>\n",
       "      <td>DTW</td>\n",
       "      <td>ATL</td>\n",
       "      <td>9.263158</td>\n",
       "      <td>10.427055</td>\n",
       "      <td>7.316967</td>\n",
       "    </tr>\n",
       "    <tr>\n",
       "      <th>8898</th>\n",
       "      <td>2012-09-25</td>\n",
       "      <td>DFW</td>\n",
       "      <td>ORD</td>\n",
       "      <td>12.772727</td>\n",
       "      <td>12.201552</td>\n",
       "      <td>10.641034</td>\n",
       "    </tr>\n",
       "    <tr>\n",
       "      <th>8899</th>\n",
       "      <td>2012-01-19</td>\n",
       "      <td>SFO</td>\n",
       "      <td>LAS</td>\n",
       "      <td>11.047619</td>\n",
       "      <td>10.508746</td>\n",
       "      <td>7.908705</td>\n",
       "    </tr>\n",
       "    <tr>\n",
       "      <th>8900</th>\n",
       "      <td>2013-02-03</td>\n",
       "      <td>ORD</td>\n",
       "      <td>PHL</td>\n",
       "      <td>6.076923</td>\n",
       "      <td>10.174042</td>\n",
       "      <td>4.030334</td>\n",
       "    </tr>\n",
       "    <tr>\n",
       "      <th>8901</th>\n",
       "      <td>2011-11-26</td>\n",
       "      <td>DTW</td>\n",
       "      <td>ATL</td>\n",
       "      <td>9.526316</td>\n",
       "      <td>9.202674</td>\n",
       "      <td>6.167733</td>\n",
       "    </tr>\n",
       "  </tbody>\n",
       "</table>\n",
       "</div>"
      ],
      "text/plain": [
       "     DateOfDeparture Departure Arrival  WeeksToDeparture    log_PAX    std_wtd\n",
       "8897      2011-10-02       DTW     ATL          9.263158  10.427055   7.316967\n",
       "8898      2012-09-25       DFW     ORD         12.772727  12.201552  10.641034\n",
       "8899      2012-01-19       SFO     LAS         11.047619  10.508746   7.908705\n",
       "8900      2013-02-03       ORD     PHL          6.076923  10.174042   4.030334\n",
       "8901      2011-11-26       DTW     ATL          9.526316   9.202674   6.167733"
      ]
     },
     "execution_count": 2,
     "metadata": {},
     "output_type": "execute_result"
    }
   ],
   "source": [
    "flights = pd.read_csv(\"train.csv.bz2\")\n",
    "flights.tail(5)"
   ]
  },
  {
   "cell_type": "code",
   "execution_count": 3,
   "id": "9d9f2864",
   "metadata": {
    "scrolled": true
   },
   "outputs": [
    {
     "name": "stdout",
     "output_type": "stream",
     "text": [
      "<class 'pandas.core.frame.DataFrame'>\n",
      "RangeIndex: 8902 entries, 0 to 8901\n",
      "Data columns (total 6 columns):\n",
      " #   Column            Non-Null Count  Dtype  \n",
      "---  ------            --------------  -----  \n",
      " 0   DateOfDeparture   8902 non-null   object \n",
      " 1   Departure         8902 non-null   object \n",
      " 2   Arrival           8902 non-null   object \n",
      " 3   WeeksToDeparture  8902 non-null   float64\n",
      " 4   log_PAX           8902 non-null   float64\n",
      " 5   std_wtd           8902 non-null   float64\n",
      "dtypes: float64(3), object(3)\n",
      "memory usage: 417.4+ KB\n"
     ]
    }
   ],
   "source": [
    "flights.info()"
   ]
  },
  {
   "cell_type": "code",
   "execution_count": 4,
   "id": "9a15771c",
   "metadata": {},
   "outputs": [
    {
     "data": {
      "text/plain": [
       "DateOfDeparture     0\n",
       "Departure           0\n",
       "Arrival             0\n",
       "WeeksToDeparture    0\n",
       "log_PAX             0\n",
       "std_wtd             0\n",
       "dtype: int64"
      ]
     },
     "execution_count": 4,
     "metadata": {},
     "output_type": "execute_result"
    }
   ],
   "source": [
    "flights.isna().sum()"
   ]
  },
  {
   "cell_type": "markdown",
   "id": "b4a130ac",
   "metadata": {},
   "source": [
    "### **Q2 Answer**:  \n",
    ">We have  \n",
    ">- Three **numerical** feature columns that are saved as float64 data types.\n",
    ">- Two **categorical** feature columns (deparature, arrival) saved as \"object\" data types. Because they have no ordering we can even say they are **nominal** feature columns (as opposed to ordinal).\n",
    ">- One **date** feature column that is saved as an object data type instead of as datetime. Whether or not dates belong to the group of numerical/quantitative data is a question of semantics. We will transform it into several separate numerical columns in the next question however. "
   ]
  },
  {
   "cell_type": "markdown",
   "id": "86384c31",
   "metadata": {},
   "source": [
    "## Q3\n",
    "Convert dates to proper dates. Create new integers columns containing respectively the day, the\n",
    "week, the month, the year, a binary variable indicating if this is a work day or holiday (in the US\n",
    "calendar)."
   ]
  },
  {
   "cell_type": "code",
   "execution_count": 5,
   "id": "4bec452e",
   "metadata": {},
   "outputs": [],
   "source": [
    "flights[\"DateOfDeparture\"] = pd.to_datetime(\n",
    "    flights[\"DateOfDeparture\"], format = \"%Y/%m/%d\"\n",
    ")"
   ]
  },
  {
   "cell_type": "code",
   "execution_count": 6,
   "id": "b34c41f6",
   "metadata": {},
   "outputs": [],
   "source": [
    "flights['DayOfDeparture'] = flights[\"DateOfDeparture\"].dt.day\n",
    "flights['WeekOfDeparture'] = flights[\"DateOfDeparture\"].dt.isocalendar().week\n",
    "flights['MonthOfDeparture'] = flights[\"DateOfDeparture\"].dt.month\n",
    "flights['YearOfDeparture'] = flights[\"DateOfDeparture\"].dt.year"
   ]
  },
  {
   "cell_type": "code",
   "execution_count": 7,
   "id": "cfa56a90",
   "metadata": {},
   "outputs": [
    {
     "name": "stdout",
     "output_type": "stream",
     "text": [
      "<class 'pandas.core.frame.DataFrame'>\n",
      "RangeIndex: 8902 entries, 0 to 8901\n",
      "Data columns (total 10 columns):\n",
      " #   Column            Non-Null Count  Dtype         \n",
      "---  ------            --------------  -----         \n",
      " 0   DateOfDeparture   8902 non-null   datetime64[ns]\n",
      " 1   Departure         8902 non-null   object        \n",
      " 2   Arrival           8902 non-null   object        \n",
      " 3   WeeksToDeparture  8902 non-null   float64       \n",
      " 4   log_PAX           8902 non-null   float64       \n",
      " 5   std_wtd           8902 non-null   float64       \n",
      " 6   DayOfDeparture    8902 non-null   int64         \n",
      " 7   WeekOfDeparture   8902 non-null   UInt32        \n",
      " 8   MonthOfDeparture  8902 non-null   int64         \n",
      " 9   YearOfDeparture   8902 non-null   int64         \n",
      "dtypes: UInt32(1), datetime64[ns](1), float64(3), int64(3), object(2)\n",
      "memory usage: 669.5+ KB\n"
     ]
    }
   ],
   "source": [
    "flights.info()"
   ]
  },
  {
   "cell_type": "markdown",
   "id": "c314aee6",
   "metadata": {},
   "source": [
    "The first four new interger columns have been correctly added. Now the holiday column:"
   ]
  },
  {
   "cell_type": "code",
   "execution_count": 8,
   "id": "a282ca9c",
   "metadata": {},
   "outputs": [
    {
     "data": {
      "text/html": [
       "<div>\n",
       "<style scoped>\n",
       "    .dataframe tbody tr th:only-of-type {\n",
       "        vertical-align: middle;\n",
       "    }\n",
       "\n",
       "    .dataframe tbody tr th {\n",
       "        vertical-align: top;\n",
       "    }\n",
       "\n",
       "    .dataframe thead th {\n",
       "        text-align: right;\n",
       "    }\n",
       "</style>\n",
       "<table border=\"1\" class=\"dataframe\">\n",
       "  <thead>\n",
       "    <tr style=\"text-align: right;\">\n",
       "      <th></th>\n",
       "      <th>DateOfDeparture</th>\n",
       "      <th>Departure</th>\n",
       "      <th>Arrival</th>\n",
       "      <th>WeeksToDeparture</th>\n",
       "      <th>log_PAX</th>\n",
       "      <th>std_wtd</th>\n",
       "      <th>DayOfDeparture</th>\n",
       "      <th>WeekOfDeparture</th>\n",
       "      <th>MonthOfDeparture</th>\n",
       "      <th>YearOfDeparture</th>\n",
       "      <th>Holiday</th>\n",
       "    </tr>\n",
       "  </thead>\n",
       "  <tbody>\n",
       "    <tr>\n",
       "      <th>0</th>\n",
       "      <td>2012-06-19</td>\n",
       "      <td>ORD</td>\n",
       "      <td>DFW</td>\n",
       "      <td>12.875000</td>\n",
       "      <td>12.331296</td>\n",
       "      <td>9.812647</td>\n",
       "      <td>19</td>\n",
       "      <td>25</td>\n",
       "      <td>6</td>\n",
       "      <td>2012</td>\n",
       "      <td>0</td>\n",
       "    </tr>\n",
       "    <tr>\n",
       "      <th>1</th>\n",
       "      <td>2012-09-10</td>\n",
       "      <td>LAS</td>\n",
       "      <td>DEN</td>\n",
       "      <td>14.285714</td>\n",
       "      <td>10.775182</td>\n",
       "      <td>9.466734</td>\n",
       "      <td>10</td>\n",
       "      <td>37</td>\n",
       "      <td>9</td>\n",
       "      <td>2012</td>\n",
       "      <td>0</td>\n",
       "    </tr>\n",
       "    <tr>\n",
       "      <th>2</th>\n",
       "      <td>2012-10-05</td>\n",
       "      <td>DEN</td>\n",
       "      <td>LAX</td>\n",
       "      <td>10.863636</td>\n",
       "      <td>11.083177</td>\n",
       "      <td>9.035883</td>\n",
       "      <td>5</td>\n",
       "      <td>40</td>\n",
       "      <td>10</td>\n",
       "      <td>2012</td>\n",
       "      <td>0</td>\n",
       "    </tr>\n",
       "    <tr>\n",
       "      <th>3</th>\n",
       "      <td>2011-10-09</td>\n",
       "      <td>ATL</td>\n",
       "      <td>ORD</td>\n",
       "      <td>11.480000</td>\n",
       "      <td>11.169268</td>\n",
       "      <td>7.990202</td>\n",
       "      <td>9</td>\n",
       "      <td>40</td>\n",
       "      <td>10</td>\n",
       "      <td>2011</td>\n",
       "      <td>0</td>\n",
       "    </tr>\n",
       "    <tr>\n",
       "      <th>4</th>\n",
       "      <td>2012-02-21</td>\n",
       "      <td>DEN</td>\n",
       "      <td>SFO</td>\n",
       "      <td>11.450000</td>\n",
       "      <td>11.269364</td>\n",
       "      <td>9.517159</td>\n",
       "      <td>21</td>\n",
       "      <td>8</td>\n",
       "      <td>2</td>\n",
       "      <td>2012</td>\n",
       "      <td>0</td>\n",
       "    </tr>\n",
       "  </tbody>\n",
       "</table>\n",
       "</div>"
      ],
      "text/plain": [
       "  DateOfDeparture Departure Arrival  WeeksToDeparture    log_PAX   std_wtd  \\\n",
       "0      2012-06-19       ORD     DFW         12.875000  12.331296  9.812647   \n",
       "1      2012-09-10       LAS     DEN         14.285714  10.775182  9.466734   \n",
       "2      2012-10-05       DEN     LAX         10.863636  11.083177  9.035883   \n",
       "3      2011-10-09       ATL     ORD         11.480000  11.169268  7.990202   \n",
       "4      2012-02-21       DEN     SFO         11.450000  11.269364  9.517159   \n",
       "\n",
       "   DayOfDeparture  WeekOfDeparture  MonthOfDeparture  YearOfDeparture  Holiday  \n",
       "0              19               25                 6             2012        0  \n",
       "1              10               37                 9             2012        0  \n",
       "2               5               40                10             2012        0  \n",
       "3               9               40                10             2011        0  \n",
       "4              21                8                 2             2012        0  "
      ]
     },
     "execution_count": 8,
     "metadata": {},
     "output_type": "execute_result"
    }
   ],
   "source": [
    "cal = USFederalHolidayCalendar()\n",
    "holidays = cal.holidays(\n",
    "    start = flights[\"DateOfDeparture\"].min(),\n",
    "    end = flights[\"DateOfDeparture\"].max()\n",
    ").to_pydatetime()\n",
    "flights[\"Holiday\"] = flights[\"DateOfDeparture\"].isin(holidays).astype(int)\n",
    "flights.head()"
   ]
  },
  {
   "cell_type": "markdown",
   "id": "53f9ae51",
   "metadata": {},
   "source": [
    "We have transformed our 'DateOfDeparture' colummn and we won't be needing it later on so we can drop it here."
   ]
  },
  {
   "cell_type": "code",
   "execution_count": 9,
   "id": "5a2f9771",
   "metadata": {},
   "outputs": [],
   "source": [
    "flights = flights.drop(columns = \"DateOfDeparture\")"
   ]
  },
  {
   "cell_type": "markdown",
   "id": "4f84bb97",
   "metadata": {},
   "source": [
    "## Q4\n",
    "First, select numerical features in an automated fashion (not by hand). You can for example use a\n",
    "list comprehension, or flights.select_dtypes."
   ]
  },
  {
   "cell_type": "code",
   "execution_count": 10,
   "id": "d4d01b25",
   "metadata": {},
   "outputs": [
    {
     "name": "stdout",
     "output_type": "stream",
     "text": [
      "<class 'pandas.core.frame.DataFrame'>\n",
      "RangeIndex: 8902 entries, 0 to 8901\n",
      "Data columns (total 10 columns):\n",
      " #   Column            Non-Null Count  Dtype  \n",
      "---  ------            --------------  -----  \n",
      " 0   Departure         8902 non-null   object \n",
      " 1   Arrival           8902 non-null   object \n",
      " 2   WeeksToDeparture  8902 non-null   float64\n",
      " 3   log_PAX           8902 non-null   float64\n",
      " 4   std_wtd           8902 non-null   float64\n",
      " 5   DayOfDeparture    8902 non-null   int64  \n",
      " 6   WeekOfDeparture   8902 non-null   UInt32 \n",
      " 7   MonthOfDeparture  8902 non-null   int64  \n",
      " 8   YearOfDeparture   8902 non-null   int64  \n",
      " 9   Holiday           8902 non-null   int32  \n",
      "dtypes: UInt32(1), float64(3), int32(1), int64(3), object(2)\n",
      "memory usage: 634.7+ KB\n"
     ]
    }
   ],
   "source": [
    "flights.info()"
   ]
  },
  {
   "cell_type": "code",
   "execution_count": 11,
   "id": "d227025c",
   "metadata": {},
   "outputs": [
    {
     "data": {
      "text/html": [
       "<div>\n",
       "<style scoped>\n",
       "    .dataframe tbody tr th:only-of-type {\n",
       "        vertical-align: middle;\n",
       "    }\n",
       "\n",
       "    .dataframe tbody tr th {\n",
       "        vertical-align: top;\n",
       "    }\n",
       "\n",
       "    .dataframe thead th {\n",
       "        text-align: right;\n",
       "    }\n",
       "</style>\n",
       "<table border=\"1\" class=\"dataframe\">\n",
       "  <thead>\n",
       "    <tr style=\"text-align: right;\">\n",
       "      <th></th>\n",
       "      <th>WeeksToDeparture</th>\n",
       "      <th>log_PAX</th>\n",
       "      <th>std_wtd</th>\n",
       "      <th>DayOfDeparture</th>\n",
       "      <th>WeekOfDeparture</th>\n",
       "      <th>MonthOfDeparture</th>\n",
       "      <th>YearOfDeparture</th>\n",
       "      <th>Holiday</th>\n",
       "    </tr>\n",
       "  </thead>\n",
       "  <tbody>\n",
       "    <tr>\n",
       "      <th>0</th>\n",
       "      <td>12.875000</td>\n",
       "      <td>12.331296</td>\n",
       "      <td>9.812647</td>\n",
       "      <td>19</td>\n",
       "      <td>25</td>\n",
       "      <td>6</td>\n",
       "      <td>2012</td>\n",
       "      <td>0</td>\n",
       "    </tr>\n",
       "    <tr>\n",
       "      <th>1</th>\n",
       "      <td>14.285714</td>\n",
       "      <td>10.775182</td>\n",
       "      <td>9.466734</td>\n",
       "      <td>10</td>\n",
       "      <td>37</td>\n",
       "      <td>9</td>\n",
       "      <td>2012</td>\n",
       "      <td>0</td>\n",
       "    </tr>\n",
       "    <tr>\n",
       "      <th>2</th>\n",
       "      <td>10.863636</td>\n",
       "      <td>11.083177</td>\n",
       "      <td>9.035883</td>\n",
       "      <td>5</td>\n",
       "      <td>40</td>\n",
       "      <td>10</td>\n",
       "      <td>2012</td>\n",
       "      <td>0</td>\n",
       "    </tr>\n",
       "    <tr>\n",
       "      <th>3</th>\n",
       "      <td>11.480000</td>\n",
       "      <td>11.169268</td>\n",
       "      <td>7.990202</td>\n",
       "      <td>9</td>\n",
       "      <td>40</td>\n",
       "      <td>10</td>\n",
       "      <td>2011</td>\n",
       "      <td>0</td>\n",
       "    </tr>\n",
       "    <tr>\n",
       "      <th>4</th>\n",
       "      <td>11.450000</td>\n",
       "      <td>11.269364</td>\n",
       "      <td>9.517159</td>\n",
       "      <td>21</td>\n",
       "      <td>8</td>\n",
       "      <td>2</td>\n",
       "      <td>2012</td>\n",
       "      <td>0</td>\n",
       "    </tr>\n",
       "    <tr>\n",
       "      <th>...</th>\n",
       "      <td>...</td>\n",
       "      <td>...</td>\n",
       "      <td>...</td>\n",
       "      <td>...</td>\n",
       "      <td>...</td>\n",
       "      <td>...</td>\n",
       "      <td>...</td>\n",
       "      <td>...</td>\n",
       "    </tr>\n",
       "    <tr>\n",
       "      <th>8897</th>\n",
       "      <td>9.263158</td>\n",
       "      <td>10.427055</td>\n",
       "      <td>7.316967</td>\n",
       "      <td>2</td>\n",
       "      <td>39</td>\n",
       "      <td>10</td>\n",
       "      <td>2011</td>\n",
       "      <td>0</td>\n",
       "    </tr>\n",
       "    <tr>\n",
       "      <th>8898</th>\n",
       "      <td>12.772727</td>\n",
       "      <td>12.201552</td>\n",
       "      <td>10.641034</td>\n",
       "      <td>25</td>\n",
       "      <td>39</td>\n",
       "      <td>9</td>\n",
       "      <td>2012</td>\n",
       "      <td>0</td>\n",
       "    </tr>\n",
       "    <tr>\n",
       "      <th>8899</th>\n",
       "      <td>11.047619</td>\n",
       "      <td>10.508746</td>\n",
       "      <td>7.908705</td>\n",
       "      <td>19</td>\n",
       "      <td>3</td>\n",
       "      <td>1</td>\n",
       "      <td>2012</td>\n",
       "      <td>0</td>\n",
       "    </tr>\n",
       "    <tr>\n",
       "      <th>8900</th>\n",
       "      <td>6.076923</td>\n",
       "      <td>10.174042</td>\n",
       "      <td>4.030334</td>\n",
       "      <td>3</td>\n",
       "      <td>5</td>\n",
       "      <td>2</td>\n",
       "      <td>2013</td>\n",
       "      <td>0</td>\n",
       "    </tr>\n",
       "    <tr>\n",
       "      <th>8901</th>\n",
       "      <td>9.526316</td>\n",
       "      <td>9.202674</td>\n",
       "      <td>6.167733</td>\n",
       "      <td>26</td>\n",
       "      <td>47</td>\n",
       "      <td>11</td>\n",
       "      <td>2011</td>\n",
       "      <td>0</td>\n",
       "    </tr>\n",
       "  </tbody>\n",
       "</table>\n",
       "<p>8902 rows × 8 columns</p>\n",
       "</div>"
      ],
      "text/plain": [
       "      WeeksToDeparture    log_PAX    std_wtd  DayOfDeparture  WeekOfDeparture  \\\n",
       "0            12.875000  12.331296   9.812647              19               25   \n",
       "1            14.285714  10.775182   9.466734              10               37   \n",
       "2            10.863636  11.083177   9.035883               5               40   \n",
       "3            11.480000  11.169268   7.990202               9               40   \n",
       "4            11.450000  11.269364   9.517159              21                8   \n",
       "...                ...        ...        ...             ...              ...   \n",
       "8897          9.263158  10.427055   7.316967               2               39   \n",
       "8898         12.772727  12.201552  10.641034              25               39   \n",
       "8899         11.047619  10.508746   7.908705              19                3   \n",
       "8900          6.076923  10.174042   4.030334               3                5   \n",
       "8901          9.526316   9.202674   6.167733              26               47   \n",
       "\n",
       "      MonthOfDeparture  YearOfDeparture  Holiday  \n",
       "0                    6             2012        0  \n",
       "1                    9             2012        0  \n",
       "2                   10             2012        0  \n",
       "3                   10             2011        0  \n",
       "4                    2             2012        0  \n",
       "...                ...              ...      ...  \n",
       "8897                10             2011        0  \n",
       "8898                 9             2012        0  \n",
       "8899                 1             2012        0  \n",
       "8900                 2             2013        0  \n",
       "8901                11             2011        0  \n",
       "\n",
       "[8902 rows x 8 columns]"
      ]
     },
     "execution_count": 11,
     "metadata": {},
     "output_type": "execute_result"
    }
   ],
   "source": [
    "flights_numerical = flights.select_dtypes(include=['float64', 'int32', 'int64', 'UInt32'])\n",
    "flights_numerical"
   ]
  },
  {
   "cell_type": "markdown",
   "id": "19e28a37",
   "metadata": {},
   "source": [
    "Here are two other options:"
   ]
  },
  {
   "cell_type": "markdown",
   "id": "03f29902",
   "metadata": {},
   "source": [
    "## Q5\n",
    "We will use the Root Mean Squared Error (RMSE) as a figure of merit (performance measure) for\n",
    "this prediction task. Explain how it is defined and why it is relevant here\n"
   ]
  },
  {
   "cell_type": "markdown",
   "id": "e6ce7a73",
   "metadata": {},
   "source": [
    "### Answer Q5:\n",
    "We define the RMSE as: \n",
    "$$ E(y_{pred}(X,w), y) = \\sqrt{ \\sum\\limits_{i = 1}^{N} \\frac{(y_{pred}^{(i)}(X,w) - y^{(i)})^2}{N}} $$ \n",
    "where:  \n",
    "- $y$ is the vector of the true labels and $y^{(i)}$ is the true value of the i-th example.\n",
    "- $y_{pred}(X,w)$ is the vector of our model's predictions given the input matrix $X$ and model parameters $w$. \n",
    "- $y_{pred}^{(i)}(X,w)$ is the model's prediction for the i-th input vector $x^{(i)}$.\n",
    "- $N$ is the number of input vectors $x$ we consider at a time, doesn't matter if they are training or test examples.\n",
    "\n",
    "The RMSE is relevant here, because: \n",
    "We know that the sum of squares error function $$ E(y_{pred}, y) = \\sum\\limits_{i = 1}^{N} \\frac{1}{2}(y_{pred}^{(i)}(X,w) - y^{(i)})^2$$ has arisen as a consequence of maximizing the likelihood of $y$ under the assumption that $y$ is given by a deterministic function $y_{pred}(x,w)$ with additive gaussian noise $\\epsilon$ so that $$ y = y_{pred}(x,w) + \\epsilon $$\n",
    "\n",
    "We also know that the argument $y_{pred}^{*}(X,w)$ that minimizes the sum of squares error function (2) also minimizes the RMSE (1).\n",
    "\n",
    "**Therefore minimizing the RMSE with respect to $y_{pred}$ corresponds to maximizing the likelihood of $y$**.\n",
    "\n",
    "The RMSE is also more relevant than other figures of merit because:\n",
    "- It takes the mean of the errors, instead of simply the sum of the squared errors, and therefore is useful when comparing the performance on data sets of different sizes.\n",
    "- The benefit of using RMSE over the MSE is that the metric it produces is in terms of the unit being predicted. However the RMSE decreases the amount of penalty put on very \"wrong\" predictions compared to the MSE."
   ]
  },
  {
   "cell_type": "markdown",
   "id": "88270e34",
   "metadata": {},
   "source": [
    "## Q6\n",
    "Do a train-test split of the data (a single one, so far. You’ll do K-fold cross validaiton later) and\n",
    "tune the max_depth parameter of a DecisionTreeRegressor. **Explain briefly how this estimator\n",
    "does its prediction**. Plot the RMSE on train and test sets as a function of this parameter."
   ]
  },
  {
   "cell_type": "markdown",
   "id": "c5b466c5",
   "metadata": {},
   "source": [
    "### Answer Q6:\n",
    "> During training/fitting the Decision Tree Regressor will build a \"tree\" of nodes and leafs, where each node corresponds to a splitting of the data according a feature caracteristic and each leaf corresponds to a prediction that occurs when there are no more nodes to pass through.  \n",
    "The leaf values of our model are the averages of the training example predictions associated to that leaf.  \n",
    "For each node, the training procedure consists in finding the optimal splitting, given a cost function. Given a max depth, which represents the maximum number of nodes a new example will go through before prediction, the model iteratively finds the optimal nodes.\n",
    "> Prediction for a new input x is made by \"running it down\" the nodes that were created during the training phase. Once it reaches a leaf, there is already a fixed prediction associated to it."
   ]
  },
  {
   "cell_type": "code",
   "execution_count": 12,
   "id": "97ad87bd",
   "metadata": {},
   "outputs": [],
   "source": [
    "target_name = 'log_PAX'\n",
    "X = flights_numerical.drop(columns = [target_name])\n",
    "y = flights_numerical.loc[:, target_name]\n",
    "X_train, X_test, y_train, y_test = train_test_split(X, y, test_size=0.2, random_state=1)"
   ]
  },
  {
   "cell_type": "markdown",
   "id": "4b28d9bb",
   "metadata": {},
   "source": [
    "We want to pick the max depth which gives the lowest generalization error while still having low bias, therefore the following function will highlight the max depth which gives **lowest RMSE on the test data**. Technically, we shouldn't call it test set but rather validation set, because we are tuning our models hyperparameters to it, but for now we keep the notation test data."
   ]
  },
  {
   "cell_type": "code",
   "execution_count": 13,
   "id": "c3351730",
   "metadata": {},
   "outputs": [],
   "source": [
    "def hyperparam_errors_plot(X_train, X_test, y_train, y_test, depth_range = 50):\n",
    "    \"\"\"\n",
    "    Computes and plots the train and test error (RMSE) for range of max depths.\n",
    "    Args:\n",
    "      X_train (ndarray (n, d)): Training data, m examples, d variables \n",
    "      y_train (ndarray (n,)): target values\n",
    "      X_test (ndarray (m, d)): Test data, m examples, d variables \n",
    "      y_test (ndarray (m,)): target values\n",
    "      depth_range (scalar): Number of max depths to test \n",
    "    Returns:\n",
    "      Plot of the train and test errors\n",
    "    \"\"\"\n",
    "    testerror = np.zeros(depth_range)\n",
    "    trainerror = np.zeros(depth_range)\n",
    "    x = np.arange(1, depth_range + 1)\n",
    "\n",
    "    for i in range(depth_range):\n",
    "        regressor = DecisionTreeRegressor(random_state=1, max_depth=i+1)\n",
    "        regressor.fit(X_train, y_train)\n",
    "        \n",
    "        pred_test = regressor.predict(X_test)\n",
    "        pred_train= regressor.predict(X_train)\n",
    "        rmse_test = np.sqrt(mean_squared_error(y_test, pred_test))\n",
    "        rmse_train = np.sqrt(mean_squared_error(y_train, pred_train))\n",
    "        testerror[i] = rmse_test\n",
    "        trainerror[i] = rmse_train\n",
    "    \n",
    "    optimal_maxdepth = np.argmin(testerror) + 1\n",
    "    fig, ax = plt.subplots(figsize=(10, 4))\n",
    "    ax.set_title(\"Find optimal max depth for decision tree regression\", fontsize = 12)\n",
    "    ax.set_xlabel(\"Max depth\")\n",
    "    ax.set_ylabel(\"Error\")\n",
    "    \n",
    "    \n",
    "    ax.plot(x, testerror, marker='o', color = \"orangered\", label=\"test error\", lw=1)\n",
    "    ax.plot(x, trainerror, marker='o', color = \"blue\", label=\"train error\", lw=1)\n",
    "    ax.axvline(optimal_maxdepth, lw=1, color = 'g')\n",
    "    ax.annotate(\"optimal max depth\", xy=(optimal_maxdepth, 0.8), xytext=(0.2, 0.4)\n",
    "                , textcoords='axes fraction', fontsize=10,\n",
    "                   arrowprops=dict(arrowstyle=\"->\", connectionstyle=\"arc3\", \n",
    "                                   color='r', lw=1))\n",
    "    ax.xaxis.set_major_locator(plt.MultipleLocator(2))\n",
    "    ax.legend()"
   ]
  },
  {
   "cell_type": "code",
   "execution_count": 14,
   "id": "1f1ed6e0",
   "metadata": {
    "scrolled": false
   },
   "outputs": [
    {
     "data": {
      "image/png": "[encoded data removed]",
      "text/plain": [
       "<Figure size 1000x400 with 1 Axes>"
      ]
     },
     "metadata": {},
     "output_type": "display_data"
    }
   ],
   "source": [
    "hyperparam_errors_plot(X_train, X_test, y_train, y_test, depth_range = 50)"
   ]
  },
  {
   "cell_type": "markdown",
   "id": "faa73077",
   "metadata": {},
   "source": [
    "The train error decreases with the max depth and even seems to converge to 0. The test error decreases initially and then increases again. This is a clear sign of overfitting: as the max depth gets larger, the bias reduces and the variance increases. As said before we pick the one that minimizes the test error."
   ]
  },
  {
   "cell_type": "markdown",
   "id": "2875c373",
   "metadata": {},
   "source": [
    "## Q7\n",
    "Test the impact of using or not a StandardScaler on the features, for this estimator with the found\n",
    "value of max_depth (use a Pipeline). Explain the results"
   ]
  },
  {
   "cell_type": "markdown",
   "id": "8703abaf",
   "metadata": {},
   "source": [
    "We test the impact both on the train and set:"
   ]
  },
  {
   "cell_type": "code",
   "execution_count": 15,
   "id": "1ae0a017",
   "metadata": {},
   "outputs": [
    {
     "name": "stdout",
     "output_type": "stream",
     "text": [
      "The respective errors on the test set are:\n",
      "rmse_test_scaled = 0.9464659278196982\n",
      "rmse_test_normal = 0.9464659278196982\n",
      "The respective errors on the train set are:\n",
      "rmse_train_scaled = 0.8642698805710514\n",
      "rmse_train_normal = 0.8642698805710513\n"
     ]
    }
   ],
   "source": [
    "scaled_regressor = make_pipeline(StandardScaler(), DecisionTreeRegressor(random_state=1, max_depth=8))\n",
    "regressor = DecisionTreeRegressor(random_state=1, max_depth=8)\n",
    "\n",
    "# Fitting the two regressors\n",
    "regressor.fit(X_train, y_train)\n",
    "scaled_regressor.fit(X_train, y_train)\n",
    "\n",
    "# Predicting for test data\n",
    "test_pred_scaled = scaled_regressor.predict(X_test)\n",
    "test_pred_normal = regressor.predict(X_test)\n",
    "\n",
    "# Predicting for train data\n",
    "train_pred_scaled = scaled_regressor.predict(X_train)\n",
    "train_pred_normal = regressor.predict(X_train)\n",
    "\n",
    "# Calculating the RMSE for test predictions\n",
    "rmse_test_scaled = np.sqrt(mean_squared_error(y_test, test_pred_scaled))\n",
    "rmse_test_normal = np.sqrt(mean_squared_error(y_test, test_pred_normal))\n",
    "\n",
    "# Calculating the RMSE for train predictions\n",
    "rmse_train_scaled = np.sqrt(mean_squared_error(y_train, train_pred_scaled))\n",
    "rmse_train_normal = np.sqrt(mean_squared_error(y_train, train_pred_normal))\n",
    "\n",
    "print(\"The respective errors on the test set are:\")\n",
    "print(f\"{rmse_test_scaled = }\")\n",
    "print(f\"{rmse_test_normal = }\")\n",
    "print(\"The respective errors on the train set are:\")\n",
    "print(f\"{rmse_train_scaled = }\")\n",
    "print(f\"{rmse_train_normal = }\")"
   ]
  },
  {
   "cell_type": "markdown",
   "id": "ebf9611a",
   "metadata": {},
   "source": [
    "**Answer Question 7** \n",
    "> There is no difference in the RMSE of the scaled and the non scaled model. That is because **no feature scaling is required when working with tree based models**. These models are actually invariant to all monotonic transformations of the features/inputs, such as the log transformation for example or in our case the standard scaling which is monotonic. Intuitively we can understand this, because decision trees split data into multiple groups and the splits depend only on the relative position of the features. For example without scaling we might split if feature x1 > 100 and with scaling if x1 > 1.\n",
    "\n",
    "> Therefore we get the same result with and without scaled data."
   ]
  },
  {
   "cell_type": "markdown",
   "id": "518062eb",
   "metadata": {},
   "source": [
    "### Question 8\n",
    "For a LinearRegression model with fit_intercept=True, test the impact of using a\n",
    "StandardScaler. Explain"
   ]
  },
  {
   "cell_type": "code",
   "execution_count": 16,
   "id": "28730089",
   "metadata": {},
   "outputs": [
    {
     "name": "stdout",
     "output_type": "stream",
     "text": [
      "The respective errors on the test set are:\n",
      "LR_test_rmse = 0.9849975292443757\n",
      "LRS_test_rmse = 0.9849975292443761\n"
     ]
    }
   ],
   "source": [
    "#LR stands for \"Linear Regression\" and the S for \"scaled\"\n",
    "LR = LinearRegression(fit_intercept = True)\n",
    "LRS = make_pipeline(StandardScaler(), LinearRegression(fit_intercept=True))\n",
    "\n",
    "LR.fit(X_train, y_train)\n",
    "LRS.fit(X_train, y_train)\n",
    "\n",
    "LR_testpred = LR.predict(X_test)\n",
    "LRS_testpred = LRS.predict(X_test)\n",
    "\n",
    "LR_test_rmse = np.sqrt(mean_squared_error(y_test, LR_testpred))\n",
    "LRS_test_rmse = np.sqrt(mean_squared_error(y_test, LRS_testpred))\n",
    "\n",
    "print(\"The respective errors on the test set are:\")\n",
    "print(f\"{LR_test_rmse = }\")\n",
    "print(f\"{LRS_test_rmse = }\")"
   ]
  },
  {
   "cell_type": "markdown",
   "id": "39b0afd6",
   "metadata": {},
   "source": [
    "**Answer Question 8**\n",
    "> We come across yet another interesting mathematical result, and that is that linear regression with an intercept term is invariant to the standardization of its features when we take a maximum likelihood approach to determine the parameters w, meaning without regularization. \n",
    "> Let's prove it by showing that linear regression is invariant to centering and to scaling of it's features X, when taking the maximum likelihood approach.\n",
    "\n",
    "> As a reminder, in the MLE approach, our goal is to minimize ${\\|y - Xw\\|}$ with respect to $w$, or equivalently ${\\|y - Xw - w_0\\|}$ if we don't have an extra incercept column in X.\n",
    "\n",
    ">  **Scaling**: We know that the result of this minimization problem $y_{pred}^{*} = Xw^{*}$ is the orthogonal projection of the label vector $y$ onto the subspace spanned by the column vectors of $X$. By the definition of a span, scaling the vectors that make up the span doesn't change the subspace that it generates. Therefore our prediction $y_{pred}$ is invariant to the scaling of the columns of X. \n",
    "\n",
    ">  **Centering**: If we have an input matrix $X$, with $d$ columns denoted as $X^{[i]}$, a parameter vector $w = (w_1, ..., w_d)^T$, an intercept vector $w_0$ and $d$ \"centering\" vectors $\\lambda_i$ (where each element is equal to the mean of the corresponding $X^{[i]}$ column) then we can write our prediction vector $y_{pred}$  as:\n",
    "$$ y_{pred} = w_0 + w_1(X^{[1]} - \\lambda_1) + ... w_d(X^{[d]} - \\lambda_d)$$\n",
    "which can be rewritten as:\n",
    "$$ y_{pred} = (w_0 - \\sum\\limits_{i = 1}^{d} w_i\\lambda_i) + w_1X^{[1]} + w_dX^{[d]}$$\n",
    "\n",
    "> The minimization problem for **centered features X** can we written as: $${\\|y - (X - J\\lambda)w - w_0 \\|}$$, where $J$ is a matrix of only ones, $\\lambda$ is a vector where each element $\\lambda_i$ represents the mean of the column $X^{[i]}$.\n",
    "> And thanks to the result above, we see that the minimization problem can be rewritten as: $${\\|y - Xw - \\beta_0\\|}$$\n",
    "\n",
    "> where the intercept $\\beta_0 =  w_0 - \\sum\\limits_{i = 1}^{d} w_i\\lambda_i$\n",
    "\n",
    "> **Therefore we see that the two regression problems, one with and one without centering of features, are identical apart from the intercept term when taking the MLE approach.** The optimal parameters $w^{*} = (w_1^{*}, ..., w_d^{*})^T$ for both regression problems will even be the same, the only difference will be in the intercept terms of the models, but we even know the relationship between them!  \n",
    "> As the parameters $(w_1^{*}, ..., w_d^{*})$ for both regression problems are the same, regularized linear rigression will also be invariant to centering of the features, as long as we don't regularize the intercept, but will not be invariant to scaling.\n",
    "\n",
    "> $QED$"
   ]
  },
  {
   "cell_type": "markdown",
   "id": "4b2d843c",
   "metadata": {},
   "source": [
    "## Q9\n",
    "Now, we use again the full dataset. We will encode the categorical features with a OneHotEncoder.  \n",
    "Create a one hot encoder instance, fit it on the data, transform the data and display all categories\n",
    "inferred by the transformer. Delete the transformed data."
   ]
  },
  {
   "cell_type": "markdown",
   "id": "d3a2e082",
   "metadata": {},
   "source": [
    "First we select the categorical features:"
   ]
  },
  {
   "cell_type": "code",
   "execution_count": 17,
   "id": "f372e940",
   "metadata": {},
   "outputs": [
    {
     "data": {
      "text/html": [
       "<div>\n",
       "<style scoped>\n",
       "    .dataframe tbody tr th:only-of-type {\n",
       "        vertical-align: middle;\n",
       "    }\n",
       "\n",
       "    .dataframe tbody tr th {\n",
       "        vertical-align: top;\n",
       "    }\n",
       "\n",
       "    .dataframe thead th {\n",
       "        text-align: right;\n",
       "    }\n",
       "</style>\n",
       "<table border=\"1\" class=\"dataframe\">\n",
       "  <thead>\n",
       "    <tr style=\"text-align: right;\">\n",
       "      <th></th>\n",
       "      <th>Departure</th>\n",
       "      <th>Arrival</th>\n",
       "    </tr>\n",
       "  </thead>\n",
       "  <tbody>\n",
       "    <tr>\n",
       "      <th>0</th>\n",
       "      <td>ORD</td>\n",
       "      <td>DFW</td>\n",
       "    </tr>\n",
       "    <tr>\n",
       "      <th>1</th>\n",
       "      <td>LAS</td>\n",
       "      <td>DEN</td>\n",
       "    </tr>\n",
       "    <tr>\n",
       "      <th>2</th>\n",
       "      <td>DEN</td>\n",
       "      <td>LAX</td>\n",
       "    </tr>\n",
       "    <tr>\n",
       "      <th>3</th>\n",
       "      <td>ATL</td>\n",
       "      <td>ORD</td>\n",
       "    </tr>\n",
       "    <tr>\n",
       "      <th>4</th>\n",
       "      <td>DEN</td>\n",
       "      <td>SFO</td>\n",
       "    </tr>\n",
       "    <tr>\n",
       "      <th>...</th>\n",
       "      <td>...</td>\n",
       "      <td>...</td>\n",
       "    </tr>\n",
       "    <tr>\n",
       "      <th>8897</th>\n",
       "      <td>DTW</td>\n",
       "      <td>ATL</td>\n",
       "    </tr>\n",
       "    <tr>\n",
       "      <th>8898</th>\n",
       "      <td>DFW</td>\n",
       "      <td>ORD</td>\n",
       "    </tr>\n",
       "    <tr>\n",
       "      <th>8899</th>\n",
       "      <td>SFO</td>\n",
       "      <td>LAS</td>\n",
       "    </tr>\n",
       "    <tr>\n",
       "      <th>8900</th>\n",
       "      <td>ORD</td>\n",
       "      <td>PHL</td>\n",
       "    </tr>\n",
       "    <tr>\n",
       "      <th>8901</th>\n",
       "      <td>DTW</td>\n",
       "      <td>ATL</td>\n",
       "    </tr>\n",
       "  </tbody>\n",
       "</table>\n",
       "<p>8902 rows × 2 columns</p>\n",
       "</div>"
      ],
      "text/plain": [
       "     Departure Arrival\n",
       "0          ORD     DFW\n",
       "1          LAS     DEN\n",
       "2          DEN     LAX\n",
       "3          ATL     ORD\n",
       "4          DEN     SFO\n",
       "...        ...     ...\n",
       "8897       DTW     ATL\n",
       "8898       DFW     ORD\n",
       "8899       SFO     LAS\n",
       "8900       ORD     PHL\n",
       "8901       DTW     ATL\n",
       "\n",
       "[8902 rows x 2 columns]"
      ]
     },
     "execution_count": 17,
     "metadata": {},
     "output_type": "execute_result"
    }
   ],
   "source": [
    "flights_obj = flights.select_dtypes(include=['object'])\n",
    "flights_obj"
   ]
  },
  {
   "cell_type": "markdown",
   "id": "c251e13c",
   "metadata": {},
   "source": [
    "We create the one hot encoder instance and we fit and transform the data:"
   ]
  },
  {
   "cell_type": "code",
   "execution_count": 18,
   "id": "81597819",
   "metadata": {},
   "outputs": [
    {
     "data": {
      "text/plain": [
       "array([[0., 0., 0., ..., 0., 0., 0.],\n",
       "       [0., 0., 0., ..., 0., 0., 0.],\n",
       "       [0., 0., 0., ..., 0., 0., 0.],\n",
       "       ...,\n",
       "       [0., 0., 0., ..., 0., 0., 0.],\n",
       "       [0., 0., 0., ..., 0., 0., 0.],\n",
       "       [0., 0., 0., ..., 0., 0., 0.]])"
      ]
     },
     "execution_count": 18,
     "metadata": {},
     "output_type": "execute_result"
    }
   ],
   "source": [
    "enc = OneHotEncoder(handle_unknown='error', sparse=True)\n",
    "categorical_onehot = enc.fit_transform(flights_obj).toarray()\n",
    "categorical_onehot"
   ]
  },
  {
   "cell_type": "markdown",
   "id": "1402cfa6",
   "metadata": {},
   "source": [
    "We display the categories:"
   ]
  },
  {
   "cell_type": "code",
   "execution_count": 19,
   "id": "17f8ed0a",
   "metadata": {},
   "outputs": [
    {
     "data": {
      "text/plain": [
       "[array(['ATL', 'BOS', 'CLT', 'DEN', 'DFW', 'DTW', 'EWR', 'IAH', 'JFK',\n",
       "        'LAS', 'LAX', 'LGA', 'MCO', 'MIA', 'MSP', 'ORD', 'PHL', 'PHX',\n",
       "        'SEA', 'SFO'], dtype=object),\n",
       " array(['ATL', 'BOS', 'CLT', 'DEN', 'DFW', 'DTW', 'EWR', 'IAH', 'JFK',\n",
       "        'LAS', 'LAX', 'LGA', 'MCO', 'MIA', 'MSP', 'ORD', 'PHL', 'PHX',\n",
       "        'SEA', 'SFO'], dtype=object)]"
      ]
     },
     "metadata": {},
     "output_type": "display_data"
    }
   ],
   "source": [
    "display(enc.categories_)"
   ]
  },
  {
   "cell_type": "markdown",
   "id": "3e12e9d4",
   "metadata": {},
   "source": [
    "Now we delete the transformed data:"
   ]
  },
  {
   "cell_type": "code",
   "execution_count": 20,
   "id": "7d2b9b59",
   "metadata": {},
   "outputs": [],
   "source": [
    "del categorical_onehot"
   ]
  },
  {
   "cell_type": "markdown",
   "id": "24683e70",
   "metadata": {},
   "source": [
    "## Q10\n",
    "Create a Pipeline standardizing the numerical features, and one-hot encoding categorical features,\n",
    "followed by the application of a RandomForestRegressor to the transformed data."
   ]
  },
  {
   "cell_type": "markdown",
   "id": "60163dea",
   "metadata": {},
   "source": [
    "There might be a more automated way of determining which column names correspond to which category, but we will go for the lazy way as was done in the tutorial notebook:"
   ]
  },
  {
   "cell_type": "code",
   "execution_count": 21,
   "id": "b7aa4487",
   "metadata": {},
   "outputs": [],
   "source": [
    "scaling_columns = ['WeeksToDeparture','std_wtd','DayOfDeparture','WeekOfDeparture','MonthOfDeparture','YearOfDeparture']\n",
    "one_hot_encoding_columns = ['Departure', 'Arrival']\n",
    "binary_encoding_columns = [\"Holiday\"]"
   ]
  },
  {
   "cell_type": "code",
   "execution_count": 22,
   "id": "5220c5ed",
   "metadata": {},
   "outputs": [],
   "source": [
    "preprocessor = ColumnTransformer([\n",
    "    ('binary-encoder', OrdinalEncoder(), binary_encoding_columns),\n",
    "    ('one-hot-encoder', OneHotEncoder(handle_unknown='error', sparse=True),\n",
    "     one_hot_encoding_columns),\n",
    "    ('standard-scaler', StandardScaler(), scaling_columns)\n",
    "])\n",
    "forest_processed = make_pipeline(\n",
    "    preprocessor,\n",
    "    RandomForestRegressor(random_state=1)\n",
    ")  "
   ]
  },
  {
   "cell_type": "markdown",
   "id": "36f9bd7f",
   "metadata": {},
   "source": [
    "## Q11\n",
    "Perform grid-search on the cross-validation error to tune simultaneously the n_estimators and\n",
    "max_depth of the prediction step of your pipeline. Comment on the execution time."
   ]
  },
  {
   "cell_type": "markdown",
   "id": "cb5914a6",
   "metadata": {},
   "source": [
    "We redefine our training and test sets:"
   ]
  },
  {
   "cell_type": "code",
   "execution_count": 23,
   "id": "786072d8",
   "metadata": {},
   "outputs": [
    {
     "data": {
      "text/html": [
       "<div>\n",
       "<style scoped>\n",
       "    .dataframe tbody tr th:only-of-type {\n",
       "        vertical-align: middle;\n",
       "    }\n",
       "\n",
       "    .dataframe tbody tr th {\n",
       "        vertical-align: top;\n",
       "    }\n",
       "\n",
       "    .dataframe thead th {\n",
       "        text-align: right;\n",
       "    }\n",
       "</style>\n",
       "<table border=\"1\" class=\"dataframe\">\n",
       "  <thead>\n",
       "    <tr style=\"text-align: right;\">\n",
       "      <th></th>\n",
       "      <th>Departure</th>\n",
       "      <th>Arrival</th>\n",
       "      <th>WeeksToDeparture</th>\n",
       "      <th>std_wtd</th>\n",
       "      <th>DayOfDeparture</th>\n",
       "      <th>WeekOfDeparture</th>\n",
       "      <th>MonthOfDeparture</th>\n",
       "      <th>YearOfDeparture</th>\n",
       "      <th>Holiday</th>\n",
       "    </tr>\n",
       "  </thead>\n",
       "  <tbody>\n",
       "    <tr>\n",
       "      <th>0</th>\n",
       "      <td>ORD</td>\n",
       "      <td>DFW</td>\n",
       "      <td>12.875000</td>\n",
       "      <td>9.812647</td>\n",
       "      <td>19</td>\n",
       "      <td>25</td>\n",
       "      <td>6</td>\n",
       "      <td>2012</td>\n",
       "      <td>0</td>\n",
       "    </tr>\n",
       "    <tr>\n",
       "      <th>1</th>\n",
       "      <td>LAS</td>\n",
       "      <td>DEN</td>\n",
       "      <td>14.285714</td>\n",
       "      <td>9.466734</td>\n",
       "      <td>10</td>\n",
       "      <td>37</td>\n",
       "      <td>9</td>\n",
       "      <td>2012</td>\n",
       "      <td>0</td>\n",
       "    </tr>\n",
       "    <tr>\n",
       "      <th>2</th>\n",
       "      <td>DEN</td>\n",
       "      <td>LAX</td>\n",
       "      <td>10.863636</td>\n",
       "      <td>9.035883</td>\n",
       "      <td>5</td>\n",
       "      <td>40</td>\n",
       "      <td>10</td>\n",
       "      <td>2012</td>\n",
       "      <td>0</td>\n",
       "    </tr>\n",
       "    <tr>\n",
       "      <th>3</th>\n",
       "      <td>ATL</td>\n",
       "      <td>ORD</td>\n",
       "      <td>11.480000</td>\n",
       "      <td>7.990202</td>\n",
       "      <td>9</td>\n",
       "      <td>40</td>\n",
       "      <td>10</td>\n",
       "      <td>2011</td>\n",
       "      <td>0</td>\n",
       "    </tr>\n",
       "    <tr>\n",
       "      <th>4</th>\n",
       "      <td>DEN</td>\n",
       "      <td>SFO</td>\n",
       "      <td>11.450000</td>\n",
       "      <td>9.517159</td>\n",
       "      <td>21</td>\n",
       "      <td>8</td>\n",
       "      <td>2</td>\n",
       "      <td>2012</td>\n",
       "      <td>0</td>\n",
       "    </tr>\n",
       "  </tbody>\n",
       "</table>\n",
       "</div>"
      ],
      "text/plain": [
       "  Departure Arrival  WeeksToDeparture   std_wtd  DayOfDeparture  \\\n",
       "0       ORD     DFW         12.875000  9.812647              19   \n",
       "1       LAS     DEN         14.285714  9.466734              10   \n",
       "2       DEN     LAX         10.863636  9.035883               5   \n",
       "3       ATL     ORD         11.480000  7.990202               9   \n",
       "4       DEN     SFO         11.450000  9.517159              21   \n",
       "\n",
       "   WeekOfDeparture  MonthOfDeparture  YearOfDeparture  Holiday  \n",
       "0               25                 6             2012        0  \n",
       "1               37                 9             2012        0  \n",
       "2               40                10             2012        0  \n",
       "3               40                10             2011        0  \n",
       "4                8                 2             2012        0  "
      ]
     },
     "execution_count": 23,
     "metadata": {},
     "output_type": "execute_result"
    }
   ],
   "source": [
    "target_name = 'log_PAX'\n",
    "X = flights.drop(columns=[target_name])\n",
    "y = flights.loc[:,target_name]\n",
    "X_train, X_test, y_train, y_test = train_test_split(X,y,test_size=0.2, random_state=1)\n",
    "X.head()"
   ]
  },
  {
   "cell_type": "code",
   "execution_count": 24,
   "id": "d8abda27",
   "metadata": {},
   "outputs": [],
   "source": [
    "#print(\"The hyper-parameters for a preprocessed random forest model are:\")\n",
    "#for param_name in forest_processed.get_params().keys():\n",
    "#    print(param_name)\n",
    "#We commented this out because we don't want it to take up too much space"
   ]
  },
  {
   "cell_type": "code",
   "execution_count": 25,
   "id": "9543660f",
   "metadata": {},
   "outputs": [
    {
     "name": "stdout",
     "output_type": "stream",
     "text": [
      "The RMSE using a GridSearchCV model is 0.40 on the train set and 0.74 on the test set. The optimal hyperparams were found in 118.424 seconds\n"
     ]
    }
   ],
   "source": [
    "%timeit\n",
    "\n",
    "param_grid = {'randomforestregressor__n_estimators': (np.arange(1, 102, 20)),\n",
    "              'randomforestregressor__max_depth':(np.arange(1, 102, 20))}\n",
    "\n",
    "forest_grid = GridSearchCV(forest_processed, \n",
    "                           param_grid=param_grid, \n",
    "                           scoring = 'neg_root_mean_squared_error', \n",
    "                           n_jobs=12, cv=5)\n",
    "\n",
    "start = time.time()\n",
    "forest_grid.fit(X_train, y_train)\n",
    "elapsed_time = time.time() - start\n",
    "print(\n",
    "    f\"The RMSE using a {forest_grid.__class__.__name__} model is \"\n",
    "    f\"{- forest_grid.score(X_train, y_train):.2f} on the train set\"\n",
    "    f\" and {- forest_grid.score(X_test, y_test):.2f} on the test set.\"\n",
    "    f\" The optimal hyperparams were found in {elapsed_time:.3f} seconds\")"
   ]
  },
  {
   "cell_type": "markdown",
   "id": "5733a607",
   "metadata": {},
   "source": [
    "### Answer Q11 :\n",
    "> Gridsearch CV is computationally very expensive because it requires a number of training\n",
    "runs that can be exponential in the number of parameters. In our case we have two parameters with each 6 choices, so we train $6^2$ models, without even considering the Kfold cross validation. Kfold cross validation then increases the number of training runs necessary by a factor of K. So in our case that gives $6*6*5 = 180$ training runs in order to find the optimal hyperparameters. By increasing the number of jobs we speed up the calculation."
   ]
  },
  {
   "cell_type": "markdown",
   "id": "be52a26a",
   "metadata": {},
   "source": [
    "## Q12\n",
    "> Get the estimator with the best params. Save both the full pipeline and the best model to disk\n",
    "with joblib. Load them from disk. Why is the ability to dump estimators useful ?"
   ]
  },
  {
   "cell_type": "code",
   "execution_count": 26,
   "id": "9c505e75",
   "metadata": {},
   "outputs": [
    {
     "name": "stdout",
     "output_type": "stream",
     "text": [
      "The best set of parameters is: {'randomforestregressor__max_depth': 21, 'randomforestregressor__n_estimators': 101}\n"
     ]
    }
   ],
   "source": [
    "print(f\"The best set of parameters is: {forest_grid.best_params_}\")"
   ]
  },
  {
   "cell_type": "code",
   "execution_count": 27,
   "id": "5aad60ca",
   "metadata": {},
   "outputs": [
    {
     "data": {
      "text/plain": [
       "['model_best']"
      ]
     },
     "execution_count": 27,
     "metadata": {},
     "output_type": "execute_result"
    }
   ],
   "source": [
    "joblib.dump(forest_processed,'forest_processed_joblib')\n",
    "joblib.dump(forest_grid, 'model_best')"
   ]
  },
  {
   "cell_type": "markdown",
   "id": "e0762475",
   "metadata": {},
   "source": [
    "## Text noch"
   ]
  },
  {
   "cell_type": "markdown",
   "id": "d044882b",
   "metadata": {},
   "source": [
    " ## Q13"
   ]
  },
  {
   "cell_type": "markdown",
   "id": "553ddc47",
   "metadata": {},
   "source": [
    "What is the cost of fitting a KNN ? and of predicting for one new point ?"
   ]
  },
  {
   "cell_type": "markdown",
   "id": "496187a2",
   "metadata": {},
   "source": [
    "### Answer Q13:"
   ]
  },
  {
   "cell_type": "markdown",
   "id": "52e331d1",
   "metadata": {},
   "source": [
    "Let us introduce n as the number of points in the training dataset, d as the number of features and k as the number of neighbours that we consider for allocating a new point to a certain cluster. \n",
    "For every new point we calculate the distance from the new point to every other point in the training data, then \"sort\" the distances in a ascending order and consider the k-nearest points to do a majority-vote. It is not necessary to sort the distances array, there are also less computationally expensive algorithms that determine the indexes of the k smallest elements of the array without sorting. \n",
    "\n",
    "This model has no parameters, only hyperparameters such as k and perhaps the distance function used, thus this training needs no fitting.\n",
    "\n",
    "The complexity of the fitting is a constant or O(1) as we just have to save the data.\n",
    "\n",
    "**The most optimal algorithm can make a prediction for one new point in O(nd) operations.** That all depends on the sorting algorithm used in the last step.\n",
    "- Each distance computation requires a runtime of O(d). \n",
    "- We have to compute the distance from the new point n times, which results into a runtime of O(nd). \n",
    "- For the last step we can find the k-th smallest element of the array in O(n) computations using the algorithm from this source:\n",
    "https://www.geeksforgeeks.org/kth-smallestlargest-element-unsorted-array-set-3-worst-case-linear-time/\n",
    "Once we have the k-th smallest element we can select the remaining k-1 elements in O(n) computations. Therefore selecting the k smallest indexes of the array takes O(n) operations. \n",
    "\n",
    "Overall we get a cost of predicting a new point of O(nd + n) = O(nd) if we use the most efficient algorithms for the last step."
   ]
  },
  {
   "cell_type": "markdown",
   "id": "1e41229d",
   "metadata": {},
   "source": [
    " ## Q14"
   ]
  },
  {
   "cell_type": "markdown",
   "id": "8d48c137",
   "metadata": {},
   "source": [
    "Implement a KNearestNeighbor class with __init__, fit and predict. scipy.stats.mode may\n",
    "be useful for prediction.\n"
   ]
  },
  {
   "cell_type": "code",
   "execution_count": 28,
   "id": "9ed97853",
   "metadata": {},
   "outputs": [],
   "source": [
    "class KNearestNeighbours(BaseEstimator):#, ClassifierMixin):\n",
    "    \"\"\"KNearestNeighbor classifier.\"\"\"\n",
    "    \n",
    "    def __init__(self, k):\n",
    "        \"\"\"Initialize class.\"\"\"\n",
    "        self.k = k\n",
    "        \n",
    "    def fit(self, X, y):\n",
    "        \"\"\"Fit the KNearestNeighbor classifier from the training dataset.\n",
    "\n",
    "        Args:\n",
    "            X (np array of shape (n_samples, n_features)): Training data.\n",
    "            y (np array of shape (n_samples, 1)): Target values.\n",
    "        Returns:\n",
    "            self : KNearestNeighbour\n",
    "                The fitted KNearestNeighbour classifier.\n",
    "        Errors:\n",
    "            ValueError : if sizes of X and y don't match.\n",
    "        \"\"\"\n",
    "        X, y = check_X_y(X, y)\n",
    "        check_classification_targets(y)\n",
    "        self.classes_ = np.unique(y)\n",
    "        self.X_train_ = X\n",
    "        self.y_train_ = y\n",
    "        self.n_features_in_ = X.shape[1]\n",
    "        self.n_train_ = X.shape[0]\n",
    "        \n",
    "        return self\n",
    "    \n",
    "    def predict(self, X):\n",
    "        \"\"\"Predict the class labels for the provided data.\n",
    "\n",
    "        Args:\n",
    "            X (np array of shape (n_samples, n_features)): Test samples.\n",
    "        Returns:\n",
    "            index_closest (ndarray of shape (n_samples,)): Class labels for\n",
    "                each sample.\n",
    "        \"\"\"\n",
    "        check_is_fitted(self)\n",
    "        X = check_array(X)\n",
    "        distances = np.zeros((X.shape[0], self.n_train_))\n",
    "        k_nearest_indexes = np.zeros((X.shape[0], self.k))\n",
    "        k_nearest_labels = np.zeros((X.shape[0], self.k))\n",
    "        y_pred = np.zeros(X.shape[0])\n",
    "        \n",
    "        for i in range(X.shape[0]):\n",
    "            for j in range(self.n_train_):\n",
    "                distance = np.linalg.norm(X[i,:] - self.X_train_[j,:])\n",
    "                distances[i, j] = distance\n",
    "            k_nearest_indexes[i,:] = np.argsort(distances[i,:])[:self.k]\n",
    "            k_nearest_labels[i,:] = self.y_train_[k_nearest_indexes[i,:].astype(int)]\n",
    "            \n",
    "        y_pred = stats.mode(k_nearest_labels, axis=1, keepdims=False)\n",
    "        return y_pred[0]\n",
    "    \n",
    "    def score(self, X, y):\n",
    "        \"\"\"Return the average number of samples corectly classified.\n",
    "\n",
    "        Args:\n",
    "            X (np array of shape (n_samples, n_features)): Test or train samples.\n",
    "            y (np array of shape (n_samples,)): Class for each sample.\n",
    "        Returns:\n",
    "            score (_type_): average number of samples corectly classified\n",
    "        Errors:\n",
    "            ValueError : if sizes of X and y don't match.\n",
    "        \"\"\"\n",
    "        X, y = check_X_y(X, y)\n",
    "        accuracy_score = np.mean(y == self.predict(X))\n",
    "        return accuracy_score"
   ]
  },
  {
   "cell_type": "markdown",
   "id": "96b35120",
   "metadata": {},
   "source": [
    "## Q15"
   ]
  },
  {
   "cell_type": "markdown",
   "id": "3d1a20c1",
   "metadata": {},
   "source": [
    "Generate data with the function rand_checkers on Moodle. Describe the data"
   ]
  },
  {
   "cell_type": "code",
   "execution_count": 29,
   "id": "292086da",
   "metadata": {},
   "outputs": [
    {
     "data": {
      "image/png": "[encoded data removed]",
      "text/plain": [
       "<Figure size 640x480 with 1 Axes>"
      ]
     },
     "metadata": {},
     "output_type": "display_data"
    }
   ],
   "source": [
    "def rand_checkers(n_samples=200, sigma=0.1, random_state=0):\n",
    "    rng = check_random_state(random_state)\n",
    "    nbp = n_samples // 16\n",
    "    nbn = n_samples // 16\n",
    "    xapp = rng.rand((nbp + nbn) * 16).reshape((nbp + nbn) * 8, 2)\n",
    "    yapp = np.ones((nbp + nbn) * 8)\n",
    "    idx = 0\n",
    "    for i in range(-2, 2):\n",
    "        for j in range(-2, 2):\n",
    "            if ((i + j) % 2) == 0:\n",
    "                nb = nbp\n",
    "            else:\n",
    "                nb = nbn\n",
    "                yapp[idx:(idx + nb)] = [(i + j) % 3 + 1] * nb\n",
    "\n",
    "            xapp[idx:(idx + nb), 0] = rng.rand(nb)\n",
    "            xapp[idx:(idx + nb), 0] += i + sigma * rng.randn(nb)\n",
    "            xapp[idx:(idx + nb), 1] = rng.rand(nb)\n",
    "            xapp[idx:(idx + nb), 1] += j + sigma * rng.randn(nb)\n",
    "            idx += nb\n",
    "\n",
    "    ind = np.arange(xapp.shape[0])\n",
    "    rng.shuffle(ind)\n",
    "    res = np.hstack([xapp, yapp[:, np.newaxis]])\n",
    "    return np.array(res[ind, :2]), np.array(res[ind, 2])\n",
    "\n",
    "\n",
    "if __name__ == \"__main__\":\n",
    "    X, y = rand_checkers(201)\n",
    "    plt.scatter(*X.T, c=y)\n",
    "    plt.show(block=False)"
   ]
  },
  {
   "cell_type": "markdown",
   "id": "104734f9",
   "metadata": {},
   "source": [
    "## Q16"
   ]
  },
  {
   "cell_type": "markdown",
   "id": "f04969fb",
   "metadata": {},
   "source": [
    "Use 10 fold cross validation to tune the parameter K of your estimator on this dataset (it may\n",
    "help to have your having your class inherit from BaseEstimator and ClassifierMixin, that can\n",
    "be imported from sklearn.base). Plot the average loss on the train and test sets as a function of\n",
    "K. Comment."
   ]
  },
  {
   "cell_type": "markdown",
   "id": "2b142cef",
   "metadata": {},
   "source": [
    "**For the loss function we will go with the misclassification rate**, so the percentage of classifications that we got wrong. We will therefore compute the accuracies and then in the final step compute the misclassifications."
   ]
  },
  {
   "cell_type": "code",
   "execution_count": 30,
   "id": "4ef87eb2",
   "metadata": {},
   "outputs": [],
   "source": [
    "plt.style.use('bmh')"
   ]
  },
  {
   "cell_type": "code",
   "execution_count": 31,
   "id": "4e3a02a0",
   "metadata": {},
   "outputs": [],
   "source": [
    "def tune_knn(X, y, max_k):\n",
    "    \"\"\"Compute and plot the average train and test errors \n",
    "    for 10-fold cross validation.\n",
    "    Args:\n",
    "        X (np array of shape (n_samples, n_features)): All the data (train and test)\n",
    "        y (np array of shape (n_samples, 1)): Target values.\n",
    "    Returns:\n",
    "        Average accuracies on training\n",
    "        Average accuracies on test\n",
    "        Plot of avarage misclassification\n",
    "    \"\"\"\n",
    "    # This array will hold all the avarages\n",
    "    accu_train_avg = []\n",
    "    accu_test_avg = []\n",
    "    for k in range(1, max_k, 1):\n",
    "        \n",
    "        strtfdKFold = StratifiedKFold(n_splits=10)\n",
    "        kfold = strtfdKFold.split(X, y)\n",
    "        knn = KNearestNeighbours(k=k)\n",
    "        \n",
    "        #This array will hold the results for each fold of k-fold CV\n",
    "        Accuracies_kfold_train = []\n",
    "        Accuracies_kfold_test = []\n",
    "        \n",
    "        for i, (train, test) in enumerate(kfold):\n",
    "            \n",
    "            knn.fit(X[train, :], y[train])      \n",
    "            Accuracies_kfold_train.append(knn.score(X[train, :], y[train]))              \n",
    "            Accuracies_kfold_test.append(knn.score(X[test, :], y[test]))\n",
    "                                             \n",
    "        single_train_avg = round(np.mean(Accuracies_kfold_train), 2)\n",
    "        single_test_avg  = round(np.mean(Accuracies_kfold_test), 2)\n",
    "        \n",
    "        accu_train_avg.append(single_train_avg)\n",
    "        accu_test_avg.append(single_test_avg)\n",
    "        \n",
    "    #print(accu_train_avg)\n",
    "    #print(accu_train_avg)\n",
    "        \n",
    "    x = np.arange(1, max_k, 1)\n",
    "    fig, ax = plt.subplots(1, 1, figsize=(5, 8))\n",
    "    plt.style.use('bmh')\n",
    "    ax.set_title(\"Misclassification of KNN algo for different params of k\", fontsize = 14)\n",
    "    ax.set_xlabel(\"k\")\n",
    "    ax.set_ylabel(\"Misclassification\")\n",
    "    ax.plot(x, 1 - np.array(accu_train_avg), marker='o', label = 'Avg train loss')\n",
    "    ax.plot(x, 1 - np.array(accu_test_avg), marker='o', label = 'Avg test loss')\n",
    "    ax.xaxis.set_major_locator(plt.MultipleLocator(2))\n",
    "    plt.legend()"
   ]
  },
  {
   "cell_type": "code",
   "execution_count": 32,
   "id": "5a557c7b",
   "metadata": {},
   "outputs": [
    {
     "data": {
      "image/png": "[encoded data removed]",
      "text/plain": [
       "<Figure size 500x800 with 1 Axes>"
      ]
     },
     "metadata": {},
     "output_type": "display_data"
    }
   ],
   "source": [
    "tune_knn(X, y, 20)"
   ]
  },
  {
   "cell_type": "markdown",
   "id": "c757e3e4",
   "metadata": {},
   "source": [
    "## Comment Q16:\n",
    "The training loss starts at 0, because for 1NN the algo picks the prediction of the train input itself. \n",
    "Values of K larger than 10 seem very inefficient and we see that both the train and test loss goes up.  \n",
    "\n",
    "For values 1 to 10 there is a general upwards trend in the loss function for the train set, but there is no clear pattern for the test set. This may be due to the size of our dataset, that only contains 192 values.\n",
    "\n",
    "Optimal values for k seem to be 1, 5 or 7. "
   ]
  }
 ],
 "metadata": {
  "kernelspec": {
   "display_name": "Python 3 (ipykernel)",
   "language": "python",
   "name": "python3"
  },
  "language_info": {
   "codemirror_mode": {
    "name": "ipython",
    "version": 3
   },
   "file_extension": ".py",
   "mimetype": "text/x-python",
   "name": "python",
   "nbconvert_exporter": "python",
   "pygments_lexer": "ipython3",
   "version": "3.9.13"
  },
  "vscode": {
   "interpreter": {
    "hash": "ad2bdc8ecc057115af97d19610ffacc2b4e99fae6737bb82f5d7fb13d2f2c186"
   }
  }
 },
 "nbformat": 4,
 "nbformat_minor": 5
}
