{
 "cells": [
  {
   "cell_type": "markdown",
   "id": "e2d85610",
   "metadata": {},
   "source": [
    "# Lab no 3 : Pandas, sklearn and hyperparameter tuning"
   ]
  },
  {
   "cell_type": "markdown",
   "id": "0b6cb5dc",
   "metadata": {},
   "source": [
    "Christophe Thomassin and Cedomir Ljubic"
   ]
  },
  {
   "cell_type": "code",
   "execution_count": 97,
   "id": "5f2202ba",
   "metadata": {},
   "outputs": [],
   "source": [
    "import pandas as pd\n",
    "from pandas.tseries.holiday import USFederalHolidayCalendar\n",
    "import numpy as np\n",
    "import matplotlib.pyplot as plt\n",
    "from sklearn.linear_model import LinearRegression, Ridge\n",
    "from sklearn.preprocessing import StandardScaler, PolynomialFeatures, OneHotEncoder\n",
    "from sklearn.model_selection import train_test_split\n",
    "from sklearn.metrics import mean_squared_error\n",
    "from sklearn.metrics import r2_score\n",
    "from sklearn.tree import DecisionTreeRegressor\n",
    "from sklearn.pipeline import Pipeline\n",
    "from sklearn.pipeline import make_pipeline\n",
    "from sklearn.compose import ColumnTransformer\n",
    "from sklearn.ensemble import RandomForestRegressor\n",
    "from sklearn.preprocessing import OrdinalEncoder"
   ]
  },
  {
   "cell_type": "markdown",
   "id": "1c6ef8fd",
   "metadata": {},
   "source": [
    "##### Q1\n",
    "In the first part, we consider a dataset where the goal is to predict the number of passengers on a\n",
    "given flight\n",
    "What kind of problem is it ? Regression of classification ? Supervised or unsupervised ?\n",
    "\n",
    "> **Answer** : Our model will learn a mapping between the features of a flight (X) and a label (Y) which is the number of passengers on the flight, therefore it is **supervised**. Our model makes a numerical prediction and not a class prediction, therefore it is **regression**."
   ]
  },
  {
   "cell_type": "markdown",
   "id": "f4c94ebf",
   "metadata": {},
   "source": [
    "##### Q2\n",
    "Load the training data from Moodle (train.csv.bz2 ; bz2 is a compression format, pandas can\n",
    "decompress it itself). The target variable is called log_PAX. Do a quick inspection of the dataset.\n",
    "What are the types of the columns ?"
   ]
  },
  {
   "cell_type": "code",
   "execution_count": 8,
   "id": "f4af6c6e",
   "metadata": {},
   "outputs": [
    {
     "data": {
      "text/html": [
       "<div>\n",
       "<style scoped>\n",
       "    .dataframe tbody tr th:only-of-type {\n",
       "        vertical-align: middle;\n",
       "    }\n",
       "\n",
       "    .dataframe tbody tr th {\n",
       "        vertical-align: top;\n",
       "    }\n",
       "\n",
       "    .dataframe thead th {\n",
       "        text-align: right;\n",
       "    }\n",
       "</style>\n",
       "<table border=\"1\" class=\"dataframe\">\n",
       "  <thead>\n",
       "    <tr style=\"text-align: right;\">\n",
       "      <th></th>\n",
       "      <th>DateOfDeparture</th>\n",
       "      <th>Departure</th>\n",
       "      <th>Arrival</th>\n",
       "      <th>WeeksToDeparture</th>\n",
       "      <th>log_PAX</th>\n",
       "      <th>std_wtd</th>\n",
       "    </tr>\n",
       "  </thead>\n",
       "  <tbody>\n",
       "    <tr>\n",
       "      <th>0</th>\n",
       "      <td>2012-06-19</td>\n",
       "      <td>ORD</td>\n",
       "      <td>DFW</td>\n",
       "      <td>12.875000</td>\n",
       "      <td>12.331296</td>\n",
       "      <td>9.812647</td>\n",
       "    </tr>\n",
       "    <tr>\n",
       "      <th>1</th>\n",
       "      <td>2012-09-10</td>\n",
       "      <td>LAS</td>\n",
       "      <td>DEN</td>\n",
       "      <td>14.285714</td>\n",
       "      <td>10.775182</td>\n",
       "      <td>9.466734</td>\n",
       "    </tr>\n",
       "    <tr>\n",
       "      <th>2</th>\n",
       "      <td>2012-10-05</td>\n",
       "      <td>DEN</td>\n",
       "      <td>LAX</td>\n",
       "      <td>10.863636</td>\n",
       "      <td>11.083177</td>\n",
       "      <td>9.035883</td>\n",
       "    </tr>\n",
       "    <tr>\n",
       "      <th>3</th>\n",
       "      <td>2011-10-09</td>\n",
       "      <td>ATL</td>\n",
       "      <td>ORD</td>\n",
       "      <td>11.480000</td>\n",
       "      <td>11.169268</td>\n",
       "      <td>7.990202</td>\n",
       "    </tr>\n",
       "    <tr>\n",
       "      <th>4</th>\n",
       "      <td>2012-02-21</td>\n",
       "      <td>DEN</td>\n",
       "      <td>SFO</td>\n",
       "      <td>11.450000</td>\n",
       "      <td>11.269364</td>\n",
       "      <td>9.517159</td>\n",
       "    </tr>\n",
       "    <tr>\n",
       "      <th>...</th>\n",
       "      <td>...</td>\n",
       "      <td>...</td>\n",
       "      <td>...</td>\n",
       "      <td>...</td>\n",
       "      <td>...</td>\n",
       "      <td>...</td>\n",
       "    </tr>\n",
       "    <tr>\n",
       "      <th>8897</th>\n",
       "      <td>2011-10-02</td>\n",
       "      <td>DTW</td>\n",
       "      <td>ATL</td>\n",
       "      <td>9.263158</td>\n",
       "      <td>10.427055</td>\n",
       "      <td>7.316967</td>\n",
       "    </tr>\n",
       "    <tr>\n",
       "      <th>8898</th>\n",
       "      <td>2012-09-25</td>\n",
       "      <td>DFW</td>\n",
       "      <td>ORD</td>\n",
       "      <td>12.772727</td>\n",
       "      <td>12.201552</td>\n",
       "      <td>10.641034</td>\n",
       "    </tr>\n",
       "    <tr>\n",
       "      <th>8899</th>\n",
       "      <td>2012-01-19</td>\n",
       "      <td>SFO</td>\n",
       "      <td>LAS</td>\n",
       "      <td>11.047619</td>\n",
       "      <td>10.508746</td>\n",
       "      <td>7.908705</td>\n",
       "    </tr>\n",
       "    <tr>\n",
       "      <th>8900</th>\n",
       "      <td>2013-02-03</td>\n",
       "      <td>ORD</td>\n",
       "      <td>PHL</td>\n",
       "      <td>6.076923</td>\n",
       "      <td>10.174042</td>\n",
       "      <td>4.030334</td>\n",
       "    </tr>\n",
       "    <tr>\n",
       "      <th>8901</th>\n",
       "      <td>2011-11-26</td>\n",
       "      <td>DTW</td>\n",
       "      <td>ATL</td>\n",
       "      <td>9.526316</td>\n",
       "      <td>9.202674</td>\n",
       "      <td>6.167733</td>\n",
       "    </tr>\n",
       "  </tbody>\n",
       "</table>\n",
       "<p>8902 rows × 6 columns</p>\n",
       "</div>"
      ],
      "text/plain": [
       "     DateOfDeparture Departure Arrival  WeeksToDeparture    log_PAX    std_wtd\n",
       "0         2012-06-19       ORD     DFW         12.875000  12.331296   9.812647\n",
       "1         2012-09-10       LAS     DEN         14.285714  10.775182   9.466734\n",
       "2         2012-10-05       DEN     LAX         10.863636  11.083177   9.035883\n",
       "3         2011-10-09       ATL     ORD         11.480000  11.169268   7.990202\n",
       "4         2012-02-21       DEN     SFO         11.450000  11.269364   9.517159\n",
       "...              ...       ...     ...               ...        ...        ...\n",
       "8897      2011-10-02       DTW     ATL          9.263158  10.427055   7.316967\n",
       "8898      2012-09-25       DFW     ORD         12.772727  12.201552  10.641034\n",
       "8899      2012-01-19       SFO     LAS         11.047619  10.508746   7.908705\n",
       "8900      2013-02-03       ORD     PHL          6.076923  10.174042   4.030334\n",
       "8901      2011-11-26       DTW     ATL          9.526316   9.202674   6.167733\n",
       "\n",
       "[8902 rows x 6 columns]"
      ]
     },
     "execution_count": 8,
     "metadata": {},
     "output_type": "execute_result"
    }
   ],
   "source": [
    "flights = pd.read_csv(\"train.csv.bz2\")\n",
    "flights"
   ]
  },
  {
   "cell_type": "code",
   "execution_count": 9,
   "id": "9d9f2864",
   "metadata": {
    "scrolled": true
   },
   "outputs": [
    {
     "name": "stdout",
     "output_type": "stream",
     "text": [
      "<class 'pandas.core.frame.DataFrame'>\n",
      "RangeIndex: 8902 entries, 0 to 8901\n",
      "Data columns (total 6 columns):\n",
      " #   Column            Non-Null Count  Dtype  \n",
      "---  ------            --------------  -----  \n",
      " 0   DateOfDeparture   8902 non-null   object \n",
      " 1   Departure         8902 non-null   object \n",
      " 2   Arrival           8902 non-null   object \n",
      " 3   WeeksToDeparture  8902 non-null   float64\n",
      " 4   log_PAX           8902 non-null   float64\n",
      " 5   std_wtd           8902 non-null   float64\n",
      "dtypes: float64(3), object(3)\n",
      "memory usage: 417.4+ KB\n"
     ]
    }
   ],
   "source": [
    "flights.info()"
   ]
  },
  {
   "cell_type": "markdown",
   "id": "b4a130ac",
   "metadata": {},
   "source": [
    "**Q2 Answer**: We have  \n",
    "- Three **numerical** feature columns that are saved as float64 data types.\n",
    "- Two **categorical** feautre columns (deparature, arrival) and because they have no ordering we can even say they are **nominal** feature columns. They are saved as object dtypes.\n",
    "- One **datatime** feature, that is saved as an object dtype, so we still need to transform it into a datetime64 dype."
   ]
  },
  {
   "cell_type": "markdown",
   "id": "86384c31",
   "metadata": {},
   "source": [
    "##### Q3\n",
    "Convert dates to proper dates. Create new integers columns containing respectively the day, the\n",
    "week, the month, the year, a binary variable indicating if this is a work day or holiday (in the US\n",
    "calendar)."
   ]
  },
  {
   "cell_type": "code",
   "execution_count": 10,
   "id": "4bec452e",
   "metadata": {},
   "outputs": [],
   "source": [
    "flights[\"DateOfDeparture\"] = pd.to_datetime(flights[\"DateOfDeparture\"], format = \"%Y/%m/%d\")"
   ]
  },
  {
   "cell_type": "code",
   "execution_count": 11,
   "id": "b34c41f6",
   "metadata": {},
   "outputs": [],
   "source": [
    "flights['DayOfDeparture'] = flights[\"DateOfDeparture\"].dt.day\n",
    "flights['WeekOfDeparture'] = flights[\"DateOfDeparture\"].dt.isocalendar().week\n",
    "flights['MonthOfDeparture'] = flights[\"DateOfDeparture\"].dt.month\n",
    "flights['YearOfDeparture'] = flights[\"DateOfDeparture\"].dt.year"
   ]
  },
  {
   "cell_type": "code",
   "execution_count": 12,
   "id": "cfa56a90",
   "metadata": {},
   "outputs": [
    {
     "name": "stdout",
     "output_type": "stream",
     "text": [
      "<class 'pandas.core.frame.DataFrame'>\n",
      "RangeIndex: 8902 entries, 0 to 8901\n",
      "Data columns (total 10 columns):\n",
      " #   Column            Non-Null Count  Dtype         \n",
      "---  ------            --------------  -----         \n",
      " 0   DateOfDeparture   8902 non-null   datetime64[ns]\n",
      " 1   Departure         8902 non-null   object        \n",
      " 2   Arrival           8902 non-null   object        \n",
      " 3   WeeksToDeparture  8902 non-null   float64       \n",
      " 4   log_PAX           8902 non-null   float64       \n",
      " 5   std_wtd           8902 non-null   float64       \n",
      " 6   DayOfDeparture    8902 non-null   int64         \n",
      " 7   WeekOfDeparture   8902 non-null   UInt32        \n",
      " 8   MonthOfDeparture  8902 non-null   int64         \n",
      " 9   YearOfDeparture   8902 non-null   int64         \n",
      "dtypes: UInt32(1), datetime64[ns](1), float64(3), int64(3), object(2)\n",
      "memory usage: 669.5+ KB\n"
     ]
    }
   ],
   "source": [
    "flights.info()"
   ]
  },
  {
   "cell_type": "markdown",
   "id": "e9d96bfb",
   "metadata": {},
   "source": [
    "The first four new interger columns have been correctly added. Now the holiday column:"
   ]
  },
  {
   "cell_type": "code",
   "execution_count": 20,
   "id": "a282ca9c",
   "metadata": {},
   "outputs": [
    {
     "data": {
      "text/html": [
       "<div>\n",
       "<style scoped>\n",
       "    .dataframe tbody tr th:only-of-type {\n",
       "        vertical-align: middle;\n",
       "    }\n",
       "\n",
       "    .dataframe tbody tr th {\n",
       "        vertical-align: top;\n",
       "    }\n",
       "\n",
       "    .dataframe thead th {\n",
       "        text-align: right;\n",
       "    }\n",
       "</style>\n",
       "<table border=\"1\" class=\"dataframe\">\n",
       "  <thead>\n",
       "    <tr style=\"text-align: right;\">\n",
       "      <th></th>\n",
       "      <th>DateOfDeparture</th>\n",
       "      <th>Departure</th>\n",
       "      <th>Arrival</th>\n",
       "      <th>WeeksToDeparture</th>\n",
       "      <th>log_PAX</th>\n",
       "      <th>std_wtd</th>\n",
       "      <th>DayOfDeparture</th>\n",
       "      <th>WeekOfDeparture</th>\n",
       "      <th>MonthOfDeparture</th>\n",
       "      <th>YearOfDeparture</th>\n",
       "      <th>Holiday</th>\n",
       "    </tr>\n",
       "  </thead>\n",
       "  <tbody>\n",
       "    <tr>\n",
       "      <th>0</th>\n",
       "      <td>2012-06-19</td>\n",
       "      <td>ORD</td>\n",
       "      <td>DFW</td>\n",
       "      <td>12.875000</td>\n",
       "      <td>12.331296</td>\n",
       "      <td>9.812647</td>\n",
       "      <td>19</td>\n",
       "      <td>25</td>\n",
       "      <td>6</td>\n",
       "      <td>2012</td>\n",
       "      <td>0</td>\n",
       "    </tr>\n",
       "    <tr>\n",
       "      <th>1</th>\n",
       "      <td>2012-09-10</td>\n",
       "      <td>LAS</td>\n",
       "      <td>DEN</td>\n",
       "      <td>14.285714</td>\n",
       "      <td>10.775182</td>\n",
       "      <td>9.466734</td>\n",
       "      <td>10</td>\n",
       "      <td>37</td>\n",
       "      <td>9</td>\n",
       "      <td>2012</td>\n",
       "      <td>0</td>\n",
       "    </tr>\n",
       "    <tr>\n",
       "      <th>2</th>\n",
       "      <td>2012-10-05</td>\n",
       "      <td>DEN</td>\n",
       "      <td>LAX</td>\n",
       "      <td>10.863636</td>\n",
       "      <td>11.083177</td>\n",
       "      <td>9.035883</td>\n",
       "      <td>5</td>\n",
       "      <td>40</td>\n",
       "      <td>10</td>\n",
       "      <td>2012</td>\n",
       "      <td>0</td>\n",
       "    </tr>\n",
       "    <tr>\n",
       "      <th>3</th>\n",
       "      <td>2011-10-09</td>\n",
       "      <td>ATL</td>\n",
       "      <td>ORD</td>\n",
       "      <td>11.480000</td>\n",
       "      <td>11.169268</td>\n",
       "      <td>7.990202</td>\n",
       "      <td>9</td>\n",
       "      <td>40</td>\n",
       "      <td>10</td>\n",
       "      <td>2011</td>\n",
       "      <td>0</td>\n",
       "    </tr>\n",
       "    <tr>\n",
       "      <th>4</th>\n",
       "      <td>2012-02-21</td>\n",
       "      <td>DEN</td>\n",
       "      <td>SFO</td>\n",
       "      <td>11.450000</td>\n",
       "      <td>11.269364</td>\n",
       "      <td>9.517159</td>\n",
       "      <td>21</td>\n",
       "      <td>8</td>\n",
       "      <td>2</td>\n",
       "      <td>2012</td>\n",
       "      <td>0</td>\n",
       "    </tr>\n",
       "    <tr>\n",
       "      <th>...</th>\n",
       "      <td>...</td>\n",
       "      <td>...</td>\n",
       "      <td>...</td>\n",
       "      <td>...</td>\n",
       "      <td>...</td>\n",
       "      <td>...</td>\n",
       "      <td>...</td>\n",
       "      <td>...</td>\n",
       "      <td>...</td>\n",
       "      <td>...</td>\n",
       "      <td>...</td>\n",
       "    </tr>\n",
       "    <tr>\n",
       "      <th>8897</th>\n",
       "      <td>2011-10-02</td>\n",
       "      <td>DTW</td>\n",
       "      <td>ATL</td>\n",
       "      <td>9.263158</td>\n",
       "      <td>10.427055</td>\n",
       "      <td>7.316967</td>\n",
       "      <td>2</td>\n",
       "      <td>39</td>\n",
       "      <td>10</td>\n",
       "      <td>2011</td>\n",
       "      <td>0</td>\n",
       "    </tr>\n",
       "    <tr>\n",
       "      <th>8898</th>\n",
       "      <td>2012-09-25</td>\n",
       "      <td>DFW</td>\n",
       "      <td>ORD</td>\n",
       "      <td>12.772727</td>\n",
       "      <td>12.201552</td>\n",
       "      <td>10.641034</td>\n",
       "      <td>25</td>\n",
       "      <td>39</td>\n",
       "      <td>9</td>\n",
       "      <td>2012</td>\n",
       "      <td>0</td>\n",
       "    </tr>\n",
       "    <tr>\n",
       "      <th>8899</th>\n",
       "      <td>2012-01-19</td>\n",
       "      <td>SFO</td>\n",
       "      <td>LAS</td>\n",
       "      <td>11.047619</td>\n",
       "      <td>10.508746</td>\n",
       "      <td>7.908705</td>\n",
       "      <td>19</td>\n",
       "      <td>3</td>\n",
       "      <td>1</td>\n",
       "      <td>2012</td>\n",
       "      <td>0</td>\n",
       "    </tr>\n",
       "    <tr>\n",
       "      <th>8900</th>\n",
       "      <td>2013-02-03</td>\n",
       "      <td>ORD</td>\n",
       "      <td>PHL</td>\n",
       "      <td>6.076923</td>\n",
       "      <td>10.174042</td>\n",
       "      <td>4.030334</td>\n",
       "      <td>3</td>\n",
       "      <td>5</td>\n",
       "      <td>2</td>\n",
       "      <td>2013</td>\n",
       "      <td>0</td>\n",
       "    </tr>\n",
       "    <tr>\n",
       "      <th>8901</th>\n",
       "      <td>2011-11-26</td>\n",
       "      <td>DTW</td>\n",
       "      <td>ATL</td>\n",
       "      <td>9.526316</td>\n",
       "      <td>9.202674</td>\n",
       "      <td>6.167733</td>\n",
       "      <td>26</td>\n",
       "      <td>47</td>\n",
       "      <td>11</td>\n",
       "      <td>2011</td>\n",
       "      <td>0</td>\n",
       "    </tr>\n",
       "  </tbody>\n",
       "</table>\n",
       "<p>8902 rows × 11 columns</p>\n",
       "</div>"
      ],
      "text/plain": [
       "     DateOfDeparture Departure Arrival  WeeksToDeparture    log_PAX  \\\n",
       "0         2012-06-19       ORD     DFW         12.875000  12.331296   \n",
       "1         2012-09-10       LAS     DEN         14.285714  10.775182   \n",
       "2         2012-10-05       DEN     LAX         10.863636  11.083177   \n",
       "3         2011-10-09       ATL     ORD         11.480000  11.169268   \n",
       "4         2012-02-21       DEN     SFO         11.450000  11.269364   \n",
       "...              ...       ...     ...               ...        ...   \n",
       "8897      2011-10-02       DTW     ATL          9.263158  10.427055   \n",
       "8898      2012-09-25       DFW     ORD         12.772727  12.201552   \n",
       "8899      2012-01-19       SFO     LAS         11.047619  10.508746   \n",
       "8900      2013-02-03       ORD     PHL          6.076923  10.174042   \n",
       "8901      2011-11-26       DTW     ATL          9.526316   9.202674   \n",
       "\n",
       "        std_wtd  DayOfDeparture  WeekOfDeparture  MonthOfDeparture  \\\n",
       "0      9.812647              19               25                 6   \n",
       "1      9.466734              10               37                 9   \n",
       "2      9.035883               5               40                10   \n",
       "3      7.990202               9               40                10   \n",
       "4      9.517159              21                8                 2   \n",
       "...         ...             ...              ...               ...   \n",
       "8897   7.316967               2               39                10   \n",
       "8898  10.641034              25               39                 9   \n",
       "8899   7.908705              19                3                 1   \n",
       "8900   4.030334               3                5                 2   \n",
       "8901   6.167733              26               47                11   \n",
       "\n",
       "      YearOfDeparture  Holiday  \n",
       "0                2012        0  \n",
       "1                2012        0  \n",
       "2                2012        0  \n",
       "3                2011        0  \n",
       "4                2012        0  \n",
       "...               ...      ...  \n",
       "8897             2011        0  \n",
       "8898             2012        0  \n",
       "8899             2012        0  \n",
       "8900             2013        0  \n",
       "8901             2011        0  \n",
       "\n",
       "[8902 rows x 11 columns]"
      ]
     },
     "execution_count": 20,
     "metadata": {},
     "output_type": "execute_result"
    }
   ],
   "source": [
    "cal = USFederalHolidayCalendar()\n",
    "holidays = cal.holidays(start = flights[\"DateOfDeparture\"].min(), end = flights[\"DateOfDeparture\"].max()).to_pydatetime()\n",
    "flights[\"Holiday\"] = flights[\"DateOfDeparture\"].isin(holidays).astype(int)\n",
    "flights"
   ]
  },
  {
   "cell_type": "code",
   "execution_count": 26,
   "id": "15759e17",
   "metadata": {},
   "outputs": [],
   "source": [
    "# Maybe later flights = flights.drop(columns = \"DateOfDeparture\")"
   ]
  },
  {
   "cell_type": "markdown",
   "id": "4f84bb97",
   "metadata": {},
   "source": [
    "##### Q4\n",
    "First, select numerical features in an automated fashion (not by hand). You can for example use a\n",
    "list comprehension, or flights.select_dtypes."
   ]
  },
  {
   "cell_type": "code",
   "execution_count": 21,
   "id": "d4d01b25",
   "metadata": {},
   "outputs": [
    {
     "name": "stdout",
     "output_type": "stream",
     "text": [
      "<class 'pandas.core.frame.DataFrame'>\n",
      "RangeIndex: 8902 entries, 0 to 8901\n",
      "Data columns (total 11 columns):\n",
      " #   Column            Non-Null Count  Dtype         \n",
      "---  ------            --------------  -----         \n",
      " 0   DateOfDeparture   8902 non-null   datetime64[ns]\n",
      " 1   Departure         8902 non-null   object        \n",
      " 2   Arrival           8902 non-null   object        \n",
      " 3   WeeksToDeparture  8902 non-null   float64       \n",
      " 4   log_PAX           8902 non-null   float64       \n",
      " 5   std_wtd           8902 non-null   float64       \n",
      " 6   DayOfDeparture    8902 non-null   int64         \n",
      " 7   WeekOfDeparture   8902 non-null   UInt32        \n",
      " 8   MonthOfDeparture  8902 non-null   int64         \n",
      " 9   YearOfDeparture   8902 non-null   int64         \n",
      " 10  Holiday           8902 non-null   int32         \n",
      "dtypes: UInt32(1), datetime64[ns](1), float64(3), int32(1), int64(3), object(2)\n",
      "memory usage: 704.3+ KB\n"
     ]
    }
   ],
   "source": [
    "flights.info()"
   ]
  },
  {
   "cell_type": "code",
   "execution_count": 27,
   "id": "d227025c",
   "metadata": {},
   "outputs": [
    {
     "data": {
      "text/html": [
       "<div>\n",
       "<style scoped>\n",
       "    .dataframe tbody tr th:only-of-type {\n",
       "        vertical-align: middle;\n",
       "    }\n",
       "\n",
       "    .dataframe tbody tr th {\n",
       "        vertical-align: top;\n",
       "    }\n",
       "\n",
       "    .dataframe thead th {\n",
       "        text-align: right;\n",
       "    }\n",
       "</style>\n",
       "<table border=\"1\" class=\"dataframe\">\n",
       "  <thead>\n",
       "    <tr style=\"text-align: right;\">\n",
       "      <th></th>\n",
       "      <th>WeeksToDeparture</th>\n",
       "      <th>log_PAX</th>\n",
       "      <th>std_wtd</th>\n",
       "      <th>DayOfDeparture</th>\n",
       "      <th>WeekOfDeparture</th>\n",
       "      <th>MonthOfDeparture</th>\n",
       "      <th>YearOfDeparture</th>\n",
       "      <th>Holiday</th>\n",
       "    </tr>\n",
       "  </thead>\n",
       "  <tbody>\n",
       "    <tr>\n",
       "      <th>0</th>\n",
       "      <td>12.875000</td>\n",
       "      <td>12.331296</td>\n",
       "      <td>9.812647</td>\n",
       "      <td>19</td>\n",
       "      <td>25</td>\n",
       "      <td>6</td>\n",
       "      <td>2012</td>\n",
       "      <td>0</td>\n",
       "    </tr>\n",
       "    <tr>\n",
       "      <th>1</th>\n",
       "      <td>14.285714</td>\n",
       "      <td>10.775182</td>\n",
       "      <td>9.466734</td>\n",
       "      <td>10</td>\n",
       "      <td>37</td>\n",
       "      <td>9</td>\n",
       "      <td>2012</td>\n",
       "      <td>0</td>\n",
       "    </tr>\n",
       "    <tr>\n",
       "      <th>2</th>\n",
       "      <td>10.863636</td>\n",
       "      <td>11.083177</td>\n",
       "      <td>9.035883</td>\n",
       "      <td>5</td>\n",
       "      <td>40</td>\n",
       "      <td>10</td>\n",
       "      <td>2012</td>\n",
       "      <td>0</td>\n",
       "    </tr>\n",
       "    <tr>\n",
       "      <th>3</th>\n",
       "      <td>11.480000</td>\n",
       "      <td>11.169268</td>\n",
       "      <td>7.990202</td>\n",
       "      <td>9</td>\n",
       "      <td>40</td>\n",
       "      <td>10</td>\n",
       "      <td>2011</td>\n",
       "      <td>0</td>\n",
       "    </tr>\n",
       "    <tr>\n",
       "      <th>4</th>\n",
       "      <td>11.450000</td>\n",
       "      <td>11.269364</td>\n",
       "      <td>9.517159</td>\n",
       "      <td>21</td>\n",
       "      <td>8</td>\n",
       "      <td>2</td>\n",
       "      <td>2012</td>\n",
       "      <td>0</td>\n",
       "    </tr>\n",
       "    <tr>\n",
       "      <th>...</th>\n",
       "      <td>...</td>\n",
       "      <td>...</td>\n",
       "      <td>...</td>\n",
       "      <td>...</td>\n",
       "      <td>...</td>\n",
       "      <td>...</td>\n",
       "      <td>...</td>\n",
       "      <td>...</td>\n",
       "    </tr>\n",
       "    <tr>\n",
       "      <th>8897</th>\n",
       "      <td>9.263158</td>\n",
       "      <td>10.427055</td>\n",
       "      <td>7.316967</td>\n",
       "      <td>2</td>\n",
       "      <td>39</td>\n",
       "      <td>10</td>\n",
       "      <td>2011</td>\n",
       "      <td>0</td>\n",
       "    </tr>\n",
       "    <tr>\n",
       "      <th>8898</th>\n",
       "      <td>12.772727</td>\n",
       "      <td>12.201552</td>\n",
       "      <td>10.641034</td>\n",
       "      <td>25</td>\n",
       "      <td>39</td>\n",
       "      <td>9</td>\n",
       "      <td>2012</td>\n",
       "      <td>0</td>\n",
       "    </tr>\n",
       "    <tr>\n",
       "      <th>8899</th>\n",
       "      <td>11.047619</td>\n",
       "      <td>10.508746</td>\n",
       "      <td>7.908705</td>\n",
       "      <td>19</td>\n",
       "      <td>3</td>\n",
       "      <td>1</td>\n",
       "      <td>2012</td>\n",
       "      <td>0</td>\n",
       "    </tr>\n",
       "    <tr>\n",
       "      <th>8900</th>\n",
       "      <td>6.076923</td>\n",
       "      <td>10.174042</td>\n",
       "      <td>4.030334</td>\n",
       "      <td>3</td>\n",
       "      <td>5</td>\n",
       "      <td>2</td>\n",
       "      <td>2013</td>\n",
       "      <td>0</td>\n",
       "    </tr>\n",
       "    <tr>\n",
       "      <th>8901</th>\n",
       "      <td>9.526316</td>\n",
       "      <td>9.202674</td>\n",
       "      <td>6.167733</td>\n",
       "      <td>26</td>\n",
       "      <td>47</td>\n",
       "      <td>11</td>\n",
       "      <td>2011</td>\n",
       "      <td>0</td>\n",
       "    </tr>\n",
       "  </tbody>\n",
       "</table>\n",
       "<p>8902 rows × 8 columns</p>\n",
       "</div>"
      ],
      "text/plain": [
       "      WeeksToDeparture    log_PAX    std_wtd  DayOfDeparture  WeekOfDeparture  \\\n",
       "0            12.875000  12.331296   9.812647              19               25   \n",
       "1            14.285714  10.775182   9.466734              10               37   \n",
       "2            10.863636  11.083177   9.035883               5               40   \n",
       "3            11.480000  11.169268   7.990202               9               40   \n",
       "4            11.450000  11.269364   9.517159              21                8   \n",
       "...                ...        ...        ...             ...              ...   \n",
       "8897          9.263158  10.427055   7.316967               2               39   \n",
       "8898         12.772727  12.201552  10.641034              25               39   \n",
       "8899         11.047619  10.508746   7.908705              19                3   \n",
       "8900          6.076923  10.174042   4.030334               3                5   \n",
       "8901          9.526316   9.202674   6.167733              26               47   \n",
       "\n",
       "      MonthOfDeparture  YearOfDeparture  Holiday  \n",
       "0                    6             2012        0  \n",
       "1                    9             2012        0  \n",
       "2                   10             2012        0  \n",
       "3                   10             2011        0  \n",
       "4                    2             2012        0  \n",
       "...                ...              ...      ...  \n",
       "8897                10             2011        0  \n",
       "8898                 9             2012        0  \n",
       "8899                 1             2012        0  \n",
       "8900                 2             2013        0  \n",
       "8901                11             2011        0  \n",
       "\n",
       "[8902 rows x 8 columns]"
      ]
     },
     "execution_count": 27,
     "metadata": {},
     "output_type": "execute_result"
    }
   ],
   "source": [
    "flights_numerical = flights.select_dtypes(include=['float64', 'int32', 'int64', 'UInt32'])\n",
    "flights_numerical"
   ]
  },
  {
   "cell_type": "markdown",
   "id": "36116e84",
   "metadata": {},
   "source": [
    "Here are two other options:"
   ]
  },
  {
   "cell_type": "code",
   "execution_count": 23,
   "id": "c84d30a9",
   "metadata": {},
   "outputs": [
    {
     "data": {
      "text/plain": [
       "['WeeksToDeparture',\n",
       " 'log_PAX',\n",
       " 'std_wtd',\n",
       " 'DayOfDeparture',\n",
       " 'WeekOfDeparture',\n",
       " 'MonthOfDeparture',\n",
       " 'YearOfDeparture',\n",
       " 'Holiday']"
      ]
     },
     "execution_count": 23,
     "metadata": {},
     "output_type": "execute_result"
    }
   ],
   "source": [
    "numerical_columns = [c for c in flights.columns\n",
    "                       if (flights[c].dtype.kind in [\"i\", \"f\",\"u\"])]\n",
    "numerical_columns"
   ]
  },
  {
   "cell_type": "code",
   "execution_count": 24,
   "id": "a2c5fe82",
   "metadata": {},
   "outputs": [
    {
     "data": {
      "text/plain": [
       "['DateOfDeparture', 'Departure', 'Arrival']"
      ]
     },
     "execution_count": 24,
     "metadata": {},
     "output_type": "execute_result"
    }
   ],
   "source": [
    "categorical_columns = [c for c in flights.columns\n",
    "                       if flights[c].dtype.kind not in [\"i\", \"f\",\"u\"]]\n",
    "categorical_columns"
   ]
  },
  {
   "cell_type": "markdown",
   "id": "a8a98ac6",
   "metadata": {},
   "source": [
    "#### Q5\n",
    "We will use the Root Mean Squared Error (RMSE) as a figure of merit (performance measure) for\n",
    "this prediction task. Explain how it is defined and why it is relevant here\n"
   ]
  },
  {
   "cell_type": "markdown",
   "id": "81673060",
   "metadata": {},
   "source": [
    "**Answer Q5**: \n",
    "We define the RMSE as: \n",
    "$$ E(w) = \\sqrt{ \\sum\\limits_{i = 1}^{N} \\frac{(f_{w}(x^{(i)}) - y^{(i)})^2}{N} } $$ \n",
    "where:  \n",
    "- $y^{(i)}$ is the true value of the i-th label\n",
    "- $f_{w}(x^{(i)}) = y_{pred}^{(i)}$ is our model's prediction for the i-th input vector $x^{(i)}$\n",
    "- $N$ is the number of input vectors $x$ we consider at a time, doesn't matter if they are training or test examples.\n",
    "- $w$ represents the parameters of the prediction function\n",
    "\n",
    "The RMSE is relevant here, because:\n",
    "- Firstly, before the root is calculated, it first it takes the squared error or L2 loss, which means that the penalty for being far from the target $y^{(i)}$ increases quadratically (before the root is applied) when the difference is greater than 1 and decreases quadratically when the distance is less than 1. For the L1 loss there is only linear increase and decrease of the penalty.\n",
    "- Secondly, it takes the mean of the errors, instead of simply the sum of the squared errors, and therefore serves as a good figure of merit when comparing the performance of the model on data sets of different sizes.\n",
    "- Thirdly, the benefit of using RMSE over the MSE is that the metric it produces is in terms of the unit being predicted. However the RMSE decreases the amount of penalty put on very far off predictions compared to the MSE."
   ]
  },
  {
   "cell_type": "markdown",
   "id": "88270e34",
   "metadata": {},
   "source": [
    "#### Q6\n",
    "Do a train-test split of the data (a single one, so far. You’ll do K-fold cross validaiton later) and\n",
    "tune the max_depth parameter of a DecisionTreeRegressor. **Explain briefly how this estimator\n",
    "does its prediction**. Plot the RMSE on train and test sets as a function of this parameter."
   ]
  },
  {
   "cell_type": "markdown",
   "id": "bef4bdff",
   "metadata": {},
   "source": [
    "**Answer Question 6:**\n",
    "> The Decision Tree Regressor estimator will look at a new input x and \"run it down\" nodes that were created during the training phase. Each node represents a micro-decision and at the end of the last node the new input reaches a leaf with a fixed prediction associated to it. Each node splits the data according to a characteristic of a feature, for example whether it is a holiday or not or whether the month is greater than 7. The max depth represents the maximum number of nodes a new example will go through before it comes to a prediction. The bigger the max depth the model is trained on the bigger the chance of overfitting. "
   ]
  },
  {
   "cell_type": "code",
   "execution_count": 29,
   "id": "97ad87bd",
   "metadata": {},
   "outputs": [],
   "source": [
    "target_name = 'log_PAX'\n",
    "X = flights_numerical.drop(columns = [target_name])\n",
    "y = flights_numerical.loc[:, target_name]\n",
    "X_train, X_test, y_train, y_test = train_test_split(X, y, test_size=0.2, random_state=1)"
   ]
  },
  {
   "cell_type": "code",
   "execution_count": 73,
   "id": "c3351730",
   "metadata": {},
   "outputs": [],
   "source": [
    "def hyperparam_errors_plot(X_train, X_test, y_train, y_test, depth_range = 15):\n",
    "    \"\"\"\n",
    "    Computes and plots the train and test error (RMSE) for range of max depths.\n",
    "    Args:\n",
    "      X_train (ndarray (n, d)): Training data, m examples, d variables \n",
    "      y_train (ndarray (n,)): target values\n",
    "      X_test (ndarray (m, d)): Test data, m examples, d variables \n",
    "      y_test (ndarray (m,)): target values\n",
    "      depth_range (scalar): Number of max depths to test \n",
    "    Returns:\n",
    "      Plot of the train and test errors\n",
    "    \"\"\"\n",
    "    testerror = np.zeros(depth_range)\n",
    "    trainerror = np.zeros(depth_range)\n",
    "    x = np.arange(1, depth_range + 1)\n",
    "\n",
    "    for i in range(depth_range):\n",
    "        regressor = DecisionTreeRegressor(random_state=1, max_depth=i+1)\n",
    "        regressor.fit(X_train, y_train)\n",
    "        \n",
    "        pred_test = regressor.predict(X_test)\n",
    "        pred_train= regressor.predict(X_train)\n",
    "        rmse_test = np.sqrt(mean_squared_error(y_test, pred_test))\n",
    "        rmse_train = np.sqrt(mean_squared_error(y_train, pred_train))\n",
    "        testerror[i] = rmse_test\n",
    "        trainerror[i] = rmse_train\n",
    "    \n",
    "    optimal_maxdepth = np.argmin(testerror) + 1\n",
    "    fig, ax = plt.subplots(figsize=(10, 4))\n",
    "    ax.set_title(\"Find optimal max depth for decision tree regression\", fontsize = 12)\n",
    "    ax.set_xlabel(\"Max depth\")\n",
    "    ax.set_ylabel(\"Error\")\n",
    "    \n",
    "    \n",
    "    ax.plot(x, testerror, marker='o', color = \"orangered\", label=\"test error\", lw=1)\n",
    "    ax.plot(x, trainerror, marker='o', color = \"blue\", label=\"train error\", lw=1)\n",
    "    ax.axvline(optimal_maxdepth, lw=1, color = 'g')\n",
    "    ax.annotate(\"optimal max depth\", xy=(optimal_maxdepth, 0.8), xytext=(0.2, 0.4)\n",
    "                , textcoords='axes fraction', fontsize=10,\n",
    "                   arrowprops=dict(arrowstyle=\"->\", connectionstyle=\"arc3\", \n",
    "                                   color='r', lw=1))\n",
    "    ax.xaxis.set_major_locator(plt.MultipleLocator(1))\n",
    "    ax.legend()"
   ]
  },
  {
   "cell_type": "code",
   "execution_count": 74,
   "id": "cea4a249",
   "metadata": {},
   "outputs": [
    {
     "data": {
      "image/png": "[encoded data removed]",
      "text/plain": [
       "<Figure size 1000x400 with 1 Axes>"
      ]
     },
     "metadata": {},
     "output_type": "display_data"
    }
   ],
   "source": [
    "hyperparam_errors_plot(X_train, X_test, y_train, y_test, depth_range = 15)"
   ]
  },
  {
   "cell_type": "markdown",
   "id": "ee80bd8f",
   "metadata": {},
   "source": [
    "Max depth 7 seems ideal"
   ]
  },
  {
   "cell_type": "markdown",
   "id": "2875c373",
   "metadata": {},
   "source": [
    "### Question 7\n",
    "> Test the impact of using or not a StandardScaler on the features, for this estimator with the found\n",
    "value of max_depth (use a Pipeline). Explain the results"
   ]
  },
  {
   "cell_type": "code",
   "execution_count": 82,
   "id": "1ae0a017",
   "metadata": {},
   "outputs": [
    {
     "name": "stdout",
     "output_type": "stream",
     "text": [
      "0.9464659278196982 0.9464659278196982\n"
     ]
    }
   ],
   "source": [
    "scaled_regressor = make_pipeline(StandardScaler(), DecisionTreeRegressor(random_state=1, max_depth=8))\n",
    "regressor = DecisionTreeRegressor(random_state=1, max_depth=8)\n",
    "\n",
    "regressor.fit(X_train, y_train)\n",
    "scaled_regressor.fit(X_train, y_train)\n",
    "\n",
    "test_pred_scaled = scaled_regressor.predict(X_test)\n",
    "test_pred_normal = regressor.predict(X_test)\n",
    "\n",
    "rmse_test_scaled = np.sqrt(mean_squared_error(y_test, test_pred_scaled))\n",
    "rmse_test_normal = np.sqrt(mean_squared_error(y_test, test_pred_normal))\n",
    "\n",
    "\n",
    "print(rmse_test_scaled, rmse_test_normal)"
   ]
  },
  {
   "cell_type": "markdown",
   "id": "1bc14507",
   "metadata": {},
   "source": [
    "**Answer Question 7** \n",
    "> No feature scaling is required when working with tree based models. These models are actually invariant to all monotonic transformations of features/inputs, such as the log transformation or in our case the standard scaling which is monotonic. Intuitively we can understand this, because decision trees split data into multiple groups and the splits depend only on the relative position of the features. For example without scaling we might split if feature x1 > 100 and with scaling if x1 > 1.\n",
    "\n",
    "> Therefore we get the same result with and without scaled data."
   ]
  },
  {
   "cell_type": "markdown",
   "id": "518062eb",
   "metadata": {},
   "source": [
    "### Question 8\n",
    "> For a LinearRegression model with fit_intercept=True, test the impact of using a\n",
    "StandardScaler. Explain"
   ]
  },
  {
   "cell_type": "code",
   "execution_count": 105,
   "id": "28730089",
   "metadata": {},
   "outputs": [
    {
     "name": "stdout",
     "output_type": "stream",
     "text": [
      "0.9849975292443757 0.9849975292443761\n"
     ]
    }
   ],
   "source": [
    "intercept = LinearRegression(fit_intercept = True)\n",
    "intercept_s = make_pipeline(StandardScaler(), LinearRegression(fit_intercept=True))\n",
    "\n",
    "intercept.fit(X_train, y_train)\n",
    "intercept_s.fit(X_train, y_train)\n",
    "\n",
    "test_pred_intercept = intercept.predict(X_test)\n",
    "test_pred_intercept_s = intercept_s.predict(X_test)\n",
    "\n",
    "rmse_test_intercept = np.sqrt(mean_squared_error(y_test, test_pred_intercept))\n",
    "rmse_test_intercept_s = np.sqrt(mean_squared_error(y_test, test_pred_intercept_s))\n",
    "\n",
    "\n",
    "print(rmse_test_intercept, rmse_test_intercept_s)"
   ]
  },
  {
   "cell_type": "markdown",
   "id": "2519fa6a",
   "metadata": {},
   "source": [
    "**Answer Question 8**\n",
    "> We come across yet another interesting mathematical result, and that is that linear regression (without regularization) is invariant to the standardization of its features. "
   ]
  },
  {
   "cell_type": "markdown",
   "id": "eb22dc4e",
   "metadata": {},
   "source": [
    "https://stats.stackexchange.com/questions/29781/when-conducting-multiple-regression-when-should-you-center-your-predictor-varia"
   ]
  },
  {
   "cell_type": "markdown",
   "id": "4b2d843c",
   "metadata": {},
   "source": [
    "Q9\n",
    "> Now, we use again the full dataset. We will encode the categorical features with a OneHotEncoder\n",
    "</b>  \n",
    ">**Question 9)** Create a one hot encoder instance, fit it on the data, transform the data and display all categories\n",
    "inferred by the transformer. Delete the transformed data."
   ]
  },
  {
   "cell_type": "code",
   "execution_count": 85,
   "id": "f372e940",
   "metadata": {},
   "outputs": [
    {
     "data": {
      "text/html": [
       "<div>\n",
       "<style scoped>\n",
       "    .dataframe tbody tr th:only-of-type {\n",
       "        vertical-align: middle;\n",
       "    }\n",
       "\n",
       "    .dataframe tbody tr th {\n",
       "        vertical-align: top;\n",
       "    }\n",
       "\n",
       "    .dataframe thead th {\n",
       "        text-align: right;\n",
       "    }\n",
       "</style>\n",
       "<table border=\"1\" class=\"dataframe\">\n",
       "  <thead>\n",
       "    <tr style=\"text-align: right;\">\n",
       "      <th></th>\n",
       "      <th>Departure</th>\n",
       "      <th>Arrival</th>\n",
       "    </tr>\n",
       "  </thead>\n",
       "  <tbody>\n",
       "    <tr>\n",
       "      <th>0</th>\n",
       "      <td>ORD</td>\n",
       "      <td>DFW</td>\n",
       "    </tr>\n",
       "    <tr>\n",
       "      <th>1</th>\n",
       "      <td>LAS</td>\n",
       "      <td>DEN</td>\n",
       "    </tr>\n",
       "    <tr>\n",
       "      <th>2</th>\n",
       "      <td>DEN</td>\n",
       "      <td>LAX</td>\n",
       "    </tr>\n",
       "    <tr>\n",
       "      <th>3</th>\n",
       "      <td>ATL</td>\n",
       "      <td>ORD</td>\n",
       "    </tr>\n",
       "    <tr>\n",
       "      <th>4</th>\n",
       "      <td>DEN</td>\n",
       "      <td>SFO</td>\n",
       "    </tr>\n",
       "    <tr>\n",
       "      <th>...</th>\n",
       "      <td>...</td>\n",
       "      <td>...</td>\n",
       "    </tr>\n",
       "    <tr>\n",
       "      <th>8897</th>\n",
       "      <td>DTW</td>\n",
       "      <td>ATL</td>\n",
       "    </tr>\n",
       "    <tr>\n",
       "      <th>8898</th>\n",
       "      <td>DFW</td>\n",
       "      <td>ORD</td>\n",
       "    </tr>\n",
       "    <tr>\n",
       "      <th>8899</th>\n",
       "      <td>SFO</td>\n",
       "      <td>LAS</td>\n",
       "    </tr>\n",
       "    <tr>\n",
       "      <th>8900</th>\n",
       "      <td>ORD</td>\n",
       "      <td>PHL</td>\n",
       "    </tr>\n",
       "    <tr>\n",
       "      <th>8901</th>\n",
       "      <td>DTW</td>\n",
       "      <td>ATL</td>\n",
       "    </tr>\n",
       "  </tbody>\n",
       "</table>\n",
       "<p>8902 rows × 2 columns</p>\n",
       "</div>"
      ],
      "text/plain": [
       "     Departure Arrival\n",
       "0          ORD     DFW\n",
       "1          LAS     DEN\n",
       "2          DEN     LAX\n",
       "3          ATL     ORD\n",
       "4          DEN     SFO\n",
       "...        ...     ...\n",
       "8897       DTW     ATL\n",
       "8898       DFW     ORD\n",
       "8899       SFO     LAS\n",
       "8900       ORD     PHL\n",
       "8901       DTW     ATL\n",
       "\n",
       "[8902 rows x 2 columns]"
      ]
     },
     "execution_count": 85,
     "metadata": {},
     "output_type": "execute_result"
    }
   ],
   "source": [
    "flights_obj = flights.select_dtypes(include=['object'])\n",
    "flights_obj"
   ]
  },
  {
   "cell_type": "code",
   "execution_count": 86,
   "id": "81597819",
   "metadata": {},
   "outputs": [
    {
     "data": {
      "text/plain": [
       "array([[0., 0., 0., ..., 0., 0., 0.],\n",
       "       [0., 0., 0., ..., 0., 0., 0.],\n",
       "       [0., 0., 0., ..., 0., 0., 0.],\n",
       "       ...,\n",
       "       [0., 0., 0., ..., 0., 0., 0.],\n",
       "       [0., 0., 0., ..., 0., 0., 0.],\n",
       "       [0., 0., 0., ..., 0., 0., 0.]])"
      ]
     },
     "execution_count": 86,
     "metadata": {},
     "output_type": "execute_result"
    }
   ],
   "source": [
    "enc = OneHotEncoder(handle_unknown='error', sparse=True)\n",
    "feature_array = enc.fit_transform(flights_obj).toarray()\n",
    "feature_array"
   ]
  },
  {
   "cell_type": "code",
   "execution_count": 31,
   "id": "17f8ed0a",
   "metadata": {},
   "outputs": [
    {
     "data": {
      "text/plain": [
       "[array(['ATL', 'BOS', 'CLT', 'DEN', 'DFW', 'DTW', 'EWR', 'IAH', 'JFK',\n",
       "        'LAS', 'LAX', 'LGA', 'MCO', 'MIA', 'MSP', 'ORD', 'PHL', 'PHX',\n",
       "        'SEA', 'SFO'], dtype=object),\n",
       " array(['ATL', 'BOS', 'CLT', 'DEN', 'DFW', 'DTW', 'EWR', 'IAH', 'JFK',\n",
       "        'LAS', 'LAX', 'LGA', 'MCO', 'MIA', 'MSP', 'ORD', 'PHL', 'PHX',\n",
       "        'SEA', 'SFO'], dtype=object)]"
      ]
     },
     "execution_count": 31,
     "metadata": {},
     "output_type": "execute_result"
    }
   ],
   "source": [
    "enc.categories_"
   ]
  },
  {
   "cell_type": "markdown",
   "id": "24683e70",
   "metadata": {},
   "source": [
    "**> Q10\n",
    "Create a Pipeline standardizing the numerical features, and one-hot encoding categorical features,\n",
    "followed by the application of a RandomForestRegressor to the transformed data.**"
   ]
  },
  {
   "cell_type": "code",
   "execution_count": 32,
   "id": "a09eb549",
   "metadata": {},
   "outputs": [
    {
     "data": {
      "text/html": [
       "<div>\n",
       "<style scoped>\n",
       "    .dataframe tbody tr th:only-of-type {\n",
       "        vertical-align: middle;\n",
       "    }\n",
       "\n",
       "    .dataframe tbody tr th {\n",
       "        vertical-align: top;\n",
       "    }\n",
       "\n",
       "    .dataframe thead th {\n",
       "        text-align: right;\n",
       "    }\n",
       "</style>\n",
       "<table border=\"1\" class=\"dataframe\">\n",
       "  <thead>\n",
       "    <tr style=\"text-align: right;\">\n",
       "      <th></th>\n",
       "      <th>Departure</th>\n",
       "      <th>Arrival</th>\n",
       "      <th>WeeksToDeparture</th>\n",
       "      <th>log_PAX</th>\n",
       "      <th>std_wtd</th>\n",
       "      <th>DayOfDeparture</th>\n",
       "      <th>WeekOfDeparture</th>\n",
       "      <th>MonthOfDeparture</th>\n",
       "      <th>YearOfDeparture</th>\n",
       "      <th>Holiday</th>\n",
       "    </tr>\n",
       "  </thead>\n",
       "  <tbody>\n",
       "    <tr>\n",
       "      <th>0</th>\n",
       "      <td>ORD</td>\n",
       "      <td>DFW</td>\n",
       "      <td>12.875000</td>\n",
       "      <td>12.331296</td>\n",
       "      <td>9.812647</td>\n",
       "      <td>19</td>\n",
       "      <td>25</td>\n",
       "      <td>6</td>\n",
       "      <td>2012</td>\n",
       "      <td>0</td>\n",
       "    </tr>\n",
       "    <tr>\n",
       "      <th>1</th>\n",
       "      <td>LAS</td>\n",
       "      <td>DEN</td>\n",
       "      <td>14.285714</td>\n",
       "      <td>10.775182</td>\n",
       "      <td>9.466734</td>\n",
       "      <td>10</td>\n",
       "      <td>37</td>\n",
       "      <td>9</td>\n",
       "      <td>2012</td>\n",
       "      <td>0</td>\n",
       "    </tr>\n",
       "    <tr>\n",
       "      <th>2</th>\n",
       "      <td>DEN</td>\n",
       "      <td>LAX</td>\n",
       "      <td>10.863636</td>\n",
       "      <td>11.083177</td>\n",
       "      <td>9.035883</td>\n",
       "      <td>5</td>\n",
       "      <td>40</td>\n",
       "      <td>10</td>\n",
       "      <td>2012</td>\n",
       "      <td>0</td>\n",
       "    </tr>\n",
       "    <tr>\n",
       "      <th>3</th>\n",
       "      <td>ATL</td>\n",
       "      <td>ORD</td>\n",
       "      <td>11.480000</td>\n",
       "      <td>11.169268</td>\n",
       "      <td>7.990202</td>\n",
       "      <td>9</td>\n",
       "      <td>40</td>\n",
       "      <td>10</td>\n",
       "      <td>2011</td>\n",
       "      <td>0</td>\n",
       "    </tr>\n",
       "    <tr>\n",
       "      <th>4</th>\n",
       "      <td>DEN</td>\n",
       "      <td>SFO</td>\n",
       "      <td>11.450000</td>\n",
       "      <td>11.269364</td>\n",
       "      <td>9.517159</td>\n",
       "      <td>21</td>\n",
       "      <td>8</td>\n",
       "      <td>2</td>\n",
       "      <td>2012</td>\n",
       "      <td>0</td>\n",
       "    </tr>\n",
       "  </tbody>\n",
       "</table>\n",
       "</div>"
      ],
      "text/plain": [
       "  Departure Arrival  WeeksToDeparture    log_PAX   std_wtd  DayOfDeparture  \\\n",
       "0       ORD     DFW         12.875000  12.331296  9.812647              19   \n",
       "1       LAS     DEN         14.285714  10.775182  9.466734              10   \n",
       "2       DEN     LAX         10.863636  11.083177  9.035883               5   \n",
       "3       ATL     ORD         11.480000  11.169268  7.990202               9   \n",
       "4       DEN     SFO         11.450000  11.269364  9.517159              21   \n",
       "\n",
       "   WeekOfDeparture  MonthOfDeparture  YearOfDeparture  Holiday  \n",
       "0               25                 6             2012        0  \n",
       "1               37                 9             2012        0  \n",
       "2               40                10             2012        0  \n",
       "3               40                10             2011        0  \n",
       "4                8                 2             2012        0  "
      ]
     },
     "execution_count": 32,
     "metadata": {},
     "output_type": "execute_result"
    }
   ],
   "source": [
    "flights.head()"
   ]
  },
  {
   "cell_type": "code",
   "execution_count": 33,
   "id": "b7aa4487",
   "metadata": {},
   "outputs": [],
   "source": [
    "scaling_columns = ['WeeksToDeparture','std_wtd','DayOfDeparture','WeekOfDeparture','MonthOfDeparture','YearOfDeparture']\n",
    "one_hot_encoding_columns = ['Departure', 'Arrival']\n",
    "binary_encoding_columns = [\"Holiday\"]"
   ]
  },
  {
   "cell_type": "code",
   "execution_count": 34,
   "id": "5220c5ed",
   "metadata": {},
   "outputs": [],
   "source": [
    "preprocessor = ColumnTransformer([\n",
    "    ('binary-encoder', OrdinalEncoder(), binary_encoding_columns),\n",
    "    ('one-hot-encoder', OneHotEncoder(handle_unknown='error', sparse=True),\n",
    "     one_hot_encoding_columns),\n",
    "    ('standard-scaler', StandardScaler(), scaling_columns)\n",
    "])\n",
    "model = make_pipeline(\n",
    "    preprocessor,\n",
    "    RandomForestRegressor(random_state=1)\n",
    ")"
   ]
  },
  {
   "cell_type": "markdown",
   "id": "36f9bd7f",
   "metadata": {},
   "source": [
    "**11 Perform grid-search on the cross-validation error to tune simultaneously the n_estimators and\n",
    "max_depth of the prediction step of your pipeline. Comment on the execution time**"
   ]
  },
  {
   "cell_type": "code",
   "execution_count": 35,
   "id": "15f922c7",
   "metadata": {},
   "outputs": [],
   "source": [
    "from sklearn.model_selection import GridSearchCV"
   ]
  },
  {
   "cell_type": "code",
   "execution_count": 36,
   "id": "d88ffc2b",
   "metadata": {},
   "outputs": [
    {
     "name": "stdout",
     "output_type": "stream",
     "text": [
      "The hyper-parameters are for a random forst model are:\n",
      "memory\n",
      "steps\n",
      "verbose\n",
      "columntransformer\n",
      "randomforestregressor\n",
      "columntransformer__n_jobs\n",
      "columntransformer__remainder\n",
      "columntransformer__sparse_threshold\n",
      "columntransformer__transformer_weights\n",
      "columntransformer__transformers\n",
      "columntransformer__verbose\n",
      "columntransformer__verbose_feature_names_out\n",
      "columntransformer__binary-encoder\n",
      "columntransformer__one-hot-encoder\n",
      "columntransformer__standard-scaler\n",
      "columntransformer__binary-encoder__categories\n",
      "columntransformer__binary-encoder__dtype\n",
      "columntransformer__binary-encoder__handle_unknown\n",
      "columntransformer__binary-encoder__unknown_value\n",
      "columntransformer__one-hot-encoder__categories\n",
      "columntransformer__one-hot-encoder__drop\n",
      "columntransformer__one-hot-encoder__dtype\n",
      "columntransformer__one-hot-encoder__handle_unknown\n",
      "columntransformer__one-hot-encoder__sparse\n",
      "columntransformer__standard-scaler__copy\n",
      "columntransformer__standard-scaler__with_mean\n",
      "columntransformer__standard-scaler__with_std\n",
      "randomforestregressor__bootstrap\n",
      "randomforestregressor__ccp_alpha\n",
      "randomforestregressor__criterion\n",
      "randomforestregressor__max_depth\n",
      "randomforestregressor__max_features\n",
      "randomforestregressor__max_leaf_nodes\n",
      "randomforestregressor__max_samples\n",
      "randomforestregressor__min_impurity_decrease\n",
      "randomforestregressor__min_samples_leaf\n",
      "randomforestregressor__min_samples_split\n",
      "randomforestregressor__min_weight_fraction_leaf\n",
      "randomforestregressor__n_estimators\n",
      "randomforestregressor__n_jobs\n",
      "randomforestregressor__oob_score\n",
      "randomforestregressor__random_state\n",
      "randomforestregressor__verbose\n",
      "randomforestregressor__warm_start\n"
     ]
    }
   ],
   "source": [
    "print(\"The hyper-parameters are for a random forst model are:\")\n",
    "for param_name in model.get_params().keys():\n",
    "    print(param_name)"
   ]
  },
  {
   "cell_type": "code",
   "execution_count": 37,
   "id": "786072d8",
   "metadata": {},
   "outputs": [
    {
     "data": {
      "text/html": [
       "<div>\n",
       "<style scoped>\n",
       "    .dataframe tbody tr th:only-of-type {\n",
       "        vertical-align: middle;\n",
       "    }\n",
       "\n",
       "    .dataframe tbody tr th {\n",
       "        vertical-align: top;\n",
       "    }\n",
       "\n",
       "    .dataframe thead th {\n",
       "        text-align: right;\n",
       "    }\n",
       "</style>\n",
       "<table border=\"1\" class=\"dataframe\">\n",
       "  <thead>\n",
       "    <tr style=\"text-align: right;\">\n",
       "      <th></th>\n",
       "      <th>Departure</th>\n",
       "      <th>Arrival</th>\n",
       "      <th>WeeksToDeparture</th>\n",
       "      <th>std_wtd</th>\n",
       "      <th>DayOfDeparture</th>\n",
       "      <th>WeekOfDeparture</th>\n",
       "      <th>MonthOfDeparture</th>\n",
       "      <th>YearOfDeparture</th>\n",
       "      <th>Holiday</th>\n",
       "    </tr>\n",
       "  </thead>\n",
       "  <tbody>\n",
       "    <tr>\n",
       "      <th>0</th>\n",
       "      <td>ORD</td>\n",
       "      <td>DFW</td>\n",
       "      <td>12.875000</td>\n",
       "      <td>9.812647</td>\n",
       "      <td>19</td>\n",
       "      <td>25</td>\n",
       "      <td>6</td>\n",
       "      <td>2012</td>\n",
       "      <td>0</td>\n",
       "    </tr>\n",
       "    <tr>\n",
       "      <th>1</th>\n",
       "      <td>LAS</td>\n",
       "      <td>DEN</td>\n",
       "      <td>14.285714</td>\n",
       "      <td>9.466734</td>\n",
       "      <td>10</td>\n",
       "      <td>37</td>\n",
       "      <td>9</td>\n",
       "      <td>2012</td>\n",
       "      <td>0</td>\n",
       "    </tr>\n",
       "    <tr>\n",
       "      <th>2</th>\n",
       "      <td>DEN</td>\n",
       "      <td>LAX</td>\n",
       "      <td>10.863636</td>\n",
       "      <td>9.035883</td>\n",
       "      <td>5</td>\n",
       "      <td>40</td>\n",
       "      <td>10</td>\n",
       "      <td>2012</td>\n",
       "      <td>0</td>\n",
       "    </tr>\n",
       "    <tr>\n",
       "      <th>3</th>\n",
       "      <td>ATL</td>\n",
       "      <td>ORD</td>\n",
       "      <td>11.480000</td>\n",
       "      <td>7.990202</td>\n",
       "      <td>9</td>\n",
       "      <td>40</td>\n",
       "      <td>10</td>\n",
       "      <td>2011</td>\n",
       "      <td>0</td>\n",
       "    </tr>\n",
       "    <tr>\n",
       "      <th>4</th>\n",
       "      <td>DEN</td>\n",
       "      <td>SFO</td>\n",
       "      <td>11.450000</td>\n",
       "      <td>9.517159</td>\n",
       "      <td>21</td>\n",
       "      <td>8</td>\n",
       "      <td>2</td>\n",
       "      <td>2012</td>\n",
       "      <td>0</td>\n",
       "    </tr>\n",
       "    <tr>\n",
       "      <th>...</th>\n",
       "      <td>...</td>\n",
       "      <td>...</td>\n",
       "      <td>...</td>\n",
       "      <td>...</td>\n",
       "      <td>...</td>\n",
       "      <td>...</td>\n",
       "      <td>...</td>\n",
       "      <td>...</td>\n",
       "      <td>...</td>\n",
       "    </tr>\n",
       "    <tr>\n",
       "      <th>8897</th>\n",
       "      <td>DTW</td>\n",
       "      <td>ATL</td>\n",
       "      <td>9.263158</td>\n",
       "      <td>7.316967</td>\n",
       "      <td>2</td>\n",
       "      <td>39</td>\n",
       "      <td>10</td>\n",
       "      <td>2011</td>\n",
       "      <td>0</td>\n",
       "    </tr>\n",
       "    <tr>\n",
       "      <th>8898</th>\n",
       "      <td>DFW</td>\n",
       "      <td>ORD</td>\n",
       "      <td>12.772727</td>\n",
       "      <td>10.641034</td>\n",
       "      <td>25</td>\n",
       "      <td>39</td>\n",
       "      <td>9</td>\n",
       "      <td>2012</td>\n",
       "      <td>0</td>\n",
       "    </tr>\n",
       "    <tr>\n",
       "      <th>8899</th>\n",
       "      <td>SFO</td>\n",
       "      <td>LAS</td>\n",
       "      <td>11.047619</td>\n",
       "      <td>7.908705</td>\n",
       "      <td>19</td>\n",
       "      <td>3</td>\n",
       "      <td>1</td>\n",
       "      <td>2012</td>\n",
       "      <td>0</td>\n",
       "    </tr>\n",
       "    <tr>\n",
       "      <th>8900</th>\n",
       "      <td>ORD</td>\n",
       "      <td>PHL</td>\n",
       "      <td>6.076923</td>\n",
       "      <td>4.030334</td>\n",
       "      <td>3</td>\n",
       "      <td>5</td>\n",
       "      <td>2</td>\n",
       "      <td>2013</td>\n",
       "      <td>0</td>\n",
       "    </tr>\n",
       "    <tr>\n",
       "      <th>8901</th>\n",
       "      <td>DTW</td>\n",
       "      <td>ATL</td>\n",
       "      <td>9.526316</td>\n",
       "      <td>6.167733</td>\n",
       "      <td>26</td>\n",
       "      <td>47</td>\n",
       "      <td>11</td>\n",
       "      <td>2011</td>\n",
       "      <td>0</td>\n",
       "    </tr>\n",
       "  </tbody>\n",
       "</table>\n",
       "<p>8902 rows × 9 columns</p>\n",
       "</div>"
      ],
      "text/plain": [
       "     Departure Arrival  WeeksToDeparture    std_wtd  DayOfDeparture  \\\n",
       "0          ORD     DFW         12.875000   9.812647              19   \n",
       "1          LAS     DEN         14.285714   9.466734              10   \n",
       "2          DEN     LAX         10.863636   9.035883               5   \n",
       "3          ATL     ORD         11.480000   7.990202               9   \n",
       "4          DEN     SFO         11.450000   9.517159              21   \n",
       "...        ...     ...               ...        ...             ...   \n",
       "8897       DTW     ATL          9.263158   7.316967               2   \n",
       "8898       DFW     ORD         12.772727  10.641034              25   \n",
       "8899       SFO     LAS         11.047619   7.908705              19   \n",
       "8900       ORD     PHL          6.076923   4.030334               3   \n",
       "8901       DTW     ATL          9.526316   6.167733              26   \n",
       "\n",
       "      WeekOfDeparture  MonthOfDeparture  YearOfDeparture  Holiday  \n",
       "0                  25                 6             2012        0  \n",
       "1                  37                 9             2012        0  \n",
       "2                  40                10             2012        0  \n",
       "3                  40                10             2011        0  \n",
       "4                   8                 2             2012        0  \n",
       "...               ...               ...              ...      ...  \n",
       "8897               39                10             2011        0  \n",
       "8898               39                 9             2012        0  \n",
       "8899                3                 1             2012        0  \n",
       "8900                5                 2             2013        0  \n",
       "8901               47                11             2011        0  \n",
       "\n",
       "[8902 rows x 9 columns]"
      ]
     },
     "execution_count": 37,
     "metadata": {},
     "output_type": "execute_result"
    }
   ],
   "source": [
    "target_name = 'log_PAX'\n",
    "X = flights.drop(columns=[target_name])\n",
    "y = flights.loc[:,target_name]\n",
    "X_train, X_test, y_train, y_test = train_test_split(X,y,test_size=0.2, random_state=1)\n",
    "X"
   ]
  },
  {
   "cell_type": "code",
   "execution_count": 38,
   "id": "9543660f",
   "metadata": {},
   "outputs": [
    {
     "name": "stdout",
     "output_type": "stream",
     "text": [
      "The RMSE using a GridSearchCV is 0.83 in 13.950 seconds\n"
     ]
    }
   ],
   "source": [
    "import time\n",
    "import numpy as np\n",
    "\n",
    "%timeit\n",
    "param_grid = {'randomforestregressor__n_estimators': (13,20,22),'randomforestregressor__max_depth':(6,7,8)}\n",
    "model_grid_search = GridSearchCV(model, param_grid=param_grid, cv=5)\n",
    "start = time.time()\n",
    "model_grid_search.fit(X_train, y_train)\n",
    "elapsed_time = time.time() - start\n",
    "print(\n",
    "    f\"The RMSE using a {model_grid_search.__class__.__name__} is \"\n",
    "    f\"{np.sqrt(mean_squared_error(y_test,model_grid_search.predict(X_test))):.2f} in \"\n",
    "    f\"{elapsed_time:.3f} seconds\")s"
   ]
  },
  {
   "cell_type": "markdown",
   "id": "be52a26a",
   "metadata": {},
   "source": [
    "**12 Get the estimator with the best params. Save both the full pipeline and the best model to disk\n",
    "with joblib. Load them from disk. Why is the ability to dump estimators useful ?**"
   ]
  },
  {
   "cell_type": "code",
   "execution_count": 39,
   "id": "9c505e75",
   "metadata": {},
   "outputs": [
    {
     "name": "stdout",
     "output_type": "stream",
     "text": [
      "The best set of parameters is: {'randomforestregressor__max_depth': 8, 'randomforestregressor__n_estimators': 20}\n"
     ]
    }
   ],
   "source": [
    "print(f\"The best set of parameters is: {model_grid_search.best_params_}\")"
   ]
  },
  {
   "cell_type": "code",
   "execution_count": 40,
   "id": "5aad60ca",
   "metadata": {},
   "outputs": [
    {
     "data": {
      "text/plain": [
       "['model_best']"
      ]
     },
     "execution_count": 40,
     "metadata": {},
     "output_type": "execute_result"
    }
   ],
   "source": [
    "import joblib\n",
    "joblib.dump(model,'model_joblib')\n",
    "joblib.dump(model_grid_search,'model_best')"
   ]
  },
  {
   "cell_type": "markdown",
   "id": "d044882b",
   "metadata": {},
   "source": [
    " # Q13"
   ]
  },
  {
   "cell_type": "markdown",
   "id": "1e41229d",
   "metadata": {},
   "source": [
    " # Q14 <center>"
   ]
  },
  {
   "cell_type": "markdown",
   "id": "8d48c137",
   "metadata": {},
   "source": [
    "### Implement a KNearestNeighbor class with __init__, fit and predict. scipy.stats.mode may be useful for prediction."
   ]
  },
  {
   "cell_type": "code",
   "execution_count": 41,
   "id": "ae4c03ec",
   "metadata": {},
   "outputs": [],
   "source": [
    "X_test = X_test.drop(columns=['Departure','Arrival'])\n",
    "X_train = X_train.drop(columns=['Departure','Arrival'])"
   ]
  },
  {
   "cell_type": "code",
   "execution_count": 42,
   "id": "9ed97853",
   "metadata": {},
   "outputs": [],
   "source": [
    "from collections import Counter\n",
    "class KNearestNeighbour:\n",
    "    def __init__(self, degree):\n",
    "        self.degree = degree\n",
    "        \n",
    "    def fit(self, X_train, y_train):\n",
    "        return self\n",
    "    \n",
    "    def predict(self, X_test, X_train, y_train):\n",
    "        distances = np.zeros((X_test.shape[0],X_train.shape[0]))\n",
    "        y_pred = np.zeros(X_test.shape[0])\n",
    "        for i1 in range(X_test.shape[0]):\n",
    "            for i2 in range(X_train.shape[0]):\n",
    "                distance = np.dot(X_test[i1,:] - X_train[i2,:], X_test[i1,:] - X_train[i2,:])\n",
    "                distances[i1,i2] = distance\n",
    "            k_indices = np.argsort(distances[i1,:])[:self.degree]\n",
    "            k_nearest_labels = [y_train[i] for i in k_indices]\n",
    "            y_pred[i1] = Counter(k_nearest_labels).most_common(1)\n",
    "        return(ypred)\n",
    "    "
   ]
  },
  {
   "cell_type": "code",
   "execution_count": 43,
   "id": "79adfa80",
   "metadata": {
    "scrolled": true
   },
   "outputs": [
    {
     "ename": "InvalidIndexError",
     "evalue": "(0, slice(None, None, None))",
     "output_type": "error",
     "traceback": [
      "\u001b[1;31m---------------------------------------------------------------------------\u001b[0m",
      "\u001b[1;31mTypeError\u001b[0m                                 Traceback (most recent call last)",
      "File \u001b[1;32mc:\\ProgramData\\Anaconda3\\lib\\site-packages\\pandas\\core\\indexes\\base.py:3621\u001b[0m, in \u001b[0;36mIndex.get_loc\u001b[1;34m(self, key, method, tolerance)\u001b[0m\n\u001b[0;32m   3620\u001b[0m \u001b[39mtry\u001b[39;00m:\n\u001b[1;32m-> 3621\u001b[0m     \u001b[39mreturn\u001b[39;00m \u001b[39mself\u001b[39;49m\u001b[39m.\u001b[39;49m_engine\u001b[39m.\u001b[39;49mget_loc(casted_key)\n\u001b[0;32m   3622\u001b[0m \u001b[39mexcept\u001b[39;00m \u001b[39mKeyError\u001b[39;00m \u001b[39mas\u001b[39;00m err:\n",
      "File \u001b[1;32mc:\\ProgramData\\Anaconda3\\lib\\site-packages\\pandas\\_libs\\index.pyx:136\u001b[0m, in \u001b[0;36mpandas._libs.index.IndexEngine.get_loc\u001b[1;34m()\u001b[0m\n",
      "File \u001b[1;32mc:\\ProgramData\\Anaconda3\\lib\\site-packages\\pandas\\_libs\\index.pyx:142\u001b[0m, in \u001b[0;36mpandas._libs.index.IndexEngine.get_loc\u001b[1;34m()\u001b[0m\n",
      "\u001b[1;31mTypeError\u001b[0m: '(0, slice(None, None, None))' is an invalid key",
      "\nDuring handling of the above exception, another exception occurred:\n",
      "\u001b[1;31mInvalidIndexError\u001b[0m                         Traceback (most recent call last)",
      "\u001b[1;32mc:\\Users\\ivana\\Dropbox\\Education\\X\\Python for Data Science\\Lab 3\\TD3.ipynb Cell 55\u001b[0m in \u001b[0;36m<cell line: 2>\u001b[1;34m()\u001b[0m\n\u001b[0;32m      <a href='vscode-notebook-cell:/c%3A/Users/ivana/Dropbox/Education/X/Python%20for%20Data%20Science/Lab%203/TD3.ipynb#Y105sZmlsZQ%3D%3D?line=0'>1</a>\u001b[0m KNN \u001b[39m=\u001b[39m KNearestNeighbour(degree\u001b[39m=\u001b[39m\u001b[39m3\u001b[39m)\n\u001b[1;32m----> <a href='vscode-notebook-cell:/c%3A/Users/ivana/Dropbox/Education/X/Python%20for%20Data%20Science/Lab%203/TD3.ipynb#Y105sZmlsZQ%3D%3D?line=1'>2</a>\u001b[0m KNN\u001b[39m.\u001b[39;49mpredict(X_test,X_train,y_train)\n",
      "\u001b[1;32mc:\\Users\\ivana\\Dropbox\\Education\\X\\Python for Data Science\\Lab 3\\TD3.ipynb Cell 55\u001b[0m in \u001b[0;36mKNearestNeighbour.predict\u001b[1;34m(self, X_test, X_train, y_train)\u001b[0m\n\u001b[0;32m     <a href='vscode-notebook-cell:/c%3A/Users/ivana/Dropbox/Education/X/Python%20for%20Data%20Science/Lab%203/TD3.ipynb#Y105sZmlsZQ%3D%3D?line=11'>12</a>\u001b[0m \u001b[39mfor\u001b[39;00m i1 \u001b[39min\u001b[39;00m \u001b[39mrange\u001b[39m(X_test\u001b[39m.\u001b[39mshape[\u001b[39m0\u001b[39m]):\n\u001b[0;32m     <a href='vscode-notebook-cell:/c%3A/Users/ivana/Dropbox/Education/X/Python%20for%20Data%20Science/Lab%203/TD3.ipynb#Y105sZmlsZQ%3D%3D?line=12'>13</a>\u001b[0m     \u001b[39mfor\u001b[39;00m i2 \u001b[39min\u001b[39;00m \u001b[39mrange\u001b[39m(X_train\u001b[39m.\u001b[39mshape[\u001b[39m0\u001b[39m]):\n\u001b[1;32m---> <a href='vscode-notebook-cell:/c%3A/Users/ivana/Dropbox/Education/X/Python%20for%20Data%20Science/Lab%203/TD3.ipynb#Y105sZmlsZQ%3D%3D?line=13'>14</a>\u001b[0m         distance \u001b[39m=\u001b[39m np\u001b[39m.\u001b[39mdot(X_test[i1,:] \u001b[39m-\u001b[39m X_train[i2,:], X_test[i1,:] \u001b[39m-\u001b[39m X_train[i2,:])\n\u001b[0;32m     <a href='vscode-notebook-cell:/c%3A/Users/ivana/Dropbox/Education/X/Python%20for%20Data%20Science/Lab%203/TD3.ipynb#Y105sZmlsZQ%3D%3D?line=14'>15</a>\u001b[0m         distances[i1,i2] \u001b[39m=\u001b[39m distance\n\u001b[0;32m     <a href='vscode-notebook-cell:/c%3A/Users/ivana/Dropbox/Education/X/Python%20for%20Data%20Science/Lab%203/TD3.ipynb#Y105sZmlsZQ%3D%3D?line=15'>16</a>\u001b[0m     k_indices \u001b[39m=\u001b[39m np\u001b[39m.\u001b[39margsort(distances[i1,:])[:\u001b[39mself\u001b[39m\u001b[39m.\u001b[39mdegree]\n",
      "File \u001b[1;32mc:\\ProgramData\\Anaconda3\\lib\\site-packages\\pandas\\core\\frame.py:3505\u001b[0m, in \u001b[0;36mDataFrame.__getitem__\u001b[1;34m(self, key)\u001b[0m\n\u001b[0;32m   3503\u001b[0m \u001b[39mif\u001b[39;00m \u001b[39mself\u001b[39m\u001b[39m.\u001b[39mcolumns\u001b[39m.\u001b[39mnlevels \u001b[39m>\u001b[39m \u001b[39m1\u001b[39m:\n\u001b[0;32m   3504\u001b[0m     \u001b[39mreturn\u001b[39;00m \u001b[39mself\u001b[39m\u001b[39m.\u001b[39m_getitem_multilevel(key)\n\u001b[1;32m-> 3505\u001b[0m indexer \u001b[39m=\u001b[39m \u001b[39mself\u001b[39;49m\u001b[39m.\u001b[39;49mcolumns\u001b[39m.\u001b[39;49mget_loc(key)\n\u001b[0;32m   3506\u001b[0m \u001b[39mif\u001b[39;00m is_integer(indexer):\n\u001b[0;32m   3507\u001b[0m     indexer \u001b[39m=\u001b[39m [indexer]\n",
      "File \u001b[1;32mc:\\ProgramData\\Anaconda3\\lib\\site-packages\\pandas\\core\\indexes\\base.py:3628\u001b[0m, in \u001b[0;36mIndex.get_loc\u001b[1;34m(self, key, method, tolerance)\u001b[0m\n\u001b[0;32m   3623\u001b[0m         \u001b[39mraise\u001b[39;00m \u001b[39mKeyError\u001b[39;00m(key) \u001b[39mfrom\u001b[39;00m \u001b[39merr\u001b[39;00m\n\u001b[0;32m   3624\u001b[0m     \u001b[39mexcept\u001b[39;00m \u001b[39mTypeError\u001b[39;00m:\n\u001b[0;32m   3625\u001b[0m         \u001b[39m# If we have a listlike key, _check_indexing_error will raise\u001b[39;00m\n\u001b[0;32m   3626\u001b[0m         \u001b[39m#  InvalidIndexError. Otherwise we fall through and re-raise\u001b[39;00m\n\u001b[0;32m   3627\u001b[0m         \u001b[39m#  the TypeError.\u001b[39;00m\n\u001b[1;32m-> 3628\u001b[0m         \u001b[39mself\u001b[39;49m\u001b[39m.\u001b[39;49m_check_indexing_error(key)\n\u001b[0;32m   3629\u001b[0m         \u001b[39mraise\u001b[39;00m\n\u001b[0;32m   3631\u001b[0m \u001b[39m# GH#42269\u001b[39;00m\n",
      "File \u001b[1;32mc:\\ProgramData\\Anaconda3\\lib\\site-packages\\pandas\\core\\indexes\\base.py:5637\u001b[0m, in \u001b[0;36mIndex._check_indexing_error\u001b[1;34m(self, key)\u001b[0m\n\u001b[0;32m   5633\u001b[0m \u001b[39mdef\u001b[39;00m \u001b[39m_check_indexing_error\u001b[39m(\u001b[39mself\u001b[39m, key):\n\u001b[0;32m   5634\u001b[0m     \u001b[39mif\u001b[39;00m \u001b[39mnot\u001b[39;00m is_scalar(key):\n\u001b[0;32m   5635\u001b[0m         \u001b[39m# if key is not a scalar, directly raise an error (the code below\u001b[39;00m\n\u001b[0;32m   5636\u001b[0m         \u001b[39m# would convert to numpy arrays and raise later any way) - GH29926\u001b[39;00m\n\u001b[1;32m-> 5637\u001b[0m         \u001b[39mraise\u001b[39;00m InvalidIndexError(key)\n",
      "\u001b[1;31mInvalidIndexError\u001b[0m: (0, slice(None, None, None))"
     ]
    }
   ],
   "source": [
    "KNN = KNearestNeighbour(degree=3)\n",
    "KNN.predict(X_test,X_train,y_train)"
   ]
  },
  {
   "cell_type": "code",
   "execution_count": 6,
   "id": "49f64b21",
   "metadata": {},
   "outputs": [],
   "source": [
    "import numpy as np\n",
    "from sklearn.base import BaseEstimator\n",
    "from sklearn.base import ClassifierMixin\n",
    "from sklearn.utils.validation import check_X_y\n",
    "from sklearn.utils.validation import check_array\n",
    "from sklearn.utils.validation import check_is_fitted\n",
    "from sklearn.utils.multiclass import check_classification_targets\n",
    "from sklearn.metrics import accuracy_score"
   ]
  },
  {
   "cell_type": "code",
   "execution_count": 7,
   "id": "2df70927",
   "metadata": {},
   "outputs": [],
   "source": [
    "def euclidean_distance(X1, X2):\n",
    "    \"\"\"\n",
    "    Function that returns the euclidean distance between two vectors X\n",
    "    \"\"\"\n",
    "    return np.sqrt(np.sum((X1 - X2)**2))\n",
    "\n",
    "class OneNearestNeighbor(BaseEstimator, ClassifierMixin):\n",
    "    \"OneNearestNeighbor classifier.\"\n",
    "\n",
    "    def __init__(self):  # noqa: D107\n",
    "        \"\"\"\n",
    "        Initialize the class. \n",
    "        \"\"\"\n",
    "        pass\n",
    "\n",
    "    def fit(self, X, y):\n",
    "        \"\"\"\n",
    "        We fit parameters to our model. In our case there are no parameters.\n",
    "        \"\"\"\n",
    "        X, y = check_X_y(X, y)\n",
    "        check_classification_targets(y)\n",
    "        self.classes_ = np.unique(y)\n",
    "        self.X_train = X\n",
    "        self.y_train = y\n",
    "        return self\n",
    "\n",
    "    def predict(self, X):\n",
    "        \"\"\"Write docstring.\n",
    "\n",
    "        And describe parameters\n",
    "        \"\"\"\n",
    "        distances = np.zeros((X.shape[0], self.X_train.shape[0]))\n",
    "        for i in range(X.shape[0]):\n",
    "            for j in range(self.X_train.shape[0]):\n",
    "                distance = euclidean_distance(X[i, :], self.X_train[j, :])\n",
    "                distances[i, j] = distance\n",
    "\n",
    "        nearest_indices = np.argmin(distances, axis = 1)\n",
    "        predictions = np.array([self.y_train[i] for i in nearest_indices])\n",
    "\n",
    "        return predictions\n",
    "    \n",
    "    def score(self, X, y):\n",
    "        \"\"\"Return the average number of samples corectly classified.\n",
    "        Args:\n",
    "            X (np array of shape (n_samples, n_features)): Test samples.\n",
    "            y (np array of shape (n_queries,)): Class for each test sample.\n",
    "        Returns:\n",
    "            score (_type_): average number of samples corectly classified\n",
    "        Errors:\n",
    "            ValueError : if sizes of X and y don't match.\n",
    "        \"\"\"\n",
    "        X, y = check_X_y(X, y)\n",
    "        return accuracy_score(y, self.predict(X))"
   ]
  },
  {
   "cell_type": "code",
   "execution_count": 8,
   "id": "a5aa10ba",
   "metadata": {},
   "outputs": [],
   "source": [
    "from sklearn.utils.estimator_checks import check_estimator\n",
    "from sklearn.model_selection import train_test_split\n",
    "from sklearn.datasets import make_classification\n",
    "from sklearn.neighbors import KNeighborsClassifier\n",
    "\n",
    "#from sklearn_questions import OneNearestNeighbor\n",
    "\n",
    "from numpy.testing import assert_array_equal\n",
    "\n",
    "\n",
    "def test_one_nearest_neighbor_check_estimator():\n",
    "    check_estimator(OneNearestNeighbor())\n",
    "\n",
    "\n",
    "def test_one_nearest_neighbor_match_sklearn():\n",
    "    X, y = make_classification(n_samples=200, n_features=20,\n",
    "                               random_state=42)\n",
    "    X_train, X_test, y_train, y_test = \\\n",
    "        train_test_split(X, y, random_state=42)\n",
    "    knn = KNeighborsClassifier(n_neighbors=1)\n",
    "    y_pred_sk = knn.fit(X_train, y_train).predict(X_test)\n",
    "\n",
    "    onn = OneNearestNeighbor()\n",
    "    y_pred_me = onn.fit(X_train, y_train).predict(X_test)\n",
    "    assert_array_equal(y_pred_me, y_pred_sk)\n",
    "\n",
    "    assert onn.score(X_test, y_test) == knn.score(X_test, y_test)"
   ]
  },
  {
   "cell_type": "code",
   "execution_count": 9,
   "id": "19de2fbd",
   "metadata": {},
   "outputs": [
    {
     "name": "stderr",
     "output_type": "stream",
     "text": [
      "C:\\ProgramData\\Anaconda3\\lib\\site-packages\\sklearn\\neighbors\\_classification.py:228: FutureWarning: Unlike other reduction functions (e.g. `skew`, `kurtosis`), the default behavior of `mode` typically preserves the axis it acts along. In SciPy 1.11.0, this behavior will change: the default value of `keepdims` will become False, the `axis` over which the statistic is taken will be eliminated, and the value None will no longer be accepted. Set `keepdims` to True or False to avoid this warning.\n",
      "  mode, _ = stats.mode(_y[neigh_ind, k], axis=1)\n",
      "C:\\ProgramData\\Anaconda3\\lib\\site-packages\\sklearn\\neighbors\\_classification.py:228: FutureWarning: Unlike other reduction functions (e.g. `skew`, `kurtosis`), the default behavior of `mode` typically preserves the axis it acts along. In SciPy 1.11.0, this behavior will change: the default value of `keepdims` will become False, the `axis` over which the statistic is taken will be eliminated, and the value None will no longer be accepted. Set `keepdims` to True or False to avoid this warning.\n",
      "  mode, _ = stats.mode(_y[neigh_ind, k], axis=1)\n"
     ]
    }
   ],
   "source": [
    "test_one_nearest_neighbor_match_sklearn()"
   ]
  },
  {
   "cell_type": "code",
   "execution_count": null,
   "id": "c8445885",
   "metadata": {},
   "outputs": [],
   "source": []
  }
 ],
 "metadata": {
  "kernelspec": {
   "display_name": "Python 3 (ipykernel)",
   "language": "python",
   "name": "python3"
  },
  "language_info": {
   "codemirror_mode": {
    "name": "ipython",
    "version": 3
   },
   "file_extension": ".py",
   "mimetype": "text/x-python",
   "name": "python",
   "nbconvert_exporter": "python",
   "pygments_lexer": "ipython3",
   "version": "3.9.13"
  },
  "vscode": {
   "interpreter": {
    "hash": "ad2bdc8ecc057115af97d19610ffacc2b4e99fae6737bb82f5d7fb13d2f2c186"
   }
  }
 },
 "nbformat": 4,
 "nbformat_minor": 5
}
