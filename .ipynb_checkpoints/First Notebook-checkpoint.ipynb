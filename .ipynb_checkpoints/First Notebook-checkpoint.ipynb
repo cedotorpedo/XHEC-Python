{
 "cells": [
  {
   "cell_type": "code",
   "execution_count": 2,
   "id": "b287bd42",
   "metadata": {},
   "outputs": [],
   "source": [
    "from os import path\n",
    "import pandas as pd\n",
    "import urllib\n",
    "import zipfile\n",
    "import sys\n",
    "\n"
   ]
  },
  {
   "cell_type": "code",
   "execution_count": 3,
   "id": "d660bf0d",
   "metadata": {},
   "outputs": [],
   "source": [
    "df = pd.read_csv(\"TG_STAID011249.txt\", sep=',', comment='#')"
   ]
  },
  {
   "cell_type": "code",
   "execution_count": 4,
   "id": "8362c354",
   "metadata": {},
   "outputs": [
    {
     "name": "stdout",
     "output_type": "stream",
     "text": [
      "       STAID   SOUID      DATE     TG   Q_TG\n",
      "0      11249   71642  19210301     50      0\n",
      "1      11249   71642  19210302     46      0\n",
      "2      11249   71642  19210303     46      0\n",
      "3      11249   71642  19210304     31      0\n",
      "4      11249   71642  19210305     95      0\n",
      "...      ...     ...       ...    ...    ...\n",
      "34878  11249  907149  20160827    266      0\n",
      "34879  11249  907149  20160828    255      0\n",
      "34880  11249  907149  20160829    206      0\n",
      "34881  11249  907149  20160830    204      0\n",
      "34882  11249  907149  20160831    210      0\n",
      "\n",
      "[34883 rows x 5 columns]\n"
     ]
    }
   ],
   "source": [
    "print(df)"
   ]
  }
 ],
 "metadata": {
  "kernelspec": {
   "display_name": "Python 3 (ipykernel)",
   "language": "python",
   "name": "python3"
  },
  "language_info": {
   "codemirror_mode": {
    "name": "ipython",
    "version": 3
   },
   "file_extension": ".py",
   "mimetype": "text/x-python",
   "name": "python",
   "nbconvert_exporter": "python",
   "pygments_lexer": "ipython3",
   "version": "3.9.12"
  }
 },
 "nbformat": 4,
 "nbformat_minor": 5
}
